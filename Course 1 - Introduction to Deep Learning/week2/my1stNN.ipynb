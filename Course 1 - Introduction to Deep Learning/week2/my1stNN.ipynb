{
  "nbformat": 4,
  "nbformat_minor": 0,
  "metadata": {
    "colab": {
      "name": "my1stNN.ipynb",
      "version": "0.3.2",
      "provenance": []
    },
    "kernelspec": {
      "name": "python3",
      "display_name": "Python 3"
    },
    "accelerator": "GPU"
  },
  "cells": [
    {
      "metadata": {
        "id": "dgXU6WVOQKaE",
        "colab_type": "text",
        "slideshow": {
          "slide_type": "slide"
        }
      },
      "cell_type": "markdown",
      "source": [
        "# my1stNN.ipynb (or MNIST digits classification with TensorFlow)"
      ]
    },
    {
      "metadata": {
        "id": "chX1QCWvQKaH",
        "colab_type": "text"
      },
      "cell_type": "markdown",
      "source": [
        "<img src=\"https://github.com/hse-aml/intro-to-dl/blob/master/week2/mnist_sample.png?raw=1\" style=\"width:30%\">"
      ]
    },
    {
      "metadata": {
        "id": "UYmdt48tVwV2",
        "colab_type": "code",
        "colab": {
          "base_uri": "https://localhost:8080/",
          "height": 306
        },
        "outputId": "d6899927-4395-4df5-aa1d-bca89d76e546"
      },
      "cell_type": "code",
      "source": [
        "! wget https://raw.githubusercontent.com/hse-aml/intro-to-dl/master/setup_google_colab.py -O setup_google_colab.py\n",
        "import setup_google_colab\n",
        "setup_google_colab.setup_week2_v2()  # change to the week you're working on\n",
        "# note on week 2: select setup_week2_v2() if you've started the course after August 13, 2018,\n",
        "# otherwise call setup_week2()."
      ],
      "execution_count": 1,
      "outputs": [
        {
          "output_type": "stream",
          "text": [
            "--2018-08-14 07:30:14--  https://raw.githubusercontent.com/hse-aml/intro-to-dl/master/setup_google_colab.py\r\n",
            "Resolving raw.githubusercontent.com (raw.githubusercontent.com)... 151.101.0.133, 151.101.64.133, 151.101.128.133, ...\r\n",
            "Connecting to raw.githubusercontent.com (raw.githubusercontent.com)|151.101.0.133|:443... connected.\r\n",
            "HTTP request sent, awaiting response... 200 OK\r\n",
            "Length: 2327 (2.3K) [text/plain]\r\n",
            "Saving to: ‘setup_google_colab.py’\r\n",
            "\r\n",
            "\rsetup_google_colab.   0%[                    ]       0  --.-KB/s               \rsetup_google_colab. 100%[===================>]   2.27K  --.-KB/s    in 0s      \r\n",
            "\r\n",
            "2018-08-14 07:30:14 (40.4 MB/s) - ‘setup_google_colab.py’ saved [2327/2327]\r\n",
            "\r\n",
            "**************************************************\n",
            "inception_v3_weights_tf_dim_ordering_tf_kernels_notop.h5\n",
            "**************************************************\n",
            "cifar-10-batches-py.tar.gz\n",
            "**************************************************\n",
            "mnist.npz\n"
          ],
          "name": "stdout"
        }
      ]
    },
    {
      "metadata": {
        "id": "d9UwWzPVQKaH",
        "colab_type": "text"
      },
      "cell_type": "markdown",
      "source": [
        "### This task will be submitted for peer review, so make sure it contains all the necessary outputs!"
      ]
    },
    {
      "metadata": {
        "id": "8w68b16lQKaI",
        "colab_type": "code",
        "colab": {
          "base_uri": "https://localhost:8080/",
          "height": 34
        },
        "outputId": "205e332b-2b05-47c6-e5cf-d2c175f51482"
      },
      "cell_type": "code",
      "source": [
        "import numpy as np\n",
        "from sklearn.metrics import accuracy_score\n",
        "from matplotlib import pyplot as plt\n",
        "%matplotlib inline\n",
        "import tensorflow as tf\n",
        "print(\"We're using TF\", tf.__version__)\n",
        "\n",
        "import sys\n",
        "sys.path.append(\"..\")\n",
        "import grading\n",
        "\n",
        "import matplotlib_utils\n",
        "from importlib import reload\n",
        "reload(matplotlib_utils)\n",
        "\n",
        "import keras_utils\n",
        "from keras_utils import reset_tf_session"
      ],
      "execution_count": 33,
      "outputs": [
        {
          "output_type": "stream",
          "text": [
            "We're using TF 1.10.0\n"
          ],
          "name": "stdout"
        }
      ]
    },
    {
      "metadata": {
        "id": "cMy73vKnQKaL",
        "colab_type": "text"
      },
      "cell_type": "markdown",
      "source": [
        "# Look at the data\n",
        "\n",
        "In this task we have 50000 28x28 images of digits from 0 to 9.\n",
        "We will train a classifier on this data."
      ]
    },
    {
      "metadata": {
        "id": "TrQJPpx6QKaM",
        "colab_type": "code",
        "colab": {}
      },
      "cell_type": "code",
      "source": [
        "import preprocessed_mnist\n",
        "X_train, y_train, X_val, y_val, X_test, y_test = preprocessed_mnist.load_dataset()"
      ],
      "execution_count": 0,
      "outputs": []
    },
    {
      "metadata": {
        "id": "hloSDnXGQKaO",
        "colab_type": "code",
        "colab": {
          "base_uri": "https://localhost:8080/",
          "height": 683
        },
        "outputId": "a14868ad-af43-4e0d-a079-56b66f3e9ca5"
      },
      "cell_type": "code",
      "source": [
        "# X contains rgb values divided by 255\n",
        "print(\"X_train [shape %s] sample patch:\\n\" % (str(X_train.shape)), X_train[1, 15:20, 5:10])\n",
        "print(\"A closeup of a sample patch:\")\n",
        "plt.imshow(X_train[1, 15:20, 5:10], cmap=\"Greys\")\n",
        "plt.show()\n",
        "print(\"And the whole sample:\")\n",
        "plt.imshow(X_train[1], cmap=\"Greys\")\n",
        "plt.show()\n",
        "print(\"y_train [shape %s] 10 samples:\\n\" % (str(y_train.shape)), y_train[:10])"
      ],
      "execution_count": 35,
      "outputs": [
        {
          "output_type": "stream",
          "text": [
            "X_train [shape (50000, 28, 28)] sample patch:\n",
            " [[0.         0.29803922 0.96470588 0.98823529 0.43921569]\n",
            " [0.         0.33333333 0.98823529 0.90196078 0.09803922]\n",
            " [0.         0.33333333 0.98823529 0.8745098  0.        ]\n",
            " [0.         0.33333333 0.98823529 0.56862745 0.        ]\n",
            " [0.         0.3372549  0.99215686 0.88235294 0.        ]]\n",
            "A closeup of a sample patch:\n"
          ],
          "name": "stdout"
        },
        {
          "output_type": "display_data",
          "data": {
            "image/png": "[encoded data removed]",
            "text/plain": [
              "<matplotlib.figure.Figure at 0x7fa0e0b6a240>"
            ]
          },
          "metadata": {
            "tags": []
          }
        },
        {
          "output_type": "stream",
          "text": [
            "And the whole sample:\n"
          ],
          "name": "stdout"
        },
        {
          "output_type": "display_data",
          "data": {
            "image/png": "[encoded data removed]",
            "text/plain": [
              "<matplotlib.figure.Figure at 0x7fa0e026bcf8>"
            ]
          },
          "metadata": {
            "tags": []
          }
        },
        {
          "output_type": "stream",
          "text": [
            "y_train [shape (50000,)] 10 samples:\n",
            " [5 0 4 1 9 2 1 3 1 4]\n"
          ],
          "name": "stdout"
        }
      ]
    },
    {
      "metadata": {
        "id": "hSzgGqp-QKaR",
        "colab_type": "text"
      },
      "cell_type": "markdown",
      "source": [
        "# Linear model\n",
        "\n",
        "Your task is to train a linear classifier $\\vec{x} \\rightarrow y$ with SGD using TensorFlow.\n",
        "\n",
        "You will need to calculate a logit (a linear transformation) $z_k$ for each class: \n",
        "$$z_k = \\vec{x} \\cdot \\vec{w_k} + b_k \\quad k = 0..9$$\n",
        "\n",
        "And transform logits $z_k$ to valid probabilities $p_k$ with softmax: \n",
        "$$p_k = \\frac{e^{z_k}}{\\sum_{i=0}^{9}{e^{z_i}}} \\quad k = 0..9$$\n",
        "\n",
        "We will use a cross-entropy loss to train our multi-class classifier:\n",
        "$$\\text{cross-entropy}(y, p) = -\\sum_{k=0}^{9}{\\log(p_k)[y = k]}$$ \n",
        "\n",
        "where \n",
        "$$\n",
        "[x]=\\begin{cases}\n",
        "       1, \\quad \\text{if $x$ is true} \\\\\n",
        "       0, \\quad \\text{otherwise}\n",
        "    \\end{cases}\n",
        "$$\n",
        "\n",
        "Cross-entropy minimization pushes $p_k$ close to 1 when $y = k$, which is what we want.\n",
        "\n",
        "Here's the plan:\n",
        "* Flatten the images (28x28 -> 784) with `X_train.reshape((X_train.shape[0], -1))` to simplify our linear model implementation\n",
        "* Use a matrix placeholder for flattened `X_train`\n",
        "* Convert `y_train` to one-hot encoded vectors that are needed for cross-entropy\n",
        "* Use a shared variable `W` for all weights (a column $\\vec{w_k}$ per class) and `b` for all biases.\n",
        "* Aim for ~0.93 validation accuracy"
      ]
    },
    {
      "metadata": {
        "id": "wZqMni3GQKaR",
        "colab_type": "code",
        "colab": {
          "base_uri": "https://localhost:8080/",
          "height": 51
        },
        "outputId": "40a2e470-7fa0-4756-c5d6-2117313c6391"
      },
      "cell_type": "code",
      "source": [
        "X_train_flat = X_train.reshape((X_train.shape[0], -1))\n",
        "print(X_train_flat.shape)\n",
        "\n",
        "X_val_flat = X_val.reshape((X_val.shape[0], -1))\n",
        "print(X_val_flat.shape)"
      ],
      "execution_count": 36,
      "outputs": [
        {
          "output_type": "stream",
          "text": [
            "(50000, 784)\n",
            "(10000, 784)\n"
          ],
          "name": "stdout"
        }
      ]
    },
    {
      "metadata": {
        "id": "rm5v8x91YUIT",
        "colab_type": "code",
        "colab": {}
      },
      "cell_type": "code",
      "source": [
        "def get_one_hot(targets, nb_classes):\n",
        "    \"\"\"\n",
        "    Get one-hot encoding from an array of indices\n",
        "    \n",
        "    Arguments:\n",
        "    targets: array of indices\n",
        "    nb_classes: number of classes\n",
        "    \n",
        "    Return:\n",
        "    one-hot encoded matrix for the input array\n",
        "    \"\"\"\n",
        "    res = np.eye(nb_classes)[np.array(targets).reshape(-1)]\n",
        "    return res.reshape(list(targets.shape)+[nb_classes])"
      ],
      "execution_count": 0,
      "outputs": []
    },
    {
      "metadata": {
        "id": "2QyRMoQFQKaT",
        "colab_type": "code",
        "colab": {
          "base_uri": "https://localhost:8080/",
          "height": 85
        },
        "outputId": "be3b80d0-30aa-4f68-9815-30d0d8d0fe05"
      },
      "cell_type": "code",
      "source": [
        "# get one hot encoding for y\n",
        "y_train_oh = get_one_hot(y_train, 10)\n",
        "y_val_oh = get_one_hot(y_val, 10)\n",
        "\n",
        "print(y_train_oh.shape)\n",
        "print(y_train_oh[:3], y_train[:3])"
      ],
      "execution_count": 38,
      "outputs": [
        {
          "output_type": "stream",
          "text": [
            "(50000, 10)\n",
            "[[0. 0. 0. 0. 0. 1. 0. 0. 0. 0.]\n",
            " [1. 0. 0. 0. 0. 0. 0. 0. 0. 0.]\n",
            " [0. 0. 0. 0. 1. 0. 0. 0. 0. 0.]] [5 0 4]\n"
          ],
          "name": "stdout"
        }
      ]
    },
    {
      "metadata": {
        "id": "Jqk8B5psQKaV",
        "colab_type": "code",
        "colab": {}
      },
      "cell_type": "code",
      "source": [
        "# run this again if you remake your graph\n",
        "s = reset_tf_session()"
      ],
      "execution_count": 0,
      "outputs": []
    },
    {
      "metadata": {
        "id": "vhU1NRbgbpoO",
        "colab_type": "code",
        "colab": {}
      },
      "cell_type": "code",
      "source": [
        "# reset tf graph\n",
        "tf.reset_default_graph()"
      ],
      "execution_count": 0,
      "outputs": []
    },
    {
      "metadata": {
        "id": "1z2aLp-4dlSN",
        "colab_type": "code",
        "colab": {
          "base_uri": "https://localhost:8080/",
          "height": 34
        },
        "outputId": "ab61a5df-1e6e-4776-ee80-e5f006d29e94"
      },
      "cell_type": "code",
      "source": [
        "# Get parameters for x and y placeholder\n",
        "(m, n_x) = X_train_flat.shape\n",
        "n_y = y_train_oh.shape[1]\n",
        "print(n_x, n_y, m)"
      ],
      "execution_count": 40,
      "outputs": [
        {
          "output_type": "stream",
          "text": [
            "784 10 50000\n"
          ],
          "name": "stdout"
        }
      ]
    },
    {
      "metadata": {
        "id": "lyo-HTvlQKaX",
        "colab_type": "code",
        "colab": {
          "base_uri": "https://localhost:8080/",
          "height": 51
        },
        "outputId": "45a5a6d7-0a7b-41f0-d5e5-c57cdbc86a15"
      },
      "cell_type": "code",
      "source": [
        "# Model parameters: W and b\n",
        "W = tf.get_variable(\"W\", [n_x, n_y], initializer=tf.contrib.layers.xavier_initializer(seed=1)) # tf.get_variable(...) with shape[0] = 784\n",
        "b = tf.get_variable(\"b\", [n_y, 1], initializer=tf.zeros_initializer()) # tf.get_variable(...)\n",
        "print(W.shape)\n",
        "print(b.shape)"
      ],
      "execution_count": 41,
      "outputs": [
        {
          "output_type": "stream",
          "text": [
            "(784, 10)\n",
            "(10, 1)\n"
          ],
          "name": "stdout"
        }
      ]
    },
    {
      "metadata": {
        "id": "VcMdjqcxQKaa",
        "colab_type": "code",
        "colab": {
          "base_uri": "https://localhost:8080/",
          "height": 51
        },
        "outputId": "403e5577-e7fd-43d3-dd7d-057fa0b0736e"
      },
      "cell_type": "code",
      "source": [
        "# Placeholders for the input data\n",
        "input_X = tf.placeholder(tf.float32, shape=[None, n_x]) # tf.placeholder(...) for flat X with shape[0] = None for any batch size\n",
        "input_y = tf.placeholder(tf.float32, shape=[None, n_y]) # tf.placeholder(...) for one-hot encoded true labels\n",
        "print(input_X.shape)\n",
        "print(input_y.shape)"
      ],
      "execution_count": 42,
      "outputs": [
        {
          "output_type": "stream",
          "text": [
            "(?, 784)\n",
            "(?, 10)\n"
          ],
          "name": "stdout"
        }
      ]
    },
    {
      "metadata": {
        "id": "zmZhZkL_QKad",
        "colab_type": "code",
        "colab": {
          "base_uri": "https://localhost:8080/",
          "height": 102
        },
        "outputId": "1d30ad17-d687-4a85-edbb-8bec77688a40"
      },
      "cell_type": "code",
      "source": [
        "# Compute predictions\n",
        "logits = tf.add(tf.matmul(input_X, W), tf.transpose(b)) # logits for input_X, resulting shape should be [input_X.shape[0], 10]\n",
        "print(input_X.shape[0])\n",
        "print(logits.shape[0 ])\n",
        "\n",
        "probas = tf.nn.softmax(logits) # apply tf.nn.softmax to logits\n",
        "print(probas.shape)\n",
        "\n",
        "classes = tf.argmax(probas, 1) # apply tf.argmax to find a class index with highest probability'\n",
        "print(classes.shape)\n",
        "\n",
        "# Loss should be a scalar number: average loss over all the objects with tf.reduce_mean().\n",
        "# Use tf.nn.softmax_cross_entropy_with_logits on top of one-hot encoded input_y and logits.\n",
        "# It is identical to calculating cross-entropy on top of probas, but is more numerically friendly (read the docs).\n",
        "loss = tf.reduce_mean(tf.nn.softmax_cross_entropy_with_logits(labels=input_y, logits=logits))\n",
        "\n",
        "# Use a default tf.train.AdamOptimizer to get an SGD step\n",
        "step = tf.train.AdamOptimizer(1e-4).minimize(loss)"
      ],
      "execution_count": 73,
      "outputs": [
        {
          "output_type": "stream",
          "text": [
            "?\n",
            "?\n",
            "(?, 10)\n",
            "(?,)\n",
            "Tensor(\"Placeholder_1:0\", shape=(?, 10), dtype=float32)\n"
          ],
          "name": "stdout"
        }
      ]
    },
    {
      "metadata": {
        "id": "7W9Z8ZX3QKaf",
        "colab_type": "code",
        "colab": {
          "base_uri": "https://localhost:8080/",
          "height": 309
        },
        "outputId": "29115122-f123-4ab1-e3ea-9ca54c6d9507"
      },
      "cell_type": "code",
      "source": [
        "s.run(tf.global_variables_initializer())\n",
        "\n",
        "BATCH_SIZE = 512\n",
        "EPOCHS = 40\n",
        "\n",
        "# for logging the progress right here in Jupyter (for those who don't have TensorBoard)\n",
        "simpleTrainingCurves = matplotlib_utils.SimpleTrainingCurves(\"cross-entropy\", \"accuracy\")\n",
        "\n",
        "for epoch in range(EPOCHS):  # we finish an epoch when we've looked at all training samples\n",
        "    \n",
        "    batch_losses = []\n",
        "    for batch_start in range(0, X_train_flat.shape[0], BATCH_SIZE):  # data is already shuffled\n",
        "        _, batch_loss = s.run([step, loss], {input_X: X_train_flat[batch_start:batch_start+BATCH_SIZE], \n",
        "                                             input_y: y_train_oh[batch_start:batch_start+BATCH_SIZE]})\n",
        "        # collect batch losses, this is almost free as we need a forward pass for backprop anyway\n",
        "        batch_losses.append(batch_loss)\n",
        "\n",
        "    train_loss = np.mean(batch_losses)\n",
        "    val_loss = s.run(loss, {input_X: X_val_flat, input_y: y_val_oh})  # this part is usually small\n",
        "    train_accuracy = accuracy_score(y_train, s.run(classes, {input_X: X_train_flat}))  # this is slow and usually skipped\n",
        "    valid_accuracy = accuracy_score(y_val, s.run(classes, {input_X: X_val_flat}))  \n",
        "    simpleTrainingCurves.add(train_loss, val_loss, train_accuracy, valid_accuracy)"
      ],
      "execution_count": 75,
      "outputs": [
        {
          "output_type": "display_data",
          "data": {
            "text/html": [
              "<img src=\"data:image/jpeg;base64,/9j/4AAQSkZJRgABAQEASABIAAD/2wBDAAIBAQEBAQIBAQECAgICAgQDAgICAgUEBAMEBgUGBgYFBgYGBwkIBgcJBwYGCAsICQoKCgoKBggLDAsKDAkKCgr/2wBDAQICAgICAgUDAwUKBwYHCgoKCgoKCgoKCgoKCgoKCgoKCgoKCgoKCgoKCgoKCgoKCgoKCgoKCgoKCgoKCgoKCgr/wAARCAEgA2ADASIAAhEBAxEB/8QAHwAAAQUBAQEBAQEAAAAAAAAAAAECAwQFBgcICQoL/8QAtRAAAgEDAwIEAwUFBAQAAAF9AQIDAAQRBRIhMUEGE1FhByJxFDKBkaEII0KxwRVS0fAkM2JyggkKFhcYGRolJicoKSo0NTY3ODk6Q0RFRkdISUpTVFVWV1hZWmNkZWZnaGlqc3R1dnd4eXqDhIWGh4iJipKTlJWWl5iZmqKjpKWmp6ipqrKztLW2t7i5usLDxMXGx8jJytLT1NXW19jZ2uHi4%2BTl5ufo6erx8vP09fb3%2BPn6/8QAHwEAAwEBAQEBAQEBAQAAAAAAAAECAwQFBgcICQoL/8QAtREAAgECBAQDBAcFBAQAAQJ3AAECAxEEBSExBhJBUQdhcRMiMoEIFEKRobHBCSMzUvAVYnLRChYkNOEl8RcYGRomJygpKjU2Nzg5OkNERUZHSElKU1RVVldYWVpjZGVmZ2hpanN0dXZ3eHl6goOEhYaHiImKkpOUlZaXmJmaoqOkpaanqKmqsrO0tba3uLm6wsPExcbHyMnK0tPU1dbX2Nna4uPk5ebn6Onq8vP09fb3%2BPn6/9oADAMBAAIRAxEAPwD9/KKKKACiiigAooooAKKKKACiiigAooooAKKKKACiiigAooooAKKKKACiiigAooooAKKKKACiiigAooooAKKKKACiiigAooooAKKKKACiiigAooooAKKKKACiiigAooooAKKKKACiiigAooooAKKKKACiiigAooooAKKKKACiiigAooooAKKKKACiiigAooooAKKKKACiiigAooooAKKKKACiiigAooooAKKKKACiiigAooooAKKKKACiiigAooooAKKKKACiiigAooooAKKKKACiiigAooooAKKKKACiiigAooooAKKKKACiiigAooooAKKKKACiiigAooooAKKKKACiiigAooooAKKKKACiiigDxPxd/wAFFP2PvAmoXmn%2BK/ipc2gs9UbTReHwpqj2l5eLfw6fJb2lwlsYb2SO7nigkW3eQxOxD7drY2j%2B2f8As6R%2BObL4c3XjHUbfVLy6sLNlu/Cmpw29le3sUctpY3dw9sIbG8lSWIraXDxzkzRjy8uoPiVz%2Bxn%2B1bH4C8N/s66Zqfw9HgXwn8W9N8V22tXOo3r6rqtnb%2BLrXWxbyQC1EVrLHAlxFvEswuJFiJ%2Bzqzbeh8cfsffGzXfGPi3wPoup%2BFv%2BEA8c/F7QfHuq61dalcrrOnvp8mlTyWEVqtu0Mwll0mLbcNcRmJLhh5TmNSwB6Fa/t1fsv3cGr3w8f30Nno2n3N7LqV54U1OC0vYLedLeZ7G4ktli1HbNJHHi1aYlpEAB3rns/hT8ZfAXxp0m91fwJc6njTdQNlqVnrfh690q8tJxGkuyW1voYZ48xyxupZAGVwQSDmvmbTf2IPj5a6t4mtbTwl8ONN8MazoOp22reBV8Za1feHfFN5cXcEsdw2mTwCPQGCJcEvZyTnzLkMRL5Q3egfs4/sm%2BOvDGmXP/AAu3xl4hhgsfFa6n4L8M6H8ZPEOpQaLbC3tla2mvpmtZtTheeGSUQXUbxRLKY1BQnIB0kX7eP7Kk0fiC6HxNlW18N6Jqur32oy%2BHdQS0urLTSRfzWVw1uItSFuRiQWjTFSQCMkZ5vx3/AMFL/wBmXwh4Vl8TaPd%2BJtceDxF4b0yXTdP8Dav9qeLW78WdnfwxNaB7m1crO0c8IeOZoTFEzyvGjeKaH/wSx%2BI%2BjfBrXPgl5eiXX9m/DfxR4c8C%2BK9W%2BK/ia/LzajZT2VtI%2Bkz5sdLUQzFZjALjJGY0j4A7z4//ALEPxs8d%2BOH%2BIfw%2B1Pwo9zp/hz4cxaTp2r6nc20dzfeG/FE2szxSyRW0phhlidIklVJGDliYsAbgD1V/25/2ZFtteu4/G%2BpzJ4b8Sf8ACPakLbwfqsrPq/nPCdOt1S1JvLsOhJggEkgQrIV2MrGpqn/BQX9lDSbTRp5PH%2Bq3U%2Bv2Wq3WmaXpfgnWLy/ZNMuIrfUFks4LR7iGW3lmRZIpI1kT5iVwjleFtv2OvjToXha08QaFfeFZvFegftCaz8R9G0y61O5j0%2B%2Bgvl1C3NnPcrbNJDILbUZSJFhlCyxJ8rCvMNI%2BEf7S3wX/AG5vCGqeD9N8Dav478U%2BA/iX4l1jSNT128tdItftmt%2BFwlvBdpZyzN5Srb5kNuvnFZfli8wbQD6jsf2yP2adU8Gaz8QtK%2BKVvd6PoNxpMGoXtpY3MoLapDaTaeYVWMtcrcJfWvlvCHVmkKZ3I6r6bXwN8Nv2Q7XwR%2B1Z8Ff2dvBXxLsNdsPh58M9Ff432dmnD3ugLu8PPKqki2klutRnuUjf52i06PGVQGvvmgAooooAKKKKACiiigAooooAKKKKACiiigAooooAKKKKACiiigAooooAKKKKACiiigAooooAKKKKACiiigAooooAKKKKACiiigArzb4q/tdfs/fBPxlH4D%2BJPje4stR%2By2l1efZ9Bvru3023urh7a2nvbi3geGwilmjkRJLl41YxvgnY2PSa%2BQ/28f2Kv2o/2pNZ8Z6N4R%2BIWn/8I5rvhC0s/DFtqHxB1rSoNGvoXnkm8/TtPi8jU47ljApluZG8hVJWCXbscA9gh/br/ZUku9btpviqtrFoGn6hfXeoahot7bWVzb2EywXslndSwrDqAhldI3%2ByvKVd1U8sAdDwJ%2B2B%2Bz78R/EmneC/DXjC%2Bj1vVNTutPt9D1fwzqOnX0Vzb2kd5LHPb3dvHLbH7NLHMvnKgkSRShbIrwzQ/wBjX9rW8/ZXP7IXiDWvh5pWgaLpEn9ga1ZX99qF3qF9FqUN9YC5R7e3W2hjMRinKNO1xuDqIOYz1/jH4S/tp%2BNfiB4H%2BPWqaH8ME1/wZ4l1CS08HQeJtQWzGmXel/ZHLambAyTXAnHnAfY408s%2BVnK%2BawB2uh/t0/steJddsPDmh/EuW4utR0KfWotnh7UBFDpsM9zbzXk8pg8u1gSa0njaSZkUMEBP72Le3w9%2B3Z%2By74m8J6741sviFe21l4dsdPvdSj1fwrqdhctbX8jRWM0Ftc20c13Hcyq0UDQJIJpAUjLN8teO/s%2BfsI/tK/Bjw3q7xfFHwvY%2BKLj4J3fhXR/EWlxzSrY61Jq2rX0V6IZYgDAn263baWJ3RuuCAGbkrH/gnN%2B1HceNNR%2BImoa74div59G8Iz2dvrXxT1/xIw1jw7r39rQrLc6hbB/st3vlR/JSJbU7WjgmJY0AfUHw9/bC/Z2%2BJ%2Buy%2BF/Cnj%2BRdTttLvdQvdN1fRL3Tbizgs5Yorrz47uGJoHia4ty8UgWRVnicrskRj2nw98e%2BFvip4C0T4m%2BBr%2BS70XxFpNvqWkXU1nLbtNazxrLE5imVJIyUZTtdVYZwQDxXxx%2B3H8PfjP8Ybb4c/D3xh4x8IaH8UvFXjTUNFj8PeD724unh8D6lZNaa0vnSpDLMYoUS7N2YYIxPDbRBdxQyfbOnadYaRp8Gk6XZx29rawrDbW8KBUijUAKqgcAAAAD2oAmooooAKKKKACiiigAooooAKKKKACiiigAooooAKKKKACiiigAooooAKKKKACiiigAooooAKKKKACiiigAooooAKKKKACiiigDyj41/tB%2BP/g7440e2m%2BDkF54S1DXtD0WbxFL4mWK7lvNTvxZotpYrDIbhYC8cs7SSwbYi7IJfLYVR%2BL/AO054/8Ag78SdP0LXPgnA/hjVtaOkaTrh8UqL6/uxpc%2BoNJDYpA4Nqgt5InkeZJVaOR/JaNVkd3xF/Z8%2BMniz9o3T/jnoPxf8KpYaLpSWnh7w74k8CXWoDSZmMgu7yCWLVLdBcTxusPmNEzRxoUQgSzCSCX9nD4y3v7Rd/8AHLV/jR4YvLW40qLS9K0%2B68AzyXehWZgQXSWU7akYInnuFaZ5HtpGZRDE/mLAlAFz9jX9pu//AGrPhhD8Tbmz8DWsd1ZWU62Xg34gnXpLJ54BM1veZs7b7NOgdAY/nJyemBn0vxVrN3oenpd2iRszTBCJFJGME9iPSvPPgJ%2Bz34x%2BGfjrW/if8SfiRpXiHXNX8NaPoCNoHhP%2BxrSKx057ySEtB9on3zM99NuYMkYVY1SKMBtyfGr48nwL8dPAfwL%2BzGNvG2i67f2%2BoJcFXSXTmsMQhR94PHeSuTnjyBwcnEupTpNOb0bS%2Bbdl%2BJ14PA4rMKkqeHjzSjCc2v7tOPPN/KKb%2BTOl/wCFh61/z62v/fDf/FUf8LD1r/n1tf8Avhv/AIqsv%2B3Na/6DF1/4EN/jR/bmtf8AQYuv/Ahv8a7vZx7I4bs1P%2BFh61/z62v/AHw3/wAVR/wsPWv%2BfW1/74b/AOKrL/tzWv8AoMXX/gQ3%2BNH9ua1/0GLr/wACG/xo9nHsguzafx3rC6fFdi3ttzzSIRsbGFCEfxf7RqH/AIWHrX/Pra/98N/8VVSXWNXGkQSjVbncbmUFvPbJAWPA6%2B5/Oq39ua1/0GLr/wACG/xpKnHsFzU/4WHrX/Pra/8AfDf/ABVH/Cw9a/59bX/vhv8A4qsv%2B3Na/wCgxdf%2BBDf40f25rX/QYuv/AAIb/Gn7OPZBdmp/wsPWv%2BfW1/74b/4qprrx3rEEFvKtvbEzQl2yjcHey/3v9kVi/wBua1/0GLr/AMCG/wAas32saultZsmq3ILWxLETtyfNcZPPoB%2BVJ0432C5b/wCFh61/z62v/fDf/FUf8LD1r/n1tf8Avhv/AIqsv%2B3Na/6DF1/4EN/jR/bmtf8AQYuv/Ahv8afs49kF2an/AAsPWv8An1tf%2B%2BG/%2BKo/4WHrX/Pra/8AfDf/ABVZf9ua1/0GLr/wIb/Gj%2B3Na/6DF1/4EN/jR7OPZBdm1feO9YtZ1iS3tiDDG/KN1ZFY/wAXvUP/AAsPWv8An1tf%2B%2BG/%2BKqpqusavHcqseq3Kg20JwJ2HJiUk9fWq39ua1/0GLr/AMCG/wAaSpxtsFzU/wCFh61/z62v/fDf/FUf8LD1r/n1tf8Avhv/AIqsv%2B3Na/6DF1/4EN/jXDeOP2ufgL8MvEUvhD4k/tO%2BEPD2rQIjz6XrnjS1tLiNWUMpaOWVWAIIIJHIOairLD0I81Rxiu7aS%2B9tHXgsBmGZVvZYOjOrO1%2BWEJzdu9oQm7arW1vM9N/4WHrX/Pra/wDfDf8AxVTaj471iz1Ce0jt7YrFMyKSjZIBI/vV4t/w3x%2ByT/0en8Of/DjWH/x%2BrV7%2B3h%2ByVd63La6X%2B2Z8OpTLdMlvHB8RLBt%2BWwoUCfnPGAK5/ruW3/iw/wDA4/8AyZ6r4U4sSu8uxH/hPX/%2BUHrP/Cw9a/59bX/vhv8A4qj/AIWHrX/Pra/98N/8VXPeJfHl14T8Oah4p1bVtRNrpllLd3ItRLNKY40Ltsjjy8jYBwqgsTgAEmvKfh1/wUE%2BEfxD8I2/iS01zxbBdHw7pmr6jpC%2BE9XmuLJL8RfZoSI7Y%2BZK5lGxEy0iq7qCiMw6%2BSC6I%2Bfuz3f/AIWHrX/Pra/98N/8VU2neO9YvNQgtJLe2CyzKjEI2QCQP71eES/t7/Bq3u4ZJviTdtZXdpZmxW303VJb%2BW5uLu9tFtWs1tS6S%2BdYTxeXkzCWN43iQhN/ofwh%2BN/h74vR6Zr/AIH8SanfaderHNHcT2F3boV8%2BSF4m85E2zJJFIkkDYkjIw6LkZHCFtkF2dd/wsPWv%2BfW1/74b/4qj/hYetf8%2Btr/AN8N/wDFV4V8Dv2w/Fnxd8YaTouq%2BEZNI0zxd4b1DxB4F1KHxG91JqGnWd3bW8j3MJhjFrIwvbSVEV5gVlbLKyEHnPHn7fnjv4b%2BL/F/hTxJ8OYJZfDXhm/1zydL8di6ubO1gureCGXVYkg26ZHcRzm6jYPOfIt52KhomSjlhbYNT6Y/4WHrX/Pra/8AfDf/ABVH/Cw9a/59bX/vhv8A4qvkpv8Agp/eXGi6YNH0/wAKXOp6nfaxHaXc3xYjt9B1K3042aSSWGqS2wW7kkmvoLeOMxRgyx3ALqsJduj1v/goQ2kePfHGhRaXa3Wk%2BAbDUZ9XWDxvF/bkhsrAXk8kWllQ0lsGP2UTLKW88EeX5Y82lyw7Iep9MWPjvWLqdont7YAQyPwjdVRmH8XtUP8AwsPWv%2BfW1/74b/4qvl/Uv%2BCjut%2BDM%2BF/HWieFtL8Wy31pBDbX/xQ2aHDbXemXd/Fd3GpvaAwgR2dwu37OxaXyQpKyiQaU37efiWw8U2ljrXg6Gy0eGfwxY%2BIr%2Bbxsj3Npf64yR2kdtDFE0d7CsssSNOJkBBkZFcRtRywvsg1Po7/AIWHrX/Pra/98N/8VR/wsPWv%2BfW1/wC%2BG/8Aiq%2Bcvh3%2B35fa74eHjH4leFLrw7peqeArfxj4Say16S/udU0yaRY44Xh8mIxXpaa0UW6GYM90iLIzAiuSu/8AgqD4m0vw94N1XX/hrb6VfeKNN%2B0voep%2BPvLurmcakbB7DSlFsw1S8RgHaIGEASw4Yh8qcsOyDU%2Buv%2BFh61/z62v/AHw3/wAVU1t471ieC4la3tgYYQ64RuTvVf73%2B0a%2BcvB37a/xF8feMH8IeHfBGnRy6vL4ii8FNqPjmWN9Ql0XUksLxbyNLN2sssxkj2faMquJBExCnn7j/go18QND0W3t/EPgXwnZaxrF5ri6MupfFr7Hpt7ZaVc2drNNBeXVjEWuJbu5EEEBiVZUVpfOWPmhxhbYNT6n/wCFh61/z62v/fDf/FUf8LD1r/n1tf8Avhv/AIqvljx7/wAFMG%2BHXxK8W%2BCdd8JtLF4Rs9Wub/TrHxZ5uvpb2GkHU2vZdN8oCKylCiCK589g000K7R5h2p40/wCCjfij4cW82ieP9D8K6JrtnrdtZ6nd6r8Umh8PWEFzpst9bzTaobLdG0gheJI2txukAwxVkZjlh2Qan1R/wsPWv%2BfW1/74b/4qtnwl4ivde%2B0fbIol8rZt8pSM53dck%2BleafCv4qa58Tfhh4c%2BJL2mr6OfEOg2epHSNSlZbmxM8KS%2BRKM8SJv2sOxU16D4Avr29%2B1/bLyWXb5e3zZC2M7umaVSEVC6QJ6nR0UUVzFBRRRQAUVw/wAefi9qHwh8NaVP4d8Kxa5rviHxHZ6J4f0q61I2cE11OxJaWcRSmKOOJJZWZY5GxEQqsSBXBv8Ath%2BItR%2BHvg/UfDPwqsJPF3i34h6p4LGhap4oa10%2By1PTRqZvC98trI7Q40q48llt98vmQ5SMMxQA90rmfEHjLVNJ1ebT7eC3ZI9u0ujZ5UHs3vUHwJ%2BLuifHr4PeHfjB4dtjBa6/piXItjOsvkOcrJFvT5X2OGXevyttyOCKoeM/%2BRluf%2BAf%2BgLWtKKlLUT2LX/Cw9a/59bX/vhv/iqP%2BFh61/z62v8A3w3/AMVWDRXR7OHYm7N7/hYetf8APra/98N/8VR/wsPWv%2BfW1/74b/4qsGij2cOwXZ0mo%2BO9Ys9QntI7e2KxTMiko2SASP71Q/8ACw9a/wCfW1/74b/4qsvXP%2BQ1ef8AX1J/6Eaq0lThbYLs3v8AhYetf8%2Btr/3w3/xVH/Cw9a/59bX/AL4b/wCKrBop%2Bzh2C7Ok07x3rF5qEFpJb2wWWZUYhGyASB/eqH/hYetf8%2Btr/wB8N/8AFVl6H/yGrP8A6%2Bo//QhVWl7OF9guze/4WHrX/Pra/wDfDf8AxVH/AAsPWv8An1tf%2B%2BG/%2BKrBop%2Bzh2C7N7/hYetf8%2Btr/wB8N/8AFVNY%2BO9Yup2ie3tgBDI/CN1VGYfxe1c3VrR/%2BPt/%2BvWf/wBFPSdOFtguzU/4WHrX/Pra/wDfDf8AxVH/AAsPWv8An1tf%2B%2BG/%2BKrBop%2Bzh2C7N7/hYetf8%2Btr/wB8N/8AFUf8LD1r/n1tf%2B%2BG/wDiqwaKPZw7BdnSW3jvWJ4LiVre2BhhDrhG5O9V/vf7RqH/AIWHrX/Pra/98N/8VWXp/wDx6X3/AF6j/wBGx1VpKnC%2BwXZvf8LD1r/n1tf%2B%2BG/%2BKo/4WHrX/Pra/wDfDf8AxVYNQ3eo6fYKGv76GAHoZpQv86bhTW6E5W3Z0n/Cw9a/59bX/vhv/iqmTx3rDafLdm3ttyTRoBsbGGDk/wAX%2ByK4S4%2BIHgO04u/G2kRY6%2BZqUS/zaq938cfgrpOhXMmq/F/wtaqLmIlrjxBbIPuyerispTw0d5JfNf5mcsRRj8U0vmv8zvf%2BFh61/wA%2Btr/3w3/xVH/Cw9a/59bX/vhv/iq8Q1n9t/8AY08Pkrq37Vvw6idesQ8ZWTOP%2BArKT%2Blcrq//AAVC/YA0XIvP2pfDT7ev2SSW4/8ARSNmuWeYZRS%2BOtTX/b8f/kjjqZxlNL48TTXrOH/yR9M/8LD1r/n1tf8Avhv/AIqj/hYetf8APra/98N/8VXyLd/8Fjf%2BCc9tKbeD9oNrqXtHZ%2BFNVkz9CLXH61F/w9%2B/Y1uf%2BQHe%2BM9Uz0%2BweAtQbP03RLXO87yD/oIpv0kn%2BVzm/wBZcg/6C6b9Jp/lc%2BxX8d6wunxXYt7bc80iEbGxhQhH8X%2B0ah/4WHrX/Pra/wDfDf8AxVfJEn/BWT4Hz6XDDpvwL%2BM14FnkYSW3w0uSrAqnQkj0/UVX/wCHpvgi4%2BXRv2QP2g9SftHY/C6Rif8AvqUUlneR/wDP1fdJ/lBh/rJknSun6Kb/ACps%2Bv8A/hYetf8APra/98N/8VR/wsPWv%2BfW1/74b/4qvkD/AIeQ%2BOdQ/wCRe/4JyftBS5%2B7/aXg2O0/PdMcUf8ADdf7U17zov8AwTG%2BI8gP3ft2s2Vsfx3E4p/2zlL2bfpTqP8A9xi/1iyp/DOT9KdV/wDuI%2Bv/APhYetf8%2Btr/AN8N/wDFVNdeO9Yggt5Vt7YmaEu2Ubg72X%2B9/sivjr/hsj9u6fmy/wCCWXiBh28/4maZGfyK1NqP7XX/AAUXks7Vov8AglRPGiW5CyXfxr0iMEeY5zzHxySMe1J5xl3SM/8AwVV/%2BQGuIMC9o1H6Ua3/AMrPrn/hYetf8%2Btr/wB8N/8AFUf8LD1r/n1tf%2B%2BG/wDiq%2BKr/wDbE/4KEklX/Yi8DaER1bWvjZp0gH18pRWNf/tr/t26RmTVvAf7P1uOuyf4vRRsvsSzYrOWe5bHeE//AAXJfm0dtHFYvE/wMFiZ/wCHDV3/AO4/0Pu7/hYetf8APra/98N/8VXTeH9Rn1bSIdQuFRXk3bggIHDEd/pX5pXf/BSL9qezyt3p/wCzZbEdTcfHazH/ALPX3T%2Bxl8TfEvxj/Zq8NfEfxfJ4XfUdSF59pbwZrq6npp8u8niXyblCRJ8qDdg/K%2B9f4arD5vl%2BPqOnQvzJX1VtP/An%2BR6Cw%2BbU48%2BJwOJow6Sq4etSg32UqlOMXK2qindpN2smeoUUUV2gFFFFABRRRQAUUUUAFFFFABRRRQAUUUUAFFFFABRRRQAUUUUAFFc9rvxc%2BFHhfxtpnw08TfE7w9p3iPWk36P4fv8AWoIb2/XLDMMDuJJR8rcqD90%2BhpZfix8LIPiHH8IpviV4fTxZNafaovDDazANReDBPmi23%2BaUwrHdtx8p54oA6Cvjz/gp0JvAXx//AGZP2gRKyQaT8Trnwvdtn5RHrVp5OW9gbccnocV9R/D/AOLHws%2BLNld6j8K/iV4f8TW9hdm1vp/D%2BswXqW84AJikaFmCOAQdpwcEcV85f8FpfCmo%2BIP2APE/iHQFxqvhLUtP8RaXLjPlSWlwsjv%2BEXm15mcqX9mVJx3haa9YNT/9tf3n3nhjVpLjvA4eq7QxEpYeTe3LiadTDtvyTrQfyPXaKy/BHivTvHfgvSPHGjtm01nS7e%2BtTnOY5o1kX9GFalfRRlGcVJbPU%2BDrUqmHrSpVFaUW012abTXyaa%2BQUUUUzMtTf8gW3/6%2Bpv8A0GKqtWpv%2BQLb/wDX1N/6DFVWkgCiiimAVa1D/j0sf%2BvU/wDo2SqtWtQ/49LH/r1P/o2Sk90BVooopgFFFFAFrWP%2BPtP%2BvWD/ANFJVWrWsf8AH2n/AF6wf%2BikqrSWwBXDeOP2Yv2a/ib4il8X/En9nnwN4h1adESfVNc8JWd3cSKqhVDSSxsxAAAAJ4AxXc14b8cP%2BCkv7Fn7OHxEuvhR8Z/jP/Y2v2UMUtzYf8I7qVxsSRA6HfBbuhypB4Y4zzg1yY6rl9GjzYxwUL/b5bX/AO3k1ffzKjntTh5/WoYp4dv3edVJUnrry80Zwettr2dttDo/%2BGIv2L/%2BjRPhf/4QOnf/ABmreofsT/sZ6fr881h%2ByR8MYHgvGaF4fAWnKYyrnBUiHjGBjHSvI/8Ah81/wTX/AOjkP/LP1n/5Dq7L/wAFkv8Agm7rviNrTSv2jfNkvL0pbL/wiGsLvZ3wo5tBjOR1xXkLH8Jc2lSh/wCUv/kTT/iKGKlp/bs3f/qLq/8AzQfROu6VDr2iXmh3EjJHe2skDunVQ6lSR781846T/wAE/fEVn8Jbj4eat8Y9I1G6n/4RlJ3u/Bbtpt7Do8KQLb3dkb4tcQzJGpePzlG4Z5X5K%2BhvGXiQeDfCGq%2BL20W%2B1IaVps94dO0yNXubryo2fyoldlVpG27VDMoLEZIHNePeP/8AgoD8E/Ami3HiaPT9T1XS7ePTW/tW2vtMtLWRr2ykvoolmv7y3jMgtlikKFgxF3BsDkuE%2BhfL1Mlc5L4Sf8E4JPhb4h0rVV%2BLtlPaaLrsF/p%2Bn2PhBbNI4Y9X1jU/IwlwUUb9YeNSiKqJAmEOePdP2cfhPq/wasYPBsniu21OwOvX%2BoQkaW0EyzXurXd84Lec6sqrcpGAFBzEzk/OETxLTP8Agoj4XXxN4g1HV4ZLjw1b3Bl8LjSdFZ7rUrRtB0DUYVZpblAk8k2s%2BWi%2BXtYGMMYyjO/p37Lvx88Z/GP4geL9J8SfDHUNDi8M/EFdGtoLtbdZ7ONdK0q8Iu/LuZVkkaa9nCPAWjMaJkg/M6922gamD8I/2UvE3wo8SaZrEHxTsr%2B18JeH73QPAdlN4bZP7N0y7vbW5niuXW6/0uUJZWsMciiEIItzI5Zs43xJ/Yq8b/F7VZbv4hfH1L6HTrTUYfCTr4WVLq1%2B06haXyx30v2gpfwRNZQxCFY7cPGCJC74cWtG/aU%2BJl98ZLCC6stB/wCEL1f4m6j4HsbSOxnGpQ3Npp11ctevcGYxvG09lPCIBCCFeOTzThkqX4y/Hb42fC3446H4ShtvD9xofiO8uLfS7E%2BH7/zhFFpdxcmeTUmkW0E5uYfLXT0R5pIv3qvgOIz3bBqYfiD9g/xNrsut%2BMG%2BLuiJ4u8Ux67aeItSk8DmTT2sdVtdNtbiK1s2vd0DhNJs2EjzTKXM7Oj%2BbhdTSP2IB4c8b2Wo%2BGviall4f0vxBceIdNsB4fSTUY9Wm0STSHle8klZJofKleYxNbljLjMhjHlVjfB79pP45/Ev4JyeJ5PG/hdPFdnpel6n4j0h/hB4gt7jQ7S4t5ZGMemtdPdaqXljaKJ4WijbypmDSNH5Z5TR/wBv74w6nrHgeC40Xw3Cmuad4Xl1C2ttEvLuO5fVNWmsZy99FceRohiSISRw3gkeeUtbRs0qNR7gancfDv8AYCuPBWo2/jzw34w8G6f4303VhqOmahpfw1W00WGKLS72yMB02G8ViXS/vJWkW4VvOlU/cXyjHp3/AAT90i1m8AaLqXjDRdR0LwLY6LHEL3wPbHV3m024%2B1Ri31FZA1rbSXCQSPb%2BXIMRFEdFdhWP47/bW%2BNvwS8TeKvC3jmy8MXV/a6fpkelm08MapbRWN3qmrQ6ZCq%2BdJ5muQxLdpLJLZpEN0Xk4WSZFXW8QfHf9oXVPgnpHjn4XfE/4eXmu6j4hfw7bWN38PtVC3upNfPboHt5tQt7jTzDErS3MEiyvGIJirMAAUuW4alnwX/wT/8ADMNno%2BifF7x9e%2BJNN8H%2BHbDQvAsWkPeaHc6ZZWcokhea5tLzzLi5zHbbpVMSE2yMIgxJrC03/gm6/hvwfL4D8MfGycadrPh46H4pfW9MudSuprL%2B0rm%2BU2U896WsZwbuRDI3nKSkUgRWQZm%2BN/7Z/wAWfDfjrxnonwd8F6TqWkaB8LfFWqaLf3dlcXMupeIdHm02OSBI4ZF821RtQ8lwuJGnhlQMnl5e5pf7Sfxj8b63pfwk%2BFvxB8G6n4uu11u81O%2B1j4darpUWmw6fFp%2BLKbTrm%2BFzHPK%2Bp2sgmaQL5L71jfKln7ganUeGf2TLnRPjtq/x3vvFugPqU9pqkOi3Gl%2BB4LG8Rr2WNhLf3Ecn/Ewe3SJIYTsiIjL%2BZ5rt5gp69%2BxFNqHwm8M%2BBfBXxC07Tr7wp8K7vwLcapq/hb%2B0EvdKvEsIrplh%2B0xmKdnsYHV2eRRmRXSTfkZHhz9qT40%2BMtQ%2BFvjHw7pXhJtC%2BKmn2d7ofhLZdPq6WMujC%2Bm1Ce6DiO3hhuHjgZPs8gIeI%2BaJJ0hEnhL9ob49z6X8V9K8Y%2BP/AARok/w00iy1LW/EF18O9UjtxAftLXcSWM%2BoQzzRIbZGi1FH8i4BlSOMmJmCfLYNSbQ/2HtT8N%2BJrR9G%2BMXlaDpGv6hruhW7%2BHUl1SDUbrSJtLZp7yWVo7mFI7iSRYmtwdywqzske05nhL9gXV/AWpWnxA8F%2BPvB2leLrPWWuo2034ai20Fbc6fJZeQumRXqsj/vZpvOFxu8yeUY8tvLF7VPjP8AtbeBtA%2BHmt/EKz8CJf8AiS80PT9Q8KWWlXn9o6heXl2RfJbg3TLaLY2Z%2B0MzfaRJ9nnJMCqGN2H49fGDwF438cx/EbX/AAz4l0LwlYWNpBB4Z8KXOnXt54gvXVrXSo2m1C4SSQxSWpOVQZv4DuCq%2BH7oanqXwX%2BGWnfBb4QeFvg/pGp3F7a%2BFvD1npNteXQAknS3hSIOwXABITOAABnAAAFenfDb/l9/7Z/%2BzV4p%2Byt8S/Hnxd%2BBmk%2BOvidYaTa6/Nd6ha6pBoQlFosttfXFt%2B681mcqRCDljkkk4GcD2v4bf8vv/bP/ANmqan8MFudRRRRXIWFFFFAHD/Hn4Q3/AMX/AA1pdv4e8VRaHrnh7xHZ634f1W5043kMF1AxyssAkiMsUkTyxMqyRttlJVlYA157N%2Bx54vPwOf4QyfETwhq0tx4tu/EWpSeLPhpHqmnald3l1dXl2k9lLdg%2BV9pujJAI5Y5IRBCrSTAP5nvVFAHKfAv4S6P8CfhB4e%2BEOhX8t3b6Bpkdqb2eNUe6kHMk7KgCq0khdyqgKCxAAAFVvFuq6pbeILiG31K4jRdm1EmYAfIvYGu0rg/Gf/Iy3P8AwD/0Ba2opOQpbFX%2B3Na/6DF1/wCBDf40f25rX/QYuv8AwIb/ABqrRXTZdiC1/bmtf9Bi6/8AAhv8aP7c1r/oMXX/AIEN/jVWiiy7Aaesaxq8Wr3UUWq3Kqty4VVnYADceOtVv7c1r/oMXX/gQ3%2BNGuf8hq8/6%2BpP/QjVWkkrLQC1/bmtf9Bi6/8AAhv8aP7c1r/oMXX/AIEN/jXB/F/9ob4G/AHSf7b%2BM/xX0Lw3AyFol1TUEjlmA/55xZ3yn2RSa8Ol/wCCrnwb8XyNZ/s4fBn4n/FOUkrHc%2BEvBU62Yb1ee48vYv8AtbSK4cTmeWYOfJWqxUv5d5f%2BAxUpfgedis4yzBVPZ1q0VL%2BW95f%2BAxUpf%2BSn1to%2BsavLq9rFLqtyytcoGVp2II3Dg81W/tzWv%2Bgxdf8AgQ3%2BNfK2lfEb/grB8aNVtl%2BH/wABfh78JLGW4Ty73x1r76vfBdww6w2YCK3Q7JOnIzUZ/ZD/AG%2BPGfzfE/8A4KXanaQv96w8F%2BAbHT9g7hbjcZD9SK5v7UnUf7jDVJLu4qC/8nkn/wCSnN/bNWr/ALvhas13aVNf%2BVJRf/kp9W/25rX/AEGLr/wIb/GuL8dftVfBb4Y7x8Rv2ivDWhNH96PVvFcFu%2BfTa8gJPsBmvlHxz%2Bxj%2Bwd4W3n9rT9uPxb4ocf8fFp8QvjKIkY91WKN4mA/2Rk1y%2Bk/EX/gg58IL5NH8CfD/wALeJ9ST/UWen%2BEL3X5XI7rJPHKpPvvrhxGc4ii7VPY0v8AHVTf/gMI/qfUZVwf4qcQx5ssyapKP83LWmrd7woxhbz9pbzPe/E//BYb9h7w7ef2VZ/tGT65fMcRWXhvTL%2B/eU%2BitFEUP/fVUtP/AOCp/iPxPcMPhH%2BxT8fvFMZhk2Xj%2BEjZWjfI2GWWaXnH3vujpXOeGf29dIsrT%2By/2bf%2BCcHxeurdgBFLD4Dh0awk9MSs4GPqvFbem/tBf8FQ/Gty3/CCfsE%2BGPC0bQS%2BXdeNviRDcZUxtljFaKHU4zweeK5XmWJrL3cRf/r1h5y/8mnp8z2f%2BIT%2BJK1zDFYbCL/p5WwtNr5TxVaf/lO/kPP7en7c%2BpjZ4W/4Jp%2BPJnbiMat48sbFSe2S%2B7aPek/4XX/wWI8YHf4d/Z2%2BGXg5W6J4t8eXOoFfYmxAB/Cq3/CH/wDBXvxhzrfxi%2BCng9G6Dw54fv8AUJEHv9rIUn9KX/hjn9ufxNz8Q/8Agp54gKN9638L%2BANP0zYPQSKzMfqRmn/wpVdvrEvlQpf5yD/iGmDpf8jDivDx8qXtKj%2BTo4NJ/wDgaLI07/gs/rg/4mvxz%2BCehbuv9i6Tqt1t%2Bn2hhn8aq6r8Iv8Agpy9v9q8b/8ABU7SfDdu3%2Bs/sz4aWJH0ElxKCPrR/wAOvPDmunf8Tv2xfjx4o3f6y21D4hvHbH6RxRrtH41a0r/gkH%2BwBZXH9oax8FbjW7v%2BK71zxRqNy7fUGfaf%2B%2BaP7NzOr/y7l/2/iZflTgvzD/Unwuof7zn%2BMr/9eqFWK%2B%2BriaX38vyOI1b4c2tvDcyfGr/gun4ttXji3FdM8d6Vom5t6ggBWbHBJwPSuC8R6d/wTa0wNJ8Qv%2BCsvxU8SOv3pLj4yT3xP0%2ByxHP4V9X%2BE/8AgnZ%2Bwr4etbprH9k7wJKYrYFDf%2BHobog%2BYgz%2B/D9ifzrrdA/Z8%2BAnhNlbwt8EPCGmFPuHT/DVrDt%2BmyMYoWQYmb96nS%2BcsRP86kV%2BAf6v%2BCFH4qOYV3/eqYeCf3zrP8Gfnncav/wRx1aVrXT/AIufGTx0wOJIbK%2B8Q3AY%2BmSkYP4GltfAP/BLK4YzeGP%2BCYP7QHiqR/8Al5tvDWsz%2BZ7kyX6j9K/TiGCG2iWC3hWNFGFRFAAHsBTqa4WUvi9ivShF/wDpdSQfVvBeh/D4blU/6%2B4yT/8ATeGX4H5q2/wm/ZMu/l8I/wDBED4rzk/c/tuCazz9TLdtitfTf2foprV7jwZ/wQJsJsTIFuPEHxMsLcJkNwUl35zjP/Afev0Tq1D/AMgW4/6%2Bof8A0GWtFwrQW818qNBf%2B2SNI47w1ofwOFMJ/wBv1MVU/KdI%2BBtE%2BBv7SNvtPhL/AIJB/s%2BeHX/hl1jU7C7dfq0MG4/nXXaN8J/%2BCnMGP%2BEb%2BFH7K3hOIdBbaRqUkyfTYgSvsGiuuHDuHh/y9n8vZx/9JpI7KfF2T4X/AHTh7Lqf/ctKp/6cxD/U%2BY7L4Zf8FbZ4RA37YPw48Pp/zy0LwNJMq/TzmFTf8M6/8FO9S%2BbV/wDgq1cWynrDpvwj00Y%2BjtLur6WordZHhPtTqP8A7iz/AEcTp/4iRnVNWo4TBU/8OBwr/wDS4VGfN8n7Gv7aeoadFceI/wDgqt8RZQ80isumeHrKyPAQ9UJP8X4VD/wwD8W735ta/wCCmX7Q0jH7xsfGiWw/ALEcV9QTf8gW3/6%2Bpv8A0GKqtCyDK38UZP1nUf8A7kH/AMRQ4zj/AA6tKH%2BDC4OP5YRnzSf%2BCblzd/8AIb/4KC/tN34PVLj4tPs/IQDFMb/glt8KLrnWf2iPjbqJPU3vxPumz9cAV9M0U/8AV/JetFP1cn%2Bc2L/iKviGvhzGUf8ADChD/wBIwsT5jb/gkn%2Bydd/8hy/8famO4v8A4g6g2f8AvmQVNcf8EbP%2BCdSRWl1f/Am5vpZICzyXvjHVnJPmOM/8fQHQDtX0tVrUP%2BPSx/69T/6Nkpf6v5Fdf7NB%2BsU/zuH/ABFfxOt7uc4mP%2BGtKH/pCgfNlj/wSa/4J4afjyP2ZNJbH/PfUr2X/wBDnNbOn/8ABNX9gzTcfZ/2VvCDY/5%2BNO83/wBDJr3Cit45Lk8Phw1Nf9uR/wDkThreI3iFiP4ucYp%2BuIr/APy1Hk9p%2Bwd%2BxNZ4EP7JPw4OP%2Bevgyyk/wDQozX0D8G/Bfg74efDfTfB3gDwnpmhaRZiYWelaPYR2ttBumd22RRgKuWZmOAMlieprlq7zwZ/yLVt/wAD/wDQ2rR4TCYdXpU4xflGK/KKPEx2fZ9m0FTx2Lq1op3tUq1Zq/dKdSaT1eqV9XqalFFFSeYFFFFABRRRQAUUUUAFFFFABRRRQAUUUUAFFFFABRRRQAUUUUAfMv7SWr%2BH/En7R%2BlfDDVfhb4n07RLS88P%2BJPFXjPQ/hjq%2BpPr11p9%2B13pemRXdlZyxokFxCs88kj/ACJIsSL%2B/leLzv44/DD4s/EDxT43%2BF3gTwL4jt/E3in4txeKvDni%2BTQbqGxttL/4ROCzE73rRiOCVXilsfs7OJ8yBvL8ti9fb1FAHzd%2BxZpesal8TNT8c2Xwv1/wpodt8IfB3hk2PiDw/PpjnU7B9Ve4hjinRDIkEd3bxieMNFIWIR3EZIT9uP4gJqnxK8Ifsea5HA2j/GLwJ4ysZA2FkF5bW1l5RDEH5PJuLzcuMk7TkbefpKvjn/grpCngB/gb%2B1FENjeAvi/ZW2p3HTytL1FGtrs599sQx0Oa87NakqOBlPonHm/w8yU//JZM4cwzHF5PQjj8NLlnRnSnfsoVabb%2BS1%2BQz/glf8QLTx7%2BwT8O5tZs7r%2B0NG0qTQ7%2BI3SgxPYzyWqqQUODsiQ9ehFfQfnaL/0D7r/wMX/43Xyl/wAE5/8Aig/iR%2B0B%2BzxJ8o8MfFq41awgP/LGx1SJbiBAP7vyOR9TX1HXXkcpTymipP3orlfrBuD/APSfxP0XxNw9HD8e5hOirU60/bwX9zERhiI29FXa/wC3WWvO0X/oH3X/AIGL/wDG6PO0X/oH3X/gYv8A8bqrRXq2PhDTll0j%2ByICbG52/aZcD7UuQdseedn0qt52i/8AQPuv/Axf/jdE3/IFt/8Ar6m/9BiqrSSAtedov/QPuv8AwMX/AON0edov/QPuv/Axf/jdVaKdgLXnaL/0D7r/AMDF/wDjdWb6XSBbWe%2BxuSDbHaBdKMDzX6/JzzmsyrWof8elj/16n/0bJSa1QB52i/8AQPuv/Axf/jdHnaL/ANA%2B6/8AAxf/AI3VWinYC152i/8AQPuv/Axf/jdHnaL/ANA%2B6/8AAxf/AI3VWiiwGnqsukC5XzLG5J%2BzQ8i6UceUuP4PSq3naL/0D7r/AMDF/wDjdGsf8faf9esH/opKq0ktALXnaL/0D7r/AMDF/wDjdHnaL/0D7r/wMX/43VWinYC152i/9A%2B6/wDAxf8A43VnWJdIGr3Qlsbkt9pfcVulAJ3HtsOKzKta5/yGrz/r6k/9CNK2oB52i/8AQPuv/Axf/jdeE%2BHv2APgR4P8P6ToPg7xL430ttI1fULuG/tdZszcSW93bpaPYlpLNgkEdpDb2sTRhJ44raMLLu3M3tlFDimFzwHQv%2BCbH7PGieGx4cfxT47vBHZfZ7e9udasRNCV0zStOhlUx2KL5kUejWciEqR5gcsHVgo9T%2BA3wI8PfB3xRqeq6Z4/8X6zd%2BJ/FJ1nXJ9evLB/td41pZWasRBZRbESOyjKpHsGXfquxU6urWh/8hqz/wCvqP8A9CFJxSQ7s8wT9lr4ZwfFB/idaeI/FkO3W7nXNP0FNSszYWGsXFi1jLqMStaGXzTBJKNjyPDumkfytzZpNZ/Zd8CeI/HkfjLX/iB48u7RNWi1dvDj69bLYnUo7P7Il4pS0FxCwQB/LimSESjzBEHJJ9Gop8qC55Nafsf%2BFba9fxRP8cPidc%2BKQNPjs/GE%2Bt6d9utbezS7SG32Lp4tp4yL%2B8L%2BfDK7tMGZi0cTJT0v9hD4IaK9rBpXibxrDYM%2BnTeItLGsWbQ%2BIrmyv5NQhuLxmszIshuppJH%2BzvAsgIRlKAKPZaKOSIXZ5Rp/7EPwp1CaRdf8fePdWkstINp4UuNV1u0ll8NRRXcGoxfZHFmGldLmxsnD3ZuCfskYbcu9X1/Cn7Mnww8LyeG72TWPE%2BpX3h3xfqHidtR1DU7XzdT1O8tbu1lmuBFapHgRXkoRYliVdqADAIPpWj/8fb/9es//AKKeqtJRVwueW63%2BxJ%2ByzffEgfF7wt8M08J%2BJRoWsacNc8IQ2Wn3fmajJbPNfedHa%2BYbtDbkJKWxi4uAyuJDVK6/Yr%2BHt1c3Hif/AIWv8Q4vF19fXM%2BoeObfVNMj1K5ins4LOS1Krp4tUhMNrbYEcCMHgWQMH3M3r9FPkiF2eUeGv2Ovhx4N8b3ninwl8QPG2n6be6JY6I3heC70s2cOlWlqLaGwhmfTzeQwAb5cJcKfNmkcEFsCzov7HHw3fwl4t0LxV8QfHXiKfxJ4f0rSNR1fW9Wsmuhpmn3bTW9mphso0KF7ifzHkR5ZBM4ZzhCvp1WtP/49L7/r1H/o2Ok4KwXZ5v4n/Z60TxD8dbf4%2B2PxU8a6VqNto8Olx6XZS6RNZrarO00qJ9q02aaEzsUEzRSoZBDCMjykIup%2Bzp8Br7S/Eeh%2BNvAEfiqx8UeJ317U7HxVHa30P2sxRRJtje327UjhjVMgsoX7xrsaKfKhXOY%2BBPwO%2BDv7OPw9j%2BGPwr8JyWGkx6hd3ghia3izJcTvM%2BRDAi4UvsX5chEQEnGa9U8APZP9r%2Bx28sf%2Br3ebMHz97phRiuSrqPht/wAvv/bP/wBmqKiSpsa3OoooorkLCiiigAooooAK4Pxn/wAjLc/8A/8AQFrvK4Pxn/yMtz/wD/0Ba2ofGTLYy6KKK6iQoqDVNU03Q9Muda1nUIbSzs4Hnu7q5lCRwxIpZnZjwqgAkk8ACvkbW/j/APH3/goNrN18Of2MdQvPBnwygna28RfGa6tWS41EA7ZLfR42wSeoNwcbecbCF38ONx9LB8sbOU5fDCPxS/RJdZO0V1d7J%2Bfj8yo4HlhZzqS%2BGEdZS/RJfalJqMervZP1j9qr9vf4SfAfx7P8KvDWnaj49%2BI17dSLpvw/8IRfaL1mJJBnZcraxjIJZ%2BQvzBWANedD4X/8FL/2mx5vxa%2BL2jfBDw1Py3hzwABf628Z/glv3%2BSF/wDbgz0%2B7V7Wtb/YW/4JVaa/w%2B8F6Hcah4y1mcpBo2kxHVPFHiWcscPKfvnc2Tlyked2wZ%2BWs8aH/wAFKP2tf3niTXLD9n3wZcc/2fpEi6l4nuoj2efiK0JGCCmJEOQQa%2BerVq2JqOlXlKc/%2BfVFtRj/ANfKnu/O8oLtBrV/U5T4acQ53gI5pn%2BKhgcFO/K5zlTjNLf2cYp4nFNbN0oQpX09otSxH%2Byr/wAE2P2Jl/4WZ8ZbvQ59ckPmv4p%2BKGtDUtSvJB/HGtwTuk/64xhqQf8ABS7/AIWaP7K/Yr/ZV8d/E7HyW%2Btf2f8A2LofoP8ATLsDGPQoOO9dd8I/%2BCan7I/wo1n/AITG8%2BH8vjHxMzB5/FPj%2B9bV76WQdJCZ8xo/%2B0iKa94jjjhjWGGNURFAVVGAAOgArtw2X5hCHJT9nhoPpTipy%2Bc5JRv58svVn0OFj4U8K0/Z5dgqmOmvtVX9VoN9/ZUXPETX/X3EQb6pHzHpXg3/AIKzfGvVLZNe%2BLfw5%2BDVhPcIETwzoz67qcQLDh2uSIN3uhqEf8EtfBnjk%2Bf%2B0t%2B0t8VviUz/AOv07WPFslppx9dltbbNgPoHr6u0P/kNWf8A19R/%2BhCqtdP9h4Go/wDaHKq/785SX/gKcY/%2BSs6P%2BIm8TYXTKY0cDHp9WoUqcl/3FlGtXb8/bJ%2Bh4l4F/wCCb37Cfw52Hw3%2By34RkaP7kmr6d/aLg%2Bu67Mhz75zXrnhzwj4T8HWQ03wj4Y07SrYdLfTbKOBP%2B%2BUAFaNFehh8Fg8IrUKUYf4YxX5JHy2a8R8RZ7LmzLG1q7/6eVak/wAJzkvuSCrWj/8AH2//AF6z/wDop6q1a0f/AI%2B3/wCvWf8A9FPXQ9jxirRRRTAKKKKALWn/APHpff8AXqP/AEbHVWrWn/8AHpff9eo/9Gx1VpLdgFFFFMAq1D/yBbj/AK%2Bof/QZaq1ah/5Atx/19Q/%2Bgy0mBVooopgFFFFAFqb/AJAtv/19Tf8AoMVVatTf8gW3/wCvqb/0GKqtJAFFFFMAq1qH/HpY/wDXqf8A0bJVWrWof8elj/16n/0bJSe6Aq0UUUwCu88Gf8i1bf8AA/8A0Nq4Ou88Gf8AItW3/A//AENqxr/AOO5qUUUVylhRRRQAUUUUAFFFFABRRRQAUUUUAFFFFABRRRQAUUUUAFFFFABRXifxUXxRpX7bnwovrP4i6%2Bml6touvWl34Yi1Dy9NdoYI5RO8KAebKS6gNIXCCMeWELSF%2BX%2BP/gweIP2lUsPBHxL8W6DfaP4I1LxT4muV%2BJGrW2mrut3sNOge0N19khhaT7Vcs6xrh9OUnO9yQD6Ur54/4Kr/AAvb4w/sD/EbwTDbmW4OhS39lGo%2BZri0U3cQHuXhUfjSfsHapr/hv%2B1fgb8Q7LUn8V6H4S8O6xq2rzfFXUvFlpqcN9HdxRzxz35DW8plsblnhjXy9rRMryBht9q%2BI2nWWq%2BHv7O1GSEQTS7JVnVirqUYFSFB6gmsq%2BHhi6E6Etppx%2B9NfqcuNw0MbgquHntOMov5pr9fwPzt/ZK%2BKQv/ANt/wv8AEy4mH2X49/ALS9TklB/1ut6aFSeI%2BpSEvk19wV%2BXvgt5Pgh8CfAHjW71RBd/syftK6j4S1qaTfvTQb64KTzZ2/cYTxqueoHtX6mf2faf9By1/wC%2BJf8A4ivL4XxMqmHqU573U/8AwOPvfdUhUR9tneJnnvBvD2fS%2BOrhVh6v/X7BTlRd/N0pUn6LtYq0Va/s%2B0/6Dlr/AN8S/wDxFH9n2n/Qctf%2B%2BJf/AIivqLo%2BPCb/AJAtv/19Tf8AoMVVa05bG1OkQJ/bFsALmUhtsuD8sfH3M/8A66rf2faf9By1/wC%2BJf8A4ikmgKtFWv7PtP8AoOWv/fEv/wARR/Z9p/0HLX/viX/4indAVatah/x6WP8A16n/ANGyUf2faf8AQctf%2B%2BJf/iKs31jatbWYOsWwxbEAlZfm/evyPk/Dn0pNq6AzKKtf2faf9By1/wC%2BJf8A4ij%2Bz7T/AKDlr/3xL/8AEU7oCrRVr%2Bz7T/oOWv8A3xL/APEUf2faf9By1/74l/8AiKLoA1j/AI%2B0/wCvWD/0UlVa09VsbVrlS2sWy/6NCMMsv/PJeeE79arf2faf9By1/wC%2BJf8A4ikmrAVaKtf2faf9By1/74l/%2BIo/s%2B0/6Dlr/wB8S/8AxFO6Aq1a1z/kNXn/AF9Sf%2BhGj%2Bz7T/oOWv8A3xL/APEVZ1ixtX1e6dtYtlJuXJVllyPmPBwmKV1cDMoq1/Z9p/0HLX/viX/4ij%2Bz7T/oOWv/AHxL/wDEU7oCrVrQ/wDkNWf/AF9R/wDoQo/s%2B0/6Dlr/AN8S/wDxFWdHsbVNXtXXWLZiLlCFVZcn5hxymKTaswMyirX9n2n/AEHLX/viX/4ij%2Bz7T/oOWv8A3xL/APEU7oCrRVr%2Bz7T/AKDlr/3xL/8AEUf2faf9By1/74l/%2BIougDR/%2BPt/%2BvWf/wBFPVWtPSrG1W5YrrFs3%2BjTDAWX/nk3PKdutVv7PtP%2Bg5a/98S//EUrq4FWirX9n2n/AEHLX/viX/4ij%2Bz7T/oOWv8A3xL/APEU7oCrVrT/APj0vv8Ar1H/AKNjo/s%2B0/6Dlr/3xL/8RVmxsbVba8A1i2ObYAkLL8v71OT8n4cetJtWAzKKtf2faf8AQctf%2B%2BJf/iKP7PtP%2Bg5a/wDfEv8A8RTugKtdR8Nv%2BX3/ALZ/%2BzVg/wBn2n/Qctf%2B%2BJf/AIiuj8AW8UH2vyr6KbPl58oOMfe67lFZ1WuRjW50dFFFchYUUUUAeXftUeNvGvhjQPCfhbwD4nm0K%2B8Y%2BO9O0KTX7a1gmm063kEs00kSXCSRGRo4GiQyI6q0oYq2MHxjxF%2B0N%2B0DdfBXwZo/h3xP4g1TxLd/GfxJ4Q1K48H6fo665rljpUutRLNajUUXTYZz9gtpbhpRHFtW4WILI0MZ%2BmfiX8MfBXxe8KP4L8faVLdWLXUF1Gba%2BmtZ4LiCVZoZ4Z7d0lglSRFZZI3VlI4NcnN%2ByF8BZPB2neBYfDerW1jo%2Bo/2hpEth4v1S3u7G8KTJJcw3UVys8U0q3Nx50iyBpzPKZS5diQCz%2Byb8QPEnxV/Zm8CfEXxnq9rf6zq/hezuNYurO2aFHuzEvnfu2VSjCQMGXauGBAAHAveLdNuLjxBcTRyW4B2YD3Uan7i9iwIrf8AA/gnwp8NvB2mfD/wNokOm6No1jFZ6ZYQZ2QQxqFVQSSTgDqSSTySSSa5jxn/AMjLc/8AAP8A0Ba2o/EKWxV/se7/AOe1r/4HRf8AxVH9j3f/AD2tf/A6L/4qqteW/tqfHtP2Zv2X/GPxjhkX7fpuktHokZXcZdQmIhtl2/xfvXQkf3QfSrxFeGFw861R2jFNv0Sv%2BhzYnEUsJhp16rtGCcn6JNv8vyPHv2rdZ8SftqfHdv8Agn78K9fFp4U0RIdR%2BOXiizv0RYLQndFo8Uu7b502Mvg/KoOchZEqDVvj58Q/2hNUb9kn/gmTZaXpXh7w3EmmeI/i0yx/2RoMKKF%2BzaaCQt5cBQACpKrwQcN5i%2BWaP8NfFVj4J8O/8Exfgxq9xB418X2KeI/2kfHaSGS406K6CvcxPKc7rmct5KA8%2BXgkYkZ1%2B7/hh8MfAvwa8BaX8Mvhr4cttJ0TR7VbexsrZAAqgcsx6s7HLM5yzMSSSSTXymBpY3NK9Scpcl7KpJbrqqMH9lQT/eTWrnJqNmrx%2B64byvA8DZPR4izvDxr5pjYqpQoVNaWHof8ALqrWh/y8cneVGjK0JtSr1lKHsqc%2BO/Z3/YL%2BDf7Ll/fa54Xt313xbqMrnXfHvinVY7vWNTkJ%2BdpJpGzGGI5Rdo4GckZr1n%2Bx7v8A57Wv/gdF/wDFUa5/yGrz/r6k/wDQjVWvqcLhaGEoKlRioxXRL%2Brt9W7t9Wz57OM6zbP8wnjcyryrVZbyk7uy0SWyjFLSMYqMYqyjGKVi1/Y93/z2tf8AwOi/%2BKo/se7/AOe1r/4HRf8AxVVaK6NTzDT0fSrqPV7WRpbYhblCdt5ET94dg2TVb%2Bx7v/nta/8AgdF/8VRof/Ias/8Ar6j/APQhVWlrcC1/Y93/AM9rX/wOi/8AiqP7Hu/%2Be1r/AOB0X/xVVaKeoFr%2Bx7v/AJ7Wv/gdF/8AFVZ0rSrqO5Zmltv%2BPaYcXkR6xMOzVmVa0f8A4%2B3/AOvWf/0U9J3sAf2Pd/8APa1/8Dov/iqP7Hu/%2Be1r/wCB0X/xVVaKeoFr%2Bx7v/nta/wDgdF/8VR/Y93/z2tf/AAOi/wDiqq0UagadjpV0tteKZbb5rYAYvIj/AMtUPPzcdO9Vv7Hu/wDnta/%2BB0X/AMVRp/8Ax6X3/XqP/RsdVaSvdgWv7Hu/%2Be1r/wCB0X/xVH9j3f8Az2tf/A6L/wCKqrRT1Atf2Pd/89rX/wADov8A4qrMWlXQ0iePzbbJuYiP9Mixwsnfdjv/AJxWZVqH/kC3H/X1D/6DLSdwD%2Bx7v/nta/8AgdF/8VR/Y93/AM9rX/wOi/8Aiqq0U9QLX9j3f/Pa1/8AA6L/AOKo/se7/wCe1r/4HRf/ABVVaKNQNOXSro6RBH5ttkXMpP8ApkWOVj77sdv85qt/Y93/AM9rX/wOi/8AiqJv%2BQLb/wDX1N/6DFVWkrgWv7Hu/wDnta/%2BB0X/AMVR/Y93/wA9rX/wOi/%2BKqrRT1Atf2Pd/wDPa1/8Dov/AIqrN9pV01tZqJbb5bYg5vIh/wAtXPHzc9e1ZlWtQ/49LH/r1P8A6NkpO90Af2Pd/wDPa1/8Dov/AIqj%2Bx7v/nta/wDgdF/8VVWinqBa/se7/wCe1r/4HRf/ABVdr4She38P28MhQkb8lHDD77dwSDXAV3ngz/kWrb/gf/obVjWvylR3NSiiiuYoKKKKACiiigAooooAKKKKACiiigAooooAKKKKACiiigAooooA4rxx%2Bzb%2Bzr8TfF1t8QPiT8A/BXiHXrKNUs9b1zwtaXd5AqklVSaWNnUAkkAEYJro7LwZ4P03UZdY07wpptvdzabBp011BYxpJJZwmRobZmAyYozNMUjPyqZXIA3HOlRQBzvw4%2BEPwn%2BDumXGi/CP4X%2BHfC1nd3Hn3Vp4c0SCximl2hfMdYUUM20AbiM4AHapPiH/AMgWL/r6X/0Fq3qwfiH/AMgWL/r6X/0Fqun8aE9j82fi18IV8Q/tJftR/spG2yvxX%2BF9h4x8L2rL8pv7RWt2K%2Bpa6SJyOvy%2B1fTv7DHxg/4Xz%2ByF8PfilNdefdah4agi1KXOd15ADb3B/wC/0UleXft5j/hTn7RnwI/a3t/3VtpfjB/CXiiUfdOn6rGY0kkP9yKVS/8AvOOtP/4Jv/8AFsPGXxs/ZMuP3Y8C/EmbUNEtzx5Wk6on2q2QD0GJDkd2r5zA/wCw5/Ki9pOcflK1eH51o/I%2Bk4T/ANu8O85yh/HgMVSxcP8Arzik6NW3kp%2Byb6X%2BR9S0UUV9gfMFqb/kC2//AF9Tf%2BgxVVq1N/yBbf8A6%2Bpv/QYqq0kAUUUUwCrWof8AHpY/9ep/9GyVVq1qH/HpY/8AXqf/AEbJSe6Aq0UUUwCiiigC1rH/AB9p/wBesH/opKq1a1j/AI%2B0/wCvWD/0UlVaS2AKKKKYBVrXP%2BQ1ef8AX1J/6Eaq1a1z/kNXn/X1J/6EaXUCrRRRTAKtaH/yGrP/AK%2Bo/wD0IVVq1of/ACGrP/r6j/8AQhSezAq0UUUwCiiigC1o/wDx9v8A9es//op6q1a0f/j7f/r1n/8ART1VpdQCiiimAVa0/wD49L7/AK9R/wCjY6q1a0//AI9L7/r1H/o2Ok9gKtFFFMArqPht/wAvv/bP/wBmrl66j4bf8vv/AGz/APZqzq/w2NbnUUUUVxlhRRRQAUUUUAFcH4z/AORluf8AgH/oC13lcH4z/wCRluf%2BAf8AoC1tQ%2BMmWxl18H/8Favjxpun/Ezwh8NZ/LuNL%2BH2mzfEXxTaPylxPA32XR7VwPvLLfSqrof4XDYOK%2B7pporeJp55VREUs7ucBQOSSewr8rPg9BP%2B3p%2B3Pb%2BIL2FrjR/GHjKTxjqiupITwtobtZaTAw7C4uvN82PjOyN%2BeK%2Bf4rxNVYWng6Px1pJL0TT%2B7m5b%2BSZ6XDmT4PiLirB5fjVfCxcsTif%2BwXCJV6sb9PayjRoR7yrWPuT9gT9nG7%2BAvwTi1/x3JNe/EHxw6698QtYvcG4uNQmXeYWOOEh3mNVHyghiANxr3GiivosJhaWCw0KFNaRVvXu33bd231bbLz7O8dxHnNfM8Y71KsnJ22S2jGK2UIRUYQiklGEIpJWLWuf8hq8/6%2BpP/QjVWrWuf8hq8/6%2BpP8A0I1VrdbI8gKKKKYFrQ/%2BQ1Z/9fUf/oQqrVrQ/wDkNWf/AF9R/wDoQqrS6gFFFFMAq1o//H2//XrP/wCinqrVrR/%2BPt/%2BvWf/ANFPSewFWiiimAUUUUAWtP8A%2BPS%2B/wCvUf8Ao2OqtWtP/wCPS%2B/69R/6NjqrSW7AKKKKYBVqH/kC3H/X1D/6DLVWrUP/ACBbj/r6h/8AQZaTAq0UUUwCiiigC1N/yBbf/r6m/wDQYqq1am/5Atv/ANfU3/oMVVaSAKKKKYBVrUP%2BPSx/69T/AOjZKq1a1D/j0sf%2BvU/%2BjZKT3QFWiiimAV3ngz/kWrb/AIH/AOhtXB13ngz/AJFq2/4H/wChtWNf4Bx3NSiiiuUsKKKKACiiigAooooAKKKKACiiigAooooAKKKKACiiigAooooA858XfHTxB4W/aU8IfAg/DGaXS/FWkX90PFkmrRokVxbKH%2BzR24VpJDt5d2MarvjC%2BaS4j4e4/bgtdP8A2gPH/wAJdasPBGn6X8PJ2/tOS9%2BIRTX763TQ7TVpbq10kWR82JBdCIt9oH%2BqkbjAU9J8Xvgd8afHXx38HfF3wP8AF/wvo1h4QgvEi0fVfAtzfzXLXSLHMTcR6lbqo2IuweUdpySXBwMb4t/sgeJvjr4pW1%2BJ/wAUtKuvBj6xFq11oNh4NW21B7pdMexaNdQW4OLdt7yFXhebDtF55jwgANv9nb9ozxZ8XfEF/wCC/iP8LbfwprVv4V0fxLaWdn4gOoxy6bqRukhDyG3g8u4jks5lliUOi5jKyyBuO6%2BIf/IFi/6%2Bl/8AQWrhP2df2cfFXwg8QX/jT4i/FOHxZrVx4W0fw1aXlroH9nJFpumm6eHfGZ5vMuZJLyd5ZVKI37sLFGE57/x3dXVnpEctpcyRMbkAtG5U42txxV0/jQnsfNX7fHwXk%2BP/AOx94%2B%2BGllbmS/n0GS70dU%2B99ttiLm3CkcgmSJVyOzGvm34LfGlf%2BGl/gV%2B14Lkf2T8ffh0vhTxbIp/dxeIbIbonY/33kSS3UeingV99/wBua1/0F7r/AMCG/wAa/NTUPhp4ns/2e/2gv2SfCl3Pb%2BIPgR8SY/iD8MURjm0tZM6hbCFe7CMXS5X%2BKYfQ/O8QU6lDGU8VTWtrrzlSftEv%2B3oOtD5o93gDF4bA%2BIuHwuLko4bM6VXA1W9k6qvRm/8Ar3V9nO/RRkfpDRXO/An45/8AC9fgz4X%2BMXh7WLgWniTQ7e/SNbpj5LSRgvEeeqPuQ%2B6mus/tzWv%2Bgxdf%2BBDf419XSqRrU41IO6kk0/JpNfgzyMZhMTl%2BMqYXERcalOUoST3UoycZJ%2Bji18gm/wCQLb/9fU3/AKDFVWtOXWNXGkQSjVbncbmUFvPbJAWPA6%2B5/Oq39ua1/wBBi6/8CG/xqlc5irRVr%2B3Na/6DF1/4EN/jR/bmtf8AQYuv/Ahv8aeoFWrWof8AHpY/9ep/9GyUf25rX/QYuv8AwIb/ABqzfaxq6W1myarcgtbEsRO3J81xk8%2BgH5Une6AzKKtf25rX/QYuv/Ahv8aP7c1r/oMXX/gQ3%2BNPUCrRVr%2B3Na/6DF1/4EN/jR/bmtf9Bi6/8CG/xo1ANY/4%2B0/69YP/AEUlVa09V1jV47lVj1W5UG2hOBOw5MSknr61W/tzWv8AoMXX/gQ3%2BNJXsBVoq1/bmtf9Bi6/8CG/xo/tzWv%2Bgxdf%2BBDf409QKtWtc/5DV5/19Sf%2BhGj%2B3Na/6DF1/wCBDf41Z1jWNXi1e6ii1W5VVuXCqs7AAbjx1pa3AzKKtf25rX/QYuv/AAIb/Gj%2B3Na/6DF1/wCBDf409QKtWtD/AOQ1Z/8AX1H/AOhCj%2B3Na/6DF1/4EN/jVnR9Y1eXV7WKXVblla5QMrTsQRuHB5pO9mBmUVa/tzWv%2Bgxdf%2BBDf40f25rX/QYuv/Ahv8aeoFWirX9ua1/0GLr/AMCG/wAaP7c1r/oMXX/gQ3%2BNGoBo/wDx9v8A9es//op6q1p6VrGryXLLJqtywFtMcNOx5ETEHr61W/tzWv8AoMXX/gQ3%2BNLW4FWirX9ua1/0GLr/AMCG/wAaP7c1r/oMXX/gQ3%2BNPUCrVrT/APj0vv8Ar1H/AKNjo/tzWv8AoMXX/gQ3%2BNWbHWNXe2vGfVbklbYFSZ24PmoMjn0J/Ok72AzKKtf25rX/AEGLr/wIb/Gj%2B3Na/wCgxdf%2BBDf409QKtdR8Nv8Al9/7Z/8As1YP9ua1/wBBi6/8CG/xro/AF9e3v2v7ZeSy7fL2%2BbIWxnd0zWdW/Ixrc6OiiiuQsKKKKACivEP28hoB%2BGvhb/hYYtT4G/4WLo//AAsAakF%2Bxf2X5jY%2B17vk%2Bzfavsnm7/3ezdv%2BTdXj2k3nwt1b/gnt4gtpvBXhDxXDp3jrWbP4X6V4h0m21K009NR8RXVj4dmWCZWVLbyru1MGAA1qUCHaRQB9oVwfjP8A5GW5/wCAf%2BgLWz8IfhZ4P%2BB/wt8PfB7wBp/2XRfDOj2%2Bm6bDxkRRIEBYgDLHGWPcknvWd4tj0tvEFwbi8uEf5NypbKwHyL3Lj%2BVbUfiFLY8T/bZ%2BIX/Cq/2Q/iT49Sfy5rDwZqH2N84xcPA0cP8A5EdK%2Baf%2BCF/wTvNB%2BAGoftEeJrVRf%2BMGg03RztOI9K09DboVB5XzJxO7AcMQrd66n/guv4%2B03wT%2BwDqmgWWoz%2Bd4q8R6dpaK8ATcqyG7bkOT0tSD7H3r3/8AY8%2BGmkfCT9lX4d/Dmee5huNK8HafFfRizXi5MCNMf9Z3lZz%2BNfPThHGcYJvahSv/ANvVJO33RTt6nq5NiqmCyzNa1PR1lh8Lfryc1TGVUv8AF7PDqXdJI76irXk6L/0ELr/wDX/45R5Oi/8AQQuv/ANf/jlfVXPHDXP%2BQ1ef9fUn/oRqrWnrEWkHV7oy31yG%2B0vuC2qkA7j33jNVvJ0X/oIXX/gGv/xyknogKtFWvJ0X/oIXX/gGv/xyjydF/wCghdf%2BAa//AByncA0P/kNWf/X1H/6EKq1p6PFpA1e1MV9clvtKbQ1qoBO4dTvOKreTov8A0ELr/wAA1/8AjlK%2BoFWirXk6L/0ELr/wDX/45R5Oi/8AQQuv/ANf/jlO4FWrWj/8fb/9es//AKKejydF/wCghdf%2BAa//AByrOlRaQLlvLvrkn7NNw1qo48ps/wAfpSb0AzKKteTov/QQuv8AwDX/AOOUeTov/QQuv/ANf/jlO4FWirXk6L/0ELr/AMA1/wDjlHk6L/0ELr/wDX/45RcA0/8A49L7/r1H/o2OqtadjFpAtrzZfXJBthuJtVGB5qdPn55xVbydF/6CF1/4Br/8cpJ6sCrRVrydF/6CF1/4Br/8co8nRf8AoIXX/gGv/wAcp3Aq1ah/5Atx/wBfUP8A6DLR5Oi/9BC6/wDANf8A45VmKLSP7InAvrnb9piyfsq5B2yY43/Wk2BmUVa8nRf%2Bghdf%2BAa//HKPJ0X/AKCF1/4Br/8AHKdwKtFWvJ0X/oIXX/gGv/xyjydF/wCghdf%2BAa//AByi4BN/yBbf/r6m/wDQYqq1pyxaR/ZEAN9c7ftMuD9lXJO2PPG/6VW8nRf%2Bghdf%2BAa//HKSYFWirXk6L/0ELr/wDX/45R5Oi/8AQQuv/ANf/jlO4FWrWof8elj/ANep/wDRslHk6L/0ELr/AMA1/wDjlWb6LSDbWe%2B%2BuQBbHaRaqcjzX6/Pxzmk3qgMyirXk6L/ANBC6/8AANf/AI5R5Oi/9BC6/wDANf8A45TuBVrvPBn/ACLVt/wP/wBDauN8nRf%2Bghdf%2BAa//HK7XwkIF8P24t5HdPn2s6BSfnbsCf51jWfulR3NGiiiuYoKKKKACiiigAooooAKKKKACiiigAooooAKKKKACiiigAooooAKK5LVfjn8KdF%2BMWlfADUfF8S%2BMNa0ubUtP0WO3lkdrWIkNK7qhSEEq%2B0SMpk8uTYG2PjK8QftUfArwv8AEiX4T654ynh1mCcW9xt0O9e0hujZm9W0e8SE2yXLWo85bdpBKyMrBCHXIB6FWD8Q/wDkCxf9fS/%2BgtWX8F/jz8O/2gPDa%2BMPhmPEEmmS20Fxa3mt%2BDtT0lLqGZN8UkP2%2B3h89CvO6PcBkZxkZ1PiH/yBYv8Ar6X/ANBarp/GhPY42vlH9pmOP9nP9vb4Z/tLGNU8OfEa2b4e%2BON4/dCeQmbTpnB4yZA0ZY9ETHevq6vJ/wBuD4At%2B0x%2By54t%2BE9gu3VbnTjdeHp1ba0OpW5E1syt1TMiKpI/hdqxzfD1K%2BBbpK9SDU4/4o62/wC3lzR/7ePHznD1q%2BAcqC/eU2qkP8UHzJf9vLmj/wBvHmH/AATYmk%2BEGt/FL9h/VJWU/DPxlJdeGY5G5bQtRzdWu3P3trNJuI4BcDivqevz7Hx8MNl8Dv8AgqjagwQXtmngX44wqmzyY3l8r7TKvGwQXiF%2BfmKyRKOK/QNHSRQ6MGVhkEHIIri4exFOWEeHg9IWcfOnP3qb%2BSbg%2BzhY/U%2BOa9HiFYLi7DO9PMqUak32xNNQp4mL7OU1Cv5qu33Lc3/IFt/%2Bvqb/ANBiqrVqb/kC2/8A19Tf%2BgxVVr30fAhRRRTAKtah/wAelj/16n/0bJVWrWof8elj/wBep/8ARslJ7oCrRRRTAKKKKALWsf8AH2n/AF6wf%2BikqrVrWP8Aj7T/AK9YP/RSVVpLYAooopgFWtc/5DV5/wBfUn/oRqrVrXP%2BQ1ef9fUn/oRpdQKtFFFMAq1of/Ias/8Ar6j/APQhVWrWh/8AIas/%2BvqP/wBCFJ7MCrRRRTAKKKKALWj/APH2/wD16z/%2BinqrVrR/%2BPt/%2BvWf/wBFPVWl1AKKKKYBVrT/APj0vv8Ar1H/AKNjqrVrT/8Aj0vv%2BvUf%2BjY6T2Aq0UUUwCuo%2BG3/AC%2B/9s//AGauXrqPht/y%2B/8AbP8A9mrOr/DY1udRRRRXGWFFFFABRRRQAVwfjP8A5GW5/wCAf%2BgLXeVwfjP/AJGW5/4B/wCgLW1D4yZbH51f8FoIz8Wvjf8As8/ssQfvY/EvjQ3Gpw9liM1tbq5HoEkuSfZTX6AgADAGAOgFfA3jmL/hd3/Berw1op/fWnwv8AfabqHqElaGWRWPod9/bn/gK19814mRr2%2BY4/Fd6igvSnBR/wDSmzopS5cipL/n5VxFX5KVPDw/8loTt6sKKKK%2BlOUta5/yGrz/AK%2BpP/QjVWrWuf8AIavP%2BvqT/wBCNVaS2QBRRRTAtaH/AMhqz/6%2Bo/8A0IVVq1of/Ias/wDr6j/9CFVaXUAooopgFWtH/wCPt/8Ar1n/APRT1Vq1o/8Ax9v/ANes/wD6Kek9gKtFFFMAooooAtaf/wAel9/16j/0bHVWrWn/APHpff8AXqP/AEbHVWkt2AUUUUwCrUP/ACBbj/r6h/8AQZaq1ah/5Atx/wBfUP8A6DLSYFWiiimAUUUUAWpv%2BQLb/wDX1N/6DFVWrU3/ACBbf/r6m/8AQYqq0kAUUUUwCrWof8elj/16n/0bJVWrWof8elj/ANep/wDRslJ7oCrRRRTAK7zwZ/yLVt/wP/0Nq4Ou88Gf8i1bf8D/APQ2rGv8A47mpRRRXKWFFFFABRRRQAUUUUAFFFFABRRRQAUUUUAFFFFABRRRQAUUUUAeF/HdPiwv7VHw08XeD/2d/E/iPRPDdtqo1fW9J1LRooo2vIY4o1CXd/DM5QoWfEeMEbSxyBj/ABF0L4zfGD9oyGy8f/s6eJ38C%2BGUSbwi9trGjR2V7qs%2BnukuoX7i%2BN0q24uJLWOKO3cLIsk/77/RzH9GUUAfPv7Efww%2BKPwyv9W0jUvA3i/wj4HtvC2haf4e8KeNvG0Wu3NvqNuLpLya3mjurkRWrQmwjSPegLQSMIIcnzPaPHc0cGkRvLaxzA3IG2QsAPlbn5SDW1WD8Q/%2BQLF/19L/AOgtV0/jQnscv/aFp/0A7X/vuX/4uj%2B0LT/oB2v/AH3L/wDF1VorssiD4t8P/Dfwb4O/aZ%2BM/wDwT7%2BJOjQw%2BCvjrp1x4r8Bsd%2ByC8kj26jDD82PNjlVLhF/hWEHuK9T/wCCaXxn8QeK/gVcfBP4q6fbv45%2BE2qyeFPFHmyS75xb/LbXX3xuWWELh/42R270z/gox8EfFnxF%2BDln8XPhDEV%2BIXwt1NfE3g6WNCXnaHDXFmQOWSaJSpT%2BNlQHjNeM%2BLvjLoHgDxd4D/4Ky/CRJD4B%2BIemWei/GbTYDv8AsiFhDb37gdZLWYG3kI5IUKo%2BdjXxcv8AhGzJt/BC7/7gzld/%2BCaru%2B1ObeyPq/Di2bYTH8B1H79V/WsDf/n9HmU6K7OtBzpJdaiw/wDMmffct9ajSIH/ALHtiDcygLulwPlj5%2B/n/wDVVb%2B0LT/oB2v/AH3L/wDF1HDeWmoeGrK/sLqOeCeaSSGaJwySIyREMpHBBBBBFQ19mkmj5VpxdnuWv7QtP%2BgHa/8Afcv/AMXR/aFp/wBAO1/77l/%2BLqrRTshFr%2B0LT/oB2v8A33L/APF1Zvr61W2sydHtjm2JALS/L%2B9fgfP%2BPPrWZVrUP%2BPSx/69T/6NkpNK6AP7QtP%2BgHa/99y//F0f2haf9AO1/wC%2B5f8A4uqtFOyAtf2haf8AQDtf%2B%2B5f/i6P7QtP%2BgHa/wDfcv8A8XVWiiyA09VvrVblQ2j2zf6NCcs0v/PJeOH7dKrf2haf9AO1/wC%2B5f8A4ujWP%2BPtP%2BvWD/0UlVaSSsBa/tC0/wCgHa/99y//ABdH9oWn/QDtf%2B%2B5f/i6q0U7IC1/aFp/0A7X/vuX/wCLqzrF9apq90jaPbMRcuCzNLk/MeTh8VmVa1z/AJDV5/19Sf8AoRpWVwD%2B0LT/AKAdr/33L/8AF0f2haf9AO1/77l/%2BLqrRTsgLX9oWn/QDtf%2B%2B5f/AIurOj31q%2Br2qLo9spNygDK0uR8w55fFZlWtD/5DVn/19R/%2BhCk0rMA/tC0/6Adr/wB9y/8AxdH9oWn/AEA7X/vuX/4uqtFOyAtf2haf9AO1/wC%2B5f8A4uj%2B0LT/AKAdr/33L/8AF1VoosgNPSr61a5YLo9sv%2BjTHIaX/nk3HL9%2BlVv7QtP%2BgHa/99y//F0aP/x9v/16z/8Aop6q0rK4Fr%2B0LT/oB2v/AH3L/wDF0f2haf8AQDtf%2B%2B5f/i6q0U7IC1/aFp/0A7X/AL7l/wDi6s2N9atbXhGj2wxbAkBpfm/epwfn/Hj0rMq1p/8Ax6X3/XqP/RsdJpWAP7QtP%2BgHa/8Afcv/AMXR/aFp/wBAO1/77l/%2BLqrRTsgLX9oWn/QDtf8AvuX/AOLro/AFxFP9r8qxihx5efKLnP3uu5jXJV1Hw2/5ff8Atn/7NWdVLkY1udRRRRXIWFFFFABRWb4v8Z%2BD/h74buvGXj7xXpuh6RYoHvtV1i%2Bjtra3UsFBeWQhUBYgZJHJA71m6r8ZPhDoXw7j%2BL%2Bt/FXw3Z%2BEpoYpovFF3rlvHpzxysFjcXLOIirllCndhiwAzmgDpK4Pxn/yMtz/AMA/9AWu00jV9K1/SrXXdC1O3vbG9t0uLK9tJlkiuInUMkiOpIdWUghgSCCCK8/%2BKmsQeHptX1%2B6x5VjZtcSZP8ACkIY/oK1otRbb7EzajG7Pgf/AIJoxf8AC2v%2BCg/7TX7R0o8yK319fDul3J5EsKTyKcH02Wdsf%2BBCvvCvjD/ghT4LvNH/AGK5/iNqxMl5428Zajqkty4%2BaRUZLX8vMglP1Y19n15XC0JLI6VSW9TmqP1nKUvyaFCopZfhIr7NGl98ourP/wAnryT80FFFFfQCLWuf8hq8/wCvqT/0I1Vq1rn/ACGrz/r6k/8AQjVWktkAUUUUwLWh/wDIas/%2BvqP/ANCFVataH/yGrP8A6%2Bo//QhVWl1AKKKKYBVrR/8Aj7f/AK9Z/wD0U9VataP/AMfb/wDXrP8A%2BinpPYCrRRRTAKKKKALWn/8AHpff9eo/9Gx1Vq1p/wDx6X3/AF6j/wBGx1VpLdgFFFFMAq1D/wAgW4/6%2Bof/AEGWqtWof%2BQLcf8AX1D/AOgy0mBVooopgFFFFAFqb/kC2/8A19Tf%2BgxVVq1N/wAgW3/6%2Bpv/AEGKqtJAFFFFMAq1qH/HpY/9ep/9GyVVq1qH/HpY/wDXqf8A0bJSe6Aq0UUUwCu88Gf8i1bf8D/9DauDrvPBn/ItW3/A/wD0Nqxr/AOO5qUUUVylhRRRQAUUUUAFFFFABRRRQAUUUUAFFFFABRRRQAUUUUAFFFFABRXifxUXxRpX7bnwovrP4i6%2Bml6touvWl34Yi1Dy9NdoYI5RO8KAebKS6gNIXCCMeWELSF/EPj78Wfi34O8bePPi14J8b%2BIJvFvh74wR%2BGPDng9NauG0%2BfTT4UhvfIOnh/IlctLNfeeYzMPLCh/LTZQB9t1g/EP/AJAsX/X0v/oLV4X%2BxXq%2BpWHxM1PwPpnxP1/xXoVz8IfBviZr/wAQeIrjVHGpX76qk80cs7uY0njtbeTyIysSbdyIgkOfePHcMc%2BkRpLdRwgXIO6QMQflbj5QTV0/jQnscTRVr%2Bz7T/oOWv8A3xL/APEUf2faf9By1/74l/8AiK7Logq18XeEfCXhb9mD9pTxb%2BxH8VtFjl%2BEXx3ku9R8Bedxb2mozJtv9IJ/5Z78h4gMAfIFy7nH23/Z9p/0HLX/AL4l/wDiK8w/a8/ZY8KftW/BLUPhhqfiq307U45Ev/DGuwrMJdJ1OHLW9yjBMjDcNjBKMwBBOR5Wa4WeIpRq0VepTu0ntJNWlB%2BU46eT5X0Z52PpY2E6WOwMnHEUJc9Np2bateN1quZJWf2ZxhLoeRfsG/EvxD8FvEGqf8E4vjZq8suv%2BBnlu/h9rF78v/CQ%2BG32%2BQyHo0sAUxuo6BQBny3NfUVfFmlab4m/4KAfs6QWl9rtr4M/ad%2BA3iCaI3TAo8WoxqgVjtUhrK9SPnjZuzgMqkN79%2Bxf%2B05ov7VXwtfWNXjh8PeMvD922l%2BO/CV2sgn0jUoyVdSu0ny3KlkbJyMgncrAcGSY6nCMcK23Fpuk3u4reEv79L4Wt3FJ9GfqXEEsFxzki41ytWc3FYymlZ0q8tPaqK%2BGliJRk2rJUsT7Wk7KdK/qtFWv7PtP%2Bg5a/wDfEv8A8RR/Z9p/0HLX/viX/wCIr6S6Pz4q1a1D/j0sf%2BvU/wDo2Sj%2Bz7T/AKDlr/3xL/8AEVZvrG1a2swdYthi2IBKy/N%2B9fkfJ%2BHPpSbV0BmUVa/s%2B0/6Dlr/AN8S/wDxFH9n2n/Qctf%2B%2BJf/AIindAVaKtf2faf9By1/74l/%2BIo/s%2B0/6Dlr/wB8S/8AxFF0Aax/x9p/16wf%2BikqrWnqtjatcqW1i2X/AEaEYZZf%2BeS88J361W/s%2B0/6Dlr/AN8S/wDxFJNWAq0Va/s%2B0/6Dlr/3xL/8RR/Z9p/0HLX/AL4l/wDiKd0BVq1rn/IavP8Ar6k/9CNH9n2n/Qctf%2B%2BJf/iKs6xY2r6vdO2sWyk3Lkqyy5HzHg4TFK6uBmUVa/s%2B0/6Dlr/3xL/8RR/Z9p/0HLX/AL4l/wDiKd0BVq1of/Ias/8Ar6j/APQhR/Z9p/0HLX/viX/4irOj2Nqmr2rrrFsxFyhCqsuT8w45TFJtWYGZRVr%2Bz7T/AKDlr/3xL/8AEUf2faf9By1/74l/%2BIp3QFWirX9n2n/Qctf%2B%2BJf/AIij%2Bz7T/oOWv/fEv/xFF0AaP/x9v/16z/8Aop6q1p6VY2q3LFdYtm/0aYYCy/8APJueU7darf2faf8AQctf%2B%2BJf/iKV1cCrRVr%2Bz7T/AKDlr/3xL/8AEUf2faf9By1/74l/%2BIp3QFWrWn/8el9/16j/ANGx0f2faf8AQctf%2B%2BJf/iKs2NjarbXgGsWxzbAEhZfl/epyfk/Dj1pNqwGZRVr%2Bz7T/AKDlr/3xL/8AEUf2faf9By1/74l/%2BIp3QFWuo%2BG3/L7/ANs//Zqwf7PtP%2Bg5a/8AfEv/AMRXR%2BALeKD7X5V9FNny8%2BUHGPvddyis6rXIxrc6OiiiuQsKKKKAPIv2w9J1qfwz4M8WWHhzUtY0/wAL/EjSNY1/TdI02W9uZLOJ3TzUt4VaScwyyQ3GyNWfFuSqlgBXgd14G%2BIl18I/AWvxWXjvwvYaB%2B0F4m8Waomj%2BA57zVdN0fUz4jbT5orKa0n86TfqFk7xCCZrYzHfGjQEp9s0UAeffspt45b9m/wWPiT4Vg0TW18P2632l22mJZLAQuFBtk%2BW2YoFZoV4jZmQAbcVwn7efiGx8Lfsz/FnxB5Uy3Fl8PNXlilW4AXzBp8hTjbnrjv%2BVe%2BV8gf8FiPEz%2BEv2HPizqsbYMuhQWWfa5mt7c/pLXNjqvscur1O1Ob/APJZHn5tWeHyuvVX2YTf3QkU/wDglL4d03wh/wAE8/hdpN3Y3Bkl0GS9JS5VQftNzNcA4KHtKO9fQvnaL/0D7r/wMX/43Xl/7Hugv4X/AGS/hh4dli2SWXw90aGVcY%2BdbGEN/wCPZr0aurK6KoZZQp9oQX/ksT0KtJ4eo6L%2Bx7v/AIAlD/2z8S152i/9A%2B6/8DF/%2BN0edov/AED7r/wMX/43VWiu6xmaesS6QNXuhLY3Jb7S%2B4rdKATuPbYcVW87Rf8AoH3X/gYv/wAbo1z/AJDV5/19Sf8AoRqrSS0QFrztF/6B91/4GL/8bo87Rf8AoH3X/gYv/wAbqrRTsBp6PLpB1e1EVjchvtKbS10pAO4dRsGaredov/QPuv8AwMX/AON0aH/yGrP/AK%2Bo/wD0IVVpW1Atedov/QPuv/Axf/jdHnaL/wBA%2B6/8DF/%2BN1Vop2Atedov/QPuv/Axf/jdWdKl0g3LeXY3IP2ablrpTx5TZ/g9KzKtaP8A8fb/APXrP/6Kek1oAedov/QPuv8AwMX/AON0edov/QPuv/Axf/jdVaKdgLXnaL/0D7r/AMDF/wDjdHnaL/0D7r/wMX/43VWiiwGnYy6Qba82WNyALYbgbpTkeanT5OOcVW87Rf8AoH3X/gYv/wAbo0//AI9L7/r1H/o2OqtJLVgWvO0X/oH3X/gYv/xujztF/wCgfdf%2BBi//ABuqtFOwFrztF/6B91/4GL/8bqzFLpH9kTkWNzt%2B0xZH2pck7ZMc7PrWZVqH/kC3H/X1D/6DLSaAPO0X/oH3X/gYv/xujztF/wCgfdf%2BBi//ABuqtFOwFrztF/6B91/4GL/8bo87Rf8AoH3X/gYv/wAbqrRRYDTll0j%2ByICbG52/aZcD7UuQdseedn0qt52i/wDQPuv/AAMX/wCN0Tf8gW3/AOvqb/0GKqtJIC152i/9A%2B6/8DF/%2BN0edov/AED7r/wMX/43VWinYC152i/9A%2B6/8DF/%2BN1ZvpdIFtZ77G5INsdoF0owPNfr8nPOazKtah/x6WP/AF6n/wBGyUmtUAedov8A0D7r/wADF/8AjdHnaL/0D7r/AMDF/wDjdVaKdgLXnaL/ANA%2B6/8AAxf/AI3Xa%2BEjA3h%2B3NvG6J8%2B1XcMR87dwB/KuArvPBn/ACLVt/wP/wBDasay90qO5qUUUVzFBRRRQAUUUUAFFFFABRRRQAUUUUAFFFFABRRRQAUUUUAFFFFAHFeOP2bf2dfib4utviB8SfgH4K8Q69ZRqlnreueFrS7vIFUkqqTSxs6gEkgAjBNaUHwe%2BElr42tviXa/C3w5H4jstPFhZ%2BII9EtxfQWoBUW6ThPMWIAkbAwXBPFdHRQBgeAPhV8L/hRZXenfC34b6B4at7%2B7a6voNA0eCzS4nIAMsiwqodyAAWOTgDml%2BIf/ACBYv%2Bvpf/QWrerB%2BIf/ACBYv%2Bvpf/QWq6fxoT2ONooortICiiigD5w/bQ/Zw%2BIPh/xHpn7c/wCyZpyj4l%2BG0kg8QaEhKxeMtHRYy9jKB1mUZMT4LZCryVj2%2Be6/pZ/aD0fSv%2BCmX/BO68SHx3BafZ/F3g%2B5YRp4khiA87S72MHCXkeAI5O%2BEwSpjYfbc3/IFt/%2Bvqb/ANBir5I%2BPn7P3xb/AGYPilqX7Zf7FmjPqP8AaUnn/E/4VxsVg8RRjlry0AB8q9UZb5R%2B8OTgsWSX5fNMuVJyrwi3Tk%2Baaj8UJLatT/vL7cV8S1s3zKSyXPs14CzuWb5dFVKNROOIotc0KkJWU%2BaH24yS/eRVpe7GrTca1OLfs37Lv7T/AMOP2rvhlF8Q/AMs1vPBKbXXtBv12XmjXqcSWtxGeVZTnBxhhyPb0evjS68BaD%2B0pawf8FCf%2BCaXjy10Tx/Knl%2BI9CvR5dn4hKYMmnapbg4iuV6CXjqrbsFJV9j/AGU/21vAX7Sa3fgnWNLuPCPxF0EmLxV8PtcbZe2Mi4DPHkDz4DkFZFHRl3BcjPZl%2Bac7hRxMlzSXuTXwVV3i%2BkrfFB6rVxvH4fvc24dyvNsqlxHwrJ1cE7SqU781XC82yqW/iUW3aliYrlekKypVk1P2irWof8elj/16n/0bJVWrWof8elj/ANep/wDRsle290fBlWiiimAUUUUAWtY/4%2B0/69YP/RSVVq1rH/H2n/XrB/6KSqtJbAFFFFMAq1rn/IavP%2BvqT/0I1Vq1rn/IavP%2BvqT/ANCNLqBVooopgFWtD/5DVn/19R/%2BhCqtWtD/AOQ1Z/8AX1H/AOhCk9mBVooopgFFFFAFrR/%2BPt/%2BvWf/ANFPVWrWj/8AH2//AF6z/wDop6q0uoBRRRTAKtaf/wAel9/16j/0bHVWrWn/APHpff8AXqP/AEbHSewFWiiimAV1Hw2/5ff%2B2f8A7NXL11Hw2/5ff%2B2f/s1Z1f4bGtzqKKKK4ywooooAKKKKACvgn/gvn4gbSv2IvE2gxt%2B81/X9HsIkH8bCeO4x/wCQP0r72r8/v%2BC31tD4qs/hB8K3%2BZvEvx20G3aPP34/KljYfnMleTnzksjxKjvKHL/4E4x/9uPPzSFOrgnSqK8ZuEX6TqU4v8JS%2BVz6m0DSLfw/oNloNoB5VjaR28WBj5UUKP0FW6KK%2BlSSVkd05yqTc5O7bbfq3d/i2FFFFMkta5/yGrz/AK%2BpP/QjVWrWuf8AIavP%2BvqT/wBCNVaS2QBRRRTAtaH/AMhqz/6%2Bo/8A0IVVq1of/Ias/wDr6j/9CFVaXUAooopgFWtH/wCPt/8Ar1n/APRT1Vq1o/8Ax9v/ANes/wD6Kek9gKtFFFMAooooAtaf/wAel9/16j/0bHVWrWn/APHpff8AXqP/AEbHVWkt2AUUUUwCrUP/ACBbj/r6h/8AQZaq1ah/5Atx/wBfUP8A6DLSYFWiiimAUUUUAWpv%2BQLb/wDX1N/6DFVWrU3/ACBbf/r6m/8AQYqq0kAUUUUwCrWof8elj/16n/0bJVWrWof8elj/ANep/wDRslJ7oCrRRRTAK7zwZ/yLVt/wP/0Nq4Ou88Gf8i1bf8D/APQ2rGv8A47mpRRRXKWFFFFABRRRQAUUUUAFFFFABRRRQAUUUUAFFFFABRRRQAUUUUAeKfEn9rjU/AnxWvvCdj8M4b/wz4e1rw7o/i3xG%2BvGG4sr3WbqO3tlgtPIYXCRm4tXmdpotqT5QSFGWpPjT%2B0Z8YvhF8TdP8KW/wAGvDOr6NqdpqN9Bew%2BOriLUYrGxsjPcXctodNMaxrO1vbcXDHfdwnjLBa3xY/ZC174g/EnVPFPh/4qWulaF4i1Xw/q/iXQbnw611Jdaho1wlxZyRXC3MfkxO8Fok8ZjkMkdvtR4S7NXY3HwV1PUvizqXxY1XxuDc3fgCHw5Y29vpSAafKZ55rq7j815Fbzi1qPKdWC/Y13NIGwoBj/ALIX7R9/%2B0/8NY/iPc2/gaGOeC2dLbwV8QDr5tXlhWVoLpjZ232edA6gx4c8k5HGe5%2BIf/IFi/6%2Bl/8AQWrivgL%2Bz/4v%2BGfjfxB8T/iR8RNK8Qa9r2gaNojtoHhX%2Bx7OKy003jQHyDc3BMzPfT73Dqu1YkWNAnzdz47urqz0iOW0uZImNyAWjcqcbW44q6fxoT2OJoq1/bmtf9Bi6/8AAhv8aP7c1r/oMXX/AIEN/jXZqQVaKtf25rX/AEGLr/wIb/Gj%2B3Na/wCgxdf%2BBDf40agE3/IFt/8Ar6m/9BiqrWnLrGrjSIJRqtzuNzKC3ntkgLHgdfc/nVb%2B3Na/6DF1/wCBDf40lcD5b%2BPX7F3jzwh8R7z9qr9hXxHbeF/H1wfN8SeGLskaL4wUEkpcxggRTnJxMuPmYklSxkHFLqX7M/8AwUjvY/CvjrT9V%2BEf7QPg7PlRLN9k17Rp0BO%2B3lG37da8lsDPytnEe4Mftn%2B3Na/6DF1/4EN/jXk37UP7I3wh/az060l%2BJFneW3iDSSH8O%2BMtGu2ttW0eUHcrwXC/MAG%2BbY2VzzjIBHgY3J3aTw0YuMtZU5aQk9%2BaL3pzvrzLRvVpP3jmyzE59wjmyzXhys6NVNtwvaMr/FbSSi5K6nGUJ0qibVSm7tnjOiftjfHn9j6%2Bt/h//wAFC/BzXWhectvpfxq8LWTS6bdAnCf2hboN1nKeMkDaSflXAL19X6J4t8LeOvCejeLvBXiKx1bSr/TzLZajpt0k0E6GWT5kdCQw%2Bhr5N1H46/tq/sc6PceDf2v/AAjd/Gb4XmFreX4heGrXzdRtrQjaRqmnsSJU253yJkbQSxdmxWf8Pv2ePAet6OPj/wD8Egv2t4/CLX4Nzq3g%2BG8e88OXk5dv3dzYt%2B8sJCoAyFDKv3EXOa4sJmOMw9T2Mb1Lb052jWivJu0a0V0afN/ebP0HCZ74f8e1HSxNspzLeScZfVaj6t04808Pd7zo%2B3w2t/Z0VovsiivmDTP%2BCmPxI%2BCF7D4U/wCCgPwX8Q/DydpBCnjfRGl1Pw3eOTgMJotz25Y4xG4YgcsRX0h4E%2BL/AId%2BKPhyDxh8N/iVa69pVyMwahpGrC4hf23IxGfUdR3r38JmWExrcaUveW8XeMl6xdmvWzXZs87PuDeIuG6ca2MofuZ/BWg41aE/8Fam5U2/7rlGa6009C/RVr%2B3Na/6DF1/4EN/jR/bmtf9Bi6/8CG/xru1PmA1j/j7T/r1g/8ARSVVrT1XWNXjuVWPVblQbaE4E7DkxKSevrVb%2B3Na/wCgxdf%2BBDf40lewFWirX9ua1/0GLr/wIb/Gj%2B3Na/6DF1/4EN/jT1Aq1a1z/kNXn/X1J/6EaP7c1r/oMXX/AIEN/jVnWNY1eLV7qKLVblVW5cKqzsABuPHWlrcDMoq1/bmtf9Bi6/8AAhv8aP7c1r/oMXX/AIEN/jT1Aq1a0P8A5DVn/wBfUf8A6EKP7c1r/oMXX/gQ3%2BNWdH1jV5dXtYpdVuWVrlAytOxBG4cHmk72YGZRVr%2B3Na/6DF1/4EN/jR/bmtf9Bi6/8CG/xp6gVaKtf25rX/QYuv8AwIb/ABo/tzWv%2Bgxdf%2BBDf40agGj/APH2/wD16z/%2BinqrWnpWsavJcssmq3LAW0xw07HkRMQevrVb%2B3Na/wCgxdf%2BBDf40tbgVaKtf25rX/QYuv8AwIb/ABo/tzWv%2Bgxdf%2BBDf409QKtWtP8A%2BPS%2B/wCvUf8Ao2Oj%2B3Na/wCgxdf%2BBDf41ZsdY1d7a8Z9VuSVtgVJnbg%2BagyOfQn86TvYDMoq1/bmtf8AQYuv/Ahv8aP7c1r/AKDF1/4EN/jT1Aq11Hw2/wCX3/tn/wCzVg/25rX/AEGLr/wIb/Guj8AX17e/a/tl5LLt8vb5shbGd3TNZ1b8jGtzo6KKK5CwooooA5T4x/F3Rfgz4Wt/EWqaFqer3Ooata6Xo%2BiaKkTXeo3lxIEjhi86SOIH7zs0kiIqI7MwCmuK1H9sjwpH4D8H%2BMfDnws8Xa5feM/GV74VsPC%2Bnpp8V/aarZxajJeQXBubyK3TyTpd4jMszqzIuwurBq3P2kPhd4w%2BJHh7w9qnw7k0w6/4R8X2Ov6Ta6zdSQWl40O%2BOWCWWOOV4g8E0yrII5NrlGKMAQfLh%2Byp8SZfgzZ%2BDPG/we%2BFPjy%2BT4jar4tv9F8W6ndNpzzanNqU80cMhsZPKa3N%2BIUkeCUTxJIWSBpAYwD6J8P6le6zodnq2o%2BH7zSbi5tklm0vUHhae0ZgCYpDBJJEXU8Eo7rkcMRzXwP/AMFTLafxR%2B35%2Byx4EgbcG8e3mryxjt9iSxmU/kH/ACNfZv7Nnwz8SfBr4D%2BFfhd4u8RLqupaJpEdtdXkckjx7hkiKNpSXaOMERoX%2BYoik85r43/ax1S78Qf8FwPgd4XEMbxeG/AesasVaBWA%2B0W13Blsjn5okxnpgV5Gd%2B9g40/56lKP/lSL/wDbTjxnM5UYrrVp/cpObXzUGfV9FWv7Yu/%2BeNr/AOAMX/xNH9sXf/PG1/8AAGL/AOJr6bU6CrRVr%2B2Lv/nja/8AgDF/8TR/bF3/AM8bX/wBi/8AiaNQDXP%2BQ1ef9fUn/oRqrWnrGq3Uer3UaxWxC3LgbrOIn7x6krk1W/ti7/542v8A4Axf/E0leyAq0Va/ti7/AOeNr/4Axf8AxNH9sXf/ADxtf/AGL/4mnqAaH/yGrP8A6%2Bo//QhVWtPR9VupNXtY2itgGuUB22cQP3h3C5FVv7Yu/wDnja/%2BAMX/AMTS1uBVoq1/bF3/AM8bX/wBi/8AiaP7Yu/%2BeNr/AOAMX/xNPUCrVrR/%2BPt/%2BvWf/wBFPR/bF3/zxtf/AABi/wDias6Vqt1JcsrRW3/HtMeLOIdImPZaTvYDMoq1/bF3/wA8bX/wBi/%2BJo/ti7/542v/AIAxf/E09QKtFWv7Yu/%2BeNr/AOAMX/xNH9sXf/PG1/8AAGL/AOJo1ANP/wCPS%2B/69R/6NjqrWnY6rdNbXjGK2%2BW2BGLOIf8ALVBz8vPXvVb%2B2Lv/AJ42v/gDF/8AE0le7Aq0Va/ti7/542v/AIAxf/E0f2xd/wDPG1/8AYv/AImnqBVq1D/yBbj/AK%2Bof/QZaP7Yu/8Anja/%2BAMX/wATVmLVbo6RPJ5VtkXMQH%2BhxY5WTttx2/zmk7gZlFWv7Yu/%2BeNr/wCAMX/xNH9sXf8Azxtf/AGL/wCJp6gVaKtf2xd/88bX/wAAYv8A4mj%2B2Lv/AJ42v/gDF/8AE0agE3/IFt/%2Bvqb/ANBiqrWnLqt0NIgk8q2ybmUH/Q4scLH2247/AOcVW/ti7/542v8A4Axf/E0lcCrRVr%2B2Lv8A542v/gDF/wDE0f2xd/8APG1/8AYv/iaeoFWrWof8elj/ANep/wDRslH9sXf/ADxtf/AGL/4mrN9qt0ttZsIrb5rYk5s4j/y1ccfLx07Une6AzKKtf2xd/wDPG1/8AYv/AImj%2B2Lv/nja/wDgDF/8TT1Aq13ngz/kWrb/AIH/AOhtXG/2xd/88bX/AMAYv/ia7XwlM9x4ft5pAgJ35CIFH327AACsa1%2BUqO5o0UUVzFBRRRQAUUUUAFFFFABRRRQAUUUUAFFFFABRRRQAUUUUAFFFFABRXDeK/wBpL4NeCfiXafCLxL4rmg1y8azURx6Pdy21u93K8VpHcXUcTW9q88kbpEk0iNKwCoGJALLb9pT4TXvxS1f4O2d7rk2seH7tbXXZ4vB2qNpunzNZRXwSbURbfY4j9mnhkw0wx5ir94haAO8rB%2BIf/IFi/wCvpf8A0Fqx/g3%2B0R8Ivj7b3dx8LvEdzefYoLa4mivtFvLCRra5VmtrqOO7iiaW3mEchjnQNFJ5b7Wba2Nj4h/8gWL/AK%2Bl/wDQWq6fxoT2ONooortICiiigC1N/wAgW3/6%2Bpv/AEGKqtWpv%2BQLb/8AX1N/6DFVWkgCiiimAV4H8cv%2BCbHwJ8eeI7f4tfCS91X4WePXgeQeLvAFz9jeeQyvn7TAuIrhWwNwIDP0LV75VrUP%2BPSx/wCvU/8Ao2SuXF4LC42ChXgpLpfdPumrNPzTTOTGYHB4%2BnyYiCklqr7p901ZxfmmmfIF/wDEr/goh%2Bzjp8uhftA/A3Svjt4O8sxXPiPwHAkGrtBjBNxpknyTsRn5IcLjqxrzbwR4L/4Jo/tA%2BMJfEH7Jnx51f4F/Eh5Nlxpei376HcGcH/UTabcYhnAJ5jh4Pc19/V5/8bv2Vf2c/wBo%2BwNh8bfg7ofiA%2BXsjvLuzC3US%2Bkdwm2WP/gLCvFxWSV5pKM1VitlVTbX%2BGrHlqR%2BfN6s7shzvjjgypKeQ5jKMJaSp1HzQmv5ZaSjNeVWlVXmjxZfEP8AwVQ/Z2GzxH4Q8HfHfQYOt9ok40HXSg6u8L5t3OOQkeWJyM1p%2BFP%2BCq37McmsxeD/AI3Wvij4Ua/Jx/ZPxH8OzWIJHBKzgNFs9GZlyMGswf8ABPT4v/BofaP2Nf22PGnhS3i5g8KeMNmv6Qqj/llGk%2BHgU/3gWas/xT8S/wDgoH4Q0WTwv%2B09%2Bwz4M%2BL3h4jF3f8Aw/1RH3oP4m06/UtKxHULgZzjiuL2ua5fu6kV2nH28P8AwOHLVS/xRkfS/wDEQ%2BGsw04n4fdKfWtgZez%2BbpRVag%2B/8Gj8un1do3jrwT8Q7GHxH4A8Y6VrmnyW0Ajv9H1CO5hb90nR42Kn86t1%2BbesXf8AwSH1vxkk0%2Bk/Ef8AZm8aTRRgMttqHhu5jcKuSAnm2qANk5wuc1694A8DftjJY/2r%2ByL/AMFMvB3xS0uNA0OleOtNt74Af9NL6wdpmzwDkDFdeFz%2BpV932calv%2BfU4yfzpz9nUXpZnZhcv8NeIX/wicQQhP8A594ulKlJeTqUfb0/nKnT7tLY%2BxqK%2BW/%2BGoP%2BCiPww%2BT4y/sC2/ia1j/12s/DHxfFPnHXZZXA85vzqaz/AOCtX7L2j3Kad8a/D3xA%2BGV27bPs/j3wNd23z%2Bm6FZV/EkCu5Z9lkdK03Tf/AE8jKH4yjy/%2BTHa/C7jWqubAUI4yPfC1aOI/8lpVPa/fRT7pH09VrXP%2BQ1ef9fUn/oRry34ffti/spfFXYnw%2B/aL8GanNJjbaQ%2BIbdbjnpmFmEg/Fa9R1iRJdXupInDK1zIVZTkEbjzXpUcRQxC5qU1Jd00/ybPjcwyrNMprexx2HqUZ9qkJwf3TjF/mVqKKK2OAKtaH/wAhqz/6%2Bo//AEIVVq1of/Ias/8Ar6j/APQhSezAq0UUUwCiiigC1o//AB9v/wBes/8A6KeqtWtH/wCPt/8Ar1n/APRT1VpdQCiiimAVa0//AI9L7/r1H/o2OqtWtP8A%2BPS%2B/wCvUf8Ao2Ok9gKtFFFMArqPht/y%2B/8AbP8A9mrl66j4bf8AL7/2z/8AZqzq/wANjW51FFFFcZYUUUUAFFFFABXwBrFzB4y/4L0%2BIt3zf8Il8CILcHH3JJLuCQD/AL4umNff9fn98AreDxb/AMFh/wBqDx7D8y6PpfhvR0brt3WMW9f%2B%2B7Rq8nMrzxWDprrVi/8AwGM5f5HDiuV4zDRf80n840qjX4yt8z6xor56%2BIv/AAVW/YJ%2BE/jrVvhp8QPjx9g1vQ76Sz1Sy/4RfVJfInQ4ZN8dqyNg91JHvWL/AMPmP%2BCbP/Rx/wD5Z%2Bsf/IdehPPsjpzcZYqmmtGueOjXzP0Wh4XeJeKoQrUclxcoTSlGSw9VpxaTTTULNNNNNaNNPqfT9FfPXw6/4KrfsE/Fjx1pPw0%2BH/x4%2B363rl9HZ6XZf8IvqkXnzucKm%2BS1VFye7ED3r0H9rX4meNfg3%2BzX40%2BKHw60%2Bwutb0TQpbnTotTnaOASDA3sVRydoJYLtwxUKSoJYdmFx2Cx0HPDVIzS0bi07Pe2h8/nnDXEfDNeFDOMHVw05rmjGrTlTcle10ppNq%2Bl1pfQ9O1z/kNXn/X1J/6Eaq189eOP24viHocniG5n%2BB2kNfWfxAvPDWmadb%2BKdQu5dRntYZpruZIrLSZ7jyk2RqpWFs7naTyVQF%2Bc8If8FA/FnxC1K2T4U/B86xJ4jtYNQ0i28Q%2BK47CG0t28N6brG0tDYyuuRemPB84%2BYM7lRtse6krI8WzPqiivMbr4/andfsrap%2B03o/hWFbX/AIV%2BfE%2BgWMl20ks8Z00XixzKEURtvJjwrOCAG3AttXnPgP4%2B%2BJmi%2BNPFXw4%2BJnxWbxQuk/Dvw94pi1/VNPtbbyJb9tUinh22kUSG3RtNWRMhpAJnDO%2BFNVdCPe9D/wCQ1Z/9fUf/AKEKq18UfBb9oz9rvxTY6fbeIvEnje2W80/whrOsahB4S0y91i0sL1r8XmoaTaWVrKs1k0sFmkcVzBLfRI07SwqfLy3/AIa6/aRi8L2HxR1e68WQ6TpggstOhs/BUMlv4ju7fxPf6XqK6nKIG/s%2BQ2dvZyxqkluvm3Mmzz9ohWedXHY%2B2aK%2BUfh98avjn4s/sHUdX%2BPsekWnxG8CeJPEJudR0SxMHg5NP1GwRTB8kZZVtL2RJHu3mAmijkxs3xN7D%2Byf4o%2BIPjL4YT%2BIvHOtajqlpca7eHwprOtadDaX2paPvH2a5uIYYokRn%2BdkxHGTEYmZQzMKpSuFj02rWj/8fb/9es//AKKeqtWtH/4%2B3/69Z/8A0U9D2EVaKKKYBRRRQBa0/wD49L7/AK9R/wCjY6q1a0//AI9L7/r1H/o2OqtJbsAooopgFWof%2BQLcf9fUP/oMtVatQ/8AIFuP%2BvqH/wBBlpMCrRRRTAKKKKALU3/IFt/%2Bvqb/ANBiqrVqb/kC2/8A19Tf%2BgxVVpIAooopgFWtQ/49LH/r1P8A6NkqrVrUP%2BPSx/69T/6NkpPdAVaKKKYBXeeDP%2BRatv8Agf8A6G1cHXeeDP8AkWrb/gf/AKG1Y1/gHHc1KKKK5SwooooAKKKKACiiigAooooAKKKKACiiigAooooAKKKKACiiigD5e%2BO3wS%2BNmqfFPxbpfhH4Z3WsaN438XeCvEQ8SW2qWUaaUNFvbWe6tZI5545TK8dhH5DRo6GW6/eNEqFjl/Gz9nH4wfEL4r%2BJofhT8P8Axh4Qk8d6p53ijxhN4%2Bim0K70%2BTw6mnSxzaWtySt4GhgiUpbuAYElW6wzRV9a0UAeCfsoeAPi/B8R9T%2BKPxU%2BGEvg/b8M/DHhOHSbjU7S6e5udOk1Ka5uUa1lkX7MWvkSHeUlOyQvHHlQfYfHc0cGkRvLaxzA3IG2QsAPlbn5SDW1WD8Q/wDkCxf9fS/%2BgtV0/jQnscv/AGhaf9AO1/77l/8Ai6P7QtP%2BgHa/99y//F1VorssiC1/aFp/0A7X/vuX/wCLo/tC0/6Adr/33L/8XVWiiyA05b61GkQP/Y9sQbmUBd0uB8sfP38//qqt/aFp/wBAO1/77l/%2BLom/5Atv/wBfU3/oMVVaSSAtf2haf9AO1/77l/8Ai6P7QtP%2BgHa/99y//F1Vop2QFr%2B0LT/oB2v/AH3L/wDF1Zvr61W2sydHtjm2JALS/L%2B9fgfP%2BPPrWZVrUP8Aj0sf%2BvU/%2BjZKTSugD%2B0LT/oB2v8A33L/APF0f2haf9AO1/77l/8Ai6q0U7IC1/aFp/0A7X/vuX/4uj%2B0LT/oB2v/AH3L/wDF1VoosgJPG%2Bi%2BEPF1odB8X%2BBdI1aymtofNtNTtjPE48peCjMVOM45FeA/ED/gmB%2BwV4/u/wC10/Zt0jw7qStut9T8H3t3pUsDf3kW2mWPP1Q19Cax/wAfaf8AXrB/6KSqtcmIy/A42KWIpRn6pP8AFq6%2BTRyYvL8BjlbE0oz/AMUU/ubV18mj5cP/AAT4%2BNvgEmT9nn/gop8UtCVeYLHxe1v4jtYvRFjuAmF9smnzaT/wVo8C2j2Mt58DvilpxXbNHrVhf6Vezj0Aif7OM988V9QUVxvI8JFfuZzp/wCGpK3/AIDJzX4HAsiwtF3w1SpSa25Kk0l8pOa/BHwZ8QdLOseYf2lP%2BCDWk3ZP%2Bv1j4d6rZ30847sFtmimHsC%2Ba841Sb/gml4AvZhZaB%2B05%2BzaySt91NZsjbnP8QLXY%2Btfp1VrXQDrV4CP%2BXqT/wBCNeZW4YjOfMpxb7ypQv8A%2BBU3Sl%2BJ9ll/G3ipk1D2OB4gxHs/5KtqsPnGblF/%2BAH5yeDfi14fmKN8CP8AguzFEn/LOy%2BJ2hWVyZB2Vpb3yXX6gZr1rwf8Tf8AgpU8at8Pfit%2BzR8U7YDO6O9v7W7lH%2Bz9llMIz719C%2BMf2df2fviJvPj74GeD9bL/AH21bw1a3BPvmSMnPvXlviz/AIJT/wDBPnxkzSan%2BzJols5OQ2j3NzYbT6j7NKgFZf2Lm1H%2BFNf9u1a0Pwl7aJ3/APESeOp/7/gstxnnUwkKcn/29SjSd/O7Mz/hrH/goj4Q%2BXx1/wAExdO1iFf9Zf8AhD4nQP8A98wSnzD%2BdT6b/wAFQZ/DGo25%2BKP/AAT0%2BOOg7JlMl3ZeC3v7ePBH/LWO45Pp8pzWb/w6b%2BBGjf8AJMvjN8X/AAVj/Vjwt8R7mIR/TzRJVjSv2Bf2k9A1S2j%2BGX/BTj4p2L/aEEL%2BJrSz1rYdwwSJVTdj360nT4morRzf/b1Cf5xpP8Q/16ymt/v3CVF%2BeGxlel90ZyqL5aIsWn/BY79guGdbLxl4l1LwvcscC38R%2BENXgbPoSqMo/E12nhr/AIKS/sF%2BLNv9lftIfD%2BPd90ajrxsz%2BVxIleb3f7Pf/BULSLdrSw/bp8F%2BK4SMeT4p%2BFtvbK49G%2BzOa4vxN%2BzX%2B33flv%2BE0/Zr/ZG8cxHq114avIbl/qZYygP0p/2hxFS%2BKk360n%2BdOvL8EL/AFm8MK38fJszw/8A17rYWul6KdOD%2B%2BTPrvw5%2B0D8CvGG3/hEfiJ4M1Xf93%2BzvEcc%2BfpsnNdQmpWUih00W0ZSMgiSUgj/AL7r83fEf7InxMuN3/CWf8EV/hhrY/jbwf8AE6HSc%2B6g7cVy7/syeFPCzGRf%2BCTPxn8IMDlm8B/Fp77ae5X98QaP9YMwp/xMOvurx/OlJfiH9oeD1b/mOzCh/wBfcvU185Uay/CJ%2BqmlX1q1ywXR7Zf9GmOQ0v8Azybjl%2B/Sq39oWn/QDtf%2B%2B5f/AIuvy4s00fwpMTDp3/BQ/wAF7In/AOPPdd2a/IeDydy%2Bvtmo/wDho8eFf9T/AMFIP2hPC%2B3oPG3wf%2B37P97KHNH%2BtdKD/eUrf9xIr/0uFMfs/Cyr/C4npQ/6/YPG0vvfJUX3H6l/2haf9AO1/wC%2B5f8A4uj%2B0LT/AKAdr/33L/8AF1%2BYGlft8eKYG8nRf%2BCz/hfU3U48nxT8BZrAj2Zo4h%2Bea6bSf%2BCgH7Sgx/YH7fH7Kesjt/wkcep6cW%2BuzGK1hxdlk/sy%2BUqUvyrGlPJOEsT/ALrxPlk/WvUpf%2BncMrfM/Rn%2B0LT/AKAdr/33L/8AF1Zsb61a2vCNHthi2BIDS/N%2B9Tg/P%2BPHpXwHpX/BQH9r98eV40/ZP8Rn%2B7oPxaMDN%2BE8hI/Gur0D9vn9tz7PcrbfsY%2BAfEivAA8nh/4%2B6RHgeYhyBKCW5AGOvNdUeJMsmtp/%2BAN/%2BkymdtPgXEYj/dczy%2Br/AIcwwv8A7fKn%2Bh9kf2haf9AO1/77l/8Ai6P7QtP%2BgHa/99y//F18n2f7df7Wqx%2BdrH/BM3xeyAfM2h%2BNNO1AfgY8Zqb/AIeOePNN/wCRm/4Jy/H%2BLH3v7L8IRXv5bJhmuhZ7lfWUl6wqr/3GzoXhhxlNXo06VT/BisHP8sWj6q/tC0/6Adr/AN9y/wDxddH4AuIp/tflWMUOPLz5Rc5%2B913Ma%2BMv%2BHqHw4s%2BPEn7K/x50bH3v7U%2BGMybfrtkaveP2Jv2t/hd%2B1L/AMJMnw50vxJaSaD9i/tCHxF4ensGHn%2Bfs2eaBv8A9S%2BcZxxnqKuGb5XiZeypVU5PZe8n9zijhzPw/wCNckwM8bjsDOFGFuad6coq7SV3CtUWraS82e8UUUVsfIhRRRQAUVw/x5%2BL2ofCHw1pU/h3wrFrmu%2BIfEdnonh/SrrUjZwTXU7ElpZxFKYo44kllZljkbERCqxIFctb/tb2Uf7OF78bNW8DSprdjrWoeHx4Ps9QEz3eu2uoTad9ignKJvSS5hJSZkQCFvNdY1VwoB7DX56/8E6LS81b9q39rT4hXeT9s%2BNNzpKMfSxlukA/BZVr7h%2BB3xK/4XN8FPB/xh/sX%2Bzf%2BEr8LafrP9nfafO%2By/araOfyvM2rv279u7aucZwM4r5N/wCCemgS6TqP7QGqzQFf7U/ab8YzxOR99FuUi/LdG/615uIp%2B0zfB/3XUf8A5TS/U550a08XCpFXjCM76aLmUIx12Wt7aq%2Btr2Z9F0V88/EX/goP/wAK78d6t4G/4Yg/aG13%2Byb6S2/tjw58NPtVhebDjzYJfPXzIz1DYGR2rF/4edf9Y9f2oP8Aw03/AN012zzzKoTcZVNVp8NT/wCVv8zy58QZPTm4Sq6rR%2B7U6elJ/mz6grI%2BIHgPwp8UfBGrfDnx1pZvtG1ywlstTtBcSRGWGRSrKJI2V0ODwyMGU4IIIBrxD4df8FB/%2BFieO9J8Df8ADEH7Q2hf2tfR239seI/hp9lsLPecebPL57eXGOpbBwO1eqftCeO/Ffwt%2BC/iH4m%2BDNKt7678O2P9pz2NxC8n2i0gZZbqONUZT5zW6TCPkgSFCVYAqevDY3C42DlRlzJaPSS/9KjH8mduDx2Ex8HLDy5knZ6SWv8A29GP5P1KXib9kj4C3s50m58Kagy2XiO81SK4HifURcvdXCGK4aWcXHmzJKnyyRyM0cn8Sseao/Dr9jr9nT4UPZSeBPAEtm2nQGGyaXXL64MMRsYLDYPOmf5Ra20ESr0VYxtwck%2BIfHb/AIKIfFfw1F4h%2BIvw40DQtW0HTbzWdWjiTTPMM2g2moJp8Vw9zLqNukf2m4hvWikhjuWaN4MW7YLSZHgT9qL4y6N8QL34b6Hq1nc6hrXj3WNL03W/FE19fQ6ej%2BNPEFsge3F1Gjxx21kkMSKY2yYk8zYqoNk42R2WZ9Z%2BDPhd4I8AeDofh94Z0mRNEt9Ng0%2BDTLy%2BnuoYrWG3S2jhVZ3fanlRqCB947mbczMxxfh3%2Bzb8HvhVYSab4H8P31tFNJAZzc%2BIb66eWOGJoYbZnnmdmto0dglsSYV3EhAea5L9hfxN8Q/GvwSPijx14zttYkk8YeK4HmjWaQl4fEuqRJ5U0kzf6MsKRRxRbfkSNQGIwo4D9lLxn4x1H4o%2BBNW1Lx7rup3XjzwX4s1Txnpepa3Pc21lfWWsafDCsEEjtHZCA3Nza%2BXCsYcKN4Zo9wq60A9c8JfsW/s6aRAnhnTPCOqQQXE2mxRXMfi/VBd2MVlKzWkNpdfafPsooTLLsit3jRRI4CgMQZB%2ByZ8AFvPD93D4EeIeGba0g0y2g1i8jt3S1nNxbfaYVmEd60U7NMjXCyMkrtICHYsflj4pfFX4%2BfC3xpqaW3jHxCsuuaj4sj1nxVb%2BOI7zTrfSY9atoobqxtVnf%2BzptOtplt5mMUGybdvM7fvFi%2BMHiD4v2fxG8YfAf4VeO/EOpWPha68SXekW%2Br/E7U9NaG3t9B8PXLyPqqPLdXcltd6nIY7WZjFIt1IJJIxapU3V9gPp/Vv2LP2btbstf07UPAt4YPEsU0WpQxeJtRjWOKa7W8nitglwPsUctwiyypb%2BUsrKN4bGK7nwJ4C0P4c6I2geH77WriBp2mMmveJL7VZ9xABAmvZpZAvyjCBto5IAJOflbwX%2B0p438f8A7WvwsivdX%2BIVl4fn06406xsrzwVqdlaeIXfSUuZNUuXWD7K4MpRI0EjLD5Mr5xMNv2HVKz2BhVrR/wDj7f8A69Z//RT1Vq1o/wDx9v8A9es//op6b2EVaKKKYBRRRQBa0/8A49L7/r1H/o2OqtWtP/49L7/r1H/o2OqtJbsAooopgFWof%2BQLcf8AX1D/AOgy1Vq1D/yBbj/r6h/9BlpMCrRRRTAKKKKALU3/ACBbf/r6m/8AQYqq1am/5Atv/wBfU3/oMVVaSAKKKKYBVrUP%2BPSx/wCvU/8Ao2SqtWtQ/wCPSx/69T/6NkpPdAVaKKKYBXeeDP8AkWrb/gf/AKG1cHXeeDP%2BRatv%2BB/%2BhtWNf4Bx3NSiiiuUsKKKKACiiigAooooAKKKKACiiigAooooAKKKKACiiigAooooAKKKKACsH4h/8gWL/r6X/wBBat6qHiLRP7esls/tXlbZQ%2B7ZuzgEY6j1qoNKabE9jz6iuo/4Vt/1Gv8AyW/%2Byo/4Vt/1Gv8AyW/%2Byrq9rT7k2Zy9FdR/wrb/AKjX/kt/9lR/wrb/AKjX/kt/9lR7Wn3CzMGb/kC2/wD19Tf%2BgxVVrrX8Ab7KOz/tb/Vyu%2B7yOu4KMfe/2f1qL/hW3/Ua/wDJb/7KkqsO4WZy9FdR/wAK2/6jX/kt/wDZUf8ACtv%2Bo1/5Lf8A2VP2tPuFmcvVrUP%2BPSx/69T/AOjZK3v%2BFbf9Rr/yW/8AsqluPAHnxQRf2tjyYimfI6/OzZ%2B9x97H4UnVhfcLM5Kiuo/4Vt/1Gv8AyW/%2Byo/4Vt/1Gv8AyW/%2Byp%2B1p9wszl6K6j/hW3/Ua/8AJb/7Kj/hW3/Ua/8AJb/7Kj2tPuFmYOsf8faf9esH/opKq11t54A%2B1yiX%2B1tuIkTHkZ%2B6gXP3vbNRf8K2/wCo1/5Lf/ZUlVhbcLM5eiuo/wCFbf8AUa/8lv8A7Kj/AIVt/wBRr/yW/wDsqftafcLM5erWuf8AIavP%2BvqT/wBCNb3/AArb/qNf%2BS3/ANlUt94A%2B23s15/a23zZWfb5GcZOcfepe1hfcLM5Kiuo/wCFbf8AUa/8lv8A7Kj/AIVt/wBRr/yW/wDsqftafcLM5erWh/8AIas/%2BvqP/wBCFb3/AArb/qNf%2BS3/ANlUtj4A%2BxXsN5/a27ypVfb5GM4OcfepOrC24WZyVFdR/wAK2/6jX/kt/wDZUf8ACtv%2Bo1/5Lf8A2VP2tPuFmcvRXUf8K2/6jX/kt/8AZUf8K2/6jX/kt/8AZUe1p9wszB0f/j7f/r1n/wDRT1VrrbPwB9klMv8Aa27MTpjyMfeQrn73vmov%2BFbf9Rr/AMlv/sqXtYX3CzOL1Tw9oGuJ5etaHZ3i4%2B7dWySD/wAeBrmdX/Zz/Z71/P8AbvwI8G3u7732vwvaSZ/76jNetf8ACtv%2Bo1/5Lf8A2VH/AArb/qNf%2BS3/ANlUTWFq/HFP1Sf5pmVTD0avxwT9Un%2BaZ8/6r%2Bwd%2BxPrRJvv2TPh1lurQeD7OIn8UjBrDn/4Jaf8E%2Btct7x779lnw0pW3DKbVZoMHzEGR5ci9ia%2BnP8AhW3/AFGv/Jb/AOyqW38AeRFPF/a2fOiCZ8jp86tn73P3cfjXHUy/J6i96hB/9uR/%2BROOeS5RV%2BPDU3/25D/5E%2BN7z/gjp/wTnupftEP7Pf2WXtLZeKtViI%2BgW6x%2BlQ/8Ohv2Q7T/AJF6bx1pGPu/2b4/v12/TdI1fZP/AArb/qNf%2BS3/ANlR/wAK2/6jX/kt/wDZVg8lyD/oHgvSKX5WOZ8NZBe6wlNekUvysfG3/Dqr4Y2v/IA/af8AjtpXp/Z3xOmXH03RtXvH7En7MR/Zv/4SZF/aD%2BJnjqPWPsWxPiN4p/tP%2Bz/K8/8A49z5aeXv835%2BufLTpivUf%2BFbf9Rr/wAlv/sq1PDfhv8A4R7zv9N87ztv/LPbjGfc%2BtXTyzKsPP2lGmoyW1nL8udr8DfDZJleDrqrRpKMltZy9Nudr/yVmpRRRXQesFFFFAHD/Hn4Q3/xf8NaXb%2BHvFUWh654e8R2et%2BH9VudON5DBdQMcrLAJIjLFJE8sTKskbbZSVZWANcJov7DvhS/%2BHVr4H%2BK3i6/1m6sfEuq%2BI7DW/D2o6loFxBq%2BpyXct7OGsr5WMZa%2BuI44ix8uFvLZpDlz7nRQBxn7OvwdtP2e/gL4O%2BBlj4gutWj8JeG7PShqd7NK8l0YYlRpf30kjoGIJWPewjUhFO1QK5Twh8NdI%2BB0uu%2BG/BWraj5Gr%2BKtT8QXjXN1ljd6jdSXkwGwKAivMVUYyEVQSxyx9erB1rwT/a%2Bpy6j/afl%2BZt%2BTyc4woHXcPSqhGl7VTktVe3le1/vsbxxWJp4adCE2oTcXJdHyNuN/wDC5Nr1Zy/9ua1/0GLr/wACG/xo/tzWv%2Bgxdf8AgQ3%2BNb3/AArb/qNf%2BS3/ANlR/wAK2/6jX/kt/wDZV0%2B0pHLZmD/bmtf9Bi6/8CG/xplxqmp3du9rdajPLFKhSSOSZmV1IwQQTggjtXQ/8K2/6jX/AJLf/ZUf8K2/6jX/AJLf/ZUe0pBZnmXi39nz4Cawtl4Y1b4IeELrTfDtjcaR4f0%2B58NWrwaZp8i%2BU9nbxtGVhgaMBDEgCFQFIxxUc/wM%2BCd1oVz4Wuvg74Wk0y9jMd5p0nh62ME6fanvNrxlNrD7TJJPgg/vZGk%2B8xJ9WvvAH229mvP7W2%2BbKz7fIzjJzj71Rf8ACtv%2Bo1/5Lf8A2VJTpWCzOF8HeDPB/wAO4Vtvh/4U03Qo0jkjSPR7GO1VUeeS4dQIwuA000spHd5XY/MxJp2Pwr%2BGGmarrWuab8ONBt73xLMkviO8g0eBJdVkRy6PcuFzOyuSwLkkE5HNejf8K2/6jX/kt/8AZUf8K2/6jX/kt/8AZU/aUgszg/Dnws%2BGNr411TxLa/DnQY9R8WFLfxTqEekQifWYThTHdOF3XCFSRtkLDBxWLdfs/fAW%2B8F2Hw3vfgl4Qm8O6VdvdaXoMvhq1ays523bpYoDH5cbnc2WUAnceeTXrdj4A%2BxXsN5/a27ypVfb5GM4OcfeqL/hW3/Ua/8AJb/7Klz0rhZnKXdvBf6nYa1fwJPeaWZDpl3MoaW0LpsfymPMe5flO0jI4PFXf7c1r/oMXX/gQ3%2BNb3/Ctv8AqNf%2BS3/2VH/Ctv8AqNf%2BS3/2VP2lILMwf7c1r/oMXX/gQ3%2BNWdK1jV5Lllk1W5YC2mOGnY8iJiD19a1f%2BFbf9Rr/AMlv/sqls/AH2SUy/wBrbsxOmPIx95Cufve%2BaTnSsFmc5/bmtf8AQYuv/Ahv8aP7c1r/AKDF1/4EN/jW9/wrb/qNf%2BS3/wBlR/wrb/qNf%2BS3/wBlT9pSCzMH%2B3Na/wCgxdf%2BBDf40f25rX/QYuv/AAIb/Gt7/hW3/Ua/8lv/ALKj/hW3/Ua/8lv/ALKj2lILMyrHWNXe2vGfVbklbYFSZ24PmoMjn0J/Oq39ua1/0GLr/wACG/xro7fwB5EU8X9rZ86IJnyOnzq2fvc/dx%2BNRf8ACtv%2Bo1/5Lf8A2VJTpXCzMH%2B3Na/6DF1/4EN/jR/bmtf9Bi6/8CG/xre/4Vt/1Gv/ACW/%2Byo/4Vt/1Gv/ACW/%2Byp%2B0pBZmD/bmtf9Bi6/8CG/xqzFrGrnSJ5TqtzuFzEA3ntkArJkdfYflWr/AMK2/wCo1/5Lf/ZVKngDZZSWf9rf6yVH3eR02hhj73%2B1%2BlJzpBZnOf25rX/QYuv/AAIb/Gj%2B3Na/6DF1/wCBDf41vf8ACtv%2Bo1/5Lf8A2VH/AArb/qNf%2BS3/ANlT9pSCzMH%2B3Na/6DF1/wCBDf40f25rX/QYuv8AwIb/ABre/wCFbf8AUa/8lv8A7Kj/AIVt/wBRr/yW/wDsqPaUgszKl1jVxpEEo1W53G5lBbz2yQFjwOvufzqt/bmtf9Bi6/8AAhv8a6N/AG%2Byjs/7W/1crvu8jruCjH3v9n9ai/4Vt/1Gv/Jb/wCypKdILMwf7c1r/oMXX/gQ3%2BNH9ua1/wBBi6/8CG/xre/4Vt/1Gv8AyW/%2Byo/4Vt/1Gv8AyW/%2Byp%2B0pBZmD/bmtf8AQYuv/Ahv8as32saultZsmq3ILWxLETtyfNcZPPoB%2BVav/Ctv%2Bo1/5Lf/AGVS3HgDz4oIv7Wx5MRTPkdfnZs/e4%2B9j8KTnSuFmc5/bmtf9Bi6/wDAhv8AGj%2B3Na/6DF1/4EN/jW9/wrb/AKjX/kt/9lR/wrb/AKjX/kt/9lT9pSCzMH%2B3Na/6DF1/4EN/jXa%2BEp57nw/bzXEzyO2/c7sST87dzWR/wrb/AKjX/kt/9lW9oum/2RpkWned5nl7vn24zliemT61nVlCUdBpMtUUUVgUFFFFABRRRQAUUUUAFFFFABRRRQAUUUUAFFFFABRRRQAUUUUAFFFFABXz38WP2o/ip4O%2BLOux%2BG7Hw8fB/gvxP4T0HxHaX1hO%2Bo38%2BtXdvA01vOs6x26W6XltJtaGUzFZUzH8rV9CV5b47/ZM8B%2BP/imPidqXinxBaxXF9o99rfhqyuLddO1i70q4%2B0afcXAeFpg8Mojb91LGsnkRLIJFQCgD1KiiigAooooA%2Bf8A4c/tK/EPXf2qvEXwj%2BIHirRdE0q28WXOk%2BE9Gn%2BHGqxT62kWmQXm6LWZLr7FJMC1w5gSIyeVbOcAKzj6Arze6/Zr0rVPjBp/xY8Q/FLxfqlvo2uS6zoXhPUL%2B3k0zTdQkspLJp4v3AuceTPcBYXnaFGnZljBCFfSKACiiigDif2kPGXxG%2BHnwI8V%2BO/hPp%2Bi3Ov6Nos97Yx%2BIZJRZr5Sl3eQQ/PJtQMwjBTzGATzIwxkXxXw5%2B2T8ZNc1yDxdJpfhiPwlpnjTwr4Q8RacNOuDqFxqGs6bpl0Lu3uPtHlxQxyazZJ5LxSMyxzHzV%2BUV718Y/hq3xh%2BGmr/DNvHOs%2BHYdasntLvU9AS0N0sEilZEX7XBPENykqSYyQDlSpwR5l4E/YM8C%2BCdZ0nU7r4ueNtbt9O1Gw1O90rVZtOW11fUrG3W2sr65W2somMsMEVrGoiaONvsVu0iO6F2APc6KKKACvLP2xPix8Vfgl8GZPiN8J9J0C6ubLWLFNUPiFpzHFZS3CRSGKOEqZZSXVVDOiruLkvsEUnqdcD%2B0d8BYP2j/hzJ8MtR%2BJ/iTwvY3F1DNeT%2BGEsDNcCKRZEjY3trcKqh0RvkVWJUDdgkEA89%2BBn7SvxD8b/H/xB8NviZ4p0XSIoPEmt6f4a8Nv8ONVs7jUbazm2pNFq090bS7fysSvFDFuCtuwqqTX0BXlfhH9lm20L4haR8RPF/xx8d%2BMZvD9xd3eh2Hii8sXt7K9uYWhnuk%2Bz2kMhZkknVY2cwxLO6RRxoEVPVKACiiigDxj9sz4vfHH4HeBJviR8LW8INZ6bp0zjSdes7q5v/Eeqs8SWOjWSQyxLDLcuzxidjMVdo/3DLuIw/2Uf2o/ip8YNc8ISfEix8PLpvxO%2BFy%2BPPB0WiWE8E%2Bl2fm2oNndvLPKtzKItRsz50awqWWYeXjaa7b4y/s0p8X/AIk%2BGfilB8afF3hnUfCVreRaPDoUGkz26SXIRZLkx6hY3IFwI0MSyrtZY5ZkGBK%2B6L4GfsmeA/gJria14e8VeINVTT9AXQfDFjrdxbvD4e0hZfNFhaCGCNvKyIl3TNLJtt4V34QCgD1KiiigAr5y/bo/aK/aV/Zv0pvGXwr03wZq0E/2Wz8O%2BDrrTb271nxBdu0jXkkZhniWCK0tl%2B1MoSYypBMpaAlGr6NryT4i/slwfED4yXfxpg%2BPnjzQb688Nx6C9joUmlrFBYiR5JUt5ZrGS6tHmZwZJIJo5GMMJDAwxlQBf2SPjV4g%2BMfhS%2Bm8a%2BPdJ1TXbA2p1LS7D4f6n4bn0zzoFkVZbbUriaaRW%2BYpOu2Nwp27tpNetVwfwe%2BA1h8Jta1zxdqHxE8R%2BLvEHiGOzh1PxB4oe0%2B0Pb2qyLb26rZ29vCqIZp34j3M0zlmbIx3lABRRRQB8pftb/tiftE/s2/GHw54GsdP8IXlr488U2OgeF7a78OamiWBvpo7O2vJ9SaZLa8lW7fdJpdui3At90wkCRs59n/Zz%2BJ/jX4gWXizwx8SRpcniDwR4xn0HVL7RLOS2tL3FtbXkM8cMsszw5t7yEMhlkw6vhiMVyfxX/YL%2BHnxm8R/2x40%2BKnjp7G18Tf8JNoGgxarbfZdD14QmKLU7VntmnWSIs8iRSSyWyyOW8npj0X4OfB/Rfg14evtI07xBqms3ur6xcarrmu628Ju9SvJtoaWTyIoolwiRxqscaKqRIoXigDraKKKACvjf44ftnftb/Cj9oDTvghHaeFZf7VumnvL2x%2BFfiDUTotl5g8ryI47mOTXyY5IhLPZrHHay7Y5V3TxgfZFeGyfsM6Uni6x8c6Z%2B0l8ULPUtBjvoPCM8Wr2En9hWt5cRz3VrGJrJxdxSGGBdt99qKLDH5ZRlDUAemfBrxvafEj4XaL43svGWm%2BIE1CyEjaxpGmS2VvcOCVfbbzSSyW5DBlaKR2dGVlbBBA6aua%2BEPwr8N/BX4eWHw38K3F5Pa2LTyyXmozCS4u7ieZ7i4uJWVVUySzSySNtVV3OdqqMAdLQAUUUUAFFFFABRRRQAUUUUAYnxK8b2Pwz%2BHOv/EjU7WSe28P6Jd6lcQxHDSJBC0rKPchCBXmP7M3xs%2BMXjLxtqHw1%2BN8fhuTVE8C6B4rsrrwvp9xbQxQ6k99E9k6zzzGR4JLI/vwUEqzL%2B6jKnPr%2BuaLpXiTRbzw7rtjHdWN/ayW15bSjKzROpV0PsVJB%2BtcD8Bf2ZvDHwEur3VbHxv4k8SajeaNpujJqfie5t5Z7fS7AT/Y7JDBBCCkZubht7h5naZjJI5xgA9IooooAK4H9qX4jeOPhF%2Bzp4z%2BJ3w00eC/1/Q/D9xeaRZ3WnzXccs6LlQ0MDpJKM/wIysegIrvqyvHPhUeOPCGo%2BEv%2BEj1XSDqFq0Karod79nvLRj92WGTBCupwRkMpxhlZSQQDkv2bvihd/FLwbqF7q/xB0zX9S0vWpLDU/wCz/BF/4dksJRFFILeew1Cea4il2SpKC5UPHNGyrtIZvQq4z4N/BXSvg7Dr10ni/WvEWr%2BKNaGq%2BIfEHiBrb7Ve3C20FpHlbWGGCNUgtoI1WOJBhNxy7MzdnQAUUUUAfPv7Xv7V3xO/Zf8AGUWuDwpoV/4Ktvhx4m8QXytNMdTurvSrF7zyYyMRQRbFVdxErOZTxEI8y9b8BPib8W9U%2BIvi74KfHGfw5ea/4Z03SNUXVPCumT2dpNa6gtyqxmGeedxJHNZXIL%2BZh0MZ2ociq/x8/Y/8O/tF%2BNtN8UeOPix4st9LsNKvdMn8JafHpf8AZ1/aXsXk3sMxmspLkieH92xSZCq8xlG%2Bauh%2BCvwC0n4M3Osa1L498ReK9b137KmpeIfFU9s93JBbReVb2/8Ao0EMYjjDSMPk3M80jMzMxNAHeUUUUAFfM/7Sf7Un7Sfwl%2BI3jbwn4S8LeGJrHTPB2k6t4VddHv8AVbxzPqsNlczXMFvJE0ioskrLbw/NiEOZT5hjj%2BmK8d8d/sh3Pjj4xX3xoi/ab%2BJOiX13o0emRafoM2kQW9pbxzCeNY2bT2nOJwJCJJXWTmOQPCzREA6f9nb4lS/FL4eHXr3x7pviC9ttSuLPUZ9N8JXuhG1njbBt5rC%2BmluLeVQVysjAkMrBQGGe7rkPg38G9G%2BDOjapZWXiXVtc1DXdbm1fXte114Dd6jeSJHF5ji3iihTbFDDEqxxooSJeM5J6%2BgAooooA%2BUPiJ%2B1Z%2B1b4O/ap8J/st2cvw5uNQ8f31/HbX1not/dReC44Y7m8s11A/a4jfy3tjY3zRqgtNktq/wDrEwx90/Zq%2BKus/Gb4Oad448Tada2urLe6hpmsRWG77Ob2wvp7G4eIOSwiaW2kZAxJCsoJJGT59pv7AujaXfXWq237SHxF%2B2SeMLnxVY3zRaF9osNYn8xHu0l/svfMRazTWSx3BmjW1k8oJ8kRT1n4S/C/w18Gfh3pnw08JPdSWWmRMBc30wkuLqV3aWa4lcABpZZXeRyAAWdiABxQB0dFFFAEd01ylrI9lCkkwjJhjlkKKzY4BYAlQT3wceh6V8W%2BKP23P2tvBXxxf4P%2BK9Z8CLpWlaOLrxX478M/CjX9esNI1HyTLNozQ2l8JDJbx%2BTM92xRTHdR7oYSrZ%2B0NRtJb/T57GDUJrR5oWjS6ttvmQkggOu9WXcOo3KRkcgjivCPBv7B0/gHwBZfDbwt%2B2B8WrTTbCyntIhDLoKNLHPk3LzbNKAuJ5XPmtcyh7gSb2WVDLN5gB7h4b1a01/w7Ya7p%2BsWmowXtlFPBqFh/qLpHQMJY/mb5GBDL8zcEcnrV2szwT4O8O/DvwZpHw/8IaeLTSdC0y30/S7RXLCG2hjWONMsSThFUZJzxWnQAVleNz42HhHUR8N10o68bVhpJ1tpBaLORhWmEQ3sgPJVcFsY3LncNWsT4keBNP8Aib4G1PwHqer6np8WpWxi/tDRr0293avkMksMgztdWCsMgqSMMGBIIB8eeGv%2BCiX7RGt3PxVnisfCEunfA/T7PWfFc174O1PS77X9OuHnPlxWFzeefotxHHY3uBdCczA2sqxrHMDX29Xz3/w7m%2BGVz4l8QeMNb%2BLnjvUdT8b3Fq3xIubm705B4vgthCtta3iRWSJHDFHD5Si1W3ZkllDs5kYn6EoAKKKKAOW%2BM2qfEXRfh9e6v8MLjS4NRtds011q2jXmpJBaod87R2VkVnvJvLVhHBG6M7lQDn5W%2BYv2VP28vjP8ZviKmmfFrX/C/hjRn8QrpGkIvwx1kDXZMSqP%2BJi96bbTLmR4yPsFwrzwyB7d90qNX1B8VvhpF8U/DUOhL4013w7dWmowX2n614cuo4rq1nibcpAmjkhlUjcrRyxyIysQVzgjzTwf%2Bwj4L8I3lhG/xm8f6rpFr4r/AOEpvfDmr6nZy2Wo66bqS8bUJNtqssTG7f7QYLeSG28xFIhHzBgD3GiiigAooooAKKKKACiiigAooooAKKKKACiiigAooooAKKKKACiiigAooooAKKKKACiiigAooooAKKKKACiiigAooooAKKKKACiiigAooooAKKKKACiiigAooooAKKKKACiiigAooooAKKKKACiiigAooooAKKKKACiiigAooooAKKKKACiiigAooooAKKKKACiiigAooooAKKKKACiiigAooooAKKKKACiiigAooooAKKKKACiiigAooooAKKKKACiiigAooooAKKKKACiiigAooooAKKKKACiiigAooooAKKKKACiiigAooooAKKKKACiiigD/2Q%3D%3D\">"
            ]
          },
          "metadata": {
            "tags": []
          }
        }
      ]
    },
    {
      "metadata": {
        "id": "QkEDcIdLQKah",
        "colab_type": "text"
      },
      "cell_type": "markdown",
      "source": [
        "# Adding more layers"
      ]
    },
    {
      "metadata": {
        "id": "UJBcVWb9QKah",
        "colab_type": "text"
      },
      "cell_type": "markdown",
      "source": [
        "Let's add a couple of hidden layers and see how that improves our validation accuracy!\n",
        "\n",
        "Rememeber that we need non-linearities for hidden layers (e.g. `tf.sigmoid`)!\n",
        "\n",
        "Now add 1 or more hidden layers to the code above and restart training.\n",
        "You're aiming for ~0.98 validation accuracy here."
      ]
    },
    {
      "metadata": {
        "id": "jT8qnJ1NQKai",
        "colab_type": "code",
        "colab": {}
      },
      "cell_type": "code",
      "source": [
        ""
      ],
      "execution_count": 0,
      "outputs": []
    }
  ]
}