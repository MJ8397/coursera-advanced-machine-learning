{
  "nbformat": 4,
  "nbformat_minor": 0,
  "metadata": {
    "colab": {
      "name": "my1stNN.ipynb",
      "version": "0.3.2",
      "provenance": []
    },
    "kernelspec": {
      "name": "python3",
      "display_name": "Python 3"
    },
    "accelerator": "GPU"
  },
  "cells": [
    {
      "metadata": {
        "id": "qsvTplLRLYRF",
        "colab_type": "text"
      },
      "cell_type": "markdown",
      "source": [
        "# Using Google Colab"
      ]
    },
    {
      "metadata": {
        "id": "dgXU6WVOQKaE",
        "colab_type": "text",
        "slideshow": {
          "slide_type": "slide"
        }
      },
      "cell_type": "markdown",
      "source": [
        "# my1stNN.ipynb (or MNIST digits classification with TensorFlow)"
      ]
    },
    {
      "metadata": {
        "id": "chX1QCWvQKaH",
        "colab_type": "text"
      },
      "cell_type": "markdown",
      "source": [
        "<img src=\"https://github.com/hse-aml/intro-to-dl/blob/master/week2/mnist_sample.png?raw=1\" style=\"width:30%\">"
      ]
    },
    {
      "metadata": {
        "id": "UYmdt48tVwV2",
        "colab_type": "code",
        "colab": {
          "base_uri": "https://localhost:8080/",
          "height": 306
        },
        "outputId": "a8161666-f04f-45f5-e950-65881529d280"
      },
      "cell_type": "code",
      "source": [
        "! wget https://raw.githubusercontent.com/hse-aml/intro-to-dl/master/setup_google_colab.py -O setup_google_colab.py\n",
        "import setup_google_colab\n",
        "setup_google_colab.setup_week2_v2()  # change to the week you're working on\n",
        "# note on week 2: select setup_week2_v2() if you've started the course after August 13, 2018,\n",
        "# otherwise call setup_week2()."
      ],
      "execution_count": 1,
      "outputs": [
        {
          "output_type": "stream",
          "text": [
            "--2018-08-16 01:58:02--  https://raw.githubusercontent.com/hse-aml/intro-to-dl/master/setup_google_colab.py\r\n",
            "Resolving raw.githubusercontent.com (raw.githubusercontent.com)... 151.101.0.133, 151.101.64.133, 151.101.128.133, ...\r\n",
            "Connecting to raw.githubusercontent.com (raw.githubusercontent.com)|151.101.0.133|:443... connected.\n",
            "HTTP request sent, awaiting response... 200 OK\n",
            "Length: 2327 (2.3K) [text/plain]\n",
            "Saving to: ‘setup_google_colab.py’\n",
            "\n",
            "setup_google_colab. 100%[===================>]   2.27K  --.-KB/s    in 0s      \n",
            "\n",
            "2018-08-16 01:58:02 (34.1 MB/s) - ‘setup_google_colab.py’ saved [2327/2327]\n",
            "\n",
            "**************************************************\n",
            "inception_v3_weights_tf_dim_ordering_tf_kernels_notop.h5\n",
            "**************************************************\n",
            "cifar-10-batches-py.tar.gz\n",
            "**************************************************\n",
            "mnist.npz\n"
          ],
          "name": "stdout"
        }
      ]
    },
    {
      "metadata": {
        "id": "d9UwWzPVQKaH",
        "colab_type": "text"
      },
      "cell_type": "markdown",
      "source": [
        "### This task will be submitted for peer review, so make sure it contains all the necessary outputs!"
      ]
    },
    {
      "metadata": {
        "id": "8w68b16lQKaI",
        "colab_type": "code",
        "colab": {
          "base_uri": "https://localhost:8080/",
          "height": 51
        },
        "outputId": "84408118-0b5f-4595-80a3-eb9e68739d82"
      },
      "cell_type": "code",
      "source": [
        "import numpy as np\n",
        "from sklearn.metrics import accuracy_score\n",
        "from matplotlib import pyplot as plt\n",
        "%matplotlib inline\n",
        "import tensorflow as tf\n",
        "print(\"We're using TF\", tf.__version__)\n",
        "\n",
        "import sys\n",
        "sys.path.append(\"..\")\n",
        "import grading\n",
        "\n",
        "import matplotlib_utils\n",
        "from importlib import reload\n",
        "reload(matplotlib_utils)\n",
        "\n",
        "import keras_utils\n",
        "from keras_utils import reset_tf_session"
      ],
      "execution_count": 2,
      "outputs": [
        {
          "output_type": "stream",
          "text": [
            "We're using TF 1.10.0\n"
          ],
          "name": "stdout"
        },
        {
          "output_type": "stream",
          "text": [
            "Using TensorFlow backend.\n"
          ],
          "name": "stderr"
        }
      ]
    },
    {
      "metadata": {
        "id": "cMy73vKnQKaL",
        "colab_type": "text"
      },
      "cell_type": "markdown",
      "source": [
        "# Look at the data\n",
        "\n",
        "In this task we have 50000 28x28 images of digits from 0 to 9.\n",
        "We will train a classifier on this data."
      ]
    },
    {
      "metadata": {
        "id": "TrQJPpx6QKaM",
        "colab_type": "code",
        "colab": {
          "base_uri": "https://localhost:8080/",
          "height": 51
        },
        "outputId": "e4b412b9-6dfe-4a8e-e8f3-f4827f109bb6"
      },
      "cell_type": "code",
      "source": [
        "import preprocessed_mnist\n",
        "X_train, y_train, X_val, y_val, X_test, y_test = preprocessed_mnist.load_dataset()"
      ],
      "execution_count": 3,
      "outputs": [
        {
          "output_type": "stream",
          "text": [
            "Downloading data from https://s3.amazonaws.com/img-datasets/mnist.npz\n",
            "10887168/11490434 [===========================>..] - ETA: 0s"
          ],
          "name": "stdout"
        }
      ]
    },
    {
      "metadata": {
        "id": "hloSDnXGQKaO",
        "colab_type": "code",
        "colab": {
          "base_uri": "https://localhost:8080/",
          "height": 683
        },
        "outputId": "456f79fb-f631-45bf-cdc0-4ae830bc752a"
      },
      "cell_type": "code",
      "source": [
        "# X contains rgb values divided by 255\n",
        "print(\"X_train [shape %s] sample patch:\\n\" % (str(X_train.shape)), X_train[1, 15:20, 5:10])\n",
        "print(\"A closeup of a sample patch:\")\n",
        "plt.imshow(X_train[1, 15:20, 5:10], cmap=\"Greys\")\n",
        "plt.show()\n",
        "print(\"And the whole sample:\")\n",
        "plt.imshow(X_train[1], cmap=\"Greys\")\n",
        "plt.show()\n",
        "print(\"y_train [shape %s] 10 samples:\\n\" % (str(y_train.shape)), y_train[:10])"
      ],
      "execution_count": 4,
      "outputs": [
        {
          "output_type": "stream",
          "text": [
            "X_train [shape (50000, 28, 28)] sample patch:\n",
            " [[0.         0.29803922 0.96470588 0.98823529 0.43921569]\n",
            " [0.         0.33333333 0.98823529 0.90196078 0.09803922]\n",
            " [0.         0.33333333 0.98823529 0.8745098  0.        ]\n",
            " [0.         0.33333333 0.98823529 0.56862745 0.        ]\n",
            " [0.         0.3372549  0.99215686 0.88235294 0.        ]]\n",
            "A closeup of a sample patch:\n"
          ],
          "name": "stdout"
        },
        {
          "output_type": "display_data",
          "data": {
            "image/png": "[encoded data removed]",
            "text/plain": [
              "<matplotlib.figure.Figure at 0x7f22b51210f0>"
            ]
          },
          "metadata": {
            "tags": []
          }
        },
        {
          "output_type": "stream",
          "text": [
            "And the whole sample:\n"
          ],
          "name": "stdout"
        },
        {
          "output_type": "display_data",
          "data": {
            "image/png": "[encoded data removed]",
            "text/plain": [
              "<matplotlib.figure.Figure at 0x7f22675a7e48>"
            ]
          },
          "metadata": {
            "tags": []
          }
        },
        {
          "output_type": "stream",
          "text": [
            "y_train [shape (50000,)] 10 samples:\n",
            " [5 0 4 1 9 2 1 3 1 4]\n"
          ],
          "name": "stdout"
        }
      ]
    },
    {
      "metadata": {
        "id": "hSzgGqp-QKaR",
        "colab_type": "text"
      },
      "cell_type": "markdown",
      "source": [
        "# Linear model\n",
        "\n",
        "Your task is to train a linear classifier $\\vec{x} \\rightarrow y$ with SGD using TensorFlow.\n",
        "\n",
        "You will need to calculate a logit (a linear transformation) $z_k$ for each class: \n",
        "$$z_k = \\vec{x} \\cdot \\vec{w_k} + b_k \\quad k = 0..9$$\n",
        "\n",
        "And transform logits $z_k$ to valid probabilities $p_k$ with softmax: \n",
        "$$p_k = \\frac{e^{z_k}}{\\sum_{i=0}^{9}{e^{z_i}}} \\quad k = 0..9$$\n",
        "\n",
        "We will use a cross-entropy loss to train our multi-class classifier:\n",
        "$$\\text{cross-entropy}(y, p) = -\\sum_{k=0}^{9}{\\log(p_k)[y = k]}$$ \n",
        "\n",
        "where \n",
        "$$\n",
        "[x]=\\begin{cases}\n",
        "       1, \\quad \\text{if $x$ is true} \\\\\n",
        "       0, \\quad \\text{otherwise}\n",
        "    \\end{cases}\n",
        "$$\n",
        "\n",
        "Cross-entropy minimization pushes $p_k$ close to 1 when $y = k$, which is what we want.\n",
        "\n",
        "Here's the plan:\n",
        "* Flatten the images (28x28 -> 784) with `X_train.reshape((X_train.shape[0], -1))` to simplify our linear model implementation\n",
        "* Use a matrix placeholder for flattened `X_train`\n",
        "* Convert `y_train` to one-hot encoded vectors that are needed for cross-entropy\n",
        "* Use a shared variable `W` for all weights (a column $\\vec{w_k}$ per class) and `b` for all biases.\n",
        "* Aim for ~0.93 validation accuracy"
      ]
    },
    {
      "metadata": {
        "id": "wZqMni3GQKaR",
        "colab_type": "code",
        "colab": {
          "base_uri": "https://localhost:8080/",
          "height": 68
        },
        "outputId": "054c5efa-487b-4dc7-e11b-60efc1d8be58"
      },
      "cell_type": "code",
      "source": [
        "X_train_flat = X_train.reshape((X_train.shape[0], -1))\n",
        "print(X_train_flat.shape)\n",
        "\n",
        "X_val_flat = X_val.reshape((X_val.shape[0], -1))\n",
        "print(X_val_flat.shape)\n",
        "\n",
        "X_test_flat = X_test.reshape((X_test.shape[0], -1))\n",
        "print(X_test_flat.shape)"
      ],
      "execution_count": 5,
      "outputs": [
        {
          "output_type": "stream",
          "text": [
            "(50000, 784)\n",
            "(10000, 784)\n",
            "(10000, 784)\n"
          ],
          "name": "stdout"
        }
      ]
    },
    {
      "metadata": {
        "id": "rm5v8x91YUIT",
        "colab_type": "code",
        "colab": {}
      },
      "cell_type": "code",
      "source": [
        "def get_one_hot(targets, nb_classes):\n",
        "    \"\"\"\n",
        "    Get one-hot encoding from an array of indices\n",
        "    \n",
        "    Arguments:\n",
        "    targets: array of indices\n",
        "    nb_classes: number of classes\n",
        "    \n",
        "    Return:\n",
        "    one-hot encoded matrix for the input array\n",
        "    \"\"\"\n",
        "    res = np.eye(nb_classes)[np.array(targets).reshape(-1)]\n",
        "    return res.reshape(list(targets.shape)+[nb_classes])"
      ],
      "execution_count": 0,
      "outputs": []
    },
    {
      "metadata": {
        "id": "2QyRMoQFQKaT",
        "colab_type": "code",
        "colab": {
          "base_uri": "https://localhost:8080/",
          "height": 119
        },
        "outputId": "7fa1165d-e0e3-455c-9b0c-644f0c173a28"
      },
      "cell_type": "code",
      "source": [
        "# get one hot encoding for y\n",
        "y_train_oh = get_one_hot(y_train, 10)\n",
        "y_val_oh = get_one_hot(y_val, 10)\n",
        "y_test_oh = get_one_hot(y_test, 10)\n",
        "\n",
        "print(y_train_oh.shape)\n",
        "print(y_val_oh.shape)\n",
        "print(y_test_oh.shape)\n",
        "print(y_train_oh[:3], y_train[:3])"
      ],
      "execution_count": 7,
      "outputs": [
        {
          "output_type": "stream",
          "text": [
            "(50000, 10)\n",
            "(10000, 10)\n",
            "(10000, 10)\n",
            "[[0. 0. 0. 0. 0. 1. 0. 0. 0. 0.]\n",
            " [1. 0. 0. 0. 0. 0. 0. 0. 0. 0.]\n",
            " [0. 0. 0. 0. 1. 0. 0. 0. 0. 0.]] [5 0 4]\n"
          ],
          "name": "stdout"
        }
      ]
    },
    {
      "metadata": {
        "id": "Jqk8B5psQKaV",
        "colab_type": "code",
        "colab": {}
      },
      "cell_type": "code",
      "source": [
        "# run this again if you remake your graph\n",
        "s = reset_tf_session()"
      ],
      "execution_count": 0,
      "outputs": []
    },
    {
      "metadata": {
        "id": "1z2aLp-4dlSN",
        "colab_type": "code",
        "colab": {
          "base_uri": "https://localhost:8080/",
          "height": 34
        },
        "outputId": "e58f555e-8647-47dc-d1ab-fbb2f0065276"
      },
      "cell_type": "code",
      "source": [
        "# Get parameters for x and y placeholder\n",
        "(m, n_x) = X_train_flat.shape\n",
        "n_y = y_train_oh.shape[1]\n",
        "print(n_x, n_y, m)"
      ],
      "execution_count": 9,
      "outputs": [
        {
          "output_type": "stream",
          "text": [
            "784 10 50000\n"
          ],
          "name": "stdout"
        }
      ]
    },
    {
      "metadata": {
        "id": "VcMdjqcxQKaa",
        "colab_type": "code",
        "colab": {
          "base_uri": "https://localhost:8080/",
          "height": 51
        },
        "outputId": "0dad26cb-3087-4096-ed15-e3df4b54db1f"
      },
      "cell_type": "code",
      "source": [
        "# Placeholders for the input data\n",
        "input_X = tf.placeholder(tf.float32, shape=[None, n_x]) # tf.placeholder(...) for flat X with shape[0] = None for any batch size\n",
        "input_y = tf.placeholder(tf.float32, shape=[None, n_y]) # tf.placeholder(...) for one-hot encoded true labels\n",
        "print(input_X.shape)\n",
        "print(input_y.shape)"
      ],
      "execution_count": 10,
      "outputs": [
        {
          "output_type": "stream",
          "text": [
            "(?, 784)\n",
            "(?, 10)\n"
          ],
          "name": "stdout"
        }
      ]
    },
    {
      "metadata": {
        "id": "lyo-HTvlQKaX",
        "colab_type": "code",
        "colab": {
          "base_uri": "https://localhost:8080/",
          "height": 51
        },
        "outputId": "7800beaf-4c87-44d7-8c86-5ec4d805a148"
      },
      "cell_type": "code",
      "source": [
        "# # Model parameters: W and b\n",
        "# W = tf.get_variable(\"W\", [n_x, n_y], initializer=tf.contrib.layers.xavier_initializer(seed=42)) # tf.get_variable(...) with shape[0] = 784\n",
        "# b = tf.get_variable(\"b\", [n_y, 1], initializer=tf.zeros_initializer()) # tf.get_variable(...)\n",
        "# print(W.shape)\n",
        "# print(b.shape)"
      ],
      "execution_count": 0,
      "outputs": [
        {
          "output_type": "stream",
          "text": [
            "(784, 10)\n",
            "(10, 1)\n"
          ],
          "name": "stdout"
        }
      ]
    },
    {
      "metadata": {
        "id": "zmZhZkL_QKad",
        "colab_type": "code",
        "colab": {
          "base_uri": "https://localhost:8080/",
          "height": 241
        },
        "outputId": "75a5fee6-b872-4c47-c3a5-8a66ddb6c37c"
      },
      "cell_type": "code",
      "source": [
        "# # Compute predictions\n",
        "# logits = tf.add(tf.matmul(input_X, W), tf.transpose(b)) # logits for input_X, resulting shape should be [input_X.shape[0], 10]\n",
        "# print(input_X.shape[0])\n",
        "# print(logits.shape[0 ])\n",
        "\n",
        "# probas = tf.nn.softmax(logits) # apply tf.nn.softmax to logits\n",
        "# print(probas.shape)\n",
        "# classes = tf.argmax(probas, 1) # apply tf.argmax to find a class index with highest probability'\n",
        "# print(classes.shape)\n",
        "\n",
        "# # Loss should be a scalar number: average loss over all the objects with tf.reduce_mean().\n",
        "# # Use tf.nn.softmax_cross_entropy_with_logits on top of one-hot encoded input_y and logits.\n",
        "# # It is identical to calculating cross-entropy on top of probas, but is more numerically friendly (read the docs).\n",
        "# loss = tf.reduce_mean(tf.nn.softmax_cross_entropy_with_logits(labels=input_y, logits=logits))\n",
        "\n",
        "# # Use a default tf.train.AdamOptimizer to get an SGD step\n",
        "# step = tf.train.AdamOptimizer(1e-4).minimize(loss)"
      ],
      "execution_count": 0,
      "outputs": [
        {
          "output_type": "stream",
          "text": [
            "?\n",
            "?\n",
            "(?, 10)\n",
            "(?,)\n",
            "WARNING:tensorflow:From <ipython-input-11-afc57d2c2df4>:13: softmax_cross_entropy_with_logits (from tensorflow.python.ops.nn_ops) is deprecated and will be removed in a future version.\n",
            "Instructions for updating:\n",
            "\n",
            "Future major versions of TensorFlow will allow gradients to flow\n",
            "into the labels input on backprop by default.\n",
            "\n",
            "See @{tf.nn.softmax_cross_entropy_with_logits_v2}.\n",
            "\n"
          ],
          "name": "stdout"
        }
      ]
    },
    {
      "metadata": {
        "id": "7W9Z8ZX3QKaf",
        "colab_type": "code",
        "colab": {
          "base_uri": "https://localhost:8080/",
          "height": 309
        },
        "outputId": "2e415f5f-9d52-4c48-808f-7dd997fa9f0e"
      },
      "cell_type": "code",
      "source": [
        "# s.run(tf.global_variables_initializer())\n",
        "\n",
        "# BATCH_SIZE = 512\n",
        "# EPOCHS = 40\n",
        "\n",
        "# # for logging the progress right here in Jupyter (for those who don't have TensorBoard)\n",
        "# simpleTrainingCurves = matplotlib_utils.SimpleTrainingCurves(\"cross-entropy\", \"accuracy\")\n",
        "\n",
        "# for epoch in range(EPOCHS):  # we finish an epoch when we've looked at all training samples\n",
        "    \n",
        "#     batch_losses = []\n",
        "#     for batch_start in range(0, X_train_flat.shape[0], BATCH_SIZE):  # data is already shuffled\n",
        "#         _, batch_loss = s.run([step, loss], {input_X: X_train_flat[batch_start:batch_start+BATCH_SIZE], \n",
        "#                                              input_y: y_train_oh[batch_start:batch_start+BATCH_SIZE]})\n",
        "#         # collect batch losses, this is almost free as we need a forward pass for backprop anyway\n",
        "#         batch_losses.append(batch_loss)\n",
        "\n",
        "#     train_loss = np.mean(batch_losses)\n",
        "#     val_loss = s.run(loss, {input_X: X_val_flat, input_y: y_val_oh})  # this part is usually small\n",
        "#     train_accuracy = accuracy_score(y_train, s.run(classes, {input_X: X_train_flat}))  # this is slow and usually skipped\n",
        "#     valid_accuracy = accuracy_score(y_val, s.run(classes, {input_X: X_val_flat}))  \n",
        "#     simpleTrainingCurves.add(train_loss, val_loss, train_accuracy, valid_accuracy)"
      ],
      "execution_count": 0,
      "outputs": [
        {
          "output_type": "display_data",
          "data": {
            "text/html": [
              "<img src=\"data:image/jpeg;base64,/9j/4AAQSkZJRgABAQEASABIAAD/2wBDAAIBAQEBAQIBAQECAgICAgQDAgICAgUEBAMEBgUGBgYFBgYGBwkIBgcJBwYGCAsICQoKCgoKBggLDAsKDAkKCgr/2wBDAQICAgICAgUDAwUKBwYHCgoKCgoKCgoKCgoKCgoKCgoKCgoKCgoKCgoKCgoKCgoKCgoKCgoKCgoKCgoKCgoKCgr/wAARCAEgA2ADASIAAhEBAxEB/8QAHwAAAQUBAQEBAQEAAAAAAAAAAAECAwQFBgcICQoL/8QAtRAAAgEDAwIEAwUFBAQAAAF9AQIDAAQRBRIhMUEGE1FhByJxFDKBkaEII0KxwRVS0fAkM2JyggkKFhcYGRolJicoKSo0NTY3ODk6Q0RFRkdISUpTVFVWV1hZWmNkZWZnaGlqc3R1dnd4eXqDhIWGh4iJipKTlJWWl5iZmqKjpKWmp6ipqrKztLW2t7i5usLDxMXGx8jJytLT1NXW19jZ2uHi4%2BTl5ufo6erx8vP09fb3%2BPn6/8QAHwEAAwEBAQEBAQEBAQAAAAAAAAECAwQFBgcICQoL/8QAtREAAgECBAQDBAcFBAQAAQJ3AAECAxEEBSExBhJBUQdhcRMiMoEIFEKRobHBCSMzUvAVYnLRChYkNOEl8RcYGRomJygpKjU2Nzg5OkNERUZHSElKU1RVVldYWVpjZGVmZ2hpanN0dXZ3eHl6goOEhYaHiImKkpOUlZaXmJmaoqOkpaanqKmqsrO0tba3uLm6wsPExcbHyMnK0tPU1dbX2Nna4uPk5ebn6Onq8vP09fb3%2BPn6/9oADAMBAAIRAxEAPwD9/KKKKACiiigAooooAKKKKACiiigAooooAKKKKACiiigAooooAKKKKACiiigAooooAKKKKACiiigAooooAKKKKACiiigAooooAKKKKACiiigAooooAKKKKACiiigAooooAKKKKACiiigAooooAKKKKACiiigAooooAKKKKACiiigAooooAKKKKACiiigAooooAKKKKACiiigAooooAKKKKACiiigAooooAKKKKACiiigAooooAKKKKACiiigAooooAKKKKACiiigAooooAKKKKACiiigAooooAKKKKACiiigAooooAKKKKACiiigAooooAKKKKACiiigAooooAKKKKACiiigAooooAKKKKACiiigDxPxd/wAFFP2PvAmoXmn%2BK/ipc2gs9UbTReHwpqj2l5eLfw6fJb2lwlsYb2SO7nigkW3eQxOxD7drY2j%2B2f8As6R%2BObL4c3XjHUbfVLy6sLNlu/Cmpw29le3sUctpY3dw9sIbG8lSWIraXDxzkzRjy8uoPiVz%2Bxn%2B1bH4C8N/s66Zqfw9HgXwn8W9N8V22tXOo3r6rqtnb%2BLrXWxbyQC1EVrLHAlxFvEswuJFiJ%2Bzqzbeh8cfsffGzXfGPi3wPoup%2BFv%2BEA8c/F7QfHuq61dalcrrOnvp8mlTyWEVqtu0Mwll0mLbcNcRmJLhh5TmNSwB6Fa/t1fsv3cGr3w8f30Nno2n3N7LqV54U1OC0vYLedLeZ7G4ktli1HbNJHHi1aYlpEAB3rns/hT8ZfAXxp0m91fwJc6njTdQNlqVnrfh690q8tJxGkuyW1voYZ48xyxupZAGVwQSDmvmbTf2IPj5a6t4mtbTwl8ONN8MazoOp22reBV8Za1feHfFN5cXcEsdw2mTwCPQGCJcEvZyTnzLkMRL5Q3egfs4/sm%2BOvDGmXP/AAu3xl4hhgsfFa6n4L8M6H8ZPEOpQaLbC3tla2mvpmtZtTheeGSUQXUbxRLKY1BQnIB0kX7eP7Kk0fiC6HxNlW18N6Jqur32oy%2BHdQS0urLTSRfzWVw1uItSFuRiQWjTFSQCMkZ5vx3/AMFL/wBmXwh4Vl8TaPd%2BJtceDxF4b0yXTdP8Dav9qeLW78WdnfwxNaB7m1crO0c8IeOZoTFEzyvGjeKaH/wSx%2BI%2BjfBrXPgl5eiXX9m/DfxR4c8C%2BK9W%2BK/ia/LzajZT2VtI%2Bkz5sdLUQzFZjALjJGY0j4A7z4//ALEPxs8d%2BOH%2BIfw%2B1Pwo9zp/hz4cxaTp2r6nc20dzfeG/FE2szxSyRW0phhlidIklVJGDliYsAbgD1V/25/2ZFtteu4/G%2BpzJ4b8Sf8ACPakLbwfqsrPq/nPCdOt1S1JvLsOhJggEkgQrIV2MrGpqn/BQX9lDSbTRp5PH%2Bq3U%2Bv2Wq3WmaXpfgnWLy/ZNMuIrfUFks4LR7iGW3lmRZIpI1kT5iVwjleFtv2OvjToXha08QaFfeFZvFegftCaz8R9G0y61O5j0%2B%2Bgvl1C3NnPcrbNJDILbUZSJFhlCyxJ8rCvMNI%2BEf7S3wX/AG5vCGqeD9N8Dav478U%2BA/iX4l1jSNT128tdItftmt%2BFwlvBdpZyzN5Srb5kNuvnFZfli8wbQD6jsf2yP2adU8Gaz8QtK%2BKVvd6PoNxpMGoXtpY3MoLapDaTaeYVWMtcrcJfWvlvCHVmkKZ3I6r6bXwN8Nv2Q7XwR%2B1Z8Ff2dvBXxLsNdsPh58M9Ff432dmnD3ugLu8PPKqki2klutRnuUjf52i06PGVQGvvmgAooooAKKKKACiiigAooooAKKKKACiiigAooooAKKKKACiiigAooooAKKKKACiiigAooooAKKKKACiiigAooooAKKKKACiiigArzb4q/tdfs/fBPxlH4D%2BJPje4stR%2By2l1efZ9Bvru3023urh7a2nvbi3geGwilmjkRJLl41YxvgnY2PSa%2BQ/28f2Kv2o/2pNZ8Z6N4R%2BIWn/8I5rvhC0s/DFtqHxB1rSoNGvoXnkm8/TtPi8jU47ljApluZG8hVJWCXbscA9gh/br/ZUku9btpviqtrFoGn6hfXeoahot7bWVzb2EywXslndSwrDqAhldI3%2ByvKVd1U8sAdDwJ%2B2B%2Bz78R/EmneC/DXjC%2Bj1vVNTutPt9D1fwzqOnX0Vzb2kd5LHPb3dvHLbH7NLHMvnKgkSRShbIrwzQ/wBjX9rW8/ZXP7IXiDWvh5pWgaLpEn9ga1ZX99qF3qF9FqUN9YC5R7e3W2hjMRinKNO1xuDqIOYz1/jH4S/tp%2BNfiB4H%2BPWqaH8ME1/wZ4l1CS08HQeJtQWzGmXel/ZHLambAyTXAnHnAfY408s%2BVnK%2BawB2uh/t0/steJddsPDmh/EuW4utR0KfWotnh7UBFDpsM9zbzXk8pg8u1gSa0njaSZkUMEBP72Le3w9%2B3Z%2By74m8J6741sviFe21l4dsdPvdSj1fwrqdhctbX8jRWM0Ftc20c13Hcyq0UDQJIJpAUjLN8teO/s%2BfsI/tK/Bjw3q7xfFHwvY%2BKLj4J3fhXR/EWlxzSrY61Jq2rX0V6IZYgDAn263baWJ3RuuCAGbkrH/gnN%2B1HceNNR%2BImoa74div59G8Iz2dvrXxT1/xIw1jw7r39rQrLc6hbB/st3vlR/JSJbU7WjgmJY0AfUHw9/bC/Z2%2BJ%2Buy%2BF/Cnj%2BRdTttLvdQvdN1fRL3Tbizgs5Yorrz47uGJoHia4ty8UgWRVnicrskRj2nw98e%2BFvip4C0T4m%2BBr%2BS70XxFpNvqWkXU1nLbtNazxrLE5imVJIyUZTtdVYZwQDxXxx%2B3H8PfjP8Ybb4c/D3xh4x8IaH8UvFXjTUNFj8PeD724unh8D6lZNaa0vnSpDLMYoUS7N2YYIxPDbRBdxQyfbOnadYaRp8Gk6XZx29rawrDbW8KBUijUAKqgcAAAAD2oAmooooAKKKKACiiigAooooAKKKKACiiigAooooAKKKKACiiigAooooAKKKKACiiigAooooAKKKKACiiigAooooAKKKKACiiigD57%2BP%2Bla/4k/aW8L%2BHPhN8RfGTeL473RNT1SwtPEE8GheHvD1vfs97Ld2sRWG4l1CJLiyiWcTSb18yIRrbSuuX8aNM8Ta7%2B015Hwg%2BLHi5dU0fdqfju5uvFM0Hh7w5pB0qeGHTvsystu9zcXBS7DurzwrvlaaOP7NFJ7D4x/Zm/Zv%2BIni/wD4WD8QP2fvBGu6/siT%2B3NZ8KWd1ebYiTGvnSRs%2BEJO0Z%2BXJxihP2Z/2cIvHY%2BKUf7P3ghfEyyRSL4jXwpZi/DxQpBE32jy/MykUccand8qIqjAAFAHkv7AGp%2BJPC0F38DPiXDqNz4t0nwL4b1rVdek%2BLGpeLLTVorxLuFLiOW%2BP%2BiyNNZXLPFEvlsrxMskg%2B59BeItTm0qyS5gnt4y0oUm4RyOhP8ABznisz4c/B/4S/B6xutL%2BEnwu8OeFra9uPPvbfw5okFjHcS4C%2BY6woodsADccnArhfjn8b7Xwh8cvAPwGvNNQjxro%2BuahbXxmw0c2nGwxCFx8weO8lYnPHkjg7jiXUp02nN2TaXzbsvxOvB4HFZhUlTw8eaUYTm1/dpx55v5RTfyZ2n/AAmd/wD9BLS/%2B/M/%2BFH/AAmd/wD9BLS/%2B/M/%2BFcvRXd7KBw3Z1H/AAmd/wD9BLS/%2B/M/%2BFH/AAmd/wD9BLS/%2B/M/%2BFcvRR7KAXZ1r%2BLb5bKO5/tDTcvK6kmGfBwFPHGc/N/L3qL/AITO/wD%2Bglpf/fmf/CsGb/kC2/8A19Tf%2BgxVVpKnELs6j/hM7/8A6CWl/wDfmf8Awo/4TO//AOglpf8A35n/AMK5ein7KAXZ1H/CZ3//AEEtL/78z/4VLceLb6KKCQahpo82IsS0M%2BD87DjA6cd%2B%2BfauSq1qH/HpY/8AXqf/AEbJSdONwuze/wCEzv8A/oJaX/35n/wo/wCEzv8A/oJaX/35n/wrl6KfsoBdnUf8Jnf/APQS0v8A78z/AOFH/CZ3/wD0EtL/AO/M/wDhXL0UeygF2dbd%2BLb63lEa6hpozEjYeGfPzID2HTnj261F/wAJnf8A/QS0v/vzP/hWDrH/AB9p/wBesH/opKq0lTjYLs6j/hM7/wD6CWl/9%2BZ/8KP%2BEzv/APoJaX/35n/wrzzx98S/hz8KdCHij4o%2BP9E8NaYZ1gGo6/qsNnAZWBKp5kzKu4hTgZycH0ri/wDht39i/wD6O7%2BF/wD4X2nf/Hqwq1sFRly1KkYvs5RT%2B5yT/A9XB5Fn2Y0fbYTB1qsL25oUqs43W65oUpq66q911SPd/wDhM7//AKCWl/8Afmf/AAqW98W31tezWy6hpoEcrKA8M%2BRg45wMZ%2BleB/8ADbv7F/8A0d38L/8AwvtO/wDj1d74Z%2BJ3w1%2BLcN34t%2BFPxC0PxPpR1CWIan4e1aG9tzIDkp5kLMu4BlJGc8j1pU6%2BCrT5adSMn2Uot/cpNjxmRZ9l1D22LwdalC6XNOlVhG72XNOlBXfRXu%2BiZ3X/AAmd/wD9BLS/%2B/M/%2BFH/AAmd/wD9BLS/%2B/M/%2BFfP3jD9s74N/D74ra58KPGv9vWd1okOkD7XB4W1C6ivbnUDceRawfZ4H86UiDhUyWZyoBZHAs69%2B1z8HNL1C90G216WPUrG/gt2h1nRNSsobkPqdvpsj20zWjLdqlxcRRlod6B5Iw7xq/mDo5KZ5N2e8f8ACZ3/AP0EtL/78z/4VLZeLb65vYbZtQ00iSVVISGfJyccZGM/WvC/h9%2B1n8CfinqL6V4C8TalqE62wuYlXwtqUYuYftQtXlgaS3UXCRzsElaIsIScyFBzWZ8cv2rr/wCBPiq9XSPhzFrtj4P8JN4v8c3Uutm0ksNIjmdd1tGIJPtU7Lb3biJmhXFvjzAXAocIWuF2fQX/AAmd/wD9BLS/%2B/M/%2BFH/AAmd/wD9BLS/%2B/M/%2BFeAftWftG%2BIP2bPCCeO7LwJpOrabFbTyXUuq%2BLU017idQvkafYx%2BTM95fXGXEMAVFZoypkUsoOGn7Y2sT/EO48JWXwliuLO48S6r4a8NiPxNEmp6nrVhpsuoSW72kkaR28Tx28ypM1w3IjZlRZQwOSmmF2fTf8Awmd//wBBLS/%2B/M/%2BFH/CZ3//AEEtL/78z/4V8fXX/BRCPTtEuI9T8MeCIdVTxq3h2DUj8TAPDTPHp5vbiV9WeyUp5ODbugt2IuHjjzyzJ0vg79sHWfF/x4X4KP4W8FaTMmnaZdT22rfElF1Wc3Vn9qkSzs4rSSO8EQypdbgK2CwIGMnJTHdn1DaeLb64lMbahppxE7YSGfPyoT3HTjn26VF/wmd//wBBLS/%2B/M/%2BFfJMn/BQPXfCa%2BKo/F3wq8OWN54aOk2%2BpTp8RUm0zRZNSlnt/I1i%2BS0KafPbhFeVEW4VRNFhyrh6j8K/8FCbXxtrvhPwx4e8F%2BHFvtdtILy%2Bi1P4gQWizW0%2BqXWn28uktLAP7WEwsbu6i/1G%2BBYm4aVUC5Kdw1Prr/hM7/8A6CWl/wDfmf8Awo/4TO//AOglpf8A35n/AMK%2BRdU/4KIaZ4a03UfEPiz4d2lrp9xaa5L4NEXidXutTl0zVoNKkhuonhRbFpLm5g2kSTBULmQxsuw7euftZ/EvT/gXL8b9D%2BEfhLWdO0zT9W1HXdV0r4pQT6NFZ2IDZtr1LVnuJZQXCI8ESq0EokkjxGZHyUxXZ9P/APCZ3/8A0EtL/wC/M/8AhUtv4tvpYp5DqGmnyogwKwz4HzqOcjpz27496%2BN/E/8AwUl0Lwj428SeH9W%2BGqm38N6Xqd/eaVDr4PiKG2stGOqNdz6WYR5FnIALeO489t00sKlRvO3o9K/bN8e3XiWb4J2Hwf8AD9z8RZ7uKH%2Bxrbx476XFZPZC/W7e%2BFj5gGE8nyxbEmR0IPlt5lJwpj1PqD/hM7//AKCWl/8Afmf/AAo/4TO//wCglpf/AH5n/wAK%2BU/hd%2B3xofxl%2BInh3wb4E8LaOsGq6VptzqcOteM7ez1a3mu7Q3bQ21iUP237PG0JnZZU2iX5BJtIrP8AH/7d3j74W/btK%2BInwN0HQtWiTw/cwW%2Bq/ENUtbK11XUJbJDqV0lm6WUsZhd2SMXEbBX2TMFLUclMNT68/wCEzv8A/oJaX/35n/wrU8N61cav53n3NrJ5e3H2ZJBjOeu8D07V5N8MvFt1478B6Z4wu5NCdtRt/OWTwzrp1OwdCTtaG6MMPnKVwd3lrySOcZPovw2/5ff%2B2f8A7NSqQioXQJu51FFFFcxQUUUUAFFed/tIfFDxj8N/D/h7S/h2mmLr/i7xfY6BpV3rVrJcWlm0u%2BWWeWKKSJ5QkEMxWMSR7n2AuoJNeV6/%2B2F8StN%2BCnhjxLqmq%2BDfDOpXnxT1jwX4t8Z67p08mhaN/Z0uqw/b3h%2B1RMkdzLp8EUaSXKiN79FMkjKFkAPpiuZ8QeMtU0nV5tPt4Ldkj27S6NnlQeze9ZX7Mfxjb9oD4BeFvjDNp8drPrmlrLd28IcRx3CsY5QnmAPs8xH27gG24yAcip/Fulapc%2BILia3024kRtm10hYg/IvcCtaSi5aiY7/hYetf8%2Btr/AN8N/wDFUf8ACw9a/wCfW1/74b/4qsv%2Bw9a/6A91/wCA7f4Uf2HrX/QHuv8AwHb/AArfkpeRN2an/Cw9a/59bX/vhv8A4qj/AIWHrX/Pra/98N/8VWX/AGHrX/QHuv8AwHb/AAo/sPWv%2BgPdf%2BA7f4UclLyC7NrUfHesWeoT2kdvbFYpmRSUbJAJH96of%2BFh61/z62v/AHw3/wAVVTWNH1eXV7qWLSrlla5cqywMQRuPPSq39h61/wBAe6/8B2/wpKNOwXZqf8LD1r/n1tf%2B%2BG/%2BKo/4WHrX/Pra/wDfDf8AxVZf9h61/wBAe6/8B2/wo/sPWv8AoD3X/gO3%2BFPkpeQXZtad471i81CC0kt7YLLMqMQjZAJA/vVD/wALD1r/AJ9bX/vhv/iqqaPo%2Brxavayy6Vcqq3KFmaBgANw5PFVv7D1r/oD3X/gO3%2BFLlp3C7NT/AIWHrX/Pra/98N/8VR/wsPWv%2BfW1/wC%2BG/8Aiqy/7D1r/oD3X/gO3%2BFH9h61/wBAe6/8B2/wp8lLyC7NT/hYetf8%2Btr/AN8N/wDFVNY%2BO9Yup2ie3tgBDI/CN1VGYfxe1Yv9h61/0B7r/wAB2/wqzpWj6vHcs0mlXKg20wy0DDkxMAOnrScadguy3/wsPWv%2BfW1/74b/AOKo/wCFh61/z62v/fDf/FVl/wBh61/0B7r/AMB2/wAKP7D1r/oD3X/gO3%2BFPkpeQXZqf8LD1r/n1tf%2B%2BG/%2BKo/4WHrX/Pra/wDfDf8AxVZf9h61/wBAe6/8B2/wo/sPWv8AoD3X/gO3%2BFHJS8guzatvHesTwXErW9sDDCHXCNyd6r/e/wBo1D/wsPWv%2BfW1/wC%2BG/8AiqqWOj6ulteK%2BlXILWwCgwNyfNQ4HHoD%2BVVv7D1r/oD3X/gO3%2BFJRp3C7NT/AIWHrX/Pra/98N/8VR/wsPWv%2BfW1/wC%2BG/8Aiqy/7D1r/oD3X/gO3%2BFNm0nVLeJp7jTbiNFGWd4WAA9yRT5aXkF2a3/Cw9a/59bX/vhv/iqmTx3rDafLdm3ttyTRoBsbGGDk/wAX%2ByK85174u/CfwsxTxP8AE/w7ppX7wv8AWoISP%2B%2B3Fc3f/tt/sa6Jpdxa6r%2B1j8N4JftMR8l/G9hvwFkydolz3HbvXPUxGAp/HUivWUV%2BckctTHYOl/EqxXrKK/OSPZP%2BFh61/wA%2Btr/3w3/xVH/Cw9a/59bX/vhv/iq%2Bebz/AIKLfsKWJIn/AGr/AAO2P%2BeOvRSf%2BgE1l3f/AAVF/wCCf9lnzv2pPDbY/wCeLTSf%2BgxmsJZnk0d69P8A8Dj/APJHNLO8nh8WJpr/ALfh/wDJH01/wsPWv%2BfW1/74b/4qj/hYetf8%2Btr/AN8N/wDFV8pXP/BXL/gnVaEiX9prTjj/AJ5aPfv/AOg25qjN/wAFj/8AgnQriGy%2BP8t5Kfuw2fhHVnY/%2BSuP1rF51kEd8TT/APA4/wCZi%2BI8gjvi6X/gyP8AmfYL%2BO9YXT4rsW9tueaRCNjYwoQj%2BL/aNQ/8LD1r/n1tf%2B%2BG/wDiq%2BS3/wCCvH7IdzpkMGlw%2BPL0LPI/mWvw%2B1EqQVQDBMQ/umoV/wCCrn7P138mg/C34s6rJ2i0/wCG14zf%2BPAVKzzIf%2Bf8Pvv%2BSYv9ZMh6YmD9G3%2BUWfXX/Cw9a/59bX/vhv8A4qj/AIWHrX/Pra/98N/8VXySv/BSyG7%2BbRP2CP2mdRU/dey%2BEkjK30zMKX/h4Z8Q7n/kG/8ABNL9pR/T7V8OhD/OY0f23knSpf0jUf8A7jD/AFjyfpVv6QqP8qR9a/8ACw9a/wCfW1/74b/4qprrx3rEEFvKtvbEzQl2yjcHey/3v9kV8if8N3ftBXP/ACDf%2BCYHxyfPT7Vo0MP83NTXX7aP7ZWpw20Wh/8ABKr4luYoSn%2Bn63ZW2fnZv4s460v7aym%2Bjk/SnU/%2BQD/WHLHtKT9KdV/%2B4z6v/wCFh61/z62v/fDf/FUf8LD1r/n1tf8Avhv/AIqvjnUv2yP2/wCyJH/Dr2W1x1bV/jPpFrt%2BodM1h337dv7cdrn7X%2Bxt8PtOx1GofHrSjj64AqJZ9lMd1P8A8Fz/AFSOujmE8T/Aw2In/hw2If5Uj7i/4WHrX/Pra/8AfDf/ABVdN4f1GfVtIh1C4VFeTduCAgcMR3%2Blfm/f/wDBQ/8Aa8tgftfw1%2BA2lY6nUvjtYHH12sK%2B3v2N/iP4p%2BLf7N3hv4heNZPC7anqAu/tJ8Ga4upab8l5PGvk3KkiT5UXdg/K%2B9f4avD5tgMdUdOhe611jbT5t/kehCnmSjz18HiKUP5quHrUoN9lKpTjFy6qKd7Ju1kz06iiiuwoKKKKACiiigAooooAKKKKACiiigAooooAKKKKACiiigAooooAKK8o%2BNf7Qfj/AODvjjR7ab4OQXnhLUNe0PRZvEUviZYruW81O/Fmi2lisMhuFgLxyztJLBtiLsgl8thXM/EH9uWH4beO9cPiH4cxr4C8M%2BKl8Na34vXXD9qi1I6SmpZSx8ja9sBLFbmXzw/nOR5RRTJQB77Xx3/wVAWXwB8c/wBmf9ogSskOi/FGbwxeMD8qQ61amBmb/ZBtxyehxXtn7O37Rniz4u%2BIL/wX8R/hbb%2BFNat/Cuj%2BJbSzs/EB1GOXTdSN0kIeQ28Hl3EclnMssSh0XMZWWQNx5f8A8FnfBuoeLP8Agn54v1TQgV1PwxcWfiDTJgMmGSynWd3H0iWX868zOIyeWVJR3glNesGp/wDtr%2B8%2B78Mq1GHHeBoVnanXlLDyb2UcTTqYdt%2BSdaD/AO3T1iisb4deM9P%2BI3w%2B0L4haSR9l17RrXUbbByPLniWVefowrZr6GEozgpR2eq%2Bev6nwtehVw1edGqrSg3Frs4txa%2BTTXyCiiiqMi1N/wAgW3/6%2Bpv/AEGKqtWpv%2BQLb/8AX1N/6DFVWkgCiiimAVa1D/j0sf8Ar1P/AKNkqrVrUP8Aj0sf%2BvU/%2BjZKT3QFWiiimAUUUUAWtY/4%2B0/69YP/AEUlVatax/x9p/16wf8AopKq0lsBiePvhp8OfitoQ8L/ABR8AaJ4l0wTrONO1/SobyASqCFfy5lZdwDHBxkZPrXF/wDDEX7F/wD0aJ8L/wDwgdO/%2BM1s/H39ov4N/sv%2BBF%2BJfxz8Y/2HojX0dmt7/Z9xc5ncMUTZbxyPyEbnGOOT0rxX/h81/wAE1/8Ao5D/AMs/Wf8A5Drycbisgo1%2BXGTpKdl8fJe3T4k3bsaR43r8Pr6pDNJYdfFyLETpLXryxqwWtt%2BXW27seo/8MRfsX/8ARonwv/8ACB07/wCM13vhn4Y/DX4SQ3fhL4U/D3Q/DGlDUJZRpnh7SYbK3EhOC/lwqq7iFUE4zwPSvnH/AIfNf8E1/wDo5D/yz9Z/%2BQ69x%2BC/7SXwW/ap8MXfxT%2BAvjP%2B3tBbVp7UX/8AZ1za/vU2sy7LiON%2BA6nO3HPXrSwWKyGtiOXBzpOdn8HJe3X4UnbuEuN6/EC%2BqTzSWIXxcjxE6q068sqs1pffl0vurnFeOf2VNT8Y/tAJ8ZYfiNb2tgb7Qb240V9CaWZ7jTGvthW4%2B0KqpIl6QVMTFWjDBiDtHmUf/BMi%2Bj8ew%2BOl%2BMWircC7nOoXkfgILqGqwP4g07WkN5d/bN9xcI%2BnLAJWGwRyHbChB3e1eJ/2nvAXhPxlffD/AFPRtZbWLPxDpWlQ2MFtEz3v2%2BFpo7qEeYN0CRw3hkY7XH2C42o%2B1N/j2s/8FN/BHiLTrK/%2BGGn%2BV9k12e38Uwag9jqUtvZ/8I5reqwyw/2fqDwmUy6VsMMkyOAJFZYy6SD1XydSNT0T4W/sqat8J9T8I6zofxItri48K%2BE9S0LF1oLFLpLzU7O9klwtwCjKlq0SjLDdKHOQhje18cv2UL347%2BKrxtK%2BIyaFY%2BMPCbeEPHNrJo32p9Q0iSZ2K28gmj%2Byzhbi7QSssqgXBPlkqprmH/bavfEHxK8D%2BC/h58MtYvtN1zxbe6LquvXVnbx295LbaBfajJb2X%2Bmb451nt4YiZ1ERAmVXbb5i998UPiT8UNO%2BI3gL4V/CJ9E03XvFlxeXL6h4o02W9t7K3tIUd1MFvcQmSRpZoEyJQqqXb5sAEfLysNbmb8e/gZ8V/jN4c1DwjpXxp03R9L1vRdT0XW9NufCH223nsbsKqyIpukKXcUYdVlYvE3msWtzhQOa139iWfXviu/xKPxKsbCawtbj/AIRjV9L8HW0Ov2FzJpT6bHLPqRZvtscMc9y8cckI%2BeVd7OI1FbEHxy%2BJHxA/ZV8I/tA/D6203Rptc0Ky1jW47zw5qGvvYQS2vmyR29jp5jnvZRMY4wFZMIXk%2BbaEbzX4aft4eOPiJ4z8I6Lf3fhPQYLrQ/DE3iKOfSb%2B9hu7/V9/%2BjwahbO1tYFR5Swi48z7TNKYFZCnmMPlDU65/wBjrx/deMn%2BNepfF7w9N8Qk1%2BHULTVF8CSLpKRppk2nNE1ib8yu7xTuzSi5VtyRDHloY2NE/Yo17QvDPg74WW3xhtpPBnhNvDs62cnhOJdVluNH8poDHfRzKsUTyQxs0bQSMFaWNHVHCpreA/ir%2B0b46h%2BK3hr7D4H0/wAQeDvH9tpGizSm7ksbfTpdN0u%2Bee5O5XuZo476Y7U%2BzpI0aR7owTNXID9oT9pvxT8FdA%2BIngTxT4CTUdf8Vz%2BH/D8N14Kvp7fxGf7Qmhg1O2K6nG1vaNZwtelT558mJ3R5FKZPdDU10/Ym%2BJvifxPa%2BPvGP7RFlqfirQrLTIvD2ry%2BCtkMqadJcTq%2BpQLef6dNIZmy8b2yxv8APHGhJFZZ/wCCe0sWmXGnWXxWskbxLB5Pj24k8KbpL2Ma9fa2F08i5H9nbbjUrxE3faNqGHq8Qduyh8bftUP8e/EPwz8H%2BK/h/qlrp3gy61NvtXhK/tX02W5kki06KWZL%2BYXR8uC8kkVIoi3kxAGMThk8t8Zft6/FTwx%2BzB418caFoOh6z450C411tGtrrQr3S4ZbDS7KO8ub6%2B02eZruwVFcRCKRw8jzWjAolypVe6mw1Op8Vf8ABP7SfH3jPxN408Z%2BK/D8l3qlveJot1pfgO2s7iOWa/tr6KbUZEkI1R4HsraKMlIcxCUPvaUyBdX/AGMfivqV1Bqf/C8fDE0l540ufFXinSdR%2BH9xLpOqal5FnBZstrHqkbxx262nmeXJLMslw4nOGjTHSeOvjv8AFzwT8cPFng2bw94Zl0HS/hfd%2BJPDwkv3hubq5t2jVhdXEpWG2iZ3ZMbW2rH5jSfMY0868Bft1fEvXvhj4nvJNJ0vVvFSGwtvBdrJ4U1HQDd3l1YPdsLiwvpXuVtreOOSd7pWCTRRSiIF0%2BZ%2B6Gp2cX7HPitvHg8TXPxktY7GDxPqfiaxhs/Cai9h1e%2B0qfTpXa4muJY5bVFuZZEt3hJBWFGkdIsNn%2BAP2B9X%2BH87fEXwH8Q/Ceh%2BNrHURdQXei/DhbTRBaG1%2BxtZ/wBmxXisAWle5MguAxnOf9X%2B6qQftFfHz%2BzfhV41MXgx7Hx/D4eiXwxbWV3JqmoS3kay6jcwSecEtYLOBjcbWSfekLhpI2ZK4nwN%2B318YPiD8Dbz4o%2BDrzwy93rtt4X1DRdFX4ea5PeaTpWqaxBBJNJAJUOsCK2kB8%2BzZEE0ciFSAMp8oanY%2BFv%2BCf8ApvgWbQ9D8JfEaOLw9Y3fhvUNct7zQBLqWpahoqRrbTpeLMiwLJ5EPnR%2BS%2B4CQIYxK1aPw1/Zh%2BPfgDwhqWnXfx68Iaj4g1PWYNYvfE8vwylM2o36SqzveJNqcvmR%2BWoiijhaAwKkYjZVQISL9ov4lXE3wivPDWv%2BEvEWh%2BMfGN5oPirWYtDvtNuEnitdRlEMFjPM72ckUlkY5hPI7qyMvlKWzHKfi9%2B0If2kLn4DT6r4StDqWgapqWjXMvhHUfL05YLm2S1zPNcwx6u8kM7PNFaiL7K4VXchkaR%2B6Gp6D8BvhM3wV%2BHS%2BC7jX01S6n1nU9W1G9hsvssUl3f3099P5UO9/JiEtw4RC7kKBud2yx9a%2BG3/AC%2B/9s//AGavD/2XvHfxP%2BJXw/vvGPxJ1bQNQiuPEN5F4Z1Dw/ok%2Bnx3emQsIUuHimurk5lljnlRlk2tBJCdobdXuHw2/wCX3/tn/wCzVNT%2BGC3OoooorkLCiiigDlPjF8ItE%2BM3ha38Oarrmp6Tc2GrWuqaPrWjSRLd6deW8gkimi86OSMngqyyRujo7qykMRXKaR%2ByrB4X%2BG8Pw78E/Hjx7ob2%2BuT6wmu6dd2H2x765kuJr2WUSWbwXAuZrueZ45YnjWRlaJIvLj2erUUAYXwx%2BHPhj4RfDzRfhh4Lt5Y9L0HTYrKyFxOZZWRFA3yO3MkjHLM55ZmJPJrA8Z/8jLc/8A/9AWu8rg/Gf/Iy3P8AwD/0Ba2ofGTLYy6KKK6iQooooAta5/yGrz/r6k/9CNVata5/yGrz/r6k/wDQjVWktkAUVm%2BLPGPhHwFoM/inxz4p07RtMtV3XOo6rex28EQ9WkkIVfxNeAeLf%2BCsP7FOhao3hvwb8QdR8c6wPuaR4D0C51OWX/ddEETf991yYrMMDgrfWKsYX2u0m/Rbv5JnFi8yy7AW%2Bs1owvsm0m/Rbv5Jn03of/Ias/8Ar6j/APQhVWvmHSv2z/22vibqlsv7PP8AwTl8RWsUk6GDVvijr9voixncNpe1%2BaVh7K2RUH/CqP8Agq98U/m8cftRfDv4aW0nLWvgLwg%2BqTBf7pkvyArY6svQ9K4v7Zp1H/s9GpU9IOK/8CnyL8GcP9uUqv8Au1GrV81Bxj/4FU9mvwZ9S1R13xN4b8LWn2/xN4gsdOgzjz7%2B7SFPzcgV80XH/BOPxPr8D3nxp/4KEfG3V4lUtcwab4pj0mzcd98cUZG3/gQxXnPib9nT/giR8Fr19S%2BLXjfwvrWrIMTyeIvH9zqt4cf3oI52/wDRdZV8zzClHmnRhTXepWivwin%2BZ6WW4HjXPq3scryyVSXZOVR/ONGlUa%2BbXqfVusftW/su%2BHlZ9e/aR8BWQQZb7V4wso8f99SiuA13/gq9/wAE9vAd46av%2B03o10/kyoiaLaXWoF2aNlUA2sUgOSQM5xXzzpnxj/4I9mXy/gd%2BxFd/EmVGwi%2BEvg5Lf72HYfa40Br0v4f/ALRnx402Uxfsw/8ABH/WNMRraVY317UNL8MiNDGwLFChPAJO0HJxgV5rz3FVVanVpP8AwQrVfyio/wDkx9gvCvxeX%2B%2BYahg13xFSFJr1jXxFGS%2BcP8jWP/BWD4Ka1x8L/gV8ZPGpb/VHwx8OLiQP9DKY%2BKB%2B3B%2B174q/5JZ/wTD8dXKt9x/F3iex0PHuVl3kfSj%2B2v8Agr/45OdP8FfBHwLbN95dW1HUNTu0%2BnkYiJ%2BtL/wzp/wU38Vc%2BKP%2BChuh%2BH42/wBZbeF/hbaTZHoJLh9y/XrT%2Bs5zW2dZ/wCGjSp/jUqSf3oX/ENMZT/5GPE%2BCo91Tbqtf%2BCsPW/9KfqJ/wALN/4K3%2BKfm0L9mP4TeFQ3RfE3jO4viv1%2BxqM/hS/8In/wWF1/nVfi18CdA3dRomhandFfp9oIzR/w7s%2BKXiP5viX/AMFHPjfek/6xPDuuw6Qje22KNuPaj/h0j%2BzFqwx8QfGPxL8Wg/6weI/iFeS7/r5bR0fVM5q7xq/9vYiEfwp0n%2BYf6i8AUf8Ae%2BJ8RUfajhq1vk5yoL8EZGt/D39urSILs/Ez/grj4M8HxrADPBbfDnSV3DzE%2BUPdTKy84Oevy15t4jn%2BFNmxi%2BKn/Bd3W7k/8tk8JeINNs2HqB9l80qa%2BhvBn/BKX/gnr4Wtrl9O/Zf0KdorcMh1S4ub3nzEGf8ASJXzwT%2Bdd14c/ZL/AGWPCCgeFv2bfAenlej2nhGzjY%2B5YR5J9zSWS5jUfvKP/b1bET/KVNB/q34MUP4lXMsT6yo0k/lKtVa%2BR8F6vrn/AASKhk8v4gf8FDvjD40uTx/p/ivWbxpD6Zt7VR%2BtVYtB/wCCNeryibSf2cPjF4/kBzGbfT/EFwXPqA08QP41%2BmWj%2BGvDnh6PydA0CysUxjbZ2qRD8lAq7T/1YlP4/Y/%2BCXL8alWQfUPBKj8OQ1qv/X3GR1%2BUMM3/AOTM/OTRPD/7GUAH/CvP%2BCJPxYv0H3JfEPgoxK/vm5uZMj3NdfpNtaxaZIvgv/ggLpcn76PbcavDoNq68P8AKWlhZhnr1/hr7sq1D/yBbj/r6h/9Blrojw2oLSrFf4aNBf8Atkjqp5l4a4XTD8LYb/t%2BtiZ/kqf6Hw5ZQftOTYXw1/wRJ%2BGuij%2BCXUPGmhMB7lYbcEfStSz8L/8ABRW6wfD37FP7Ovh7%2B7/aV7LPt%2Bv2eMfpX2LRXTHIYrfET%2BSpR/8ASaR0x4t4fof7tw5l8PWnXqf%2BnMSfJtr8NP8Agq9djm5/Zp0BT0GkaBqkzKP%2B2oAzV%2BD4F/8ABUy8XE37aXgDRd3VdI%2BGiTAfTzmGa%2Bo6K1WSUFvWqv8A7iSX/pKibLxCxdL%2BBlmAp/4cFRf/AKcnUPmeT9k3/go1qGmQy65/wVPnSJriQC2074OaVFsO2PJD%2BZk5yOvTHvVf/hhn9q3UP%2BRg/wCCnPxCkz97%2BztAsbT8toOK%2Bqpv%2BQLb/wDX1N/6DFVWmsjwD%2BJzfrVqv/29Ff8AETeKY/w44aH%2BHBYKP/usz5f/AOHcvxBvedb/AOCjfx8kJ%2B99g8WRWw/DbCcUf8OvNDuudd/bg/aO1LP3lvPikxU/gsAr6goo/sHKXvTv6yqP86gv%2BIp8er4MYo/4aOFj%2BWDv%2BJ8v/wDDpz9n%2B4/5DXxY%2BLWpf3vt3xGum3fXbirF5/wR2/YYnt7VvEHg3xLrHmwFnGp%2BOtTcE%2BY4/hnXsBX0xVrUP%2BPSx/69T/6NkofD%2BSXV8PB%2Bqv8Am2P/AIiv4lr4M3rx/wAM1D/0inA%2BZNP/AOCRP/BOnTABbfs0WLY6faNc1Gb/ANDuDW1Z/wDBMX9gSxx5H7LXhdsf89reST/0NzXu9FaxyTJofDhqa/7cj/8AInHW8SvEXEfxc5xcvXE1v/liPHbL/gnv%2Bw3YY8j9k7wE2P8Anv4at5f/AENTX0T8F/A3gv4bfDTTPBXw88I6ZoWj2Qm%2Bx6Vo9jHbW0G%2BZ3bZHGAq7nZmOByWJPJNcxXeeDP%2BRatv%2BB/%2BhtWn1PB4ZXo04xflGK/JI8PMOIeIM4gqePxlatFO6VSrUmk9rpTqSV7N62vq9dTUooopHlBRRRQAUUUUAFFFFABRRRQAUUUUAFFFFABRRRQAUUUUAFFFFAHjnxF/Z8%2BMniz9o3T/AI56D8X/AAqlhoulJaeHvDviTwJdagNJmYyC7vIJYtUt0FxPG6w%2BY0TNHGhRCBLMJMHxr%2Bwu3xF8Y6svjH4mQT%2BCvEfiZPEviLwpb6A0c9zqo0hNMPl3ZuGEVqRHFceSYnk85M%2BdsJSvoGigDyb9nX9nHxV8IPEF/wCNPiL8U4fFmtXHhbR/DVpeWugf2ckWm6abp4d8Znm8y5kkvJ3llUojfuwsUYTnjf20fidLJ8WPBP7IeqzQJovxi8FeMLG7LKfMa4trey2KDn7hguLzcuDkhDxt5%2Bi6%2BOv%2BCvMKfD%2B0%2BCn7UsQ2N8Pvi9YRapcdPK0rUFa2u%2Be2cQj05rz80qyoYKVRbJxcv8PMlP8A8lkzgzLH4rKsMsdh5csqU6c7roo1INv5LX/t0qf8EpPib4l8V/sI%2BB9M1bVbqPUPDEFz4e1C2%2B0N%2B4eyuJLdI%2BvGIki496%2Biv7c1r/oMXX/gQ3%2BNfKX7AX/Fvfj9%2B0Z%2Bzw42Lo/xMXxJYwngLb6vbrOqp/sqYj06E%2B9fUddORNyymlGW8E4P1g3B/wDpKfzP0jxOoUqXHmOrUVanXlHEQXTlxMKeIVvJOtNf9ulr%2B3Na/wCgxdf%2BBDf40f25rX/QYuv/AAIb/GqtFetZdj4I05dY1caRBKNVudxuZQW89skBY8Dr7n86rf25rX/QYuv/AAIb/Gib/kC2/wD19Tf%2BgxVVpJLsBa/tzWv%2Bgxdf%2BBDf40f25rX/AEGLr/wIb/GqtFOy7AWv7c1r/oMXX/gQ3%2BNWb7WNXS2s2TVbkFrYliJ25PmuMnn0A/KsyrWof8elj/16n/0bJSaV1oAf25rX/QYuv/Ahv8aP7c1r/oMXX/gQ3%2BNVaKdl2Atf25rX/QYuv/Ahv8aP7c1r/oMXX/gQ3%2BNVaKLLsBp6rrGrx3KrHqtyoNtCcCdhyYlJPX1qt/bmtf8AQYuv/Ahv8aNY/wCPtP8Ar1g/9FJVWkkrbAWv7c1r/oMXX/gQ3%2BNH9ua1/wBBi6/8CG/xqrRTsuwFr%2B3Na/6DF1/4EN/jVnWNY1eLV7qKLVblVW5cKqzsABuPHWsyrWuf8hq8/wCvqT/0I0rK%2BwHmXxM/Zn8A/Fr4r2/xf8Yarrb6hB4YutDktLfUdlvPDNHcQrM427/Ohivb%2BOJ1dQq39xkMWUrwM3/BO/wBqNzHd%2BIvjb8Q9Ukj0eDTT9rv9PVWhg0rVtKhIWKyRYylrrN0oCBVLJGzKx8wyfQNFHLHsO7PH9F/Y48OeGvGukeMfD3xh8c2cega7d63ouix39m1naajdaXPps90qtamRmaO4kl2u7IJSSFCM6N3fxC%2BEs/xc1PwzdyfFHxR4f1rw/fO2l%2BJdAubYXkazwtBOhFxBNCySI2SpiOGRGXaUUjpataH/wAhqz/6%2Bo//AEIUOMbPQLs81l%2BAMen%2BBfDXw%2B%2BH/wAXfGXhOx8GRWkPhM6Bf2%2B7TYbezezEO24glS4jaFzuW4WXDBXXYyKRz2l/sV/DrQl0XT9D8b%2BLLTStM/sZ9T0WPUYWt9duNLuze2VzeM8JlMqXP71jC8QkIVXDooQew0Ucsewrs8W1r9jWbxHonxC8Pa5%2B1D8Srm1%2BJmq22oeJonbRQryQxWVvsULpoDRSW1hDbSRSCRJImkDAly1dxYfCO8N34N1PxZ8WfFHiC88D6rc3%2Bj3WpPZQl5ZrOezxIlpbQx4SC5mVNiIRuOSwyD2NFHLHsF2cpJ8D9I12fx40njbxNa3PjyaK9vtQsdW8m40%2Ba1soYbc2rqvyBGtklCyeYDI8m4FG2V5/4x/YG%2BAfxR8AeLPCHxl02Txpq3jL7c%2Bq%2BN/E%2Bm6fcaxDNdWUFiZ7aQWqxWsiW9raonlxKo%2BzRsyswJPuuj/8fb/9es//AKKeqtHLG%2Bw7nk/in9knw94v8bXfiHVPin4rj0G98E3HhCXwHZppsGjrok0QjkskCWQuET5Qw2zgqRgEJ8lQj9ir4PeIrbVZPjYLj4nalqtrb2ra38QtP0%2B9ubWCCKWOCOAJaxxRbBNM28R72aVizNwB69RRyx7Cuzx74cfsc6J8IPGGgeKfhh8ZfGOiW/h3wvp/h2x0O0h0g2Y061fe0I32DSw/aJPnuDDJGZGCnKmOPZd8Hfsf6L4RsbxvCvxu%2BIGnT6b4ftNJ8IXVnqtqj%2BGNNt72KaOxtALbZJB8qRst0twWjjRCSBXqlWtP/wCPS%2B/69R/6NjpOMbbDuzxS%2B/ZCSSx8L2miftFfEPSpPC/iq88TLd2culSS6jrF0bvz7y4M9hINzC9uF2RCOJQwCou1cb3h79nm20H4ir8RJ/i5411JrJtVfw9pWp6rDJbaHJqMokuntmEInYk5CCaWVYkYpGqLhR6HRT5Y9hXZlfCrwpD8Hfhf4b%2BEnhLWtRbSvC2g2ekaa11dZlNvbQpDGXKhVLbUGSFAznAHSvQvAF9e3v2v7ZeSy7fL2%2BbIWxnd0zXJV1Hw2/5ff%2B2f/s1RVSVNjW51FFFFchYUUUUAFFYHxL%2BJ/gn4Q%2BFH8Z%2BPtUltbFbqC1jFrYT3c9xcTyrFDDDBbo8s8ryOqrHGjMSeBXOah%2B1L8EdP%2BHuifE7/AISa%2ButM8R6lJp2iQaZ4cv7y/u7yMTma1Wxgge686IWtyZYjEHi%2Bzy%2BYF2NgA9Crg/Gf/Iy3P/AP/QFrp/A/jbwr8SfB2l/EDwNrUWo6PrVhFeaZfQAhZ4JFDIwDAEZBHBAIPBAIIrmPGf8AyMtz/wAA/wDQFrah8ZMtjLooorqJCiivkr4xftE/Fb9sP4i6j%2Byn%2Bw/4hbTtJ02b7N8Sfi/AC0Gkr/HZaewIE12wyC6nCdiD868WNx1LA002nKUnaMV8Un2X5tuyitW%2B/Bj8wo4CmnJOU5O0YL4pPsvzbdoxWraW/sf7Uf7cn7NX7Mev3OjfEj4gRza/Pdutj4S0OI3uq3Tsx2qtvFll3dmfYp9a8lHxu/4KSftIfuvgZ%2BzvpPwj8Pz/AHPE/wAU7gz6m0Z/ij06HPlSDj5Ztyn1r0XwF%2BzB%2Bxt%2BwF4f1Txtp2laRoYsjIdZ8d%2BKb1Zb%2B5JJDPLdzHdlzzsTapY8Lk4rzq7/AOCgPxX/AGhLqTw9/wAE%2Bv2eL7xbB5hif4jeMo5NL8PQEHBdN4E13g9UQKw64IrxMVXxCtHG1%2BRy2pUU3N/9vWc35uMYRX8x7WQcBcb8Y0p4lNUcNB2nNSjSow62qYqrZc1vsU4ub%2BzB6F3wz/wTL%2BGWq6vF8Sv2yfinr/xk1%2B0zN53i%2B68nR7I4yxg0%2BMiGNOuVcuvfArS8Uft7f8E/v2awvw%2B8E%2BLtDutQ3%2BXbeFPhno4vppJB/wAsxHZKY0YejstYVt/wTt8ffHO4TXP29/2mNd8eIXEn/CD%2BHJG0jw9Cc5CNHCRJc7e0jFG9c1758KfgJ8E/gZpn9kfB74U6B4bhKBZP7I0uOF5R6yOo3SH3Yk1WEwmNhd4WhCgnvKf7yo/N2e/%2BKo/TofV4Th3wo4Tv7SrUx9b7Sw69jSb/AL2JxEZ4ir5uFGCf2XszxDSv2yf22vixqlsn7Nn/AAT41uwgknQ2%2Bu/FjWYtGjjO4bS1mpaZ1P8AstnFVx%2Bzx/wUp%2BLp834zftq6H4Gs5OZtE%2BFPhfcxB7Le3h85CPUA19X6H/yGrP8A6%2Bo//QhVWu3%2ByZVn/tOIqT8k/Zx%2B6mk/vkzt/wBfaGA0yXKsLhu0pU3iqvr7TFOpFPzjQj5WPl%2B3/wCCS37Nevzpe/HPxp8RvifcKwcyeOvHd1Ou7rkLAYhjPQHI%2BteqfDv9jH9kz4T7H%2BH37OXg3Tpo8bLxNAgkuP8Av86tIfxavTKK6KGT5Vhpc1OhFPvZN/fLmf4nmZn4g8c5xR9ji8yryp/yKpKFP5U6XsqaXkoW8hscccMaxQxqiKMKqjAA9AKuaP8A8fb/APXrP/6KeqtWtH/4%2B3/69Z//AEU9eg9j5DdlWiiimIKKKKALWn/8el9/16j/ANGx1Vq1p/8Ax6X3/XqP/RsdVaS3YBRRRTAKtQ/8gW4/6%2Bof/QZaq1ah/wCQLcf9fUP/AKDLSYFWiiimAUUUUAWpv%2BQLb/8AX1N/6DFVWrU3/IFt/wDr6m/9BiqrSQBRRRTAKtah/wAelj/16n/0bJVWrWof8elj/wBep/8ARslJ7oCrRRRTAK7zwZ/yLVt/wP8A9DauDrvPBn/ItW3/AAP/ANDasa/wDjualFFFcpYUUUUAFFFFABRRRQAUUUUAFFFFABRRRQAUUUUAFFFFABRRRQBl33jfwXpfiuw8B6n4v0u31zVbea40vRp9QjS7vIodvnSRQlt8ipvTcyghdy5xkVzus/tLfs5eHPHL/DDxD8f/AATYeJY32P4dvfFVnFfK3ledgwNIJAfK/eY2/c%2BbpzXlHx%2B1jwp4V/bf%2BF3jRfhf4puruz0rVbbXvEeg/DXVdQjjglhC2cMt5aWkibRK05CF/wB35jMQofJ3fix4Y1n4y/G0abqvhTXJPC/hj4Z3epaa8enNH9s1jUxcWa%2BSZ9ifarezhuk8tmUoNUG/buU0Aek/DL42fBn412Nxqnwa%2BLnhjxbbWjIt1ceGNft7%2BOEuCUDtA7BSwBIz1A4ryf8A4Ki/Cz/hc/7CXxE%2BH8Vt51xPoE11YxAZL3NsjXUKj3MkKD8aj/YVv/iRaRar4BvNT8b6p4F8P%2BGNAt/Cuq/ETwV/YWppeiO5jvbIQ/ZrYywQxRWDLKY2y9xMvnS7Pl9n%2BIEdhNoaw6latNFJOFaNXC5yrdcqcjGeMVnWoQxVGdCe004v5pr9TmxmGhjMHUw89pxlF/NNfqfnH%2BzN8Vjdftl/Cb413FyDafHz4ERWt45PD69pYWWfnvti3pjrn8q%2B6K/L6z/4st%2BylBqcdtc/2h%2Byl%2B0xNFLiXc8nh6e8w6gbc7ZRdDn0jPFfqRb33h67t47u1tbiSKVA8ciXqEMpGQQfL5BFeTwxiJzpVKc9/dn85K0/uqU5/efa5riJ57wJw9nsvjeHlhav/X3BzcFfzdGpB%2BajfsQUVa87Rf8AoH3X/gYv/wAbo87Rf%2Bgfdf8AgYv/AMbr6m/kfHhN/wAgW3/6%2Bpv/AEGKqtacsukf2RATY3O37TLgfalyDtjzzs%2BlVvO0X/oH3X/gYv8A8bpJgVaKtedov/QPuv8AwMX/AON0edov/QPuv/Axf/jdO/kBVq1qH/HpY/8AXqf/AEbJR52i/wDQPuv/AAMX/wCN1ZvpdIFtZ77G5INsdoF0owPNfr8nPOaTeqAzKKtedov/AED7r/wMX/43R52i/wDQPuv/AAMX/wCN07%2BQFWirXnaL/wBA%2B6/8DF/%2BN0edov8A0D7r/wADF/8AjdF/IA1j/j7T/r1g/wDRSVVrT1WXSBcr5ljck/ZoeRdKOPKXH8HpVbztF/6B91/4GL/8bpJ6AVaKtedov/QPuv8AwMX/AON0edov/QPuv/Axf/jdO/kBVq1rn/IavP8Ar6k/9CNHnaL/ANA%2B6/8AAxf/AI3VnWJdIGr3Qlsbkt9pfcVulAJ3HtsOKV9QMyirXnaL/wBA%2B6/8DF/%2BN0edov8A0D7r/wADF/8AjdO/kBVq1of/ACGrP/r6j/8AQhR52i/9A%2B6/8DF/%2BN1Z0eXSDq9qIrG5DfaU2lrpSAdw6jYM0m9GBmUVa87Rf%2Bgfdf8AgYv/AMbo87Rf%2Bgfdf%2BBi/wDxunfyAq0Va87Rf%2Bgfdf8AgYv/AMbo87Rf%2Bgfdf%2BBi/wDxui/kAaP/AMfb/wDXrP8A%2BinqrWnpUukG5by7G5B%2BzTctdKePKbP8HpVbztF/6B91/wCBi/8AxulfUCrRVrztF/6B91/4GL/8bo87Rf8AoH3X/gYv/wAbp38gKtWtP/49L7/r1H/o2OjztF/6B91/4GL/APG6s2MukG2vNljcgC2G4G6U5Hmp0%2BTjnFJvQDMoq152i/8AQPuv/Axf/jdHnaL/ANA%2B6/8AAxf/AI3Tv5AVa6j4bf8AL7/2z/8AZqwfO0X/AKB91/4GL/8AG66PwA9k/wBr%2Bx28sf8Aq93mzB8/e6YUYrOq/cY1udHRRRXIWFFFFAHl/wC1P4I8beKNA8J%2BKfAPhmXXb/wd4707XZNBt7qGGbUbeMSQzRxPO8cQlWOdpUEjorNEqllzuHhusfs9fGjV/hN4W0/xR8GfFEyWfxm8QeMfEGg%2BFPF9npusR2uqvrU9vFY38V/AYZoH1C3S58u4g8wG4VJJomZJfsKigDz39k7wF4w%2BFv7M/gT4ceP7S1t9Y0PwvZ2V9bWXl%2BXA0cQUR5jCozKAFZkAVmBYDBFXvFt5bxeILiOTSreQjZl3aTJ%2BRfRwP0rtK4Pxn/yMtz/wD/0Ba2o6yFLYq/2haf8AQDtf%2B%2B5f/i6P7QtP%2BgHa/wDfcv8A8XVWvMf2yv2gLb9mD9mnxZ8ZyFkvdM00x6LbMu77RqEpEVtHt6sDK6ZA/hDHtV4itSwtCdao7Rim36JXZzYnEUsJh516rtGCbb8km3%2BX5Hlv7Z/xq8bfHj4jxf8ABPX9mK4j07XdXtFuPiZ4xsmkb/hFdFbG5FO8gXU6nai9Qrg/LuDpq/E343/Bb/gnn8MPDH7MH7OHwbtde8aalALXwR4A0uSQ3F5JyGvrxw42R7gzyTPjcQ2CArMnnOi6g3/BN39lXSrCz0aXxX8fvi3epK9ncv5t5rfiG4UNI0rcH7NamTBOVUAdVMpavX/2P/2OrX4BpffFX4o%2BIn8XfFfxWiy%2BMPGV78z7iAfslqMDybZCAoVQN2xSQAERPl6P13F4qTjpXklzS3VCm9Ywj0dSS959L%2B9L3YwjL67g3hrLssyxcY8VU3P2zccNhrtOryWupSWsMPTk17epH361W9Ck1yznT5jwZ%2BwN4n%2BKvjyP40f8FGPGtt8SPEsFy01h4It1kh8MaDITysVsGH2ph08yXO4cMrEBq%2Bn7SXSdPtY7Gw8NWMEEMYSGGHzFRFAwFAD4AA4wKk1z/kNXn/X1J/6Eaq19DgsvwuBg/ZR1e8m25SfeUnq/yXRJGPEPFWd8T1YPG1F7OmmqdKCUKNKP8tKlG0ILu0nKT1nOcrstf2haf9AO1/77l/8Ai6P7QtP%2BgHa/99y//F1Vortsj5009HvrV9XtUXR7ZSblAGVpcj5hzy%2BKrf2haf8AQDtf%2B%2B5f/i6ND/5DVn/19R/%2BhCqtKyuBa/tC0/6Adr/33L/8XR/aFp/0A7X/AL7l/wDi6q0U7IC1/aFp/wBAO1/77l/%2BLqzpV9atcsF0e2X/AEaY5DS/88m45fv0rMq1o/8Ax9v/ANes/wD6Kek0rAH9oWn/AEA7X/vuX/4uj%2B0LT/oB2v8A33L/APF1Vop2QFr%2B0LT/AKAdr/33L/8AF0f2haf9AO1/77l/%2BLqrRRZAadjfWrW14Ro9sMWwJAaX5v3qcH5/x49Krf2haf8AQDtf%2B%2B5f/i6NP/49L7/r1H/o2OqtJJXYFr%2B0LT/oB2v/AH3L/wDF0f2haf8AQDtf%2B%2B5f/i6q0U7IC1/aFp/0A7X/AL7l/wDi6sxX1qdInf8Ase2AFzECu6XB%2BWTn7%2Bf/ANdZlWof%2BQLcf9fUP/oMtJpAH9oWn/QDtf8AvuX/AOLo/tC0/wCgHa/99y//ABdVaKdkBa/tC0/6Adr/AN9y/wDxdH9oWn/QDtf%2B%2B5f/AIuqtFFkBpy31qNIgf8Ase2INzKAu6XA%2BWPn7%2Bf/ANVVv7QtP%2BgHa/8Afcv/AMXRN/yBbf8A6%2Bpv/QYqq0kkBa/tC0/6Adr/AN9y/wDxdH9oWn/QDtf%2B%2B5f/AIuqtFOyAtf2haf9AO1/77l/%2BLqzfX1qttZk6PbHNsSAWl%2BX96/A%2Bf8AHn1rMq1qH/HpY/8AXqf/AEbJSaV0Af2haf8AQDtf%2B%2B5f/i6P7QtP%2BgHa/wDfcv8A8XVWinZAWv7QtP8AoB2v/fcv/wAXXa%2BEpEl8P28kcCRg78IhOB87epJ/WuArvPBn/ItW3/A//Q2rGskolR3NSiiiuYoKKKKACiiigAooooAKKKKACiiigAooooAKKKKACiiigAooooAKKKKACsH4h/8AIFi/6%2Bl/9Bat6sH4h/8AIFi/6%2Bl/9Barp/GhPY/PLx78K7XUf22/j1%2BzHqCLFZfHj4QW%2Bs6MZOIxqNpG9k2zsJAxWY/7oJr2r/gm78Vrn4w/sT%2BAPEmqu51Kw0YaPq6S/wCsW6sma1feOzN5Qc/79cR/wUgH/Co/G3wa/bKtf3SeAfHsem%2BJLgcBNG1Rfs1w7nuEby8A8ZfPFP8A2Fj/AMKl/ac%2BP/7Lk37q2tfGMPjDw9EfutaarCHlWP0SOVAmOgLGvm8L/sPEDpvZynH5VF7aH3TjWj8/kfScHf7dwJn2SP4sHXo46mv%2Bnda9CvbyTnTb/wAN/NfUtFFFfYnzBam/5Atv/wBfU3/oMVVatTf8gW3/AOvqb/0GKqtJAFFFFMAq1qH/AB6WP/Xqf/RslVatah/x6WP/AF6n/wBGyUnugKtFFFMAooooAtax/wAfaf8AXrB/6KSqtWtY/wCPtP8Ar1g/9FJVWktgCiiimAVa1z/kNXn/AF9Sf%2BhGqtWtc/5DV5/19Sf%2BhGl1Aq0UUUwCrWh/8hqz/wCvqP8A9CFVataH/wAhqz/6%2Bo//AEIUnswKtFFFMAooooAtaP8A8fb/APXrP/6KeqtWtH/4%2B3/69Z//AEU9VaXUAooopgFWtP8A%2BPS%2B/wCvUf8Ao2OqtWtP/wCPS%2B/69R/6NjpPYCrRRRTAK6j4bf8AL7/2z/8AZq5euo%2BG3/L7/wBs/wD2as6v8NjW51FFFFcZYUUUUAFFFFABXB%2BM/wDkZbn/AIB/6Atd5XB%2BM/8AkZbn/gH/AKAtbUPjJlsZdfG/7bvj/wAM/Ej9rTwh8JPFV9t8D/B3R5/ib8THHKF7dWXT7YjoXLkv5Z%2B%2BsgwOK%2Bv9Z1fT/D%2Bj3evatcCK1sraS4uZT0SNFLM34AE1%2BXngrTvEP7VcekeDb8yx6/8AtR%2BPZfFnjny3/e6X4H0qZktbRmHK7zEVjbODgKeteFxNi5QpU8NBXlN3t35WuWPpKo4J/wB2MzpyPIaXF/FeCySvJww8nKtiZr7GFwy9rWl6tRjCK6ylFdT6l/Ya%2BFnjH41%2BMZ/%2BCiX7Q1gF8R%2BLLARfDzw/I2%2BPwx4ffJiVM8efOrb3cDO1%2BNu9lH1PUVjY2emWUOm6daxwW9vEsUEESBUjRRhVUDgAAAAVLXtYDBQwOGVNO8t5Se8pP4pP1f3JJLRHscVcRV%2BJ84ni5RVOmkoUqcfhpUYXVOlFdox3e85upUk3KbZa1z/kNXn/AF9Sf%2BhGqtWtc/5DV5/19Sf%2BhGqtdi2R84FFFFMC1of/ACGrP/r6j/8AQhVWrWh/8hqz/wCvqP8A9CFVaXUAooopgFWtH/4%2B3/69Z/8A0U9VataP/wAfb/8AXrP/AOinpPYCrRRRTAKKKKALWn/8el9/16j/ANGx1Vq1p/8Ax6X3/XqP/RsdVaS3YBRRRTAKtQ/8gW4/6%2Bof/QZaq1ah/wCQLcf9fUP/AKDLSYFWiiimAUUUUAWpv%2BQLb/8AX1N/6DFVWrU3/IFt/wDr6m/9BiqrSQBRRRTAKtah/wAelj/16n/0bJVWrWof8elj/wBep/8ARslJ7oCrRRRTAK7zwZ/yLVt/wP8A9DauDrvPBn/ItW3/AAP/ANDasa/wDjualFFFcpYUUUUAFFFFABRRRQAUUUUAFFFFABRRRQAUUUUAFFFFABRRRQB4/wDEjxf8WPD37Ynw28Maf49hi8HeI9G1mO/8Nx6REXmureJJVuJLl9z4AZFSOMRgfvC5k3II/Mfi58f/AI2/AT4zfEDx18UtR%2BIMXg2z1Yw/DmztNL0I%2BHdQ2%2BG7e5W2uJPKbVBJJfpfKJFYRB1jQuAQre2/EX9mD4S/FP4jaR8WPF48Uf25oUTR6TcaV4/1nTobZX4fFvaXccJLgAOShLgANkACmz/sq/Ay8%2BIafFDUPCl5d6qlyl0Y73xDfzWUt0lp9jW7ksnnNtLci3Ai%2B0PGZdoA38CgDh/2UPiB8W5/iRqXwu%2BKPxSn8Y7vhn4Y8WQ6rdaZZ2z21zqMupQ3Fui2kUS/Zs2Mbw7w8o3ShpJMKR7D47tpLrSI44mjBFyD%2B8lVB91u7ECsP4N/s7/CH4A293bfCzw1cWQvYLa3mkvdYu76Rba3VltrWN7qWRoreFXcRwIVij8x9irubOx8Q/8AkCxf9fS/%2BgtV0/jQnseJftcfACX9ob9mbxv8GXFm82u%2BHriGw33sOFu1XzLdz838MyRt%2BFfGXwv%2BLl3Hq/7L37e1xcqkXizSj8LPiZLJOquLreyW0swJzGPtkEjszgAKU5wRX6EV%2Bfdz8C5fEsH7VP8AwT7tI2jun1BPiF8NUQ7WD3SrcBYSOUSO7hjhyOnmt68%2BBxDQqxxNOvS%2BJppf46b9rTX/AG9apD/t%2Bx63BGZ4PI/EXBTxsuXC42FTBYh9FTrxaUn/ANe5NVF50z9Dv7Hu/wDnta/%2BB0X/AMVR/Y93/wA9rX/wOi/%2BKryf9jT46xftKfsweC/jMZVa71fRYxqyrxsvoiYblcdgJo5Me2K9Or6XD14YrDwrU3eMkmvRpNfmc2bZZjMlzSvl2Ljy1aM505rtKEpRf4x07pp9TTl0q6OkQR%2BbbZFzKT/pkWOVj77sdv8AOarf2Pd/89rX/wADov8A4qib/kC2/wD19Tf%2BgxVVrVXPPLX9j3f/AD2tf/A6L/4qj%2Bx7v/nta/8AgdF/8VVWinqBa/se7/57Wv8A4HRf/FVZvtKumtrNRLbfLbEHN5EP%2BWrnj5uevasyrWof8elj/wBep/8ARslJ3ugD%2Bx7v/nta/wDgdF/8VR/Y93/z2tf/AAOi/wDiqq0U9QLX9j3f/Pa1/wDA6L/4qj%2Bx7v8A57Wv/gdF/wDFVVoo1A09V0q6kuVZZbb/AI9oR815EOkSju1Vv7Hu/wDnta/%2BB0X/AMVRrH/H2n/XrB/6KSqtJXsBa/se7/57Wv8A4HRf/FUf2Pd/89rX/wADov8A4qqtFPUC1/Y93/z2tf8AwOi/%2BKqzrGlXUmr3Uiy2wDXLkbryIH7x6gtkVmVa1z/kNXn/AF9Sf%2BhGlrcA/se7/wCe1r/4HRf/ABVH9j3f/Pa1/wDA6L/4qqtFPUC1/Y93/wA9rX/wOi/%2BKqzo%2BlXUer2sjS2xC3KE7byIn7w7BsmsyrWh/wDIas/%2BvqP/ANCFJ3swD%2Bx7v/nta/8AgdF/8VR/Y93/AM9rX/wOi/8Aiqq0U9QLX9j3f/Pa1/8AA6L/AOKo/se7/wCe1r/4HRf/ABVVaKNQNPStKuo7lmaW2/49phxeRHrEw7NVb%2Bx7v/nta/8AgdF/8VRo/wDx9v8A9es//op6q0tbgWv7Hu/%2Be1r/AOB0X/xVH9j3f/Pa1/8AA6L/AOKqrRT1Atf2Pd/89rX/AMDov/iqs2OlXS214pltvmtgBi8iP/LVDz83HTvWZVrT/wDj0vv%2BvUf%2BjY6TvYA/se7/AOe1r/4HRf8AxVH9j3f/AD2tf/A6L/4qqtFPUC1/Y93/AM9rX/wOi/8Aiq6PwBZy2n2vzXiO7y8eVOj/AN7rtJxXJV1Hw2/5ff8Atn/7NWdW/Ixrc6iiiiuQsKKKKAPEP28hoB%2BGvhb/AIWGLU%2BBv%2BFi6P8A8LAGpBfsX9l%2BY2Pte75Ps32r7J5u/wDd7N2/5N1ePaTefC3Vv%2BCe3iC2m8FeEPFcOneOtZs/hfpXiHSbbUrTT01HxFdWPh2ZYJlZUtvKu7UwYADWpQIdpFfaFFAHOfCH4WeD/gf8LfD3we8Aaf8AZdF8M6Pb6bpsPGRFEgQFiAMscZY9ySe9Z3i2PS28QXBuLy4R/k3KlsrAfIvcuP5V2lcH4z/5GW5/4B/6AtbUfiFLY8E/4KVfELSvhT%2Bwj8UPFlrqlwtxJ4Wm061JtlXEt4VtEIIc4IacEcdq8Q/4I0fCS01jwfqv7VHihp1GoabZ%2BEfAeLUER6DpkawGZcspU3NzHJK68/MmQfmqh/wXv%2BJE/hb9lDQfA2nXCLdeIvGMMkkch4e3tIZbh%2BO/7wQce9fTf7HHw3/4VF%2Byl8O/hxJB5U%2Bl%2BD7CO9TGP9JaFXmP4ys5/GvmnD69xk0/hoUov/t6blb7ld%2Bup9BkNaWXcP5vjoaTryw%2BCT6qmoyxuIS/xtYWEn/KuV76%2BqeTov8A0ELr/wAA1/8AjlHk6L/0ELr/AMA1/wDjlVaK%2But5nzhp6xFpB1e6Mt9chvtL7gtqpAO4994zVbydF/6CF1/4Br/8co1z/kNXn/X1J/6Eaq0ktEBa8nRf%2Bghdf%2BAa/wDxyjydF/6CF1/4Br/8cqrRTt5gaejxaQNXtTFfXJb7Sm0NaqATuHU7ziq3k6L/ANBC6/8AANf/AI5Rof8AyGrP/r6j/wDQhVWlbUC15Oi/9BC6/wDANf8A45R5Oi/9BC6/8A1/%2BOVVop28wLXk6L/0ELr/AMA1/wDjlWdKi0gXLeXfXJP2abhrVRx5TZ/j9KzKtaP/AMfb/wDXrP8A%2BinpNaAHk6L/ANBC6/8AANf/AI5R5Oi/9BC6/wDANf8A45VWinbzAteTov8A0ELr/wAA1/8AjlHk6L/0ELr/AMA1/wDjlVaKLeYGnYxaQLa82X1yQbYbibVRgeanT5%2BecVW8nRf%2Bghdf%2BAa//HKNP/49L7/r1H/o2OqtJLVgWvJ0X/oIXX/gGv8A8co8nRf%2Bghdf%2BAa//HKq0U7eYFrydF/6CF1/4Br/APHKsxRaR/ZE4F9c7ftMWT9lXIO2THG/61mVah/5Atx/19Q/%2Bgy0mgDydF/6CF1/4Br/APHKPJ0X/oIXX/gGv/xyqtFO3mBa8nRf%2Bghdf%2BAa/wDxyjydF/6CF1/4Br/8cqrRRbzA05YtI/siAG%2Budv2mXB%2ByrknbHnjf9KreTov/AEELr/wDX/45RN/yBbf/AK%2Bpv/QYqq0kgLXk6L/0ELr/AMA1/wDjlHk6L/0ELr/wDX/45VWinbzAteTov/QQuv8AwDX/AOOVZvotINtZ7765AFsdpFqpyPNfr8/HOazKtah/x6WP/Xqf/RslJrVAHk6L/wBBC6/8A1/%2BOUeTov8A0ELr/wAA1/8AjlVaKdvMC15Oi/8AQQuv/ANf/jldr4SEC%2BH7cW8junz7WdApPzt2BP8AOuArvPBn/ItW3/A//Q2rGsvdKjualFFFcxQUUUUAFFFFABRRRQAUUUUAFFFFABRRRQAUUUUAFFFFABRRRQAUVwviH4/eF/Dfx88Pfs83nhnX5NU8SaTdX9pq0Wm402JYBkxPO7LulYBiEjDlQAZPLDx78b4gftX%2BGvhn8Q08EeKfhj4xi099SXTY/Fx02BNMlv2sXvktYzJOs8xMSFfOjhaASHymlV1dVAPU6wfiH/yBYv8Ar6X/ANBasL9n3433Xx/8B2XxHj%2BD/inwppmq6baaho7eKJtNZ763uIhKjotjeXOzClciTYcsMA4ON34h/wDIFi/6%2Bl/9Barp/GhPY42vlL9vIH9nr9oD4Uft12A8qw0nVf8AhEPiFKvAOi37YjmkP9yC4O/3aRa%2Bra4v9or4M6F%2B0P8AA3xT8E/EYUW3iTRprMTOufIlIzFMB6xyBHHugqM0wtTF4GUafxq0o/4ovmj97Vn5SZ5Wb4SpjMvnCl/EVpQ8pwfNH72rPykzwj9i2VP2fv2s/jD%2BxvfsINPvdTHjvwFE3CyWF8Qt3FF6JDcAIAPVz619V1%2BcbfEPxxqn7Knw1/bci0%2BeT4jfs3eI5vDHxO06M5nu9NiZbS/if%2B8/kmGfJ4QvKw6V%2Bh3hnxHonjHw5p/i7wzqMd5puqWUV3p93CcpPBIgdHU%2BhVgR9a83h7FU50ZUI6JWnD/BNtpesJ89N9uVH6dxZiqXFWT5bxjQ2xlNU63eOKoQhTqc3nVpqlW13ftezNib/kC2/wD19Tf%2BgxVVq1N/yBbf/r6m/wDQYqq19Cj4MKKKKYBVrUP%2BPSx/69T/AOjZKq1a1D/j0sf%2BvU/%2BjZKT3QFWiiimAUUUUAWtY/4%2B0/69YP8A0UlVatax/wAfaf8AXrB/6KSqtJbAFFFFMAq1rn/IavP%2BvqT/ANCNVata5/yGrz/r6k/9CNLqBVooopgFWtD/AOQ1Z/8AX1H/AOhCqtWtD/5DVn/19R/%2BhCk9mBVooopgFFFFAFrR/wDj7f8A69Z//RT1Vq1o/wDx9v8A9es//op6q0uoBRRRTAKtaf8A8el9/wBeo/8ARsdVataf/wAel9/16j/0bHSewFWiiimAV1Hw2/5ff%2B2f/s1cvXUfDb/l9/7Z/wDs1Z1f4bGtzqKKKK4ywooooAKKKKACuD8Z/wDIy3P/AAD/ANAWu8rg/Gf/ACMtz/wD/wBAWtqHxky2Py8/4LHeX8c/26Pgd%2BywYnnila3e4VPux/2hqMcLl/pDZucehz3r9LwAoCqAABwBX5peCt/7Qv8AwX11nWUuBcab4Dhnzb4z5ZsrBLXJPbF3duR7iv0tr53hr/aMbj8Z/PVcV6U0o/nc9us/q/B%2BW0etaWKxL/7iV1h6f/lLB6dGpJ9wooor6w8Ita5/yGrz/r6k/wDQjVWrWuf8hq8/6%2BpP/QjVWktkAUUUUwLWh/8AIas/%2BvqP/wBCFVataH/yGrP/AK%2Bo/wD0IVVpdQCiiimAVa0f/j7f/r1n/wDRT1Vq1o//AB9v/wBes/8A6Kek9gKtFFFMAooooAtaf/x6X3/XqP8A0bHVWrWn/wDHpff9eo/9Gx1VpLdgFFFFMAq1D/yBbj/r6h/9BlqrVqH/AJAtx/19Q/8AoMtJgVaKKKYBRRRQBam/5Atv/wBfU3/oMVVatTf8gW3/AOvqb/0GKqtJAFFFFMAq1qH/AB6WP/Xqf/RslVatah/x6WP/AF6n/wBGyUnugKtFFFMArvPBn/ItW3/A/wD0Nq4Ou88Gf8i1bf8AA/8A0Nqxr/AOO5qUUUVylhRRRQAUUUUAFFFFABRRRQAUUUUAFFFFABRRRQAUUUUAFFFFAHjHxr8A/tFa/wDtH%2BAPiV8NvBngq%2B0Hwjb6it4%2BueM7uxvJmvIkiYJDFptwmIwgYEyjeWxhMZOX4k%2BEX7R/jr9pFvH/AI78IeBdT8K6VZLbeCra48Y3pOiyzWRjvb6SwGnBLu6Z5ZrdWNzGFteE8pp593vdFAHg37Hn7M3iz4E%2BJ/EPiLVfAfgXwVp2q%2BH9G0228HfDm9uJtNNzZG787U2862t9k863EMRUI7bLOPfNKduz1/x3cyWukRyRLGSbkD95Erj7rdmBFbVYPxD/AOQLF/19L/6C1XT%2BNCexy/8AbF3/AM8bX/wBi/8AiaP7Yu/%2BeNr/AOAMX/xNVaK7LIg%2BR/Edpp/7NH/BQDWPDfi/SbOb4a/tO6b9ivYp7RPs9t4ihhaJoSMYQXcLkcYMkj/7Ga2/%2BCa/jjX/AIT/APCZfsCePNQjn1j4T6sw8N3F5bRtLqPhy5Yy2c4LLlym8xtjITMaV6J%2B2z%2Bzgn7Uf7PGs/DbT7r7Jr1uU1Pwjqivsex1a3O%2B2lV%2BqZbKMw5CSNjmvlzxN8TPGHxa%2BB3gf/gp18MfD7x/Ez4SNNo/xZ8Mwp5ct/Ywts1OykT%2BFkybqMHOxZCcFgBXxuJhLKcy9pFXjHmml3pya9tBd3CVq0V2c0j6fw3rUK%2BMxvBGLmo0swtVwspO0aeLg3yxbekY1HOVGT0tHEU5PSDt%2Bh8uq3Q0iCTyrbJuZQf9Dixwsfbbjv8A5xVb%2B2Lv/nja/wDgDF/8TWJ8PfiH4S%2BLPwn8P/EzwHqyX2ja7Cb3TrpP44pI4mGR/CwzgqeQQQeRWjX19N06kFKLunqn3T2PnsRQr4WvOhWi4zg3GUWrNSi2mmnqmmmmujTLX9sXf/PG1/8AAGL/AOJo/ti7/wCeNr/4Axf/ABNVaKuyMS1/bF3/AM8bX/wBi/8Aias32q3S21mwitvmtiTmziP/AC1ccfLx07VmVa1D/j0sf%2BvU/wDo2Sk0roA/ti7/AOeNr/4Axf8AxNH9sXf/ADxtf/AGL/4mqtFOyAtf2xd/88bX/wAAYv8A4mj%2B2Lv/AJ42v/gDF/8AE1VoosgNPVdVuo7lVWK2/wCPaE/NZxHrEp7rVb%2B2Lv8A542v/gDF/wDE0ax/x9p/16wf%2BikqrSSVgLX9sXf/ADxtf/AGL/4mj%2B2Lv/nja/8AgDF/8TVWinZAWv7Yu/8Anja/%2BAMX/wATVnWNVuo9Xuo1itiFuXA3WcRP3j1JXJrMq1rn/IavP%2BvqT/0I0rK4B/bF3/zxtf8AwBi/%2BJo/ti7/AOeNr/4Axf8AxNVaKdkBa/ti7/542v8A4Axf/E1Z0fVbqTV7WNorYBrlAdtnED94dwuRWZVrQ/8AkNWf/X1H/wChCk0rMA/ti7/542v/AIAxf/E0f2xd/wDPG1/8AYv/AImqtFOyAtf2xd/88bX/AMAYv/iaP7Yu/wDnja/%2BAMX/AMTVWiiyA09K1W6kuWVorb/j2mPFnEOkTHstVv7Yu/8Anja/%2BAMX/wATRo//AB9v/wBes/8A6KeqtKyuBa/ti7/542v/AIAxf/E0f2xd/wDPG1/8AYv/AImqtFOyAtf2xd/88bX/AMAYv/ias2Oq3TW14xitvltgRiziH/LVBz8vPXvWZVrT/wDj0vv%2BvUf%2BjY6TSsAf2xd/88bX/wAAYv8A4mj%2B2Lv/AJ42v/gDF/8AE1Vop2QFr%2B2Lv/nja/8AgDF/8TXR%2BALyW7%2B1%2BakQ2%2BXjyoET%2B912gZrkq6j4bf8AL7/2z/8AZqzqpcjGtzqKKKK5CwooooA87/aQ%2BKHjH4b%2BH/D2l/DtNMXX/F3i%2Bx0DSrvWrWS4tLNpd8ss8sUUkTyhIIZisYkj3PsBdQSa8k8V/tsfEPQvgz4SuZLbSLXxh4h%2BK2teBbvULbwrqOrWcM2lPqxnvYdMs5ftdwJotKYpbpKWja6Xc7LE5Punxi%2BEWifGbwtb%2BHNV1zU9JubDVrXVNH1rRpIlu9OvLeQSRTRedHJGTwVZZI3R0d1ZSGIrjLP9jvwtpXgTS/BuifFLxdZXeh%2BJp/EWi%2BJYn097%2Bz1a5%2B2fbrweZZtDI91/aF75iyRPGPtLCJIgqBQDt/gt44b4l/CLw18QJda0fUpNY0S2u5r/AMPPKbGeR41LvB5oEgjLZwrgOo4bkGs/xnYX51u6vlsZjCqqxlWJiuAgyc47YNavwl%2BGHhn4L/DbR/hb4ONy2naLZLbwS3s3mTzHJLyyNgbpHcs7EAAsxwAOK85/au8Q/wDCI/DHx74s8zZ/ZfhO%2Bu92enl2TPn/AMdqozVKMpvom/uTf6GVeoqVGVR7JN/cm/0Pz0/4IS6Hq/xj%2BN/xs/aou9EnafVL9YEnWIsXe8u7i9nBIHBAW3/Sv0t/sPWv%2BgPdf%2BA7f4V8T/8ABCH4djwd%2BwjbeLZIv3vi3xPf6h5h6mOJls1X6A2zkf7x9a%2Bzq8jhChOhw7QcvimnN%2Bs25fqj182rRnHCYeO1DDYWl84Yem5v51a1WT82y1/Yetf9Ae6/8B2/wo/sPWv%2BgPdf%2BA7f4VVor6TU8k09Y0fV5dXupYtKuWVrlyrLAxBG489Krf2HrX/QHuv/AAHb/CjXP%2BQ1ef8AX1J/6Eaq0leyAtf2HrX/AEB7r/wHb/Cj%2Bw9a/wCgPdf%2BA7f4VVop6gaej6Pq8Wr2ssulXKqtyhZmgYADcOTxVb%2Bw9a/6A91/4Dt/hRof/Ias/wDr6j/9CFVaWtwLX9h61/0B7r/wHb/Cj%2Bw9a/6A91/4Dt/hVWinqBa/sPWv%2BgPdf%2BA7f4VZ0rR9XjuWaTSrlQbaYZaBhyYmAHT1rMq1o/8Ax9v/ANes/wD6Kek72AP7D1r/AKA91/4Dt/hR/Yetf9Ae6/8AAdv8Kq0U9QLX9h61/wBAe6/8B2/wo/sPWv8AoD3X/gO3%2BFVaKNQNOx0fV0trxX0q5Ba2AUGBuT5qHA49Afyqt/Yetf8AQHuv/Adv8KNP/wCPS%2B/69R/6NjqrSV7sC1/Yetf9Ae6/8B2/wo/sPWv%2BgPdf%2BA7f4VVop6gWv7D1r/oD3X/gO3%2BFWYtH1caRPEdKudxuYiF8hskBZMnp7j86zKtQ/wDIFuP%2BvqH/ANBlpO4B/Yetf9Ae6/8AAdv8KP7D1r/oD3X/AIDt/hVWinqBa/sPWv8AoD3X/gO3%2BFH9h61/0B7r/wAB2/wqrRRqBpy6Pq50iCIaVc7hcykr5DZAKx4PT2P5VW/sPWv%2BgPdf%2BA7f4UTf8gW3/wCvqb/0GKqtJXAtf2HrX/QHuv8AwHb/AAo/sPWv%2BgPdf%2BA7f4VVop6gWv7D1r/oD3X/AIDt/hVm%2B0fV3trNU0q5JW2IYCBuD5rnB49CPzrMq1qH/HpY/wDXqf8A0bJSd7oA/sPWv%2BgPdf8AgO3%2BFH9h61/0B7r/AMB2/wAKq0U9QLX9h61/0B7r/wAB2/wrtfCUE9t4ft4biF43XfuR1II%2BduxrgK7zwZ/yLVt/wP8A9Dasa1%2BUqO5qUUUVzFBRRRQAUUUUAFFFFABRRRQAUUUUAFFFFABRRRQAUUUUAFFFFABRXy9%2B0Z49/Z3%2BH3/BQr4P%2BIfG/wAVvDmkeIzoOt2U0Gs%2BK44WgtpIUMAWCWULF5spYb1UNMY0UlvKQL5F8drqTUfjZ4zvvhbPaT/HO4%2BKEUngG4tWRtRfwwfCcRDwN946YW%2B1ZI/cG8J/5bEUAff1YPxD/wCQLF/19L/6C1fNn/BOz/hVJ%2BIGun9nOOwXwX/wqzweNW/slQIP%2BEk3ap9tE%2B3/AJiPkfYvtW/99/qPM%2Bavpfx2tq2kRi7mkRftIwY4wxztbsSKun8aE9jiaKteTov/AEELr/wDX/45R5Oi/wDQQuv/AADX/wCOV2XIKtfH/wAWR/wwR%2B16/wAeJoV/4VF8Z72HTviDE6Aw6FrpBSDUGHRYZwSspPG4szEnYtfZXk6L/wBBC6/8A1/%2BOVznxc%2BEnwv%2BOHw01r4S/EaC4vtF16we0v4DZpna3R1PmfK6sA6t1VlBHIrz8ywk8XQTpO1SD5oPpzLo/wC7JXjLyd90jzczwVXF0YyoS5atN80H2kuj/uyV4y8nfeKPl/4Baxe/sA/tBN%2Bx34z3RfC7x/rN1qfwZ1uR/wBzYXsuxrnRHY8L8xDQ5Pzb%2BrNIQv1zXxP8LvCmh/GT4a%2BIv%2BCSv7ZXiC8i8Y%2BDC138OPF4tgJ9W0tAPsOp2zFx/pFuF2SIrElQyktiU16p%2Bw3%2B0r4g8R3ep/snftR6i9h8XfAq%2BVfYgHl%2BJNOGBDqtuWZfMDrjzAB8rckLu2r42S46GHccO1y05NqF94SV%2BajLzi7un/NDRXtG/wCq43FUvEzht8UYWNsdQSjjqX2m42gsUku7UaeKstKvs6/wYiUl9CUVa8nRf%2Bghdf8AgGv/AMco8nRf%2Bghdf%2BAa/wDxyvqbn54Vatah/wAelj/16n/0bJR5Oi/9BC6/8A1/%2BOVZvotINtZ7765AFsdpFqpyPNfr8/HOaTeqAzKKteTov/QQuv8AwDX/AOOUeTov/QQuv/ANf/jlO4FWirXk6L/0ELr/AMA1/wDjlHk6L/0ELr/wDX/45RcA1j/j7T/r1g/9FJVWtPVYtINyvmX1yD9mh4Fqp48pcfx%2BlVvJ0X/oIXX/AIBr/wDHKSegFWirXk6L/wBBC6/8A1/%2BOUeTov8A0ELr/wAA1/8AjlO4FWrWuf8AIavP%2BvqT/wBCNHk6L/0ELr/wDX/45VnWItIOr3RlvrkN9pfcFtVIB3HvvGaV9QMyirXk6L/0ELr/AMA1/wDjlHk6L/0ELr/wDX/45TuBVq1of/Ias/8Ar6j/APQhR5Oi/wDQQuv/AADX/wCOVZ0eLSBq9qYr65LfaU2hrVQCdw6necUm9GBmUVa8nRf%2Bghdf%2BAa//HKPJ0X/AKCF1/4Br/8AHKdwKtFWvJ0X/oIXX/gGv/xyjydF/wCghdf%2BAa//AByi4Bo//H2//XrP/wCinqrWnpUWkC5by765J%2BzTcNaqOPKbP8fpVbydF/6CF1/4Br/8cpX1Aq0Va8nRf%2Bghdf8AgGv/AMco8nRf%2Bghdf%2BAa/wDxyncCrVrT/wDj0vv%2BvUf%2BjY6PJ0X/AKCF1/4Br/8AHKs2MWkC2vNl9ckG2G4m1UYHmp0%2BfnnFJvQDMoq15Oi/9BC6/wDANf8A45R5Oi/9BC6/8A1/%2BOU7gVa6j4bf8vv/AGz/APZqwfJ0X/oIXX/gGv8A8cro/ACWSfa/sdxLJ/q93mwhMfe6YY5rOq/cY1udHRRRXIWFFFFABRRRQAV8u/8ABUXxD/wjH7Hnxg1Pft8zwNe2oOe89t5H/tSvqKviP/guR4h/4R/9gz4k7JNsl9/ZVpHz1331puH/AHwHrizOr7HKcTU7U5/%2Bkv8AzPKz2cqeS4mUd/Zzt6uLS%2B9tL5mj/wAEu/Dn/CLf8E//AIW6Z5e3zfDQu8Y/5%2BJZJ8/j5mfxr3uuA/ZQ8O/8Ih%2By58N/CpTadO8B6RbOMfxJZRKf1Brv678spewy2hT7Qgv/ACWJ9JnUI084xFOO0ZzivSEnBfhTQUUUV3HmFrXP%2BQ1ef9fUn/oRqrVrXP8AkNXn/X1J/wChGqtJbIAooopgWtD/AOQ1Z/8AX1H/AOhCqtWtD/5DVn/19R/%2BhCqtLqAUUUUwCrWj/wDH2/8A16z/APop6q1a0f8A4%2B3/AOvWf/0U9J7AVaKKKYBRRRQBa0//AI9L7/r1H/o2OqtWtP8A%2BPS%2B/wCvUf8Ao2OqtJbsAooopgFWof8AkC3H/X1D/wCgy1Vq1D/yBbj/AK%2Bof/QZaTAq0UUUwCiiigC1N/yBbf8A6%2Bpv/QYqq1am/wCQLb/9fU3/AKDFVWkgCiiimAVa1D/j0sf%2BvU/%2BjZKq1a1D/j0sf%2BvU/wDo2Sk90BVooopgFd54M/5Fq2/4H/6G1cHXeeDP%2BRatv%2BB/%2BhtWNf4Bx3NSiiiuUsKKKKACiiigAooooAKKKKACiiigAooooAKKKKACiiigAooooAKKKKACsH4h/wDIFi/6%2Bl/9Bat6sH4h/wDIFi/6%2Bl/9Barp/GhPY42iiiu0gKKKKAPIf21f2T1/aT%2BGukeIPA2vf8I58RvB%2BqTaj4B8WwjD2V2qxHyZCAS1vLgK6kEdDhsbT4RaRWf/AAUa%2BH6zy3H/AArL9pj4P3pjkkj%2BWfS75fUcmfTrn/gagOcbxnzPt%2Bb/AJAtv/19Tf8AoMVfO/7XX7HusfE7X7D9ov8AZ18SReEvjB4YhI0bXQuLfV4BydPv1H%2BthccAkEoTkZHFfPZplvM516UOdS0qQWjmltKL0tVhvF3V0uVtNRaxwOZZ3wjntPP8klatD44aNVI2cWnGXuybg5QlCacKtOTpz%2BxKM/7Hv7Yp%2BN0mofBn4zaEnhP4ueE/3PivwlO20ThcAX1oSf31tICGBUtt3AElSjv7vXxfbSfC7/gpLpY0jxCLz4SftH/DWQgtbsI9T0W5T/lpHyPtunyFs4yRtk6jeGftvgL%2B2/4m8L%2BOLX9l/wDbp0ODwb8RM%2BVo%2BvKNuieLUBCrNaTnCpK2RmFsHcwAAY%2BWs5fmypwhDET5oS0hV2Unty1FpyVFs07KTWlpXifpFbKcl46y2efcIx1Scq%2BDV3Ojb450E/fq4dO/NGzrYb4asZ01GsfTVWtQ/wCPSx/69T/6NkqrVrUP%2BPSx/wCvU/8Ao2Svonuj89KtFFFMAooooAtax/x9p/16wf8AopKq1a1j/j7T/r1g/wDRSVVpLYAooopgFWtc/wCQ1ef9fUn/AKEaq1a1z/kNXn/X1J/6EaXUCrRRRTAKtaH/AMhqz/6%2Bo/8A0IVVq1of/Ias/wDr6j/9CFJ7MCrRRRTAKKKKALWj/wDH2/8A16z/APop6q1a0f8A4%2B3/AOvWf/0U9VaXUAooopgFWtP/AOPS%2B/69R/6NjqrVrT/%2BPS%2B/69R/6NjpPYCrRRRTAK6j4bf8vv8A2z/9mrl66j4bf8vv/bP/ANmrOr/DY1udRRRRXGWFFFFAGB8S/if4J%2BEPhR/Gfj7VJbWxW6gtYxa2E93PcXE8qxQwwwW6PLPK8jqqxxozEngVy%2Bs/tZfAvRPAXhz4kS%2BItVu9N8W6zJpHh%2BLSPCepX17c38cV1LLbGztrd7mOWNbK78xJI1MZt3V9rDFVv2p/BHjbxRoHhPxT4B8My67f%2BDvHena7JoNvdQwzajbxiSGaOJ53jiEqxztKgkdFZolUsudw8htvgX46l%2BDOjW/xE/Z18Z6pqNj8X9e8ZJpXg/x/aaTqOmrq02syp5FxFfQrJJDDqQgnT7RCpeWV4nmVFEgB9ReH9bsvEuh2fiHTobyO3vrZJ4Y9Q0%2Ba0nVWAIEkE6JLE%2BDyjqrKeCARivz6/wCDhnVLmD9kuHw1Z5M2v%2BP9KsI4x/GfInmA/OIV9tfs2aL8VPDnwH8K6H8bdUe88VW2kRprE810s8vmc7UllUBZpVTaryDh3VmHDV8Rf8Fw5ovEvxA%2BAHwk%2ByRsde%2BMunlhlsyhfKhwRnGP9JxwB1rxeI2/7BxEVvKKj/4FKEf1MasY1KlGnJXUqtFPzTr0br5xjI%2Bu9F0u30PRrTRLQYis7WOCIY/hRQo/QVZq1/aFp/0A7X/vuX/4uj%2B0LT/oB2v/AH3L/wDF19QtFZI0nKVSblJ3bd36vV/mVaKtf2haf9AO1/77l/8Ai6P7QtP%2BgHa/99y//F07vsSGuf8AIavP%2BvqT/wBCNVa09YvrVNXukbR7ZiLlwWZpcn5jycPiq39oWn/QDtf%2B%2B5f/AIukm7LQCrRVr%2B0LT/oB2v8A33L/APF0f2haf9AO1/77l/8Ai6d32AND/wCQ1Z/9fUf/AKEKq1p6PfWr6vaouj2yk3KAMrS5HzDnl8VW/tC0/wCgHa/99y//ABdK7vsBVoq1/aFp/wBAO1/77l/%2BLo/tC0/6Adr/AN9y/wDxdO77AVataP8A8fb/APXrP/6Kej%2B0LT/oB2v/AH3L/wDF1Z0q%2BtWuWC6PbL/o0xyGl/55Nxy/fpSbdtgMyirX9oWn/QDtf%2B%2B5f/i6P7QtP%2BgHa/8Afcv/AMXTu%2BwFWirX9oWn/QDtf%2B%2B5f/i6P7QtP%2BgHa/8Afcv/AMXRd9gDT/8Aj0vv%2BvUf%2BjY6q1p2N9atbXhGj2wxbAkBpfm/epwfn/Hj0qt/aFp/0A7X/vuX/wCLpJu70Aq0Va/tC0/6Adr/AN9y/wDxdH9oWn/QDtf%2B%2B5f/AIund9gKtWof%2BQLcf9fUP/oMtH9oWn/QDtf%2B%2B5f/AIurMV9anSJ3/se2AFzECu6XB%2BWTn7%2Bf/wBdJt9gMyirX9oWn/QDtf8AvuX/AOLo/tC0/wCgHa/99y//ABdO77AVaKtf2haf9AO1/wC%2B5f8A4uj%2B0LT/AKAdr/33L/8AF0XfYAm/5Atv/wBfU3/oMVVa05b61GkQP/Y9sQbmUBd0uB8sfP38/wD6qrf2haf9AO1/77l/%2BLpJvsBVoq1/aFp/0A7X/vuX/wCLo/tC0/6Adr/33L/8XTu%2BwFWrWof8elj/ANep/wDRslH9oWn/AEA7X/vuX/4urN9fWq21mTo9sc2xIBaX5f3r8D5/x59aTbutAMyirX9oWn/QDtf%2B%2B5f/AIuj%2B0LT/oB2v/fcv/xdO77AVa7zwZ/yLVt/wP8A9DauN/tC0/6Adr/33L/8XXa%2BEpEl8P28kcCRg78IhOB87epJ/Wsa1%2BUqO5o0UUVzFBRRRQAUUUUAFFFFABRRRQAUUUUAFFFFABRRRQAUUUUAFFFFAHinxJ/a41PwJ8Vr7wnY/DOG/wDDPh7WvDuj%2BLfEb68YbiyvdZuo7e2WC08hhcJGbi1eZ2mi2pPlBIUZak%2BNP7Rnxi%2BEXxN0/wAKW/wa8M6vo2p2mo30F7D46uItRisbGyM9xdy2h00xrGs7W9txcMd93CeMsFrfFj9kLXviD8SdU8U%2BH/ipa6VoXiLVfD%2Br%2BJdBufDrXUl1qGjXCXFnJFcLcx%2BTE7wWiTxmOQyR2%2B1HhLs1djcfBXU9S%2BLOpfFjVfG4Nzd%2BAIfDljb2%2BlIBp8pnnmuruPzXkVvOLWo8p1YL9jXc0gbCgGP%2ByF%2B0ff8A7T/w1j%2BI9zb%2BBoY54LZ0tvBXxAOvm1eWFZWgumNnbfZ50DqDHhzyTkcZ7n4h/wDIFi/6%2Bl/9BauK%2BAv7P/i/4Z%2BN/EHxP%2BJHxE0rxBr2vaBo2iO2geFf7Hs4rLTTeNAfINzcEzM99PvcOq7ViRY0CfN3Pju6urPSI5bS5kiY3IBaNypxtbjirp/GhPY4mirX9ua1/wBBi6/8CG/xo/tzWv8AoMXX/gQ3%2BNdmpBVoq1/bmtf9Bi6/8CG/xo/tzWv%2Bgxdf%2BBDf40agE3/IFt/%2Bvqb/ANBiqrWnLrGrjSIJRqtzuNzKC3ntkgLHgdfc/nVb%2B3Na/wCgxdf%2BBDf40lcDw79qz9i3wP8AtKGw8caPrt34P%2BInh/5/CvxA0L5LyycZIjkwR58BJIaJj0ZsFdxz4jrPxx8LeL9PT9i7/grj8KdM0rUr9zDoXjjYV0HxA6jatzbXQwbC6wclSUxn%2BDeI6%2B3/AO3Na/6DF1/4EN/jXO/FXwB4N%2BOPge9%2BG3xd8PW/iLQtQTbdaZqimWNiOjDJyrg8q6kMp5BBrx8blTqzlVw9oylpKMleFRdpx79FNe8uvMtFwQo5hleZxzXJq7w%2BJi1JSi2lJrZvlalGS6VINTWz54%2B6fLFq/wC2d/wT7gWGK31P46fB62H7h4CG8VeHrYdBjhdQiVemMNj/AJ5ouK%2Bi/gd%2B0/8AAr9qLwTZeL/gj8RLHWoYrXbfWkcmy6sJDJIfLuIGw8LezAA9QSMGvAYPgx%2B2/wDsJxCb9kLx1dfE34b2pJHwp8W6q0eoaZD1KabfHqoHCxSDAAwA7HNcrC/7Cv7cnxBi8UfDfxf4g%2BBv7QFkrrfm3LaH4gS7LsWSeFiseoAjbuxucoACy9K8ehisZl1VUYq3alUl/wCma2qku0J6rRaH6FR424P4yqrD8VUXl%2BYS2xNKCdKq%2B9WjHkhNt6urhnSqu7dTDTd2/tyivllP2kv%2BCiv7Ji/Y/wBpX4Yz/FvwnbcHx98M8pqkUQ/5aXWmMRubGSxhIRQOSTXsXwC/bk%2BAf7TdoH%2BDfxxtdSvQpM%2Biy3j2%2BoW5H3g9tLtlGDkbtpXg4Jr3sNm2FxFRUZfu6n8k1yy%2BV9JesZSQZxwHxBlWDePoxjisIv8Al/h5e2pLtzuK56L/ALtenSfS7PRKKtf25rX/AEGLr/wIb/Gj%2B3Na/wCgxdf%2BBDf416ep8YGsf8faf9esH/opKq1p6rrGrx3KrHqtyoNtCcCdhyYlJPX1qt/bmtf9Bi6/8CG/xpK9gKtFWv7c1r/oMXX/AIEN/jR/bmtf9Bi6/wDAhv8AGnqBVq1rn/IavP8Ar6k/9CNH9ua1/wBBi6/8CG/xqzrGsavFq91FFqtyqrcuFVZ2AA3HjrS1uBmUVa/tzWv%2Bgxdf%2BBDf40f25rX/AEGLr/wIb/GnqBVq1of/ACGrP/r6j/8AQhR/bmtf9Bi6/wDAhv8AGrOj6xq8ur2sUuq3LK1ygZWnYgjcODzSd7MDMoq1/bmtf9Bi6/8AAhv8aP7c1r/oMXX/AIEN/jT1Aq0Va/tzWv8AoMXX/gQ3%2BNH9ua1/0GLr/wACG/xo1ANH/wCPt/8Ar1n/APRT1VrT0rWNXkuWWTVblgLaY4adjyImIPX1qt/bmtf9Bi6/8CG/xpa3Aq0Va/tzWv8AoMXX/gQ3%2BNH9ua1/0GLr/wACG/xp6gVataf/AMel9/16j/0bHR/bmtf9Bi6/8CG/xqzY6xq7214z6rckrbAqTO3B81Bkc%2BhP50newGZRVr%2B3Na/6DF1/4EN/jR/bmtf9Bi6/8CG/xp6gVa6j4bf8vv8A2z/9mrB/tzWv%2Bgxdf%2BBDf410fgC%2Bvb37X9svJZdvl7fNkLYzu6ZrOrfkY1udHRRRXIWFFFFABRRRQAV%2BdP8AwU7QeMP%2BCoX7LngIDd9h16%2B1Z0/3BaSqfw%2Byt%2BtfotX51ftNq/iv/gvh8LdJUh4fDXwvu9QkXsryxahD/wCzRH8q8XPfewlOn/PVor/yon/7aZP/AH7Cr/p7B/8AgEatT/3Gj7Fooor6oYUUUUAWtc/5DV5/19Sf%2BhGqtWtc/wCQ1ef9fUn/AKEaq0lsgCiiimBa0P8A5DVn/wBfUf8A6EKq1a0P/kNWf/X1H/6EKq0uoBRRRTAKtaP/AMfb/wDXrP8A%2BinqrVrR/wDj7f8A69Z//RT0nsBVooopgFFFFAFrT/8Aj0vv%2BvUf%2BjY6q1a0/wD49L7/AK9R/wCjY6q0luwCiiimAVah/wCQLcf9fUP/AKDLVWrUP/IFuP8Ar6h/9BlpMCrRRRTAKKKKALU3/IFt/wDr6m/9BiqrVqb/AJAtv/19Tf8AoMVVaSAKKKKYBVrUP%2BPSx/69T/6NkqrVrUP%2BPSx/69T/AOjZKT3QFWiiimAV3ngz/kWrb/gf/obVwdd54M/5Fq2/4H/6G1Y1/gHHc1KKKK5SwooooAKKKKACiiigAooooAKKKKACiiigAooooAKKKKACiiigAorn9Z%2BLHws8OeONN%2BGXiH4leH7DxJrMRk0jw9eazBFfXyDdloYGYSSgbH5VSPlb0NUz8evgYPiY3wVPxo8J/wDCZI4R/CX/AAkdr/aasYROAbXf5oJhIlxt%2B4Q3Q5oA6ysH4h/8gWL/AK%2Bl/wDQWpvw/wDix8LPizZXeo/Cv4leH/E1vYXZtb6fw/rMF6lvOACYpGhZgjgEHacHBHFO%2BIf/ACBYv%2Bvpf/QWq6fxoT2ONooortICiiigC1N/yBbf/r6m/wDQYqq1am/5Atv/ANfU3/oMVVaSAKKKKYBXBftJ/sk/s8/tR%2BHNP0r41/DOw1aWGzYWWqqphvrM%2BdIQYbiMiRMHnaG2kjkGu9q1qH/HpY/9ep/9GyVjXoUMTT9nWipRe6aTX3Mxr4ehiqLpVoKUXumk0/kz5GT4B/8ABQf9ldfM/Zt%2BO1p8V/C1v/q/BHxSfZqUUY/5Z2%2Bppje2MAedtRQOleY/Ff4s/sCfG7xDDov7fX7L3iD4LePJJQLbxJqmnSWu%2BcdHt9XswFnVTkh5QEBBr79qj4j8M%2BG/GGjT%2BHPF3h%2Bx1TT7pNtzYajaJPDKvoyOCrD2IrxcRkV6Xs6M/c/kqL2kPlzPnj/27N26EZRV4i4VxixnDuYVcNUWyUpONu11JTUX1jzTj3g1ofKPhD4R/ttfDjQofFf7G/7bWg/F3wmRmz0P4llb0vGO0eq2Z3yNjAG7ao4zxWqv/BR3xt8I8Wn7Zn7HPjvwEkfFx4k0OBdd0VQOrtcW3zRg9Qu1iB16VoeLf%2BCVn7Nx1ubxn8BtV8U/CPxBKdx1P4c6/LZRuw6B7cloinqiqgI4rPHgn/gq38Dhjwn8WfAHxm0mH/l08V6U2iaqydkSW3JhZuxeQ89cV53sc1y/4FOK/uNV6f8A4BNxqxXlGUj7H/iJdTGe7xXkNLFPrXw37it6t0VCMn1/eYad%2Bret/Z/hh%2B2J%2By3%2B0LNAfg38d/DWuTy20IXT4NSWO7BEajm3k2yryCOVHSvQK%2BAvjj4x/Zm8X3LP%2B31/wSd8V%2BCbxoY/tnirw5oqahaoQi/vH1LTDHIc/eAw3U1U%2BFun/s5a15TfsOf8FgfEXhWZsfY/DXjPWItRtU9EjstTWGQDsfvGtaHENaMlTmoTfZSdOf8A4LrKH4Tfqa0cR4QZ5U5MFm9TBVX/AMu8ZR5l6e1ocsrecsO/v0P0Ior5Yg17/grV8MYUuJvC/wAJvi7poUNFJpOozaJqNwvqTLm2GR025FSf8PIvF/gP91%2B0V%2Bwj8XPCW3/X6jpOkR63p8PruuLdhx9FOa9T%2B3MHD%2BPGdP8Axwkl/wCBRU4/ier/AMQ0z/Fa5VWw%2BNXT2GJoyk/%2B4VSWHq38uRvpqz6jq1rn/IavP%2BvqT/0I187eBP8AgqR%2BwT8QJxZaf%2B0foumXIbbLbeJY5tLaJu6sbtI1yPYke9e46X8Q/AHxCvLvVPAHjnR9ctmuHZbjR9TiuYyCxwd0bEYrsw2PwOMf7irGf%2BGSf5O/4Hzmb8K8UcPu2aYGtQ/6%2BUqkF98oKL%2BUmXqKKK7DwAq1of8AyGrP/r6j/wDQhVWrWh/8hqz/AOvqP/0IUnswKtFFFMAooooAtaP/AMfb/wDXrP8A%2BinqrVrR/wDj7f8A69Z//RT1VpdQCiiimAVa0/8A49L7/r1H/o2OqtWtP/49L7/r1H/o2Ok9gKtFFFMArqPht/y%2B/wDbP/2auXrqPht/y%2B/9s/8A2as6v8NjW51FFFFcZYUUUUAFFeIft5DQD8NfC3/CwxanwN/wsXR/%2BFgDUgv2L%2By/MbH2vd8n2b7V9k83f%2B72bt/ybq8a8O6x448TfsVyfDD4KeCdU8TeGtQ8f%2BJbW/g8Jazp0F5pvgttV1KaxW3W8u7dVgubRbaCAo4KWc4ki5SPIB9qV%2BdensPF/wDwX8%2BItxINyeFPhBaW6t/cklGnyAfitw5r64/YE1C71T9hv4PXl9oV1psh%2BGWhobS9eJpAFsYVV8wu6YcAOvzZ2sNwVsqPkz9kM2Xjj/grZ%2B1b8QLy4kH9mz6No6yRRB/uwmIrywx/x5fpXjZp7%2BNwVPvVT/8AAYTl/kYX/wCFGh5KtL7qMkv/ACaovvPr%2BivBPiL/AMFUP%2BCd3wn8dat8NPiB%2B0RdWGt6HfSWeqWX/CF6lL5E6HDJvjhZGwe6kj3rF/4fJf8ABL//AKOfuv8Awg9W/wDkevSnn%2BR05uMsTTTWjXPHRr5n31Dwt8TMVQhWo5Li5QmlKMlh6rTi0mmmoWaaaaa0aafU%2BlaK8E%2BHX/BVD/gnd8WPHWk/DT4f/tEXV/reuX0dnpdl/wAIXqUXnzucKm%2BSFUXJ7sQPeu//AGuviR4g%2BDP7M/jX4o/DOOC817RNCludMg1VfJt/MGBudl8w/KCWC7SGKhSVBLDswuPwWOg54apGaWjcWnZ79D5/POGeI%2BGa8KGcYOrhpzXNGNWnKm5K9rpTSbV9LrS%2Bh6Nrn/IavP8Ar6k/9CNVa%2BfvG/7cHjrQ/wDhIbq4%2BCmltqFn8QLzw1pmm2/iW/u5dSntYJpryZIrLSp7jyk2RqpWFs7naTyFRTJz3hT/AIKAa98QdSt0%2BEnwnm1qTxHbQaho9t4j8SRafDaW7eGtN1jazQWczrkXpjwfOPmDO5UbbF0KasjxbM%2BoqK85uvj0t1%2Byrq37Tmj6Cy2w%2BH58UeHrB28yS4jOmC8WOdRtEbby0eEZwVUNkFti858BvHXjbRfG3iv4b/E34x3XidNJ%2BHPh3xVD4g1TRbO3ME1%2B2qxXEBW0WJPsyHTVkQkNJiZwzttU0%2BZBY9z0P/kNWf8A19R/%2BhCqtfF3wY/aJ/at8Uafp9vr/izx5bi80zwfrOsX8PgzS73WLSyvW1AXl/pFrZQSrNYtLBZRxx3MEl9EjzvLCpEe5fAn7ZnxP8Y%2BJ7J/FPi3xpomgeErWwPiHV7DwXpckd60vijV9HM2qxXEiywRvDpUZxYYaKS7mdh5cKgzzq4WPtCivlH4z/HD45/C3xB4wTwJ8YtU8Z21lBFp2sSw%2BEbGO38Na1qeuabaaZaWKrhriaKyu7qaeK4mm%2BeK0ZvKWfYfcf2YfGMPjHwHf2fiTxr4p1LV9C8Q3emauvirQNPtdStJVKyrBcDT5TayMIpYmEsGEdHQ4zuqlNNhY72rWj/8fb/9es//AKKejydF/wCghdf%2BAa//AByrOlRaQLlvLvrkn7NNw1qo48ps/wAfpQ3oIzKKteTov/QQuv8AwDX/AOOUeTov/QQuv/ANf/jlO4FWirXk6L/0ELr/AMA1/wDjlHk6L/0ELr/wDX/45RcA0/8A49L7/r1H/o2OqtadjFpAtrzZfXJBthuJtVGB5qdPn55xVbydF/6CF1/4Br/8cpJ6sCrRVrydF/6CF1/4Br/8co8nRf8AoIXX/gGv/wAcp3Aq1ah/5Atx/wBfUP8A6DLR5Oi/9BC6/wDANf8A45VmKLSP7InAvrnb9piyfsq5B2yY43/Wk2BmUVa8nRf%2Bghdf%2BAa//HKPJ0X/AKCF1/4Br/8AHKdwKtFWvJ0X/oIXX/gGv/xyjydF/wCghdf%2BAa//AByi4BN/yBbf/r6m/wDQYqq1pyxaR/ZEAN9c7ftMuD9lXJO2PPG/6VW8nRf%2Bghdf%2BAa//HKSYFWirXk6L/0ELr/wDX/45R5Oi/8AQQuv/ANf/jlO4FWrWof8elj/ANep/wDRslHk6L/0ELr/AMA1/wDjlWb6LSDbWe%2B%2BuQBbHaRaqcjzX6/Pxzmk3qgMyirXk6L/ANBC6/8AANf/AI5R5Oi/9BC6/wDANf8A45TuBVrvPBn/ACLVt/wP/wBDauN8nRf%2Bghdf%2BAa//HK7XwkIF8P24t5HdPn2s6BSfnbsCf51jWfulR3NGiiiuYoKKKKACiiigAooooAKKKKACiiigAooooAKKKKACiiigAooooA%2BRP2iPCnjWH4z%2BNNCg%2BHPiTUL3xZ40%2BHmt%2BG9e0zw3dXdpbafpOpW1xepJcwxskD26213MIXZWmN2qRLI0jLVX4xeH/jInxd8d6D%2BzdqXxFh1X4m64Jda0nWfAwh8PLayeFoLIajFqht90EsbWlsBE9wknnJIhtirLLX2LRQB83fsWaXrGpfEzU/HNl8L9f8ACmh23wh8HeGTY%2BIPD8%2BmOdTsH1V7iGOKdEMiQR3dvGJ4w0UhYhHcRkj3fx21qukRm7hkdftIwI5ApztbuQa2qwfiH/yBYv8Ar6X/ANBarp/GhPY5fztF/wCgfdf%2BBi//ABujztF/6B91/wCBi/8AxuqtFdliC152i/8AQPuv/Axf/jdHnaL/ANA%2B6/8AAxf/AI3VWiiwGnLLpH9kQE2Nzt%2B0y4H2pcg7Y887PpVbztF/6B91/wCBi/8Axuib/kC2/wD19Tf%2BgxVVpJAWvO0X/oH3X/gYv/xujztF/wCgfdf%2BBi//ABuqtFOwFrztF/6B91/4GL/8bqzfS6QLaz32NyQbY7QLpRgea/X5Oec1mVa1D/j0sf8Ar1P/AKNkpNaoA87Rf%2Bgfdf8AgYv/AMbo87Rf%2Bgfdf%2BBi/wDxuqtFOwFrztF/6B91/wCBi/8AxujztF/6B91/4GL/APG6q0UWA09Vl0gXK%2BZY3JP2aHkXSjjylx/B6V5p8Uf2U/2S/jX5knxV/Z28Pa3PLnde3thbm5GeuJhCJF/BhXoWsf8AH2n/AF6wf%2BikqrWNTD0MRT5KsVJdmk19zTMq9ChiYclaCkuzSa%2B5pnzPcf8ABJ79mHw3K958AfG/xU%2BFs5Yun/CEfEa4ji3dfmjnSUMp7rkDtxVV/wBmT/goz8O23/Cf/goDZ%2BI7VP8AU6T8RfA0Eh/4Hd25ErZ/3RX1FRXnf2DlkP4MXT/wSlD8FLl/8lPJ/wBXsqjrRg6X/Xuc4fhGXL/5KfHvjS1/b9voDbftCf8ABPv4K/GSBV2v/wAI/wCII7RnX1C6rDJzjsPwryLx34B/Ywg1iXUfjN/wRr%2BNXgLUI5m3ar8OXkuLeybJyQ9lKkagdvkNfo/VrXP%2BQ1ef9fUn/oRrhxPDcMRK8qrl/wBfIU6n4uEZf%2BTH0mUZ7x7w3HlybPcVQj/KqnNH/wABvFPzutfM/MTS/in%2Bw34fvBpnw1/4KcftB/DLUP8Alnonjm4u7q1g/wC2U9lsGO%2BZK9D8IfFv9o6bavwg/wCCv/wU8eH/AJYaf4y0OxsZsdlb7JN5p%2BpXNfces6DofiKybTfEGjWl/bt96C8t1lQ/VWBFea%2BMP2GP2NPHm9/FH7LvgSeR/v3EXhm2hmP/AG0iRX/WuX/V/H0P4NSPylXp/gqlSP8A5LbyPe/4iX4mS/32eCxq/wCojBUXJ%2Bs404y%2BfN8zy/Rvi/8A8FUNEtFv9S/Z8%2BEHxCtx0m8C%2BOprASj2a9VgDWppv7en7SHhHUIJfid/wS2%2BKNs8Uylh4R8R2GvHII%2B6IUj3/TIzVbU/%2BCQX7BU902peGfhRqPhu8b/l88O%2BLNRtnH0HnlB/3zRpX/BMCLRtUtl%2BGH7cvx%2B8NEzoI4IfH/2m2T5hg%2BVLEc49zQ8LxLRXuyk/%2B4lOf/pyjB/%2BTB/r8qv%2B/wDC2CqedCviMO/klUlFf%2BAseP8AgrP%2Bzho3/JTvgP8AGrwVj/Wf8JT4EniEf18pJK2fDX/BWf8A4Jt%2BKWEdh%2B0PaWz5wyarFdWRU%2Bh8%2B1QCub/4Y8/by8N8%2BAP%2BCoGtlF%2B7b%2BJvhzp2obx6GRmDD6gZrH8S/s%2Bf8FOL1Smq/En4BePFAxjxr4Bnh8z/AHvIDY/Cj63xNR%2BKDfrTi/8A03XX/pIf61%2BHlb/eeHsdRfejjKNVfJVaXM/nJHvvhr9sn9jLxhtXwx%2B0X4LvnbpFB46sTJ%2BKfeH4iu60bxT4D8RwfafD18l/HjPmWWrRSr%2Baoa%2BB/Ev7Jv7Ud0Wbxr/wTT/Zc8TOf9ZL4WZ9MeT/AIFLGG/M1wus/sdNDP8AavFP/BD6a2lQ5XUfBXx2AI91hSVcfiKP7czan/Eof%2BS14/8AtlRfiL%2B1fCCt8VXM8P8A48HRrJfOlWgfqRpUukG5by7G5B%2BzTctdKePKbP8AB6VW87Rf%2Bgfdf%2BBi/wDxuvy4s/hno3hGVvJ/ZL/ba8HbYpOPh74ra%2BKfIfu/Ocj19s1F/wALPXwp/qP2nf22fCu3/oefBn9obP8Ae%2BU5pf608j/eUbf9v2/9LpQ/Md/Cet/D4j9n5VsBjKf3uHtI/mfqZ52i/wDQPuv/AAMX/wCN0edov/QPuv8AwMX/AON1%2BW0X7buqeHZVgg/4LL6zppzhbHxn%2BzqzEn0MqREiuh0f/goH8bBj/hHf%2BCmvwB1r%2B7/wk/g7UNN3fXYoxWkOL8uk7OL%2BU6T/ACqp/gXDKeCcS7YXinLpPtKpXpP5%2B1w2n3n6Uedov/QPuv8AwMX/AON1ZsZdINtebLG5AFsNwN0pyPNTp8nHOK/PfSf%2BCgn7XHAX49/sca9/dSw%2BIl3ZSv8A8BuZBz%2BFdb4f/b%2B/bTNvcLZ/s7fCDxQHgAY%2BHfjxpsWR5iHK%2BcTnkAfjntXVHiXLJraf/gN//SZyOynwV9Z/3XN8uq/4cww6/wDTnsvxsfaXnaL/ANA%2B6/8AAxf/AI3R52i/9A%2B6/wDAxf8A43XyTpv7df7Ysq79S/4JpazKMZY%2BH/ibpWpD8PKAzVz/AIeJfFPS/wDkaP8Agm/8c4sfe/snw/DfflslGa6lnuWNXcpL1p1V/wC42dS8MeL6ivQjQqf9e8Xgp/likfVXnaL/ANA%2B6/8AAxf/AI3XR%2BAHsn%2B1/Y7eWP8A1e7zZg%2BfvdMKMV8Zf8PTfAtnx4n/AGRv2gNFI%2B9/anwvkXb9dkrV7x%2BxL%2B1v8MP2pf8AhJk%2BHej%2BJbKXQfsX9oQ%2BJPD01gw8/wA/Zs8wYf8A1L5xnHGeoqoZvlmJl7KlVTk9l7yf3OMThzPw/wCNMkwM8bjcDOFGFuad6coq7SV3TrVFq2kvNnvFFFFbnyIUUUUAFFFFABX54f8ABNLRpn/aW/az8aXGWe9%2BPGp2Ac91trq6Kj8BOK/Q%2Bvij/gn14bOjX3x81d051f8AaX8Y3Ctjqi3awgfnE35mvNxFL2mcYN/yuq//ACml%2Bp0UMuxVeFXHwjenRg4yemjrShCHW7v7OVrJ2s726/Q9FfPPxF/4KD/8K78d6t4G/wCGIP2htd/sm%2Bktv7Y8OfDT7VYXmw482CXz18yM9Q2Bkdqxf%2BHnX/WPX9qD/wANN/8AdNds88yqE3GVTVafDU/%2BVv8AM%2BbnxBk9ObhKrqtH7tTp6Un%2BbPqCsj4geA/CnxR8Eat8OfHWlm%2B0bXLCWy1O0FxJEZYZFKsokjZXQ4PDIwZTggggGvEPh1/wUH/4WJ470nwN/wAMQftDaF/a19Hbf2x4j%2BGn2Wws95x5s8vnt5cY6lsHA7V6p%2B0J478V/C34L%2BIfib4M0q3vrvw7Y/2nPY3ELyfaLSBlluo41RlPnNbpMI%2BSBIUJVgCp68NjcLjYOVGXMlo9JL/0qMfyZ24PHYTHwcsPLmSdnpJa/wDb0Y/k/UpeJv2SPgLeznSbnwpqDLZeI7zVIrgeJ9RFy91cIYrhpZxcebMkqfLJHIzRyfxKx5qj8Ov2Ov2dPhQ9lJ4E8AS2badAYbJpdcvrgwxGxgsNg86Z/lFrbQRKvRVjG3ByT4h8dv8Agoh8V/DUXiH4i/DjQNC1bQdNvNZ1aOJNM8wzaDaagmnxXD3Muo26R/abiG9aKSGO5Zo3gxbtgtJkeBP2ovjLo3xAvfhvoerWdzqGtePdY0vTdb8UTX19Dp6P408QWyB7cXUaPHHbWSQxIpjbJiTzNiqg2TjZHZZn1n4M%2BF3gjwB4Oh%2BH3hnSZE0S302DT4NMvL6e6hitYbdLaOFVnd9qeVGoIH3juZtzMzHF%2BHf7Nvwe%2BFVhJpvgfw/fW0U0kBnNz4hvrp5Y4YmhhtmeeZ2a2jR2CWxJhXcSEB5rkv2F/E3xD8a/BI%2BKPHXjO21iSTxh4rgeaNZpCXh8S6pEnlTSTN/oywpFHFFt%2BRI1AYjCjgP2UvGfjHUfij4E1bUvHuu6ndePPBfizVPGel6lrc9zbWV9Zaxp8MKwQSO0dkIDc3Nr5cKxhwo3hmj3CrrQD1zwl%2Bxb%2BzppECeGdM8I6pBBcTabFFcx%2BL9UF3YxWUrNaQ2l19p8%2ByihMsuyK3eNFEjgKAxBfdfslfs/XUehW7eA2ig8O2ttbWFra6xeQwzw28/2iBLuOOYJfKk2ZVFyJcSO7/edy3yz8Uvir8fPhb401NLbxj4hWXXNR8WR6z4qt/HEd5p1vpMetW0UN1Y2qzv/AGdNp1tMtvMxig2Tbt5nb94s/wAQvEvxctPi94g/Z78GeIfE%2BqeEPDmua9dW80/xTv8AS7xfs2gaBdC0OrHzrmbZLqV/MsUjMpZERyIoWCzdX2CzPpnQv2QfgV4d07WdE0/SPED6fr7Xj6npd9461i6tGlurg3M8yQTXTRwzGdjKJo1WRHJKMpNdb8N/hh4K%2BEugSeG/A%2BnXEFvPey3l3Ne6lcXtzdXEhy801xcvJNM5wBud2O1VUHCgDxfwZFofxY/aK8DeLfA/i7xzbwR%2BBoPGXiK3vfGmpLDcpfQta6bbTaeLj7GivtvZ3CRLiWyjxwz19EVasIKtaP8A8fb/APXrP/6KeqtWtH/4%2B3/69Z//AEU9D2Aq0UUUwCiiigC1p/8Ax6X3/XqP/RsdVataf/x6X3/XqP8A0bHVWkt2AUUUUwCrUP8AyBbj/r6h/wDQZaq1ah/5Atx/19Q/%2Bgy0mBVooopgFFFFAFqb/kC2/wD19Tf%2BgxVVq1N/yBbf/r6m/wDQYqq0kAUUUUwCrWof8elj/wBep/8ARslVatah/wAelj/16n/0bJSe6Aq0UUUwCu88Gf8AItW3/A//AENq4Ou88Gf8i1bf8D/9Dasa/wAA47mpRRRXKWFFFFABRRRQAUUUUAFFFFABRRRQAUUUUAFFFFABRRRQAUUUUAFFFFABWD8Q/wDkCxf9fS/%2BgtW9VDxFon9vWS2f2rytsofds3ZwCMdR61UGlNNiex59RXUf8K2/6jX/AJLf/ZUf8K2/6jX/AJLf/ZV1e1p9ybM5eiuo/wCFbf8AUa/8lv8A7Kj/AIVt/wBRr/yW/wDsqPa0%2B4WZgzf8gW3/AOvqb/0GKqtda/gDfZR2f9rf6uV33eR13BRj73%2Bz%2BtRf8K2/6jX/AJLf/ZUlVh3CzOXorqP%2BFbf9Rr/yW/8AsqP%2BFbf9Rr/yW/8AsqftafcLM5erWof8elj/ANep/wDRslb3/Ctv%2Bo1/5Lf/AGVS3HgDz4oIv7Wx5MRTPkdfnZs/e4%2B9j8KTqwvuFmclRXUf8K2/6jX/AJLf/ZUf8K2/6jX/AJLf/ZU/a0%2B4WZy9FdR/wrb/AKjX/kt/9lR/wrb/AKjX/kt/9lR7Wn3CzMHWP%2BPtP%2BvWD/0UlVa6288Afa5RL/a23ESJjyM/dQLn73tmov8AhW3/AFGv/Jb/AOypKrC24WZy9FdR/wAK2/6jX/kt/wDZUf8ACtv%2Bo1/5Lf8A2VP2tPuFmcvVrXP%2BQ1ef9fUn/oRre/4Vt/1Gv/Jb/wCyqW%2B8Afbb2a8/tbb5srPt8jOMnOPvUvawvuFmclRXUf8ACtv%2Bo1/5Lf8A2VH/AArb/qNf%2BS3/ANlT9rT7hZnL1a0P/kNWf/X1H/6EK3v%2BFbf9Rr/yW/8AsqlsfAH2K9hvP7W3eVKr7fIxnBzj71J1YW3CzOSorqP%2BFbf9Rr/yW/8AsqP%2BFbf9Rr/yW/8AsqftafcLM5eiuo/4Vt/1Gv8AyW/%2Byo/4Vt/1Gv8AyW/%2Byo9rT7hZmDo//H2//XrP/wCinqrXW2fgD7JKZf7W3ZidMeRj7yFc/e981F/wrb/qNf8Akt/9lS9rC%2B4WZys0ENxGYbiFZEYfMjqCD%2BBrntY%2BD3wk8Q5/t/4W%2BHL7d977ZolvLn/vpDXpf/Ctv%2Bo1/wCS3/2VH/Ctv%2Bo1/wCS3/2VTN0KitJJ%2Bqv%2BaZE6UKitOKfqk/zTPDNX/Yv/AGPteJbWP2VvhzcMeskngqxLf99eVn9awLn/AIJmfsC67bXj3/7KfhBStuGU2unmDB8xBkeUVxwT%2BdfSX/Ctv%2Bo1/wCS3/2VS2/gDyIp4v7Wz50QTPkdPnVs/e5%2B7j8a5KmBymqveowf/bkf/kTjnlGV1fjw9N%2BsIf8AyJ8eal/wR%2B/4Jzao3mTfs3W0TdQ1p4i1OHB9RsuQKqf8OgP2MLP/AJFzS/GGj4%2B7/ZnjzUV2/TdK1fZP/Ctv%2Bo1/5Lf/AGVH/Ctv%2Bo1/5Lf/AGVc7yXIG7/Vqfygl%2BVjlfDeQN3%2BqU/lBL8rHxt/w6n%2BFFp/yLv7Sfxx0j%2B7/ZvxNnXb9NyNXvP7Ev7MR/Zv/wCEmRP2gviZ45j1j7FsT4i%2BKf7T/s/yvP8A%2BPc%2BWnlh/NG/rny09K9Q/wCFbf8AUa/8lv8A7KtTw34b/wCEe87/AE3zvO2/8s9uMZ9z61VPLMqw8/aUaajJbWcvy52vwNsNkmV4OuqtGkoyW1nL0252v/JWalFFFdB6wUUUUAFFFFABXjXhf4Q%2BFvgxc67oPhOW6kj1jxTqev3sl5IrObrULqS8mA2qoCK8xVBjIRVBLHLH2WsHWvBP9r6nLqP9p%2BX5m35PJzjCgddw9KqnGmqqnJaq9n62v99jaOKxNPDTw8JNQm4uS6Pkbcb/AOFybXqzjaK6j/hW3/Ua/wDJb/7Kj/hW3/Ua/wDJb/7Kur2tPuc1mcvTJ4ILqB7a5hSSORCskcigqykYIIPUEdq6v/hW3/Ua/wDJb/7Kj/hW3/Ua/wDJb/7Kj2tPuFmeW%2BK/2b/2d9VNr4b1T4C%2BC7nTtAs7jStCsLjwtaPDp1g6%2BU9rAhj2wwtGAhjQBSoAIxxUU/7PvwFudFufDVz8EfCEmnXkey709/DVqYJ1%2B0vd7XQx7WH2mSSfBH%2Btdn%2B8Sa9cvvAH229mvP7W2%2BbKz7fIzjJzj71Rf8K2/wCo1/5Lf/ZUlUp2CzPPfCfw4%2BHngGFbfwL4D0XRY0jeNE0nS4bYKjzSTuoEajAaaWWUju8jseWJNSy%2BDXwf03U9Y1rTvhT4at7zxDKkviC7h0K3SXU3V96tcMEzMQxLAuSQTnrXpv8Awrb/AKjX/kt/9lR/wrb/AKjX/kt/9lT9rT7hZnnvhv4OfCK08aah4jtPhX4bi1HxOyQeJb%2BPQ7dZtWiJCmO5cJunXacbXLDHFZFx%2Bzx8ALvwPbfDG6%2BBvg6Xw1ZXZurPw9J4ZtGsYJzuJlSAx%2BWr/O/zBQfmbnk169Y%2BAPsV7Def2tu8qVX2%2BRjODnH3qi/4Vt/1Gv8AyW/%2Bype0p3CzOLtvDnh6y1u48S2ehWcOo3dnBZ3WoRWqLPNbwNK8MLuBuaONp52RScKZpCAC7ZuV1H/Ctv8AqNf%2BS3/2VH/Ctv8AqNf%2BS3/2VP2tPuFmcvVrR/8Aj7f/AK9Z/wD0U9b3/Ctv%2Bo1/5Lf/AGVS2fgD7JKZf7W3ZidMeRj7yFc/e980nVhbcLM5Kiuo/wCFbf8AUa/8lv8A7Kj/AIVt/wBRr/yW/wDsqftafcLM5eiuo/4Vt/1Gv/Jb/wCyo/4Vt/1Gv/Jb/wCyo9rT7hZmDp//AB6X3/XqP/RsdVa6238AeRFPF/a2fOiCZ8jp86tn73P3cfjUX/Ctv%2Bo1/wCS3/2VJVYX3CzOXorqP%2BFbf9Rr/wAlv/sqP%2BFbf9Rr/wAlv/sqftafcLM5erUP/IFuP%2BvqH/0GWt7/AIVt/wBRr/yW/wDsqlTwBsspLP8Atb/WSo%2B7yOm0MMfe/wBr9KTqw7hZnJUV1H/Ctv8AqNf%2BS3/2VH/Ctv8AqNf%2BS3/2VP2tPuFmcvRXUf8ACtv%2Bo1/5Lf8A2VH/AArb/qNf%2BS3/ANlR7Wn3CzMGb/kC2/8A19Tf%2BgxVVrrX8Ab7KOz/ALW/1crvu8jruCjH3v8AZ/Wov%2BFbf9Rr/wAlv/sqSqw7hZnL0V1H/Ctv%2Bo1/5Lf/AGVH/Ctv%2Bo1/5Lf/AGVP2tPuFmcvVrUP%2BPSx/wCvU/8Ao2St7/hW3/Ua/wDJb/7KpbjwB58UEX9rY8mIpnyOvzs2fvcfex%2BFJ1YX3CzOSorqP%2BFbf9Rr/wAlv/sqP%2BFbf9Rr/wAlv/sqftafcLM5eu88Gf8AItW3/A//AENqy/8AhW3/AFGv/Jb/AOyre0XTf7I0yLTvO8zy93z7cZyxPTJ9azqzjKNkNJplqiiiucoKKKKACiiigAooooAKKKKACiiigAooooAKKKKACiiigAooooAKKKKACvnv4sftR/FTwd8Wddj8N2Ph4%2BD/AAX4n8J6D4jtL6wnfUb%2BfWru3gaa3nWdY7dLdLy2k2tDKZisqZj%2BVq%2BhK8t8d/smeA/H/wAUx8TtS8U%2BILWK4vtHvtb8NWVxbrp2sXelXH2jT7i4DwtMHhlEbfupY1k8iJZBIqAUAepUUUUAFFFFAHz/APDn9pX4h67%2B1V4i%2BEfxA8VaLomlW3iy50nwno0/w41WKfW0i0yC83RazJdfYpJgWuHMCRGTyrZzgBWcfQFeb3X7Nelap8YNP%2BLHiH4peL9Ut9G1yXWdC8J6hf28mmabqEllJZNPF%2B4FzjyZ7gLC87Qo07MsYIQr6RQAUUUUAcT%2B0h4y%2BI3w8%2BBHivx38J9P0W51/RtFnvbGPxDJKLNfKUu7yCH55NqBmEYKeYwCeZGGMi%2BK%2BHP2yfjJrmuQeLpNL8MR%2BEtM8aeFfCHiLThp1wdQuNQ1nTdMuhd29x9o8uKGOTWbJPJeKRmWOY%2BavyivevjH8NW%2BMPw01f4Zt451nw7DrVk9pd6noCWhulgkUrIi/a4J4huUlSTGSAcqVOCPMvAn7BngXwTrOk6ndfFzxtrdvp2o2Gp3ularNpy2ur6lY2621lfXK21lExlhgitY1ETRxt9it2kR3QuwB7nRRRQAV5Z%2B2J8WPir8EvgzJ8RvhPpOgXVzZaxYpqh8QtOY4rKW4SKQxRwlTLKS6qoZ0Vdxcl9gik9Trgf2jvgLB%2B0f8OZPhlqPxP8AEnhexuLqGa8n8MJYGa4EUiyJGxvbW4VVDojfIqsSoG7BIIB578DP2lfiH43%2BP/iD4bfEzxToukRQeJNb0/w14bf4carZ3Go21nNtSaLVp7o2l2/lYleKGLcFbdhVUmvoCvK/CP7LNtoXxC0j4ieL/jj478YzeH7i7u9DsPFF5Yvb2V7cwtDPdJ9ntIZCzJJOqxs5hiWd0ijjQIqeqUAFFFFAHjH7Znxe%2BOPwO8CTfEj4Wt4Qaz03TpnGk69Z3Vzf%2BI9VZ4ksdGskhliWGW5dnjE7GYq7R/uGXcRh/so/tR/FT4wa54Qk%2BJFj4eXTfid8Ll8eeDotEsJ4J9Ls/NtQbO7eWeVbmURajZnzo1hUssw8vG0123xl/ZpT4v8AxJ8M/FKD40%2BLvDOo%2BErW8i0eHQoNJnt0kuQiyXJj1CxuQLgRoYllXayxyzIMCV90XwM/ZM8B/ATXE1rw94q8Qaqmn6Aug%2BGLHW7i3eHw9pCy%2BaLC0EMEbeVkRLumaWTbbwrvwgFAHqVFFFABXzl%2B3R%2B0V%2B0r%2BzfpTeMvhXpvgzVoJ/stn4d8HXWm3t3rPiC7dpGvJIzDPEsEVpbL9qZQkxlSCZS0BKNX0bXknxF/ZLg%2BIHxku/jTB8fPHmg3154bj0F7HQpNLWKCxEjySpbyzWMl1aPMzgySQTRyMYYSGBhjKgC/skfGrxB8Y/Cl9N418e6Tqmu2BtTqWl2Hw/1Pw3PpnnQLIqy22pXE00it8xSddsbhTt3bSa9arg/g98BrD4Ta1rni7UPiJ4j8XeIPEMdnDqfiDxQ9p9oe3tVkW3t1Wzt7eFUQzTvxHuZpnLM2RjvKACiiigD5S/a3/bE/aJ/Zt%2BMPhzwNY6f4QvLXx54psdA8L2134c1NEsDfTR2dteT6k0yW15Kt2%2B6TS7dFuBb7phIEjZz7P%2Bzn8T/GvxAsvFnhj4kjS5PEHgjxjPoOqX2iWcltaXuLa2vIZ44ZZZnhzb3kIZDLJh1fDEYrk/iv%2BwX8PPjN4j/tjxp8VPHT2Nr4m/4SbQNBi1W2%2By6HrwhMUWp2rPbNOskRZ5Eiklktlkct5PTHovwc%2BD%2Bi/Brw9faRp3iDVNZvdX1i41XXNd1t4Td6leTbQ0snkRRRLhEjjVY40VUiRQvFAHW0UUUAFfG/xw/bO/a3%2BFH7QGnfBCO08Ky/2rdNPeXtj8K/EGonRbLzB5XkRx3McmvkxyRCWezWOO1l2xyrunjA%2ByK8Nk/YZ0pPF1j450z9pL4oWepaDHfQeEZ4tXsJP7Ctby4jnurWMTWTi7ikMMC7b77UUWGPyyjKGoA9M%2BDXje0%2BJHwu0XxvZeMtN8QJqFkJG1jSNMlsre4cEq%2B23mklktyGDK0Ujs6MrK2CCB01c18IfhX4b%2BCvw8sPhv4VuLye1sWnlkvNRmElxd3E8z3FxcSsqqpklmlkkbaqruc7VUYA6WgAooooAKKKKACiiigAooooAxPiV43sfhn8Odf%2BJGp2sk9t4f0S71K4hiOGkSCFpWUe5CECvMf2ZvjZ8YvGXjbUPhr8b4/DcmqJ4F0DxXZXXhfT7i2hih1J76J7J1nnmMjwSWR/fgoJVmX91GVOfX9c0XSvEmi3nh3XbGO6sb%2B1ktry2lGVmidSrofYqSD9a4H4C/szeGPgJdXuq2PjfxJ4k1G80bTdGTU/E9zbyz2%2Bl2An%2Bx2SGCCEFIzc3Db3DzO0zGSRzjAB6RRRRQAVwP7UvxG8cfCL9nTxn8Tvhpo8F/r%2Bh%2BH7i80izutPmu45Z0XKhoYHSSUZ/gRlY9ARXfVleOfCo8ceENR8Jf8ACR6rpB1C1aFNV0O9%2Bz3lox%2B7LDJghXU4IyGU4wyspIIByX7N3xQu/il4N1C91f4g6Zr%2BpaXrUlhqf9n%2BCL/w7JYSiKKQW89hqE81xFLslSUFyoeOaNlXaQzehVxnwb%2BCulfB2HXrpPF%2BteItX8Ua0NV8Q%2BIPEDW32q9uFtoLSPK2sMMEapBbQRqscSDCbjl2Zm7OgAooooA%2Bff2vf2rvid%2By/wCMotcHhTQr/wAFW3w48TeIL5WmmOp3V3pVi955MZGIoItiqu4iVnMp4iEeZet%2BAnxN%2BLeqfEXxd8FPjjP4cvNf8M6bpGqLqnhXTJ7O0mtdQW5VYzDPPO4kjmsrkF/Mw6GM7UORVf4%2Bfsf%2BHf2i/G2m%2BKPHHxY8WW%2Bl2GlXumT%2BEtPj0v8As6/tL2Lyb2GYzWUlyRPD%2B7YpMhVeYyjfNXQ/BX4BaT8GbnWNal8e%2BIvFet679lTUvEPiqe2e7kgtovKt7f8A0aCGMRxhpGHybmeaRmZmYmgDvKKKKACvmf8AaT/ak/aT%2BEvxG8beE/CXhbwxNY6Z4O0nVvCrro9/qt45n1WGyuZrmC3kiaRUWSVlt4fmxCHMp8wxx/TFeO%2BO/wBkO58cfGK%2B%2BNEX7TfxJ0S%2Bu9Gj0yLT9Bm0iC3tLeOYTxrGzae05xOBIRJK6ycxyB4WaIgHT/s7fEqX4pfDw69e%2BPdN8QXttqVxZ6jPpvhK90I2s8bYNvNYX00txbyqCuVkYEhlYKAwz3dch8G/g3o3wZ0bVLKy8S6trmoa7rc2r69r2uvAbvUbyRI4vMcW8UUKbYoYYlWONFCRLxnJPX0AFFFFAHyh8RP2rP2rfB37VPhP9luzl%2BHNxqHj%2B%2Bv47a%2Bs9Fv7qLwXHDHc3lmuoH7XEb%2BW9sbG%2BaNUFpsltX/1iYY%2B6fs1fFXWfjN8HNO8ceJtOtbXVlvdQ0zWIrDd9nN7YX09jcPEHJYRNLbSMgYkhWUEkjJ8%2B039gXRtLvrrVbb9pD4i/bJPGFz4qsb5otC%2B0WGsT%2BYj3aS/2XvmItZprJY7gzRrayeUE%2BSIp6z8Jfhf4a%2BDPw70z4aeEnupLLTImAub6YSXF1K7tLNcSuAA0ssrvI5AALOxAA4oA6OiiigCO6a5S1keyhSSYRkwxyyFFZscAsASoJ74OPQ9K%2BLfFH7bn7W3gr44v8H/ABXrPgRdK0rRxdeK/Hfhn4Ua/r1hpGo%2BSZZtGaG0vhIZLePyZnu2KKY7qPdDCVbP2hqNpLf6fPYwahNaPNC0aXVtt8yEkEB13qy7h1G5SMjkEcV4R4N/YOn8A%2BALL4beFv2wPi1aabYWU9pEIZdBRpY58m5ebZpQFxPK581rmUPcCTeyyoZZvMAPcPDerWmv%2BHbDXdP1i01GC9sop4NQsP8AUXSOgYSx/M3yMCGX5m4I5PWrtZngnwd4d%2BHfgzSPh/4Q08Wmk6Fplvp%2Bl2iuWENtDGscaZYknCKoyTnitOgArK8bnxsPCOoj4brpR142rDSTrbSC0WcjCtMIhvZAeSq4LYxuXO4atYnxI8Caf8TfA2p%2BA9T1fU9Pi1K2MX9oaNem3u7V8hklhkGdrqwVhkFSRhgwJBAPjzw1/wAFEv2iNbufirPFY%2BEJdO%2BB%2Bn2es%2BK5r3wdqel32v6dcPOfLisLm88/RbiOOxvcC6E5mBtZVjWOYGvt6vnv/h3N8MrnxL4g8Ya38XPHeo6n43uLVviRc3N3pyDxfBbCFba1vEiskSOGKOHylFqtuzJLKHZzIxP0JQAUUUUAct8ZtU%2BIui/D691f4YXGlwaja7ZprrVtGvNSSC1Q752jsrIrPeTeWrCOCN0Z3KgHPyt8xfsqft5fGf4zfEVNM%2BLWv%2BF/DGjP4hXSNIRfhjrIGuyYlUf8TF7022mXMjxkfYLhXnhkD277pUavqD4rfDSL4p%2BGodCXxprvh26tNRgvtP1rw5dRxXVrPE25SBNHJDKpG5WjljkRlYgrnBHmng/9hHwX4RvLCN/jN4/1XSLXxX/wlN74c1fU7OWy1HXTdSXjahJttVliY3b/AGgwW8kNt5iKRCPmDAHuNFFFABRRRQAUUUUAFFFFABRRRQAUUUUAFFFFABRRRQAUUUUAFFFFABRRRQAUUUUAFFFFABRRRQAUUUUAFFFFABRRRQAUUUUAFFFFABRRRQAUUUUAFFFFABRRRQAUUUUAFFFFABRRRQAUUUUAFFFFABRRRQAUUUUAFFFFABRRRQAUUUUAFFFFABRRRQAUUUUAFFFFABRRRQAUUUUAFFFFABRRRQAUUUUAFFFFABRRRQAUUUUAFFFFABRRRQAUUUUAFFFFABRRRQAUUUUAFFFFABRRRQAUUUUAFFFFABRRRQAUUUUAFFFFABRRRQAUUUUAFFFFAH//2Q%3D%3D\">"
            ]
          },
          "metadata": {
            "tags": []
          }
        }
      ]
    },
    {
      "metadata": {
        "id": "d6TEqef7r-Vc",
        "colab_type": "code",
        "colab": {
          "base_uri": "https://localhost:8080/",
          "height": 34
        },
        "outputId": "73f094b5-f088-4ff4-c134-1e68bfe34e5a"
      },
      "cell_type": "code",
      "source": [
        "# # calculate test accuracy - close to valid accuracy\n",
        "# test_loss = s.run(loss, {input_X: X_test_flat, input_y: y_test_oh}) \n",
        "# test_accuracy = accuracy_score(y_test, s.run(classes, {input_X: X_test_flat}))\n",
        "# print(\"Test Accuracy:\", test_accuracy)"
      ],
      "execution_count": 0,
      "outputs": [
        {
          "output_type": "stream",
          "text": [
            "Test Accuracy: 0.9069\n"
          ],
          "name": "stdout"
        }
      ]
    },
    {
      "metadata": {
        "id": "QkEDcIdLQKah",
        "colab_type": "text"
      },
      "cell_type": "markdown",
      "source": [
        "# Adding more layers"
      ]
    },
    {
      "metadata": {
        "id": "UJBcVWb9QKah",
        "colab_type": "text"
      },
      "cell_type": "markdown",
      "source": [
        "Let's add a couple of hidden layers and see how that improves our validation accuracy!\n",
        "\n",
        "Rememeber that we need non-linearities for hidden layers (e.g. `tf.sigmoid`)!\n",
        "\n",
        "Now add 1 or more hidden layers to the code above and restart training.\n",
        "You're aiming for ~0.98 validation accuracy here."
      ]
    },
    {
      "metadata": {
        "id": "7nRXBpiQ5HC9",
        "colab_type": "code",
        "colab": {}
      },
      "cell_type": "code",
      "source": [
        "# # run this again if reset tf graph\n",
        "# tf.reset_default_graph()"
      ],
      "execution_count": 0,
      "outputs": []
    },
    {
      "metadata": {
        "id": "jT8qnJ1NQKai",
        "colab_type": "code",
        "colab": {
          "base_uri": "https://localhost:8080/",
          "height": 85
        },
        "outputId": "81fd3e17-689b-4cd9-c168-9d5ee41e995b"
      },
      "cell_type": "code",
      "source": [
        "# model params\n",
        "\n",
        "hidden_units = 250\n",
        "\n",
        "W1 = tf.get_variable(\"W1\", [n_x, hidden_units], initializer = tf.contrib.layers.xavier_initializer(seed=1))\n",
        "b1 = tf.get_variable(\"b1\", [hidden_units, 1], initializer = tf.zeros_initializer())\n",
        "W2 = tf.get_variable(\"W2\", [hidden_units, n_y], initializer = tf.contrib.layers.xavier_initializer(seed=1))\n",
        "b2 = tf.get_variable(\"b2\", [n_y,1], initializer = tf.zeros_initializer())\n",
        "\n",
        "print(W1.shape)\n",
        "print(b1.shape)\n",
        "print(W2.shape)\n",
        "print(b2.shape)"
      ],
      "execution_count": 11,
      "outputs": [
        {
          "output_type": "stream",
          "text": [
            "(784, 250)\n",
            "(250, 1)\n",
            "(250, 10)\n",
            "(10, 1)\n"
          ],
          "name": "stdout"
        }
      ]
    },
    {
      "metadata": {
        "id": "vcqmLe7C2KlL",
        "colab_type": "code",
        "colab": {
          "base_uri": "https://localhost:8080/",
          "height": 258
        },
        "outputId": "eb096196-876c-429d-a6df-0685ed12fcbc"
      },
      "cell_type": "code",
      "source": [
        "# add hidden layers\n",
        "Z1 = tf.add(tf.matmul(input_X, W1), tf.transpose(b1))\n",
        "print(Z1.shape)\n",
        "A1 = tf.nn.relu(Z1)\n",
        "print(A1.shape)\n",
        "Z2 = tf.add(tf.matmul(A1, W2), tf.transpose(b2))\n",
        "print(Z2.shape)\n",
        "\n",
        "beta = 0.0005\n",
        "regularizers = tf.nn.l2_loss(W1) + tf.nn.l2_loss(W2)\n",
        "\n",
        "probas = tf.nn.softmax(Z2) # apply tf.nn.softmax to logits\n",
        "print(probas.shape)\n",
        "classes = tf.argmax(probas, 1) # apply tf.argmax to find a class index with highest probability'\n",
        "print(classes.shape)\n",
        "\n",
        "# Loss should be a scalar number: average loss over all the objects with tf.reduce_mean().\n",
        "# Use tf.nn.softmax_cross_entropy_with_logits on top of one-hot encoded input_y and logits.\n",
        "# It is identical to calculating cross-entropy on top of probas, but is more numerically friendly (read the docs).\n",
        "loss = tf.reduce_mean(tf.nn.softmax_cross_entropy_with_logits(labels=input_y, logits=Z2) + beta * regularizers)\n",
        "\n",
        "# Use a default tf.train.AdamOptimizer to get an SGD step\n",
        "step = tf.train.AdamOptimizer(1e-3).minimize(loss)"
      ],
      "execution_count": 12,
      "outputs": [
        {
          "output_type": "stream",
          "text": [
            "(?, 250)\n",
            "(?, 250)\n",
            "(?, 10)\n",
            "(?, 10)\n",
            "(?,)\n",
            "WARNING:tensorflow:From <ipython-input-12-af4ed18e42f2>:19: softmax_cross_entropy_with_logits (from tensorflow.python.ops.nn_ops) is deprecated and will be removed in a future version.\n",
            "Instructions for updating:\n",
            "\n",
            "Future major versions of TensorFlow will allow gradients to flow\n",
            "into the labels input on backprop by default.\n",
            "\n",
            "See @{tf.nn.softmax_cross_entropy_with_logits_v2}.\n",
            "\n"
          ],
          "name": "stdout"
        }
      ]
    },
    {
      "metadata": {
        "id": "ug9o1lIh38zp",
        "colab_type": "code",
        "colab": {
          "base_uri": "https://localhost:8080/",
          "height": 309
        },
        "outputId": "cdd927be-24ef-41c0-bd63-8a913724067f"
      },
      "cell_type": "code",
      "source": [
        "s.run(tf.global_variables_initializer())\n",
        "\n",
        "BATCH_SIZE = 100\n",
        "EPOCHS = 20\n",
        "\n",
        "# for logging the progress right here in Jupyter (for those who don't have TensorBoard)\n",
        "simpleTrainingCurves = matplotlib_utils.SimpleTrainingCurves(\"cross-entropy\", \"accuracy\")\n",
        "\n",
        "for epoch in range(EPOCHS):  # we finish an epoch when we've looked at all training samples\n",
        "    \n",
        "    batch_losses = []\n",
        "    for batch_start in range(0, X_train_flat.shape[0], BATCH_SIZE):  # data is already shuffled\n",
        "        _, batch_loss = s.run([step, loss], {input_X: X_train_flat[batch_start:batch_start+BATCH_SIZE], \n",
        "                                             input_y: y_train_oh[batch_start:batch_start+BATCH_SIZE]})\n",
        "        # collect batch losses, this is almost free as we need a forward pass for backprop anyway\n",
        "        batch_losses.append(batch_loss)\n",
        "\n",
        "    train_loss = np.mean(batch_losses)\n",
        "    val_loss = s.run(loss, {input_X: X_val_flat, input_y: y_val_oh})  # this part is usually small\n",
        "    train_accuracy = accuracy_score(y_train, s.run(classes, {input_X: X_train_flat}))  # this is slow and usually skipped\n",
        "    valid_accuracy = accuracy_score(y_val, s.run(classes, {input_X: X_val_flat}))  \n",
        "    simpleTrainingCurves.add(train_loss, val_loss, train_accuracy, valid_accuracy)"
      ],
      "execution_count": 13,
      "outputs": [
        {
          "output_type": "display_data",
          "data": {
            "text/html": [
              "<img src=\"data:image/jpeg;base64,/9j/4AAQSkZJRgABAQEASABIAAD/2wBDAAIBAQEBAQIBAQECAgICAgQDAgICAgUEBAMEBgUGBgYFBgYGBwkIBgcJBwYGCAsICQoKCgoKBggLDAsKDAkKCgr/2wBDAQICAgICAgUDAwUKBwYHCgoKCgoKCgoKCgoKCgoKCgoKCgoKCgoKCgoKCgoKCgoKCgoKCgoKCgoKCgoKCgoKCgr/wAARCAEgA2ADASIAAhEBAxEB/8QAHwAAAQUBAQEBAQEAAAAAAAAAAAECAwQFBgcICQoL/8QAtRAAAgEDAwIEAwUFBAQAAAF9AQIDAAQRBRIhMUEGE1FhByJxFDKBkaEII0KxwRVS0fAkM2JyggkKFhcYGRolJicoKSo0NTY3ODk6Q0RFRkdISUpTVFVWV1hZWmNkZWZnaGlqc3R1dnd4eXqDhIWGh4iJipKTlJWWl5iZmqKjpKWmp6ipqrKztLW2t7i5usLDxMXGx8jJytLT1NXW19jZ2uHi4%2BTl5ufo6erx8vP09fb3%2BPn6/8QAHwEAAwEBAQEBAQEBAQAAAAAAAAECAwQFBgcICQoL/8QAtREAAgECBAQDBAcFBAQAAQJ3AAECAxEEBSExBhJBUQdhcRMiMoEIFEKRobHBCSMzUvAVYnLRChYkNOEl8RcYGRomJygpKjU2Nzg5OkNERUZHSElKU1RVVldYWVpjZGVmZ2hpanN0dXZ3eHl6goOEhYaHiImKkpOUlZaXmJmaoqOkpaanqKmqsrO0tba3uLm6wsPExcbHyMnK0tPU1dbX2Nna4uPk5ebn6Onq8vP09fb3%2BPn6/9oADAMBAAIRAxEAPwD9/KKKKACiiigAooooAKKKKACiiigAooooAKKKKACiiigAooooAKKKKACiiigAooooAKKKKACiiigAooooAKKKKACiiigAooooAKKKKACiiigAooooAKKKKACiiigAooooAKKKKACiiigAooooAKKKKACiiigAooooAKKKKACiiigAooooAKKKKACiiigAooooAKKKKACiiigAooooAKKKKACiiigAooooAKKKKACiiigAooooAKKKKACiiigAooooAKKKKACiiigAooooAKKKKACiiigAooooAKKKKACiiigAooooAKKKKACiiigAooooAKKKKACiiigAooooAKKKKACiiigAooooAKKKKACiiigDxPxd/wAFFP2PvAmoXmn%2BK/ipc2gs9UbTReHwpqj2l5eLfw6fJb2lwlsYb2SO7nigkW3eQxOxD7drY2j%2B2f8As6R%2BObL4c3XjHUbfVLy6sLNlu/Cmpw29le3sUctpY3dw9sIbG8lSWIraXDxzkzRjy8uoPiVz%2Bxn%2B1bH4C8N/s66Zqfw9HgXwn8W9N8V22tXOo3r6rqtnb%2BLrXWxbyQC1EVrLHAlxFvEswuJFiJ%2Bzqzbeh8cfsffGzXfGPi3wPoup%2BFv%2BEA8c/F7QfHuq61dalcrrOnvp8mlTyWEVqtu0Mwll0mLbcNcRmJLhh5TmNSwB6Fa/t1fsv3cGr3w8f30Nno2n3N7LqV54U1OC0vYLedLeZ7G4ktli1HbNJHHi1aYlpEAB3rns/hT8ZfAXxp0m91fwJc6njTdQNlqVnrfh690q8tJxGkuyW1voYZ48xyxupZAGVwQSDmvmbTf2IPj5a6t4mtbTwl8ONN8MazoOp22reBV8Za1feHfFN5cXcEsdw2mTwCPQGCJcEvZyTnzLkMRL5Q3egfs4/sm%2BOvDGmXP/AAu3xl4hhgsfFa6n4L8M6H8ZPEOpQaLbC3tla2mvpmtZtTheeGSUQXUbxRLKY1BQnIB0kX7eP7Kk0fiC6HxNlW18N6Jqur32oy%2BHdQS0urLTSRfzWVw1uItSFuRiQWjTFSQCMkZ5vx3/AMFL/wBmXwh4Vl8TaPd%2BJtceDxF4b0yXTdP8Dav9qeLW78WdnfwxNaB7m1crO0c8IeOZoTFEzyvGjeKaH/wSx%2BI%2BjfBrXPgl5eiXX9m/DfxR4c8C%2BK9W%2BK/ia/LzajZT2VtI%2Bkz5sdLUQzFZjALjJGY0j4A7z4//ALEPxs8d%2BOH%2BIfw%2B1Pwo9zp/hz4cxaTp2r6nc20dzfeG/FE2szxSyRW0phhlidIklVJGDliYsAbgD1V/25/2ZFtteu4/G%2BpzJ4b8Sf8ACPakLbwfqsrPq/nPCdOt1S1JvLsOhJggEkgQrIV2MrGpqn/BQX9lDSbTRp5PH%2Bq3U%2Bv2Wq3WmaXpfgnWLy/ZNMuIrfUFks4LR7iGW3lmRZIpI1kT5iVwjleFtv2OvjToXha08QaFfeFZvFegftCaz8R9G0y61O5j0%2B%2Bgvl1C3NnPcrbNJDILbUZSJFhlCyxJ8rCvMNI%2BEf7S3wX/AG5vCGqeD9N8Dav478U%2BA/iX4l1jSNT128tdItftmt%2BFwlvBdpZyzN5Srb5kNuvnFZfli8wbQD6jsf2yP2adU8Gaz8QtK%2BKVvd6PoNxpMGoXtpY3MoLapDaTaeYVWMtcrcJfWvlvCHVmkKZ3I6r6bXwN8Nv2Q7XwR%2B1Z8Ff2dvBXxLsNdsPh58M9Ff432dmnD3ugLu8PPKqki2klutRnuUjf52i06PGVQGvvmgAooooAKKKKACiiigAooooAKKKKACiiigAooooAKKKKACiiigAooooAKKKKACiiigAooooAKKKKACiiigAooooAKKKKACiiigArzb4q/tdfs/fBPxlH4D%2BJPje4stR%2By2l1efZ9Bvru3023urh7a2nvbi3geGwilmjkRJLl41YxvgnY2PSa%2BQ/28f2Kv2o/2pNZ8Z6N4R%2BIWn/8I5rvhC0s/DFtqHxB1rSoNGvoXnkm8/TtPi8jU47ljApluZG8hVJWCXbscA9gh/br/ZUku9btpviqtrFoGn6hfXeoahot7bWVzb2EywXslndSwrDqAhldI3%2ByvKVd1U8sAdDwJ%2B2B%2Bz78R/EmneC/DXjC%2Bj1vVNTutPt9D1fwzqOnX0Vzb2kd5LHPb3dvHLbH7NLHMvnKgkSRShbIrwzQ/wBjX9rW8/ZXP7IXiDWvh5pWgaLpEn9ga1ZX99qF3qF9FqUN9YC5R7e3W2hjMRinKNO1xuDqIOYz1/jH4S/tp%2BNfiB4H%2BPWqaH8ME1/wZ4l1CS08HQeJtQWzGmXel/ZHLambAyTXAnHnAfY408s%2BVnK%2BawB2uh/t0/steJddsPDmh/EuW4utR0KfWotnh7UBFDpsM9zbzXk8pg8u1gSa0njaSZkUMEBP72Le3w9%2B3Z%2By74m8J6741sviFe21l4dsdPvdSj1fwrqdhctbX8jRWM0Ftc20c13Hcyq0UDQJIJpAUjLN8teO/s%2BfsI/tK/Bjw3q7xfFHwvY%2BKLj4J3fhXR/EWlxzSrY61Jq2rX0V6IZYgDAn263baWJ3RuuCAGbkrH/gnN%2B1HceNNR%2BImoa74div59G8Iz2dvrXxT1/xIw1jw7r39rQrLc6hbB/st3vlR/JSJbU7WjgmJY0AfUHw9/bC/Z2%2BJ%2Buy%2BF/Cnj%2BRdTttLvdQvdN1fRL3Tbizgs5Yorrz47uGJoHia4ty8UgWRVnicrskRj2nw98e%2BFvip4C0T4m%2BBr%2BS70XxFpNvqWkXU1nLbtNazxrLE5imVJIyUZTtdVYZwQDxXxx%2B3H8PfjP8Ybb4c/D3xh4x8IaH8UvFXjTUNFj8PeD724unh8D6lZNaa0vnSpDLMYoUS7N2YYIxPDbRBdxQyfbOnadYaRp8Gk6XZx29rawrDbW8KBUijUAKqgcAAAAD2oAmooooAKKKKACiiigAooooAKKKKACiiigAooooAKKKKACiiigAooooAKKKKACiiigAooooAKKKKACiiigAooooAKKKKACiiigAooooAKzPFWs3eh6el3aJGzNMEIkUkYwT2I9K068o%2BNnxkTwz8bfBHwMn0xGXxdoWuanFfGUho5dPk09BEFxgh0vpGJzx5I4O44TqU6bi57NpfNuy/E6sJgsTjpyhQjdxjOb/AMMI80n8o62Ol/4WHrX/AD62v/fDf/FUf8LD1r/n1tf%2B%2BG/%2BKrBoru9nDscV2b3/AAsPWv8An1tf%2B%2BG/%2BKo/4WHrX/Pra/8AfDf/ABVYNFHs4dguzpE8d6w2ny3Zt7bck0aAbGxhg5P8X%2ByKh/4WHrX/AD62v/fDf/FVlw/8gW4/6%2Bof/QZaq0lTh2C7N7/hYetf8%2Btr/wB8N/8AFUf8LD1r/n1tf%2B%2BG/wDiqwaKfs4dguze/wCFh61/z62v/fDf/FVMnjvWG0%2BW7NvbbkmjQDY2MMHJ/i/2RXN1ah/5Atx/19Q/%2Bgy0nTh2C7NT/hYetf8APra/98N/8VR/wsPWv%2BfW1/74b/4qsGin7OHYLs3v%2BFh61/z62v8A3w3/AMVR/wALD1r/AJ9bX/vhv/iqwaKPZw7BdnSJ471htPluzb225Jo0A2NjDByf4v8AZFQ/8LD1r/n1tf8Avhv/AIqsuH/kC3H/AF9Q/wDoMtVaSpw7Bdm9/wALD1r/AJ9bX/vhv/iqP%2BFh61/z62v/AHw3/wAVXnnxH%2BM3wf8Ag7b2t18XPiv4a8LRXzuljJ4j123sVuGUAsEMzqHIBGQM4yPWuV/4bd/Yv/6O7%2BF//hfad/8AHq56mIwFGfLUqQi%2BzlFP7nJP8D18Jw/xDj6Cr4XB1qkHtKFGrOLto7ShSlF2ejtJ2ejse2/8LD1r/n1tf%2B%2BG/wDiqmTx3rDafLdm3ttyTRoBsbGGDk/xf7Irwz/ht39i/wD6O7%2BF/wD4X2nf/Hq9I8G%2BL/Cfj3wGvi/wL4o07WtJvp4nstU0m9jube4UCZSUkjJVwCCMgnkEU6dbBV3y0pxk/KUX%2BUmZ43Jc8yymqmNwtWlFuydSlVgm97JzpwTdtbJt26HS/wDCw9a/59bX/vhv/iqP%2BFh61/z62v8A3w3/AMVXg2iftpfBjVPiRqnwrvm12x1ay8Zy%2BGrGKbwtqDLqNzFbW9xNJE6QFPKjE%2BWkLbFRDKzCMhqJv21fgQ8Nvd2fieaCM30cV7Frmgapp9xHBJY3t5HcRQTWe%2BZHjsbgo%2BFicQyhZC6CNt%2BSl2PMuz3n/hYetf8APra/98N/8VR/wsPWv%2BfW1/74b/4qvJvhl%2B0n8IPjC7xfDzW9Svnjktg6S%2BGtQtiI7iF5re4xPAn%2BjSpG5S5/1LldoctgVzPjj9qjUfCXxSvfC9p8Oobzw1ofiTQfD/iXxC%2BtmK4tdR1eWCK1SG08hhPGrXdkZHaaMqLglVfYwo5KfYLs%2BhU8d6w2ny3Zt7bck0aAbGxhg5P8X%2ByKh/4WHrX/AD62v/fDf/FV5T42%2BNuv%2BCvjB4O%2BD6fDaW50vxjdTxyeKH1WONLS4hs7u5WFIArPMStu25mMaqHj2mQllTj2/aS%2BMkHxAvvhjc/s4wnW7jQrrVvC%2BnQeM4XlmtodQgsg%2BoHyBHYBxcLOvlvcloobgKGki8tlyU%2BwXZ9Df8LD1r/n1tf%2B%2BG/%2BKo/4WHrX/Pra/wDfDf8AxVfLviD9s74k6L8INd%2BLdv8AAHT7q08Fy68vjWdfG4WzhOlyiN4rCY2nmX08vziNGigQSQyRvJGwUM%2B5/bshl8R%2BPrTwz8PtP1mw8C6Zq80ljp/i6E%2BILybTog0oGlGMOsDTiS2SYSMxlj5jCsGp8tLsGp9P/wDCw9a/59bX/vhv/iqmTx3rDafLdm3ttyTRoBsbGGDk/wAX%2ByK%2BWfAX7Znjv4q/D/V/GPwx%2BF/g7X49D1uW01DxBpnxPWTw0LaPT47x7mPUxZb5dplEDKtsQkiuGdQpNO8Jf8FAtN8RWtvr198OE0fwhcaxoOmahqmsa55Wp2eoaloiatBH9gEBDwiK5iieTzg4lEoERWNnpONPsGp9Pf8ACw9a/wCfW1/74b/4qj/hYetf8%2Btr/wB8N/8AFV80/B/9rrx18c/hfqHxM8B%2BAfAfk2lvaXypefFRTHaWk0Ukrx37W9jM9jewosZktzG8YEvyzuUYBbX9pz4/z%2BEfh34wm/Z78Mwp8QL%2BwtbfSpfiDdLfwG4aSV3WI6UFcRWMcl24d4mAikj2hlG58tPsGp9K/wDCw9a/59bX/vhv/iqP%2BFh61/z62v8A3w3/AMVXyv8ACX9ufxX8a9R17w58O/gxpeq61pdpFNHpFh44R5dNkfUDZtbazutl/su4jCyTtCv2lylvOEEjIqyVLj/goDraeGNY8R2fwWtLgeCdI1jVviKYvFbeTYWOnajdWMslhJ9kzqDObG8kRXW3BEG1mVmApctLsGp9cp471htPluzb225Jo0A2NjDByf4v9kVD/wALD1r/AJ9bX/vhv/iq%2Bcfit%2B2b4q%2BB%2BpalpXxB%2BCCxadc2ep3fhZ7PxPHPqGpmwMcamW2EPl2sNxJcxLHL58hUyxCVI2k2rz3jX9vjUvh9ez/D7xj4A8J6T43s9ensbyx1n4jLZaKtvHp9tei5XUprNWIcXltAqNbqTM7A4RfMJy0%2Bwan1f/wsPWv%2BfW1/74b/AOKrZ8JeIr3XvtH2yKJfK2bfKUjOd3XJPpXAaRezalpVrqNxZNbSXFukj27yo5iLKCULISrEZxlSQccEiuw%2BG3/L7/2z/wDZqVSEFBtIabudRRRRXKUFYnxK8b2Pwz%2BHOv8AxI1O1kntvD%2BiXepXEMRw0iQQtKyj3IQgVt1V1zRdK8SaLeeHddsY7qxv7WS2vLaUZWaJ1Kuh9ipIP1oA%2BdPD/wC1V%2B0L4d8B/EKT4geDfD/iPxV4a%2BDdh4%2B8P6Z4R066to7xrqLUcaWyPNcSSyJNp4Xz02mVbhdsKsuG4qH/AIKHeM765/4QzTPjJ8KpUt/FMdjefFxdDuz4ZFvLpDXsEQhGoZW4kuEltgftZTMRABlYQD2v4bfsdeHPhrbapHZ/GPx3qNxq3he38OTalf6napdw6VaxTx2dtFPbW0UkZtzdXMiTA%2Be0kxaSSQhdrbb9kEWOh3yaZ%2B0j8SrTxHq2uDU9Y8bWt/pyajflbIWSW8kYsvsfkLCF2otupWRRKCJS0hAOv/Z3%2BLMfx6%2BAXgn43xaS2njxh4T0/WTYMxJtTc20cxiJYAnaXK5IGcdBWprOu%2BKLLUpbbT9G86FcbJPsztnIBPIOOtT%2BAPA3hj4YeBNF%2BGvgnTBZaL4e0m20zSLNXLCC1giWKKPLEk7URRknJxXNeM/%2BRluf%2BAf%2BgLWtKKlLUTNT/hJ/Gn/Qvf8AkpJ/jR/wk/jT/oXv/JST/GuXorf2ceyJuzqP%2BEn8af8AQvf%2BSkn%2BNH/CT%2BNP%2Bhe/8lJP8a5eij2ceyC7Otu/EXi6GUJBoW9TEjE/ZZDyUBI69iSPwqL/AISfxp/0L3/kpJ/jWDrH/H2n/XrB/wCikqrSVONtgudR/wAJP40/6F7/AMlJP8aP%2BEn8af8AQvf%2BSkn%2BNcvRT9nHsguzqP8AhJ/Gn/Qvf%2BSkn%2BNS3fiLxdDKEg0LepiRifssh5KAkdexJH4VyVWtY/4%2B0/69YP8A0UlL2cb7Bc3v%2BEn8af8AQvf%2BSkn%2BNH/CT%2BNP%2Bhe/8lJP8a5ein7OPZBdnUf8JP40/wChe/8AJST/ABo/4Sfxp/0L3/kpJ/jXL0Uezj2QXZ1t34i8XQyhINC3qYkYn7LIeSgJHXsSR%2BFRf8JP40/6F7/yUk/xrB1j/j7T/r1g/wDRSVVpKnG2wXOo/wCEn8af9C9/5KSf40f8JP40/wChe/8AJST/ABrl6Kfs49kF2dR/wk/jT/oXv/JST/GpbvxF4uhlCQaFvUxIxP2WQ8lASOvYkj8K5KrWsf8AH2n/AF6wf%2BikpezjfYLm9/wk/jT/AKF7/wAlJP8AGj/hJ/Gn/Qvf%2BSkn%2BNcvRT9nHsguzqP%2BEn8af9C9/wCSkn%2BNH/CT%2BNP%2Bhe/8lJP8a5eij2ceyC7Otu/EXi6GUJBoW9TEjE/ZZDyUBI69iSPwqL/hJ/Gn/Qvf%2BSkn%2BNYOsf8AH2n/AF6wf%2BikqrSVONtgudR/wk/jT/oXv/JST/Gj/hJ/Gn/Qvf8AkpJ/jXh/xn/bA/Zg/Z6jkHxj%2BOPh7RLiMZbTpr8S3hHqLaLdM34Ia8mj/wCCt37Ml6guNC8GfEzU7dxmC6sPh7eNHMvZlJAyCORXn18zyjC1PZ1a0FLte7%2BaV2vmkfX5XwBxzneEWKwOW1p0ntP2bUH6Sn7OMv8At1yPsn/hJ/Gn/Qvf%2BSkn%2BNS3HiLxdHFA8WhbmkiLSD7LJ8p3sMdeOAD%2BNfGX/D1r4NSf8efwC%2BNNx6eT8Nbg/wA2FWLz/gqh4Hube0TT/wBj/wDaEuiluV/cfC2Q7v3jnIzKMjnH1zWH9t5JfStH7p/pBno/8Qr8RVvl016yor88Sj7A/wCEn8af9C9/5KSf40f8JP40/wChe/8AJST/ABr44/4ebmfjT/8Agn7%2B0vN6MfhbtX8zcUn/AA8F%2BNmtnb4H/wCCbHxluGP3f7esbbTBn3MkjYo/trKHtO/pCo//AHGH/ELuOo/xMNGC7zxGEivveMf5H2R/wk/jT/oXv/JST/Gj/hJ/Gn/Qvf8AkpJ/jXxv/wANPf8ABSXxDx4Z/wCCalrpcZ%2B5deIPizp/6xRJuH50f8Ll/wCCrNh%2B8vP2Mvh9qCnnyrD4iCJgPTMi4zR/a2De1Ko139lU/VJ/gP8A4hvncdKmLwUZdnjsLf8A8lnNL5yR9m3HiLxdHFA8WhbmkiLSD7LJ8p3sMdeOAD%2BNRf8ACT%2BNP%2Bhe/wDJST/Gvj%2B8/ar/AOCkem29quvf8EtxNGluQtxpfxk0t948xzkIY9w5yPwqv/w2f%2B223yx/8EufFJYdQ3j/AE0DP1280LOMv6xmvWlV/wDkA/4hpxM/gqYWS7rHYJr/ANSF%2BR9kf8JP40/6F7/yUk/xre0W6vb3TIrnUbfypm3b49hXGGIHB56Yr4Z/4bC/b0k/49/%2BCWetn08z4oaWn80r61/Zn8XfEHx38EdE8V/FP4Vy%2BCdeuxc/b/DE2rw37WW25lRMzwgI%2B%2BNUk46eZtPINa0sfhcVLkpKSe%2BsJxX3yil8tzx864Qzjh/CrEYuVFxb5bU8Th60rtN6xo1akktPia5U7K92r93RRRW58yFFFFABRRRQAUUUUAFFFFABRRRQAUUUUAFFFFABRRRQAUUUUAfEv7UN94O0v9p/xFqXi650%2BD4hweL/AIfS/C25vXRLyLQl1KBtVazZvmW3EY1U3pj4EH%2Bu%2BXZVD9r7Wf2iNe/ay8G%2BNPDvwj8UOtrf6zpXwl1jStY0mTTrhZ/CWqSyX20XwnM0lyY%2BHhwsFgpjJedo2%2B6aKAPk7/gnZ/wqk/EDXT%2BznHYL4L/4VZ4PGrf2SoEH/CSbtU%2B2ifb/AMxHyPsX2rf%2B%2B/1HmfNVX9vHVJ/DH7en7LHiW5maPTbm%2B8XaNeuibjvutPtmhXBIBzJAO/avruvj/wD4LCKvhzwb8Fvi8g2nwl8fPD893L/ds5fOimX2zuQV5ecNwwDqL7EoS/8AAakG/wALn33hlCOI4xpYSSv7eniaPzq4XEwj8%2BZRt5tHvXk6L/0ELr/wDX/45R5Oi/8AQQuv/ANf/jlVaK%2Bjt5n56WvJ0X/oIXX/AIBr/wDHKPJ0X/oIXX/gGv8A8cqrRRbzA04otI/sicC%2Budv2mLJ%2ByrkHbJjjf9areTov/QQuv/ANf/jlEP8AyBbj/r6h/wDQZaq0kgLXk6L/ANBC6/8AANf/AI5R5Oi/9BC6/wDANf8A45VWinbzAteTov8A0ELr/wAA1/8AjlWYotI/sicC%2Budv2mLJ%2ByrkHbJjjf8AWsyrUP8AyBbj/r6h/wDQZaTQB5Oi/wDQQuv/AADX/wCOUeTov/QQuv8AwDX/AOOVVop28wLXk6L/ANBC6/8AANf/AI5R5Oi/9BC6/wDANf8A45VWii3mBpxRaR/ZE4F9c7ftMWT9lXIO2THG/wCtVvJ0X/oIXX/gGv8A8coh/wCQLcf9fUP/AKDLVWkkBifEf4J/AT4xW9ra/Fz4caJ4pisXd7GPxH4Wtb5bdmADFBMWCEgDJGM4HpXK/wDDDv7Cv/Rqnw5/8Nrpn/xNRftHftffs7fsk2Glan%2B0H8Q/%2BEfg1uaWLTH/ALJu7vznjClxi2ikK4Dr97Gc8Zryn/h81/wTX/6OQ/8ALP1n/wCQ68fGYrh6liHHFTpKel%2Bb2fN5X5k3tsaR48xGSL6nHNZUFH7CxNSmlfX4I1oJX3%2BFX313PW/%2BGHf2Ff8Ao1T4c/8AhtdM/wDia9H8HeC/h54B8DJ4P8CaLb6Lo9lNGtppuk6PDbW9uD5rbY4o2CKCSxOMcnvmvl3/AIfNf8E1/wDo5D/yz9Z/%2BQ6%2BiPhB8WPAHxy%2BENn8V/hbr/8AamgazJHLpt/9llg85FM6E7JkR1%2BZWHzKOnpV4HEZHWqtYKdNy68nJe1%2BvKk7X%2BQS4yrcRr6vPMpYlR97ldedW3Tm5ZVZpb2vZPW1%2Bh5jH%2BxyifGfV/igvxpu4LO/1jVNRsLGy8MiK7spb/S7WwlIujdlWKG1WVCIlI3FTuwGrzHw3/wSq07QbsXEXxu0e0SbSrC21GHQfhclkt1PaadrVgl2xGouXlkXWXkleQyPI8Awyq21fWfEX7ZXwz8Nm9tLrw9r0t/pupa5aahpscNss1qmlwCea5kMk6okEiSWhjcsP%2BP%2B3LiMFynnEn/BSHwr4q1rRb34e28a6HPaavFrjSxWupXNtqFrqfh20hjjksr82ssTRa0XZkmfHyH70bxN6bUO5Gp7D8Mf2e4/hf45m8YaX8SDcx3nhbw/oV7aT%2BG8FodMjvh5iOLv5Gke7RuVYIIWXDFwyZPjj9lG08XfFK88VWvxVms/DWt%2BI9B8QeJfDreGVkuLvUdIlhltZIbv7UogjZrSy8xDFIWFthWTe1YHgn9sfU/ib8ddE8DeCvhVrR8Nar4P13VrTU76C1jl1Y2WqaXZRXFm32vatvtu7mRlnWOUqsTKoyFd/wC1B%2B0V8U/hfrWu2fwwsdAeHwV8Nrzxp4ij1yymmfUYIncR2Nu0c0Yt3dbe5zO4lCHy/wB0wJw7RsGp13xD%2BB3xV8c%2BPPAvxD0/42eH7G28Fakbq7sJvh1PNJf3E1rd20uyQasggQwzHapWQq6bizg7Bxtj%2Byd8bLDw74%2BsrX9qTR4Nc8dyyPceL7b4aXMep26m5Bjh83%2B2iBDDaGa2hSIQmNpBOG8zzPN7D9oT4t/En4b%2BD/Cnib4daXodxpesfEDw7pevT6w0xmS1v7%2BGzAt449o8zFyz%2BY77U8oDy5N/ycP4e/aL%2BLWrfH7xZ8L9S13w5pgtdcvNM8DaHq3gXVrYa5JFpcV3H/xOTO1qW3tMzRRwPKIYJGCHaWCsrgWtW/ZH%2BI17pHgXw7pvxk8EWWjeBpJZrTwxF8Jbr%2Byri4UxGznaAa6GL22yVkDyOhklEpUSRRutD4g/8E9/D/xHfWtA1b4vvZ%2BHNUvNe1O3stL8HpHfQanq9hNZ3cr3TXbLPb/6TPKtu0QO4xhpHWNRVbwr%2B0L8f/EGi%2BN7PUPGfw%2B0hvAuvxRa74w8R%2BFNS0u3tNPFg1xNMdLuLsTuBMEjSd7iGGWN3lQsIgsuN8Nv24viT44%2BIfhnwv4r0/QvB4bS/Dg8T6VrfhzVHkl1HVIDMbeO8QiDTWUPAsMV0rPcSu0I8tkyS0Q1Ol8V/sU%2BP/F8V/dap%2B0HoUlx4h8V22seL9Mk%2BGU39j6xFa2EVpbWb2iawsnlBokmkDzyCZkRGXylMbdD4w/Yz0/4rfETTPiP8V/Gfh3VLXT5LGS%2Bis/hrDbajNcQ20yCCK/%2B1vLFYGZjc/ZnEkgkVR55TKV5l4o/b88d2ur%2BNJdC8N6RHoePCKfDbU5tOu7uW%2Bi1fVNR0%2BS/mggffcxf6A89vBBteeMxjeDOPLup%2B2Z8TUvtCg1L4i%2BENP8ADM%2BlSXOveLU%2BFuu3dp9rh1S4smhlP2mL%2BxSiJ%2B%2BS83eRLvRnYJlk%2BUep0WhfsGw2Pw38UfD3WPjb5w134daX4EsbnT/BaWot9DsTdBFnjF6wuLiSO7mR5VMUYBBSJPmDeueIfhTo3iH4x%2BFvilP4tultvDGjaraxaMdJUiW6vGswl0JPOGwxRW9zEF2ncLxjuXbhvm/Uf%2BChXiDSbL4g%2BNri48NnTvD6eJLfw34bu9D1K0urm50vUxpqynUH3Wt5E8wZ5Y4FWS2SWLdvO7B4o/bk%2BIeg6XpfhO18b%2BE5vEFzea3JqOtt8M/EAisbbTrayleG50YSfbbSYtqNuxdpHjW2/wBI5DqgfuoWp01p%2BwV4y0TwafCvhP8AafOmTab4QTwp4Z1O28CvHPBpDX0FxcLdyRamj3V1JFAIRcxPbNGZZpVUSPkaHif9h298UeFX8Ip8XdF0Wy1jwK/grxXYeG/hy1ta3WgeY5jgs4n1OQ2U6Rz3UYlLTLi4J8oFVo%2BIv7Q/xy8E%2BPPD8mg6d4P8T6R4mhuJ9E8LeHFubjVbyxg0d7yTUhdmRYkh%2B2CK1VPIYMLiBvO3yrCOZ%2BE37duv%2BM9G1nwzFrfhDxf4uOkaBN4ZXwpaXFrZy6hqwv1XTp1lnmcNaNp1xNcSBgywK5MSPGyktHYNTttX/Yz8U%2BMrj4k3njf44aXfWnjt2t4r6LwBJHq2jWqCRtOtbe4fVHgEVs4WVlFuoml3uwBkJFS//Yq1q%2B8QXXxam%2BNely/ELUNTvJb3Wrr4debpgtLnTbXT3tYrFtR3xgR2cEgdrhyZDLkFJPLXkfAH7bnxs8ZfCjQ/i1/ZPhWHRrXQvh/eeNdP/s25Nxd3evhPPNnL9p220VslxHIqyJO0x3Rlo8bzzZ/4KL/Ee20m5guZvCE%2BuXunpeJoljo15LdeEiuvWGmXNlfW63Jl1G8jj1GORLeAQSzvCY0jPnREpco9T62%2BF/w88JfCn4Z%2BHfhdouuanc2fhvQrTSrS4vLZGmlit4UhV3IkGWIQEnuSa9A8AJZJ9r%2Bx3Esn%2Br3ebCEx97phjmvDP2V/i54j%2BNnwij8b%2BK4bRb1Nc1TT2ktNNnsRMlrfTW6SvZ3DvPZSMsQZraZjJExKtggge3fDb/l9/wC2f/s1FT%2BGJbnUUUUVyFhRRRQAUUUUAFcH4z/5GW5/4B/6Atd5XB%2BM/wDkZbn/AIB/6AtbUPjJlsZdFFFdRIUUUUAWtY/4%2B0/69YP/AEUlVatax/x9p/16wf8AopKq0lsAUUUUwCrWsf8AH2n/AF6wf%2BikqrVrWP8Aj7T/AK9YP/RSUuoFWiioNT1TTNFsJdV1nUYLS1gXdNc3Uyxxxr6szEAD60NpK7HGMpyUYq7fRasnorwP4l/8FOv2I/hlf/2FN8cLHxBqzOUg0fwdBJq080n9wfZVdA3szLXKN%2B17%2B238cSbb9lr9iC%2B0Kwl4i8V/GS9/suJPRvsMRNxIp6hlbp25ryqmd5ZCbhCftJfywTm//JbpfOSPusJ4a8Z18PHE4nDfVaL19piZRw0Ld06zhKX/AG5SqPsj6x1j/j7T/r1g/wDRSVxvjL43/Bb4clx8Qvi94X0Ix58wazr9ta7fr5jrivB9R/YV/ae%2BNVwtx%2B2L%2B3H4jvbSWCIyeEfhlbroenhDGuIXmUGa5THB3hW966bwV/wTA/YH8CIg0v8AZj8OXjoPml12OTUWc92b7U8gJNRHFZxXV6OHjBd6ktf/AAGmpW%2BcrnQ8j8PMr93H5rUxE%2BqwlBOC8vbYqVJS9YUeXzZF4w/4Kl/8E/vA5ZNX/ae8P3LKcbdGSfUdx9B9ljkBrnD/AMFS/BHi8%2BT8Af2Y/jB8QWb/AFV7o3gmSCx/4HPcFNg9yte/%2BD/g98I/h6FXwB8LfDmhhB8g0fQ7e22/Ty0GK6On9Xzyr8deEP8ADTbf3zn/AO2k/wBq%2BGeD1oZXiK7/AOn%2BLjCPzhhqCfy9p8z5cPxz/wCCpHxI4%2BHn7FvgzwNC/wDqb74h%2BOfthI/vNBYKHT/dPNWtQ8A/8FfLmdZL/wCP/wAGLaRreImO08K3rogMa4UFzk4GBk9a%2Bmatax/x9p/16wf%2Bikpf2RKbvVxNWT/xqK%2B6EUvzD/X6lQ93BZNgaUezoSrS%2Bc69ecn9y/RfKv8Awq7/AIKzy/f/AGpfhZF/1z8ETN/NqP8Ahnb/AIKdeJPl8Qf8FDtB0FD9%2BPw78KrScsPZrh8r9RX1BRT/ALFw7%2BKrVf8A3Fn%2BlvzD/iI%2BbR1pYLAwfdYHDN/%2BTqa/Bny//wAO/fjr4h/5KH/wUq%2BMFzu/1n/CN3FtpGfp5SNto/4dqa5pH73wb/wUH/aGspepF/49W9iLf3ijwgZPfmvqCij%2Bwcq6wbfdzqN/f7QP%2BIpccLSGIhGP8scPhFH/AMBWEa/E%2BZtS/Yy/bn8O3CjwT/wVI8SDFvEVXxF8PNN1HIMakKWdlPTjPXiqT/sDftCfFdyv7VX7f3jfXrDODoXgayg8OWsydNsxg3NMD1IOOvB4r6w1j/j7T/r1g/8ARSVVpLIsuatLna7OpUcfmnOw14ocWwfPTdCFTpUhg8HCqvSpHD3T80r9mjyH4MfsE/sgfAGSO9%2BGnwF0GC/jO4avqFub693dSwuLkvIpJ5O0ge1evUUV6WHwuGwlP2dCChHtFJL8Ej5DNs6znPsU8TmeJqV6j%2B1UnKcvvlKVl5Ky8gq1qH/HpY/9ep/9GyVVq1qH/HpY/wDXqf8A0bJWz3R5hVooopgFFFFAFrUP%2BPSx/wCvU/8Ao2SqtWtQ/wCPSx/69T/6NkqrSWwBXeeDP%2BRatv8Agf8A6G1cHXeeDP8AkWrb/gf/AKG1ZV/gHHc1KKKK5SwooooAKKKKACiiigAooooAKKKKACiiigAooooAKKKKACiiigAooooAK%2BU/%2BC1nhu58Rf8ABOXx1Lp%2BVu9Jew1S0lUcxtbXcUxYf8AV/wA6%2BrK8j/bt8Hf8LB/ZJ8f%2BB1i3vq3hLU7WJcf8tHspwhHuGIP4Vx5jQ%2Bs5fWpL7UJL/wAllb8bH1HA%2BZLJuNcsx72pYihJ%2Biq0%2Bb5crlfyuQeC/Elt4z8HaT4wsseTqumQXkWDxtljVx%2BjVp145/wT18Y/8J3%2Bw98K/ELS%2BY48E2NpK%2BeWe3iFuxPvuiNex16eDr/WcHTrfzRi/vin%2Bp5fEOWvJeIMZl7/AOXNarT/APAKlSC/CK%2B8KKKK6Txy1D/yBbj/AK%2Bof/QZaq1ah/5Atx/19Q/%2Bgy1VpLqAUUUUwCrUP/IFuP8Ar6h/9BlqrVqH/kC3H/X1D/6DLSYFWiiimAUUUUAWof8AkC3H/X1D/wCgy1Vq1D/yBbj/AK%2Bof/QZaq0l1AKKKKYBVqH/AJAtx/19Q/8AoMtVatQ/8gW4/wCvqH/0GWkwPFPiF%2BxL8IviR4y8Z%2BOtZ1TXIL/xrosGn3v2S6hEdk8bW7G7t0eJgJ5PsWnrJ5nmRuthApjwHD4bf8E8/hje%2BKNQ8YeIPil431S%2B1S6muryS%2BvbHDXE02izTSgR2i7dz6DZ/IPkQPMqKgKBPfaKOVBdnkHw%2B/Y48K/DPxxZ%2BOPDPxU8Yh9J0XUNI0DTbmexe10qwvL%2B1vZbeFfsm5gHtI41aVpHEbMu4kRsmr8cP2XvBXx41A3/iDxPr2lC70C50HX7fRLiBE1vSZ3RpbG582GQiM7SA8RjlUSyBZF3mvSqKLIDgfjL%2Bztc/GzwdbaHf/HDxhoVvpviyw1mBNCg0n5p7a4W6tUY3NhN8kMsClQMFgzCQyDG3G8V/sl%2BHvH/iH%2B1fH3xa8caxp8clzcWeg3OrQRW1ld3GnS6fLdQyQwJcxv5FxcFUE3lRvMzxxoVTZ7DD/wAgW4/6%2Bof/AEGWqtJJajPDtf8A2GdC8URG71/4%2B%2BPrvWJNd07UrzXrn%2Bx5JrwWEUy2VtNC%2BnG1eGGSZ7hQYd/nhZC5KLjZ139kXwn4r8RWviDxZ8RfE%2BpKbjSrrxDp1x9gS28Q3emzi4srm7SO0UiSOVYmxbmFHEMaurquK9Yop8qFc8Vb/gn9%2BzJpniTWfF/w88AWHgzUtW0zR7WC78H6NYWJ02TTb6a9t7m3C25UStNKnmCQSRyrbQIyFVIa3d/sR%2BEtS%2BGl78P5vjF48XRdVmuk8Zaauo2Zh8T/AG25ubq6N2rWpETSPNMha0%2BzHy5PLBCpGE9fq1D/AMgW4/6%2Bof8A0GWk0h3PEtY/Yj%2BFXiLVtUn1/wAReIrvS79NZNh4ee7gS00i41WXz766tWSFZxM8xeQNLLII2kfy1QEARz/sV%2BGJorzV0%2BMXjaLxTqeoXVzq3jeGXTl1K8S5s7Wzmt2X7F9lSIwWNkuI4EYNbI4YOWZvZ6KfKhXPI/Av7IPh74a%2BP7vxr4K%2BLPi%2Bxs7vTbDTG8Or/Zr2sOn2dottb2UU7WRvIoUAeUKlwD5s0r5y5p2g/sYfBhoruT4w2D/FK%2BuxZodU%2BJmnWGpTRQ2scqW8SAW0cahBcXLb9hkZriUu7Fq9aoosgPFPA/8AwT5%2BCvw%2B8HaB4V8G674g07QfDtp4ds7zw9ayWcdprzaRLLcWVzehbYOZxPmWRoGhEzHEquoCixrP7F3g/wAS3d5q/ir4reN9V1LzYH8N6rqGpWstx4bEOoR6hGlmxtsOPtEMBY3QuC6QRo5ZBtPtsP8AyBbj/r6h/wDQZaq0lFDucx8JPhVo3wg8LTeG9K1nUdTmvNVu9S1TVtXeJrm%2Bu7mZpZZpPJjjjUlmwFjREVVVQoAr0/4bf8vv/bP/ANmrl66j4bf8vv8A2z/9mqav8NgtzqKKKK4ywooooAKKKKACuD8Z/wDIy3P/AAD/ANAWu8rg/Gf/ACMtz/wD/wBAWtqHxky2MuiiiuokKKKKALWsf8faf9esH/opKq1a1j/j7T/r1g/9FJVWktgCiivLv2k/2xfgR%2ByrpcE3xP8AFLPq9/hdF8LaRD9q1TVJCcKkFuvzHLfLubameCwJrLEYihhaTq1pKMVu27L%2BvLVvomehlWU5pnmPhgsuoyrVp/DCEXKT76LZJattqMVdylFJs9RrxD4/f8FIv2V/g/4oHgWy8YXPjTxaYYoofB/gCybVtQklWJQYysPyRuDwVd1b2rzT/hWv7bH7eJ%2B1fHDVr74KfDC45TwRoN2D4i1mE9r25xi1Rh1iUbsFkdc4avoz4Sfs1/Aj9mvRIvCfwO%2BF2keHbUWUAmksbUefcnylO6aZsyTNnnc7E15SxWZZg/8AZY%2Bzh/PNPmfnGndWXZzav/KfcyyTgzhRWzus8ZilvQw1SKpQfatiuWalLo4YaM7ap1r7eBf8JT/wU7/ad%2BTwf4O0D4B%2BGJ%2BmqeItuseIJIz0ZLZcQwkjOUlwynGDVzSf%2BCUnwD1%2B9h1/9pDx547%2BLWqxt5hm8b%2BK7h7ZJP8AplbwsionohLADjmvp%2BirWSYSo%2BbFt1pf33dfKCtBf%2BAv1MZ%2BJef4OLpZFCnl1Pa2Gjy1Gv7%2BIn7TEzff97TW/urY5b4afBD4N/Bmw/sz4TfCvw94bh27WXRNIhti4/2iigufckk11NFFerTp06UFCEUkuiSS%2B5JI%2BExWLxePxEq%2BJqSqTlvKcpSk/WUpSb%2BbZa1j/j7T/r1g/wDRSVVq1rH/AB9p/wBesH/opKq1S2OcKKKKYBVrWP8Aj7T/AK9YP/RSVVq1rH/H2n/XrB/6KSl1Aq0UUUwCiiigC1rH/H2n/XrB/wCikqrVrWP%2BPtP%2BvWD/ANFJVWktgCiiimAVa1D/AI9LH/r1P/o2SqtWtQ/49LH/AK9T/wCjZKT3QFWiiimAUUUUAWtQ/wCPSx/69T/6NkqrVrUP%2BPSx/wCvU/8Ao2SqtJbAFd54M/5Fq2/4H/6G1cHXeeDP%2BRatv%2BB/%2BhtWVf4Bx3NSiiiuUsKKKKACiiigAooooAKKKKACiiigAooooAKKKKACiiigAooooA%2BY/jR8dfjJ4f8AjB4o1/w58QZrDQ/AnjPwPoB8JJpto8GtJrN/aQXc80skTXAcR36LAIZI1Elt84kDlRd/aA8ffH/4d/H/AMNSeFPiXqs3h3xJr0ulmy/sjSjo9g/9kXDQWTuA%2BoNqMt4kcqSMY7QRsImG/b53qPjn9mL4KfEfx/D8TvFvhW6m1mGO1Uz2uu3trFObZ5JLWSaCCZIp5YJJZJIZZEZ4XIeNkYAird/sk/ADUPH5%2BJepeCri61N7hbm4ju9evpbK5uls/sIu5rN5jbTXX2XEP2l42m2Ko38DABxX7DXxH%2BJmuaPP8Pf2gvEfxAk%2BIen%2BFtE1XxDpXjvTdDgEK3cc6efZnR4kQwvcW10hSZjNGYBuRAwL%2Bw/EGwGpaEtoyxFXnAdZpVVWUqwI%2BYgHr0rF%2BEH7O/wm%2BBL3tx8ONDv4rjULW1tbq81bxBfancG2thILe2Wa9mlkjgi82UpCrCNDLIVUF2J2PiH/AMgWL/r6X/0Fqun8aC7WqPjX/gkFZ3tl%2Bx0nwzluITL4G8a694fmEt3GGDRX8suDlvSYfhivqL%2Bx7v8A57Wv/gdF/wDFV8qf8E%2B/%2BKT%2BOX7Sfwk%2B79g%2BL0mupF/dXVLZJhj0B8qvqGuPILrKKUP5E4f%2BASlH8oo%2B98VEp%2BIGPxK2ryhXX/cxRoV2/wDwKpMtf2Pd/wDPa1/8Dov/AIqj%2Bx7v/nta/wDgdF/8VVWivY1Pz404tKuhpE8fm22TcxEf6ZFjhZO%2B7Hf/ADiq39j3f/Pa1/8AA6L/AOKoh/5Atx/19Q/%2Bgy1VpK4Fr%2Bx7v/nta/8AgdF/8VR/Y93/AM9rX/wOi/8Aiqq0U9QLX9j3f/Pa1/8AA6L/AOKqzFpV0NInj822ybmIj/TIscLJ33Y7/wCcVmVah/5Atx/19Q/%2Bgy0ncA/se7/57Wv/AIHRf/FUf2Pd/wDPa1/8Dov/AIqqtFPUC1/Y93/z2tf/AAOi/wDiqP7Hu/8Anta/%2BB0X/wAVVWijUDTi0q6GkTx%2BbbZNzER/pkWOFk77sd/84qt/Y93/AM9rX/wOi/8AiqIf%2BQLcf9fUP/oMtVaSuBa/se7/AOe1r/4HRf8AxVH9j3f/AD2tf/A6L/4qqtFPUC1/Y93/AM9rX/wOi/8AiqsxaVdDSJ4/Ntsm5iI/0yLHCyd92O/%2BcVmVah/5Atx/19Q/%2Bgy0ncA/se7/AOe1r/4HRf8AxVH9j3f/AD2tf/A6L/4qqtFPUC1/Y93/AM9rX/wOi/8AiqP7Hu/%2Be1r/AOB0X/xVVaKNQNOLSroaRPH5ttk3MRH%2BmRY4WTvux3/ziq39j3f/AD2tf/A6L/4qiH/kC3H/AF9Q/wDoMtVaSuBa/se7/wCe1r/4HRf/ABVH9j3f/Pa1/wDA6L/4qqtFPUC1/Y93/wA9rX/wOi/%2BKqzFpV0NInj822ybmIj/AEyLHCyd92O/%2BcVmVah/5Atx/wBfUP8A6DLSdwD%2Bx7v/AJ7Wv/gdF/8AFUf2Pd/89rX/AMDov/iqq0U9QLX9j3f/AD2tf/A6L/4qj%2Bx7v/nta/8AgdF/8VVWijUDTi0q6GkTx%2BbbZNzER/pkWOFk77sd/wDOKrf2Pd/89rX/AMDov/iqIf8AkC3H/X1D/wCgy1VpK4Fr%2Bx7v/nta/wDgdF/8VXR%2BALOW0%2B1%2Ba8R3eXjyp0f%2B912k4rkq6j4bf8vv/bP/ANmqKt%2BRjW51FFFFchYVz3xd8a3Pw1%2BE/if4i2WnC8m0Dw7e6lFaHP79oIHlCcc8lccetdDTLm2t7y3ktLuBJYpUKSxSKGV1IwQQeCCOMUAfLfgr4qftU6V4W%2BIngfRPHbfEHxla/AnSPGXg6bUNKsoMa1fx6tGLNUto4I2tjNYQNEshMnzyq8zABl841L9rH9o3UPFUvwW%2BHXi34peIbi18RFre4TwXo2leLdQsjof2pk%2Bz6raW1jFFDd4DtJDDK6TwLH5mQ8v1D4M/Y7/Z58AaJqXhvw34KvBYavpX9lanZ3/iTULyO408QPAliwuJ3/0WOOSRYoP9VD5shjVC7E1f%2BGJv2dB4fi0BPDWuI8WrSamNbj8c6wurvcyWy2ru%2BpC7%2B2SA26RwlGmK%2BXFGmNqKAAdH%2Bzf461T4o/s7%2BAviZrmt6dqd94i8F6Xqd5qWkQSRWl1LPaRSvLCkoDpEzOWVXAYKQCAcijxbptxceILiaOS3AOzAe6jU/cXsWBFdL4V8LeHfA/hfTfBXhDRrfTdJ0ewhsdL060jCRWttEgjjiRRwqqiqoHYAVyXjP/kZbn/gH/oC1tR%2BIUtir/Y93/z2tf8AwOi/%2BKo/se7/AOe1r/4HRf8AxVVaK6dSC1/Y93/z2tf/AAOi/wDiqP7Hu/8Anta/%2BB0X/wAVVWijUDT1XSrqS5Vlltv%2BPaEfNeRDpEo7tVb%2Bx7v/AJ7Wv/gdF/8AFU3XpobaX7RcTLHHHZwtJI7AKqiFSSSegr428U/Gr41f8FE/Ed78Jv2SdcvfCXwps7l7Txd8XkjKXGrFTtks9IBxx1DXHbqMAAS8GMx8MFGMbOU5aRgt5P8AJJfak7KK31sn9Rw1wti%2BI6lSq6kaGFopOtXqXVOlF7Xt706k7NU6UFKpUlpFJKU4dV8d/wBrf4k/Eb4nXn7JH7B1lp2u%2BN7cbPFXja6nR9F8HRkkFpZclJ7oYO2EbsMDuDFWQdr%2BzH/wT9%2BF37Od7J4/v7r/AITD4h6iu7XfiF4m1GO41C6lYYfyy7t9njPQInO0AMzYzXYfAf4AfCj9mr4dWnwt%2BDvhODStKtPmcJ80t1KQA000h%2BaWRsDLH0AGAAB2Vc%2BGy6pUrLFY1qdRbL7FPyinu%2B82uZ9OWOh7Gc8X4bC5fPJeGoyoYN6VJuyr4pr7VeUfhp31hhoS9lBWc/bVLzVr%2Bx7v/nta/wDgdF/8VVnVdKupLlWWW2/49oR815EOkSju1ZlWtY/4%2B0/69YP/AEUletrc/Pw/se7/AOe1r/4HRf8AxVH9j3f/AD2tf/A6L/4qqtFPUC1/Y93/AM9rX/wOi/8AiqP7Hu/%2Be1r/AOB0X/xVVaKNQNPVdKupLlWWW2/49oR815EOkSju1Vv7Hu/%2Be1r/AOB0X/xVGsf8faf9esH/AKKSqtJXsBa/se7/AOe1r/4HRf8AxVH9j3f/AD2tf/A6L/4qqtFPUC1/Y93/AM9rX/wOi/8Aiqs6rpV1Jcqyy23/AB7Qj5ryIdIlHdqzKtax/wAfaf8AXrB/6KSlrcA/se7/AOe1r/4HRf8AxVH9j3f/AD2tf/A6L/4qqtFPUC1/Y93/AM9rX/wOi/8AiqP7Hu/%2Be1r/AOB0X/xVU5pobeF7i4lWONFLO7tgKBySSegrkbP9of4AajcvZ6f8cvB080blHih8TWjMrA4IIEmQfas51adNpTklfu0vzaM51qNJpTklfu0vzaPQ9V0q6kuVZZbb/j2hHzXkQ6RKO7VW/se7/wCe1r/4HRf/ABVUG8U%2BGdeukbQ/Edheg2sGDaXiSZ/dL/dJou72ysIjPfXcUKDq8sgUfmaqMk43T0/rzLUotXT0L/8AY93/AM9rX/wOi/8AiqP7Hu/%2Be1r/AOB0X/xVcfq3xp%2BDmg5/tz4s%2BGbLb1%2B169bx4/76cVgXn7YH7JWnki//AGo/h1AR1E3jawXH5y1jPF4Wn8VWK9ZRX5yRzzxmDp/HVivWUV%2Bcken/ANj3f/Pa1/8AA6L/AOKqzfaVdNbWaiW2%2BW2IObyIf8tXPHzc9e1eJ3f7eX7Etlnzv2t/hwcf88vGdlJ/6DIa53x5/wAFWv8Agnz4Pt7OG9/aa0W9lW3KiHQ7e51BmYyOQo%2BzROMnI7965qmbZXSV54imv%2B34/wDyTOapnOT0Y3niaaX%2BOH/yTPoX%2Bx7v/nta/wDgdF/8VR/Y93/z2tf/AAOi/wDiq%2BUz/wAFTPBPiX938Gv2VvjZ433/AOqutG8ASR2p92lmdNo99tKP27v2oIx5t1/wTH%2BJSxNyhi1ayd8dsqDkH2rH%2B3csfw1HJd4wnJfeoNfizn/1iyd/BUcl3jCpJfeqbX4s%2Bq/7Hu/%2Be1r/AOB0X/xVH9j3f/Pa1/8AA6L/AOKr5U/4eGfGK1/5Cn/BNn42J6/ZNJt5/wCUgoh/4Kw/AbwxdLZftBfCv4nfCt3cKk/jnwNcRW7k9NskHm5B9SAKP7eypfFV5fOUZxX3ygl97Qf6xZKvjq8vnKM4r75U4pfNo%2BtL7SrprazUS23y2xBzeRD/AJauePm569qrf2Pd/wDPa1/8Dov/AIquD%2BHP7Un7OHxys7AfCL45eFvEMxtSGtNN1uGS4Q%2BY5w0O7zEOCDhlB5rsWZUUu7AADJJPAFelRrUq9PnpTUl3TTX3ps9alXoYiHPSkpR7ppr702i3/Y93/wA9rX/wOi/%2BKrtfCUL2/h%2B3hkKEjfko4YffbuCQa8P8WftE/s/%2BA93/AAnHxz8HaNs%2B%2BNV8TWtvj/v5IK9V%2BB/xA8D/ABS%2BF%2BmeO/hv4t0/XdFvjOLPVdKu1nt59k8kb7HQkNh0ZTg9VI7VjUr0JvkjNOXZNX%2B5Nv8AAKeIw86rpxmnLeyab%2B5Nv8DrKKKKzOgKKKKACiiigAooooAKKKKACiiigAooooAKKKKACiiigAooooAKKKKACsH4h/8AIFi/6%2Bl/9Bat6sH4h/8AIFi/6%2Bl/9Barp/GhPY%2BLPhFjwX/wVh%2BLvhn7n/CafDbQfEAXpv8AsjtY7vw3Yr6hr5e%2BLePBf/BWL4R%2BJvuf8Jp8Nde8P7v7/wBkdb/b%2BG7NfUNcmUe59Ypfy1Z/dLlmv/SmffeIH%2B0f2Rjv%2Bf2Bw1/8VH22Gl93sYr5BRRRXsH58Wof%2BQLcf9fUP/oMtVatQ/8AIFuP%2BvqH/wBBlqrSXUAooopgFWof%2BQLcf9fUP/oMtVatQ/8AIFuP%2BvqH/wBBlpMCrRRRTAKKKKALUP8AyBbj/r6h/wDQZaq1ah/5Atx/19Q/%2Bgy1VpLqAUUUUwCrUP8AyBbj/r6h/wDQZaq1ah/5Atx/19Q/%2Bgy0mBVooopgFFFFAFqH/kC3H/X1D/6DLVWrUP8AyBbj/r6h/wDQZaq0l1AKKKKYBVqH/kC3H/X1D/6DLVWrUP8AyBbj/r6h/wDQZaTAq0UUUwCiiigC1D/yBbj/AK%2Bof/QZaq1ah/5Atx/19Q/%2Bgy1VpLqAV1Hw2/5ff%2B2f/s1cvXUfDb/l9/7Z/wDs1RV/hsa3OoooorjLCiiigAooooAK4Pxn/wAjLc/8A/8AQFrvK4Pxn/yMtz/wD/0Ba2ofGTLYy6KKK6iQoorxP9tz9qTUv2evA%2Bn%2BFfhlo6638S/G95/ZXw/8OqAxmumwGuZB2ghBDuxwPugkAlhz4rFUcFh5VqrtGP3%2BSS6tuyS3baR62RZJmPEebUcuwMeapUdld2ikk3KUpPSMIRUpzk7KMIyk9teG/ba%2BIHi/9qP4ywf8E7/gNrs1nHcaZa3fxj8V2R/5AmjtEh%2Bwo3QXNyPl29kbkFWcr9GfD34f%2BD/hV4H0r4ceANDh03RtFsktNOsYBhYokGAPUk9SxyWJJJJJNcH%2ByJ%2Bynpn7KHwy/wCEdvtafXPFmvzLq/jrxTcEtNq2pzoJJXLHny1LFUXsoyRuZifVa4cswtZOWLxK/ez6fyR3UF6bya%2BKbfRRPpeMM7y50aWQZNK%2BBwzb57WeIrNWqYmS3tK3JRi/4dCMVpOpUCiiivWPhAq1rH/H2n/XrB/6KSqtWtY4u0z/AM%2BsH/opKXUCrRXi/wAav%2BChX7H3wFu20Xxv8a9MudY3%2BXH4f0AtqN%2B8nQRmG2DlGJ6b9o964RP%2BCjPxL8SIJvhv/wAE6PjdqMMgzb3Gs6FDpiSr2YGSRuD1B9K82rnOV0ajpuqnJbqN5teqgpW%2Bdjya2e5TQqOm6ycluopza9VCM7fOx9R0V8u/8NVf8FGfEHHhP/gmObKNvu3fiD4r6dFj6xKm/wDWg6v/AMFgfHPy2HhD4IeBbdvvNqWoahqd2n%2B75IERP1rP%2B2aEv4dKrL0pTX4y5EZf27h5fwqNWfpSmvxlyI%2BrNY/4%2B0/69YP/AEUlZuqarpeh6fLq2talb2drAu6e5upljjjX1ZmIAH1r5s1H9k7/AIKG%2BM7hW%2BKP/BSebToXt4i2neCPh5Z2mwGNcBbh2MnAwOR2zTNN/wCCUP7Peu6jFrv7Qvjnx/8AFm/iffG/j7xhcTwRN/sQwmNQv%2By24VKx2aVValhWvOc4xX3R55A8wzatpRwbj51Jwivuj7SX5G98Sv8AgqB%2BxJ8NtR/4R5PjRa%2BJtYdikGjeCbaTV55nH8Cm2Vow3sziuZH7ZX7anxgPlfs2fsAa3p1nL/qvEPxZ1WPR44x2Y2alpnU9flbp9a9/%2BGvwU%2BD/AMG9O/sn4TfC7w/4btyu149E0iG23/7xjUFj7nJNdPT%2BqZvX/jYhQXanFL/yefM/uig%2Bp51if4%2BJUF2pQS/8nqc0vuij5Z/4Zi/4KIfGP958e/247XwfYy/6/wAP/CDw%2BLcjP9y/uczrjp90%2BtWNS/4JzfFj4c3C3X7O/wDwUO%2BLeh3Rt4pHi8Y30PiK0eQxqxYwTqgG4k55/wAK%2Bnqtax/x9p/16wf%2Bikpf2FgG7z55S/mdSpzfJqSt8kl5B/q9lstZ88pfzOpU5vk1ONvlFLyPlD%2B1/wDgrh8If%2BP/AMJfCz4v6fF906ZfTaDqk2P73mg2y57YzTG%2BLP8AwVK%2BN7HTPh5%2BzX4R%2BEVl9y41zx74iGq3OR94wW9oAMg5wZAVYDPGa%2BqKKf8AZNRe6sVVUe3Mm/8AwJw519/zD%2Bxqq92OLrKHbmi3/wCBuHOvv%2BZ8sQ/8Eym%2BKsqan%2B2p%2B1D46%2BKchYNLoIvjo%2BiZ68WdoRyOmQ4yByK7W4/4Jo/sE3VnHYy/sreEQkcYRWj0/Y5AGOXUhmPuSSfWvcqK0p5JlME70Yyb3clzyfrKfM/xXoaU8gyamnehGTe7mueT9ZT5n%2BK9D508Uf8ABH//AIJx6lchZP2Z7KHNvE2bPXtRgwxjUk/u7le5zWdaf8Ecv%2BCdNvKLi5%2BAD3bj7rXvizVZMD0wbrGPwr6m1j/j7T/r1g/9FJVWo/sHI3q8LT/8Aj/kS%2BHeH3K7wlL/AMAj/keCaT/wS7/4J/6Nj7H%2By34afHT7Wks//o12zXQWf7A37EViAIP2Sfh02P8Ant4QtJP/AEOM163RXRDKsqp/Dh4L/tyP/wAibwybJ6fw4amv%2B3If/Inm9p%2Bxv%2ByHYY%2Bw/srfDeHHTyvA%2Bnr/AChrs9A%2BFPwu%2BH1rZf8ACBfDbQND3WzFv7I0eC2z%2B9kH/LNRWrVrUP8Aj0sf%2BvU/%2BjZK3hhcLSknCnFPyjFflFHVTweDou9OlGL8oxX5RRVoooroOgKZc21teW72l5bpLFIpWSKVAysD1BB4Ip9FAbnj3xh/4Jy/sQfGGC2u/Gf7NnhpLua3LyahotodNuWfzXw7S2hjZmGByxPQdq8/j/4I/fsXXpEfjTSfF/iW3Q/ubPXvHWoSRRKOiKI5UO0dACTX1XqH/HpY/wDXqf8A0bJVWvLqZLk9eXPUw8G/8K19bWT%2BaZ5NbIckr1HOphqbb391a%2Btkk/mmeHeFP%2BCan7Bfgzb/AGP%2Byr4Qm2dP7V077f8An9pMmfxr6d%2BEXhLwr4F%2BHeneFPBPhnT9G0u0EotNN0qyjt7eENK7EJHGAq5ZiTgckk965Ou88Gf8i1bf8D/9DatVgsHhIfuKUYf4YxX5JfmduFwGBwb/ANnpRh/hjFfkk/xNSiiikdoUUUUAFFFFABRRRQAUUUUAFFFFABRRRQAUUUUAFFFFABRRRQB4p8Sf2uNT8CfFa%2B8J2Pwzhv8Awz4e1rw7o/i3xG%2BvGG4sr3WbqO3tlgtPIYXCRm4tXmdpotqT5QSFGWq/xg/bKvPgh8a7P4e%2BN/h/paaHepdTQ3tv4ujl1l7O20ya%2BuNTGlpCdthG0LWzTvOjiYqPLIeNnf8AFj9kLXviD8SdU8U%2BH/ipa6VoXiLVfD%2Br%2BJdBufDrXUl1qGjXCXFnJFcLcx%2BTE7wWiTxmOQyR2%2B1HhLs1M%2BK/7IvjP45eKYrT4qfGqDUvBK6yNWbw3H4Y8q9guDpclhJb298LkiGzfzZZjE0Ly5lkTzzG2wAG3%2Bzt%2B0Z4s%2BLviC/8F/Ef4W2/hTWrfwro/iW0s7PxAdRjl03UjdJCHkNvB5dxHJZzLLEodFzGVlkDcd18Q/8AkCxf9fS/%2BgtXCfs6/s4%2BKvhB4gv/ABp8RfinD4s1q48LaP4atLy10D%2Bzki03TTdPDvjM83mXMkl5O8sqlEb92FijCc9/47urqz0iOW0uZImNyAWjcqcbW44q6fxoT2Pij/goH/xSfx0/Zs%2BLedv2D4upoLS/3V1S2eEg%2BgPlV9Q18z/8FfNQ1iy/Y9PxNF9cyyeBPG%2Bg%2BIIP3rMUaK/ji3DnqBMefrX1BD4h1a4iWeHW7l0dQyMtyxBB6HrXHg7083xUO6pz%2B%2BMoP8YI%2B%2B4g/wBq8P8AI8T1pyxlB/8AbtalXiv/AAGvL7yvRVr%2B3Na/6DF1/wCBDf40f25rX/QYuv8AwIb/ABr2NT8%2BCH/kC3H/AF9Q/wDoMtVa04tY1c6RPKdVudwuYgG89sgFZMjr7D8qrf25rX/QYuv/AAIb/GkrgVaKtf25rX/QYuv/AAIb/Gj%2B3Na/6DF1/wCBDf409QKtWof%2BQLcf9fUP/oMtH9ua1/0GLr/wIb/GrMWsaudInlOq3O4XMQDee2QCsmR19h%2BVJ3AzKKtf25rX/QYuv/Ahv8aP7c1r/oMXX/gQ3%2BNPUCrRVr%2B3Na/6DF1/4EN/jR/bmtf9Bi6/8CG/xo1AIf8AkC3H/X1D/wCgy1VrTi1jVzpE8p1W53C5iAbz2yAVkyOvsPyqt/bmtf8AQYuv/Ahv8aSuBVoq1/bmtf8AQYuv/Ahv8aP7c1r/AKDF1/4EN/jT1Aq1ah/5Atx/19Q/%2Bgy0f25rX/QYuv8AwIb/ABqzFrGrnSJ5TqtzuFzEA3ntkArJkdfYflSdwMyirX9ua1/0GLr/AMCG/wAaP7c1r/oMXX/gQ3%2BNPUCrRVr%2B3Na/6DF1/wCBDf40f25rX/QYuv8AwIb/ABo1AIf%2BQLcf9fUP/oMtVa04tY1c6RPKdVudwuYgG89sgFZMjr7D8qrf25rX/QYuv/Ahv8aSuBVoq1/bmtf9Bi6/8CG/xo/tzWv%2Bgxdf%2BBDf409QKtWof%2BQLcf8AX1D/AOgy0f25rX/QYuv/AAIb/GrMWsaudInlOq3O4XMQDee2QCsmR19h%2BVJ3AzKKtf25rX/QYuv/AAIb/Gj%2B3Na/6DF1/wCBDf409QKtFWv7c1r/AKDF1/4EN/jR/bmtf9Bi6/8AAhv8aNQCH/kC3H/X1D/6DLVWtOLWNXOkTynVbncLmIBvPbIBWTI6%2Bw/Kq39ua1/0GLr/AMCG/wAaSuBVrqPht/y%2B/wDbP/2asH%2B3Na/6DF1/4EN/jXR%2BAL69vftf2y8ll2%2BXt82QtjO7pmoq35GNbnR0UUVyFhRRRQAUUUUAFcH4z/5GW5/4B/6Atd5XB%2BM/%2BRluf%2BAf%2BgLW1D4yZbGXRRRXUSZvjLxd4f8AAHhHVPHXizUEtNL0bTpr7Ubp%2BkUESF3Y/RVJr5m/YG%2BHniX46eJLz/go18dbP/iofGdq0HgDRZfmTw14e3t5KR5482cfvGkHVX4x5jrU/wDwUo1vVvil/wAIL%2Bwl4Lv5ItT%2BLOvqviGa3b57Lw/aET3suR90sFVFzw%2BHXvX01oeiaT4a0Wz8OaDYR2tjp9rHbWVrCuEhiRQqIo7AKAB9K8RpZhm7T1p0LejqyV/nyQ27SnfdK36TCpLhPgCM6fu4rNHJX%2B1HB0pcrSe6WJrpqVrOVLD8t%2BWTUtTWP%2BPtP%2BvWD/0UlVa574%2BfHD4Tfs%2BeE5fiL8ZfHdhoGkW9rADc30uDK/kqRHGgy8rnBwiAsccCvmUfFH9tb9vQfZvgLpN78F/hfc/e8eeILQHxBrMJ72NrnFsjDpK5zgqyNkFa6cVmVDCyVKKc6rWkI6y9X0iv70ml2vsfkeNzXD4SqqMU6lV6qEdZW7vpGP8Aek0u3M9D1P8AaV/bq%2BC37N%2BpQeBJ3vvFfjvUcLo3w/8ACdubvVLpyMrujTPkoeu58ZAJUNjFcFafEr/grr41tU1Hw/8As6fCHwilyoeK18W%2BKLy8mt1PIWT7GACwHXHevUv2av2NvgP%2Byrps6/DLww8us6hlta8V6zN9q1XVJCcs81ww3HLc7V2pnnbnJr1OsI4PMsX7%2BJrOn2hTaVvWbi3J%2BijFdE9zljgs1xvv4qu6XaFJpW/xTcW5P0UYronufL3/AAgP/BXjxH/yGfj98GfDm7r/AMI/4WvbzZ9PtRGfxo1X/gnN8T/i/diX9tL9tjxt47tngiL%2BGvDaJ4e0iSMxriOWG2JaYAYG7crV9Q1a1j/j7T/r1g/9FJQ8kwc3atKdRdp1JNfNXin8015Ff2BgamleVSou06k5J%2BsU4xfzTXkeafBX9lL9nD9nW0W1%2BCvwY0Dw%2B6psa9tLENdyL6PcPulf/gTGvQaKK9SjQo4emqdKKjFdEkl9ySPWoUKGGpqnRgoxXRJJfckkFFFFampa1j/j7T/r1g/9FJVWrWsf8faf9esH/opKq0lsAUUUUwCrWsf8faf9esH/AKKSqtWtY/4%2B0/69YP8A0UlLqBVooopgFFFFAFrWP%2BPtP%2BvWD/0UlVatax/x9p/16wf%2BikqrSWwBRRRTAKtah/x6WP8A16n/ANGyVVq1qH/HpY/9ep/9GyUnugKtFFFMAooooAtah/x6WP8A16n/ANGyVVq1qH/HpY/9ep/9GyVVpLYArvPBn/ItW3/A/wD0Nq4Ou88Gf8i1bf8AA/8A0Nqyr/AOO5qUUUVylhRRRQAUUUUAFFFFABRRRQAUUUUAFFFFABRRRQAUUUUAFFFFABRRRQAVg/EP/kCxf9fS/wDoLVvVg/EP/kCxf9fS/wDoLVdP40J7HzT/AMFC/B3/AAnf7D3xU8PrFvceCr67iTH3nt4zcKB77ohj3rp/2V/GH/Cwf2Zfh544Mu99W8E6XdStn/lo9pGzg%2B4YkH6V1XjXw1beM/BureD7zHk6rplxZy56bZY2Q/o1eCf8ElfEtz4k/wCCf3w/j1DK3elW97pd1Ex5ja2vZ4VU/wDAFT865Jfu8/i/56TXzhUT/KZ99S/2vwprR64fHU5ekcRhZw/9Lw6%2Bdj6Oooor2D8%2BLUP/ACBbj/r6h/8AQZaq1ah/5Atx/wBfUP8A6DLVWkuoBRRRTAKtQ/8AIFuP%2BvqH/wBBlqrVqH/kC3H/AF9Q/wDoMtJgVaKKKYBRRRQBah/5Atx/19Q/%2Bgy1Vq1D/wAgW4/6%2Bof/AEGWqtJdQCiiimAVah/5Atx/19Q/%2Bgy1Vq1D/wAgW4/6%2Bof/AEGWkwKtFFFMAooooAtQ/wDIFuP%2BvqH/ANBlqrVqH/kC3H/X1D/6DLVWkuoBRRRTAKtQ/wDIFuP%2BvqH/ANBlqrVqH/kC3H/X1D/6DLSYFWiiimAUUUUAWof%2BQLcf9fUP/oMtVatQ/wDIFuP%2BvqH/ANBlqrSXUArqPht/y%2B/9s/8A2auXrqPht/y%2B/wDbP/2aoq/w2NbnUUUUVxlhXPfF3xrc/DX4T%2BJ/iLZacLybQPDt7qUVoc/v2ggeUJxzyVxx610NMuba3vLeS0u4ElilQpLFIoZXUjBBB4II4xQB8t%2BCvip%2B1TpXhb4ieB9E8dt8QfGVr8CdI8ZeDptQ0qygxrV/Hq0Ys1S2jgja2M1hA0SyEyfPKrzMAGXnoPj78VtV%2BGXxMi0/45fE2K88D6rpcHhPUtX8H6To%2Bq69eapbW8Vppt1b3mk7IgdQlEayLbQtsnQnzFAkk978Gfsd/s8%2BANE1Lw34b8FXgsNX0r%2BytTs7/wASaheR3GniB4EsWFxO/wDoscckixQf6qHzZDGqF2Jt%2BH/2Wfgf4a8KnwdY%2BFr24tH8T2XiK4n1XxFf313danZyW8lrcT3VxO885iNrbBVkdlCQImNihaAOs8A6P4m8PeBdF0Dxr4uk8QazY6TbW%2Bra9LaRW7aldJEqy3JihVY4zI4ZyiKFXdhQAAKwfFum3Fx4guJo5LcA7MB7qNT9xexYEV2lcH4z/wCRluf%2BAf8AoC1tR%2BIUtir/AGPd/wDPa1/8Dov/AIqg6RdAZM1qAOpN9F/8VVWvAP8AgpJ8Y/Enwz/Zym8D/DZi/jX4kalB4S8HwRvh/tN4fLeUEcqI4vMbf0VtmetGNxUcDhJ157RTdur7JebbSXm0evw5keK4lz7DZXh2lOtNRu9oreU5dowhGc5PpGDOX/Yd025/ad/aV%2BJv7eF9JBLpBu28FfDR5bqMD%2ByrOTNzdR7m5Se4ywYcja4rQ%2BKP7euteM/H15%2Bz7%2Bwd4Ag%2BJnjW1fytV103ix%2BG/D7dC11ehgsrDn91E2WwwDbhtrzrxWdf1bTNB/4JPfsU669jB4a0KC1%2BK/xCs1%2BXQrIj97DGRwb65YyMQDld7dDvaL6y%2BCvwV%2BG37Pfw20z4T/Cjw1BpejaVAI4IYlG%2BVsDdLI3WSRjyznkk187l0MdXovD0Z8qTbq1Ert1JO84076e7flc2nblUYptNrj474kfGfFdeOTydPA0OWhSlZc3sqK9nThC/uqXKnUqzs7VKs1FOSbj5N8KP%2BCcOfHtr8fP2yviNH8WfiLHDG9nPqssUekaFlVYRWFkW2KF4AlYZYqHARiSfo3%2Bx7v8A562v/gdF/wDFUax/x9p/16wf%2BikqrX0GDwOHwNLloq19W93J95Sd235t%2BlloeLgsBhMvpuFCNr6t6uUn3lJ3cn5t%2BlloWv7Hu/8Anta/%2BB0X/wAVR/Y93/z2tf8AwOi/%2BKqrRXXqdha/se7/AOe1r/4HRf8AxVWdV0q6kuVZZbb/AI9oR815EOkSju1ZlWtY/wCPtP8Ar1g/9FJS1uAf2Pd/89rX/wADov8A4qj%2Bx7v/AJ7Wv/gdF/8AFVVop6gWv7Hu/wDnta/%2BB0X/AMVR/Y93/wA9rX/wOi/%2BKqrRRqBp6rpV1Jcqyy23/HtCPmvIh0iUd2qt/Y93/wA9rX/wOi/%2BKo1j/j7T/r1g/wDRSVVpK9gLX9j3f/Pa1/8AA6L/AOKo/se7/wCe1r/4HRf/ABVVaKeoFr%2Bx7v8A57Wv/gdF/wDFVZ1XSrqS5Vlltv8Aj2hHzXkQ6RKO7VmVa1j/AI%2B0/wCvWD/0UlLW4B/Y93/z2tf/AAOi/wDiqP7Hu/8Anta/%2BB0X/wAVVWinqBa/se7/AOe1r/4HRf8AxVH9j3f/AD2tf/A6L/4qqtFGoGnqulXUlyrLLbf8e0I%2Ba8iHSJR3aq39j3f/AD2tf/A6L/4qjWP%2BPtP%2BvWD/ANFJVWkr2Atf2Pd/89rX/wADov8A4qj%2Bx7v/AJ7Wv/gdF/8AFVVop6gWv7Hu/wDnta/%2BB0X/AMVVm%2B0q6a2s1Ett8tsQc3kQ/wCWrnj5uevasyrWof8AHpY/9ep/9GyUne6AP7Hu/wDnta/%2BB0X/AMVR/Y93/wA9rX/wOi/%2BKqrRT1Atf2Pd/wDPa1/8Dov/AIqj%2Bx7v/nta/wDgdF/8VVWijUDTvtKumtrNRLbfLbEHN5EP%2BWrnj5uevaq39j3f/Pa1/wDA6L/4qjUP%2BPSx/wCvU/8Ao2SqtJXsBa/se7/57Wv/AIHRf/FV2vhKF7fw/bwyFCRvyUcMPvt3BINcBXeeDP8AkWrb/gf/AKG1ZVr8pUdzUooormKCiiigAooooAKKKKACiiigAooooAKKKKACiiigAooooAKKKKAOf1n4sfCzw544034ZeIfiV4fsPEmsxGTSPD15rMEV9fIN2WhgZhJKBsflVI%2BVvQ1FqXxm%2BD%2Bj%2BO0%2BFur/ABW8NWvieSya8j8OXOu26X7W6qztMLdnEhjCo7FtuAEY5wDXzT%2B0R4U8aw/GfxpoUHw58Sahe%2BLPGnw81vw3r2meG7q7tLbT9J1K2uL1JLmGNkge3W2u5hC7K0xu1SJZGkZa0finNoHxe/aabwFL8JvFuh6JoWoxa7Pq2nfDHVBJ4w1%2BbRmtoGN/9lFrFBbWk0cTSTTK7zRpAxijtnWYA%2Bgfhh8cfgr8brO41H4MfGDwt4ut7Py/tc/hfxBbagkHmAlN7QOwXcFJGeoBx0qf4i3VqmnW9k9zGJpJi8cJcbmVQQzAdSAWUE9tw9RXi37BM/xH0e2vPhnJqPjrUvAXhrwZ4etfDOo/EbwSNC1KC/VLmK8sVi%2BzW5ngihhsGEuyQb5pFE82D5fHf8FSdf8AEfwF8V/CD9tazuZ38O%2BAvEl1ovj2xg43aNrH2aKW4Jwc%2BTNa27Be7FfSufFYtYGi68ldRav5K6Tf/bqd35JnDmOMWX4OWIkrxjbm8otpSl/26nzPyT7HtlfL3/BL7/inNC%2BMXwkk%2BX/hEvjnr9taRelpK0c0J9s7nNfVFvfeHbu3S6tbaeWKVA8ckd8hV1IyCCI%2BQR3r5e/ZRk0zwd/wUR/aV%2BH01nOLbU5PDfiHTIxcqD%2B9sXS5Y/Jz%2B9C9AKWPfJmWDq/3px/8Cptr8YH6Xwr/ALVwbn%2BE7UsPXX/cHFRi3/4BiPuPpqirXnaL/wBA%2B6/8DF/%2BN0edov8A0D7r/wADF/8AjdexfyPz4If%2BQLcf9fUP/oMtVa04pdI/sicixudv2mLI%2B1LknbJjnZ9aredov/QPuv8AwMX/AON0kwKtFWvO0X/oH3X/AIGL/wDG6PO0X/oH3X/gYv8A8bp38gKtWof%2BQLcf9fUP/oMtHnaL/wBA%2B6/8DF/%2BN1Zil0j%2ByJyLG52/aYsj7UuSdsmOdn1pNgZlFWvO0X/oH3X/AIGL/wDG6PO0X/oH3X/gYv8A8bp38gKtFWvO0X/oH3X/AIGL/wDG6PO0X/oH3X/gYv8A8bov5AEP/IFuP%2BvqH/0GWqtacUukf2RORY3O37TFkfalyTtkxzs%2BtVvO0X/oH3X/AIGL/wDG6SYFWirXnaL/ANA%2B6/8AAxf/AI3R52i/9A%2B6/wDAxf8A43Tv5AVatQ/8gW4/6%2Bof/QZaPO0X/oH3X/gYv/xurMUukf2RORY3O37TFkfalyTtkxzs%2BtJsDMoq152i/wDQPuv/AAMX/wCN0edov/QPuv8AwMX/AON07%2BQFWirXnaL/ANA%2B6/8AAxf/AI3R52i/9A%2B6/wDAxf8A43RfyAIf%2BQLcf9fUP/oMtVa04pdI/sicixudv2mLI%2B1LknbJjnZ9aredov8A0D7r/wADF/8AjdJMCrRVrztF/wCgfdf%2BBi//ABujztF/6B91/wCBi/8AxunfyAq1ah/5Atx/19Q/%2Bgy0edov/QPuv/Axf/jdWYpdI/sicixudv2mLI%2B1LknbJjnZ9aTYGZRVrztF/wCgfdf%2BBi//ABujztF/6B91/wCBi/8AxunfyAq0Va87Rf8AoH3X/gYv/wAbo87Rf%2Bgfdf8AgYv/AMbov5AEP/IFuP8Ar6h/9BlqrWnFLpH9kTkWNzt%2B0xZH2pck7ZMc7PrVbztF/wCgfdf%2BBi//ABukmBVrqPht/wAvv/bP/wBmrB87Rf8AoH3X/gYv/wAbro/AD2T/AGv7Hbyx/wCr3ebMHz97phRioqv3GNbnR0UUVyFhRRRQAUUUUAFcH4z/AORluf8AgH/oC13lcH4z/wCRluf%2BAf8AoC1tQ%2BMmWxl1%2BaX7Vfx6%2BKn7Rn/BTOH4O/sy2Kajr/w/0q40bw1fTDdZ6HqVyAupazNwR/o0RECqw/1wUruKhG/Q74q%2BPLH4WfC/xJ8TtThMlt4c0C81S4jBxuS3geVh%2BIQ18zf8EavgdoXgj9knTvjlq2lPJ40%2BJM9zq/ibWrw757lTdTCABiMhDHtkx3eVm7jHiZ5SrZljKGX058qd6k2t%2BWDSSXm5y0fS190jrwefYrKKeJw2CXLXxNKdL2t9aNKbUa0odfa1YfuIS2hGdaesuVHt/wCyv%2BzF4C/ZQ%2BFVv8N/BjzXl1LM154h1%2B9O671m/k5lup2JJLMegJO1QBk4yfSaKK%2BgoUKOGoxpUo2jFWSXRf19%2BrerPMw%2BHo4ShGjRioxirJLov6%2Bbd27ttlrWP%2BPtP%2BvWD/0UlVatax/x9p/16wf%2BikqrWi2NgooopgFWtY/4%2B0/69YP/AEUlVatax/x9p/16wf8AopKXUCrRRRTAKKKKALWsf8faf9esH/opKq1a1j/j7T/r1g/9FJVWktgCiiimAVa1j/j7T/r1g/8ARSVVq1rH/H2n/XrB/wCikpdQKtFFFMAooooAtax/x9p/16wf%2BikqrVrWP%2BPtP%2BvWD/0UlVaS2AKKKKYBVrUP%2BPSx/wCvU/8Ao2SqtWtQ/wCPSx/69T/6NkpPdAVaKKKYBRRRQBa1D/j0sf8Ar1P/AKNkqrVrUP8Aj0sf%2BvU/%2BjZKq0lsAV3ngz/kWrb/AIH/AOhtXB13ngz/AJFq2/4H/wChtWVf4Bx3NSiiiuUsKKKKACiiigAooooAKKKKACiiigAooooAKKKKACiiigAooooAKKKKACuB/aa%2BGnhf4y/BnWfhR40tPO0rxDaS2F8gAyEkiddy%2BjLkMp7EA9q76sH4h/8AIFi/6%2Bl/9BamoQqe5NXT0a7pppkVacKtOUJq6aaa7p6Nfcz48/4Jl/EzxRqXwa1P9nH4pXe/xp8HdZfwvrZYndc2sefsN0AedkkACqx5bymbvWJ8YNTb9m3/AIKYeD/jd4khEfhL4q%2BEV8EXOoZwllrUVybi1Mp6YmT90nuGJwBUX7Q//GJ/7engf9qS1/ceFfijHH4I%2BILDiOG%2B%2B9pl4/vlTCXOAqIf71e1/tY/s7%2BH/wBqb4B%2BIPgxrswt5NRtfM0nUcHdYX8Z329wpHI2yBc4wSpZe9eLCjiKuXywsXethpJxv9pR1p3/AMdNuDf8yv0PV8K87weTZpPLs1b%2BryjPCVnvJUKyjyVl3lT5aVT%2B86NSP2z0aivD/wBgP9ofxB8evgh/ZfxMhNr4/wDBGoSeHfH2nyEb01C3%2BQzY7rKoEgYfLuLgZ217hX0OExVLG4aFentJX813T7NO6a6NMefZLjuHM5r5ZjEvaUZOLs7xezjKL6wnFxnCS0lCcWty1D/yBbj/AK%2Bof/QZaq1ah/5Atx/19Q/%2Bgy1VrddTyAooopgFWof%2BQLcf9fUP/oMtVatQ/wDIFuP%2BvqH/ANBlpMCrRRRTAKKKKALUP/IFuP8Ar6h/9BlqrVqH/kC3H/X1D/6DLVWkuoBRRRTAKtQ/8gW4/wCvqH/0GWqtWof%2BQLcf9fUP/oMtJgVaKKKYBRRRQBah/wCQLcf9fUP/AKDLVWrUP/IFuP8Ar6h/9BlqrSXUAooopgFWof8AkC3H/X1D/wCgy1Vq1D/yBbj/AK%2Bof/QZaTAq0UUUwCiiigC1D/yBbj/r6h/9BlqrVqH/AJAtx/19Q/8AoMtVaS6gFdR8Nv8Al9/7Z/8As1cvXUfDb/l9/wC2f/s1RV/hsa3OoooorjLCiiigAooooAK4Pxn/AMjLc/8AAP8A0Ba7yuD8Z/8AIy3P/AP/AEBa2ofGTLY%2BUf8AgsD8Spfht/wT/wDHAsL5ob7xClroliqHmY3NwizRj1zbifj2r3H4HfD4fCb4LeEPhZ5gf/hGvDFhpZdejG3t44ifx2Zr5V/4KpXY%2BJPx2/Zw/ZbSNZ4fEXxNj1rV7f8A6dbIorZHoY57j/vg19p15mDl9Yz7FVOlONOmvWzqS/GUThw9PnxFbEPuqa/7cipy8/jqxXbTumFFFFe6dha1j/j7T/r1g/8ARSVVq1rH/H2n/XrB/wCikqrSWwBRRRTAKtax/wAfaf8AXrB/6KSqtWtY/wCPtP8Ar1g/9FJS6gVaKKKYBRRRQBa1j/j7T/r1g/8ARSVVq1rH/H2n/XrB/wCikqrSWwBRRRTAKtax/wAfaf8AXrB/6KSqtWtY/wCPtP8Ar1g/9FJS6gVaKKKYBRRRQBa1j/j7T/r1g/8ARSVVq1rH/H2n/XrB/wCikqrSWwBRRRTAKtah/wAelj/16n/0bJVWrWof8elj/wBep/8ARslJ7oCrRRRTAKKKKALWof8AHpY/9ep/9GyVVq1qH/HpY/8AXqf/AEbJVWktgCu88Gf8i1bf8D/9DauDrvPBn/ItW3/A/wD0Nqyr/AOO5qUUUVylhRRRQAUUUUAFFFFABRRRQAUUUUAFFFFABRRRQAUUUUAFFFFABRXyR8evHHjay%2BOvi7xVafEPxBY6l4O8c/DrSfC3h%2By164hsbqw1XVLaC8aayRxDdG4FxeQ%2BZKjmP7IGjKGNjV/9pW8%2BIll8btU8Q/s7eOfGWqeJ/Cun3Gu%2BKbSXXJzoGkWCaNcJa6QLFCtvcXd1dCK5AdJLiNS8jSpH9mhkAPqisH4h/wDIFi/6%2Bl/9BavC/wBivV9SsPiZqfgfTPifr/ivQrn4Q%2BDfEzX/AIg8RXGqONSv31VJ5o5Z3cxpPHa28nkRlYk27kRBIc%2B8eO4Y59IjSW6jhAuQd0gYg/K3Hygmrp/GhPY8D/a0/Z/0f9qD9nfxT8EtWZI5NZ01hpt2/wDy63sZElvNkcjbKqE46rkd65r/AIJ/fH/V/wBoX9mnSda8aq8Pi7w7PL4e8b2cx/ewarZkRTbx2ZwElx283Havdf7PtP8AoOWv/fEv/wARXx38W59Z/wCCdv7VfiD9pf8AsWXU/g58TzaHx7c6PFLI/hbWI8xjUXh2Za3lVh5jJk7ySeRGr8OPksBjYY77FuSpo9I7xm/KMrpvpGV9k7fPZk1l2Op5h9i3JU8o7wm7dISum%2BkZtvRO0n7RwP7Fv7ZPh/8AbD04fZ/A3xHa38LfFZV4itLscafqj%2Bm3mJ3PCoO7PX1sCCMg1yPxI%2BG3wi/ax%2BAmp%2BB9Q8WaXrHhbxnohSG/sHeVHjkUNFcROEILKwSRW7MoPavKP%2BCcXxU8Ua74C1z9mP41%2BIIF%2BIPwf1IaDrTzCTdqViFzY6inyklJYQPmb5iULHG8VOHlHAZk6Sf7qvecOyna84r/ABK1RefPY/Zswa4w4IpZpB82Ky9Qo1urnhpO2GrefsZN4ab19yWHbdkj6Ph/5Atx/wBfUP8A6DLVWtOKxtRpE6f2xbEG5iJbbLgfLJx9zP8A%2Bqq39n2n/Qctf%2B%2BJf/iK9tNH5uVaKtf2faf9By1/74l/%2BIo/s%2B0/6Dlr/wB8S/8AxFO6Aq1ah/5Atx/19Q/%2Bgy0f2faf9By1/wC%2BJf8A4irMVjajSJ0/ti2INzES22XA%2BWTj7mf/ANVJtAZlFWv7PtP%2Bg5a/98S//EUf2faf9By1/wC%2BJf8A4indAVaKtf2faf8AQctf%2B%2BJf/iKP7PtP%2Bg5a/wDfEv8A8RRdAEP/ACBbj/r6h/8AQZaq1pxWNqNInT%2B2LYg3MRLbZcD5ZOPuZ/8A1VW/s%2B0/6Dlr/wB8S/8AxFJNAVaKtf2faf8AQctf%2B%2BJf/iKP7PtP%2Bg5a/wDfEv8A8RTugKtWof8AkC3H/X1D/wCgy0f2faf9By1/74l/%2BIqzFY2o0idP7YtiDcxEttlwPlk4%2B5n/APVSbQGZRVr%2Bz7T/AKDlr/3xL/8AEUf2faf9By1/74l/%2BIp3QFWirX9n2n/Qctf%2B%2BJf/AIij%2Bz7T/oOWv/fEv/xFF0AQ/wDIFuP%2BvqH/ANBlqrWnFY2o0idP7YtiDcxEttlwPlk4%2B5n/APVVb%2Bz7T/oOWv8A3xL/APEUk0BVoq1/Z9p/0HLX/viX/wCIo/s%2B0/6Dlr/3xL/8RTugKtWof%2BQLcf8AX1D/AOgy0f2faf8AQctf%2B%2BJf/iKsxWNqNInT%2B2LYg3MRLbZcD5ZOPuZ//VSbQGZRVr%2Bz7T/oOWv/AHxL/wDEUf2faf8AQctf%2B%2BJf/iKd0BVoq1/Z9p/0HLX/AL4l/wDiKP7PtP8AoOWv/fEv/wARRdAEP/IFuP8Ar6h/9BlqrWnFY2o0idP7YtiDcxEttlwPlk4%2B5n/9VVv7PtP%2Bg5a/98S//EUk0BVrqPht/wAvv/bP/wBmrB/s%2B0/6Dlr/AN8S/wDxFdH4At4oPtflX0U2fLz5QcY%2B913KKiq1yMa3OjooorkLCua%2BM3iHxL4R%2BD/ivxX4Ms/tGsaZ4avrvSrfy9/m3Mdu7xLt/iy6qMd810tFAHxv4A1r4iaZ4B%2BKHgv4T/tA6jcPN%2BzdoPijRfF/jPxbLeQ6Zrt9BrStfm6umkFtC4tLWcouIIRGXWMK5B4J/HX7Q3iH4nD9nHwp4b8a2Hhw%2BOtv9meKPjRdW%2BpJKvhj7a2mza7ZTXlxGhfF6scUsrEbAxSFnjT7Z8LfAP4F%2BBoZrfwV8FvCWjx3E081wml%2BHLW3EskyCOZ2EcY3NIihWJ5ZQAcgVVH7NP7OQ%2BHQ%2BD4%2BAHgn/hEluvtS%2BFv%2BEVs/7OE%2Bc%2Bb9m8vyt%2Bed23Oe9ADv2bvH2m/FX9njwH8TtGn1WW08ReDdM1K1l1142vXjntY5Va4aIBGlIYF2QBS2SvBFHi2zt5fEFxJJqtvGTsyjrJkfIvohH612FnZ2mn2kVhYWscEEEaxwwwoFSNFGAqgcAAAAAdK4fxpx4luSf9j/ANAWtqPxClsfBFxJB8cP%2BC9FtpcepwyWXwj%2BGjsz4cxC4ni5P3c7v%2BJkg6f8s/avu3%2Bz7T/oOWv/AHxL/wDEV%2Bef/BH6%2BPxs/ao/aM/aqmPmwax4mSx0afr/AKM09xJsz/sxJaiv0CrxOGJPEYKri7/xqtSXy5uWP/ksEX7H6vluEi950/bP1xE51l/5T9j9/mWv7PtP%2Bg5a/wDfEv8A8RR/Z9p/0HLX/viX/wCIqrRX0ln3MTT1WxtWuVLaxbL/AKNCMMsv/PJeeE79arf2faf9By1/74l/%2BIo1j/j7T/r1g/8ARSVVpJO24Fr%2Bz7T/AKDlr/3xL/8AEUf2faf9By1/74l/%2BIqrRTs%2B4Fr%2Bz7T/AKDlr/3xL/8AEVZ1WxtWuVLaxbL/AKNCMMsv/PJeeE79azKtax/x9p/16wf%2BikpWd9wD%2Bz7T/oOWv/fEv/xFH9n2n/Qctf8AviX/AOIqrRTs%2B4Fr%2Bz7T/oOWv/fEv/xFH9n2n/Qctf8AviX/AOIqrRRZ9wNPVbG1a5UtrFsv%2BjQjDLL/AM8l54Tv1qt/Z9p/0HLX/viX/wCIo1j/AI%2B0/wCvWD/0UlVaSTtuBa/s%2B0/6Dlr/AN8S/wDxFH9n2n/Qctf%2B%2BJf/AIiqtFOz7gWv7PtP%2Bg5a/wDfEv8A8RVnVbG1a5UtrFsv%2BjQjDLL/AM8l54Tv1rMq1rH/AB9p/wBesH/opKVnfcA/s%2B0/6Dlr/wB8S/8AxFH9n2n/AEHLX/viX/4iqtFOz7gWv7PtP%2Bg5a/8AfEv/AMRR/Z9p/wBBy1/74l/%2BIqrRRZ9wNPVbG1a5UtrFsv8Ao0Iwyy/88l54Tv1qt/Z9p/0HLX/viX/4ijWP%2BPtP%2BvWD/wBFJVWkk7bgWv7PtP8AoOWv/fEv/wARR/Z9p/0HLX/viX/4iqtFOz7gWv7PtP8AoOWv/fEv/wARVm%2BsbVrazB1i2GLYgErL8371%2BR8n4c%2BlZlWtQ/49LH/r1P8A6NkpNO61AP7PtP8AoOWv/fEv/wARR/Z9p/0HLX/viX/4iqtFOz7gWv7PtP8AoOWv/fEv/wARR/Z9p/0HLX/viX/4iqtFFn3A076xtWtrMHWLYYtiASsvzfvX5Hyfhz6VW/s%2B0/6Dlr/3xL/8RRqH/HpY/wDXqf8A0bJVWkk7bgWv7PtP%2Bg5a/wDfEv8A8RXa%2BEo0i8P28cc6SAb8OgOD87eoB/SuArvPBn/ItW3/AAP/ANDasq1%2BUqO5qUUUVzFBRRRQAUUUUAFFFFABRRRQAUUUUAFFFFABRRRQAUUUUAFFFFAHN%2BJvg58IfGviqz8deMvhX4b1fW9PtZLaw1jU9Dt7i6toHDK8UcroXRGDuCoIBDsCOTWbF%2BzT%2BzlB49X4qQfADwSnihJYZE8SJ4Usxfq8UKQRMLjy/MBSKOONTuyqIqjAUCu2ooAwPAHwq%2BF/wosrvTvhb8N9A8NW9/dtdX0GgaPBZpcTkAGWRYVUO5AALHJwBzS/EP8A5AsX/X0v/oLVvVg/EP8A5AsX/X0v/oLVdP40J7HG1BqemabrWm3Gj6zp8F3aXcLQ3VrcxCSOaNgVZGVgQykEgg8EGp6K7Wk1ZmbSasz408R%2BB/id/wAEuvEl38Svgvo%2Bo%2BKfgLf3TXPirwLbsZrzwczHMl7Ybjl7bqzwk/LyeBl16T42fCzU/jRPoX/BQn/gn54/sLjxpb6OsYgWf/iXeMdLVizafcgkbJlOQrNtZHUK20qrR/UzokiGORAysMMrDII9K%2BV/En7F/wAeP2c/HOr/ABS/4J5eP9E0ew1q4%2B2a78J/FVq7aJd3P8UtrJGd9k7DjaoCE4yQqqo%2BYxmWzwtN06UZToN35Yv36UlqpUtVon9i%2BmvLeLcDPh3Oc58Ps1WNyuHtcO1KM6LSnFwnpOnyNpVKM1pKldSg7TpSjKMeX2D9kv8Aay8A/tXfC2/1vw/a3Gj%2BINH1KGz8XeENUGy%2B0S9VZg8MqEAlcq218AMAeAwZV9Jr82fj/wDHiXQvidZ/HHXvh7qv7PX7QGmBLcP4iAm8KeO7RQd9jPfxYhYkKuyWTaEwoMnyo8f2L%2Bxt%2B2b8N/2xPAD694bU6X4h0orD4p8K3Uwa40y4I9R/rIWwTHKBtYejBlF5RnlLE1ng6006q2duXnS/uuzjNfag1/ei5Rfu/bZpl/D%2BeZZLiDhablhU0q9CTbrYOctoVE1GcqMndUa7ilLSnVca0f3vsNFFFfSHxwVah/5Atx/19Q/%2Bgy1Vq1D/AMgW4/6%2Bof8A0GWkwKtFFFMAooooAtQ/8gW4/wCvqH/0GWqtWof%2BQLcf9fUP/oMtVaS6gFFFFMAq1D/yBbj/AK%2Bof/QZaq1ah/5Atx/19Q/%2Bgy0mBVooopgFFFFAFqH/AJAtx/19Q/8AoMtVatQ/8gW4/wCvqH/0GWqtJdQCiiimAVah/wCQLcf9fUP/AKDLVWrUP/IFuP8Ar6h/9BlpMCrRRRTAKKKKALUP/IFuP%2BvqH/0GWqtWof8AkC3H/X1D/wCgy1VpLqAV1Hw2/wCX3/tn/wCzVy9dR8Nv%2BX3/ALZ/%2BzVFX%2BGxrc6iiiiuMsKKKKACiiigAr54/b9%2BKP8Awpf9nf4l/E6O48q40rwndPYvnGLprfy4Bn3ldB%2BNfQ9fnl/wcGfEtvB/7Kj%2BBrUeZL4t8U2NtPbBsF7W2jN7KfoGt4gf94VwZri/qGU4jEX1jCVvVqy/Fo48fDFVsLKjhVerUtTgu9SpKNKmvnOrD8%2Bhm/8ABCH4ef8ACG/sLReJpIxv8U%2BK9Qv1l/vRxlLNcH0zbOR9TX2fXkf7BHw9/wCFW/sXfDLwW8HlSweDrK4uo8Y2zzxi4lH/AH8levXK6chwv1PJMNR/lhH72rv8ZM%2Br4uWEp8T4uhhHejSm6VN/9O6CjQg/nCgnpp7zsFFFFesfOFrWP%2BPtP%2BvWD/0UlVatax/x9p/16wf%2BikqrSWwBRRRTAKtax/x9p/16wf8AopKq1a1j/j7T/r1g/wDRSUuoFWiiimAUUUUAWtY/4%2B0/69YP/RSVVq1rH/H2n/XrB/6KSqtJbAFFFFMAq1rH/H2n/XrB/wCikqrVrWP%2BPtP%2BvWD/ANFJS6gVaKKKYBRRRQBa1j/j7T/r1g/9FJVWrWsf8faf9esH/opKq0lsAUUUUwCrWof8elj/ANep/wDRslVatah/x6WP/Xqf/RslJ7oCrRRRTAKKKKALWof8elj/ANep/wDRslVatah/x6WP/Xqf/RslVaS2AK7zwZ/yLVt/wP8A9DauDrvPBn/ItW3/AAP/ANDasq/wDjualFFFcpYUUUUAFFFFABRRRQAUUUUAFFFFABRRRQAUUUUAFFFFABRRRQAUV89/Fj9qP4qeDvizrsfhux8PHwf4L8T%2BE9B8R2l9YTvqN/PrV3bwNNbzrOsdulul5bSbWhlMxWVMx/K1dF4v%2BNXxj8NftSP8JhoPh5vDV38L9Z8QaLJGLiXUZr2xuNNixLysaRN9vdREqux8oP5g3%2BWoB7FWD8Q/%2BQLF/wBfS/8AoLV5Z%2Bw/%2B0J41%2BPPgb7d8UvGWjT%2BJ00PStR1Xw1YfDvVPDk%2Bj/a4Xcb49SuZnuoWeOVI7iMLGxt5QCxB2%2Br%2BO7W6vNIjitLaSVhcglY0LHG1ueKun8aE9jiaKtf2HrX/AEB7r/wHb/Cj%2Bw9a/wCgPdf%2BA7f4V2XXcgq0Va/sPWv%2BgPdf%2BA7f4Uf2HrX/AEB7r/wHb/Ci67gZvinwb4R8f%2BBNQ8JeOvC%2Bn6zpd5PCl1p2q2aXEEy7ZeGRwVP4ivj/AMdf8EZfg3p/jj/ha/7J/wAXPFnwg8Sx5NvL4fu2uLOMk5YeS7LJsY9YxKI8cbccV9txaPq40ieI6Vc7jcxEL5DZICyZPT3H51W/sPWv%2BgPdf%2BA7f4V52NyvLcyt9ZpqTWz2kvSSakvkzCeGpTrKtZxmk0pRcoSSejXNCUZcrWjjdxfWLPzg%2BKn7YP8AwVh/YO1NIv2ifA3hD4g%2BEPM2p46tNPlt42GflEz2qhbVjwP3kG3J4ZgCa9b8Cf8ABVPW9S8MWvirx/8AsQfE%2BKwu490Wt%2BAre38T6WR3P2u1dV4PGMEg8EV9gXnhe%2B1G0l0/UPDs08E8bRzQTWhZJEIwVZSMEEcEGvmjxb/wS/l8I%2BKbz4kfsWfFHxP8GtcvZPNvdM0SzF1oN7KOjS6dKPLB7DYQqjOFz18Orl%2Be5fU5sJiZVKf8suSUl6OaSkvJyjLzZ9PgMl4QzbCKj9erZdiVtOaeLws/8cJR%2Bs0H/epzr0%2B8EV9J/wCCvX7CNxerpPiv4nan4Wvm/wCXHxP4U1C1dfq3klB%2BLV6f4S/bl/Yz8Y6FKfD37VHw/meS5hKwSeLLSKUjbJz5ckiv3HbvXj2r/GL9vn4F2TaR%2B17%2BxfF8TPDMQ/feLvhVatdOEH8U2mXADk45ZlKouDjNT/C/U/8AgkT%2B13ZzQ%2BHfAHwqvPED3cccujax4WtNP1dHxIHQwyxpMxDYBK7lzjnpVUc1x86ipOtTU/5akJ0pfL3pRl6xbRlmfh14lZXhJY2gqGNwq/5fUOarTX%2BJ0ZTlTflVpUn9x9D6H8Ufhn4m2/8ACN/ETQtQ3fd%2Bw6vDLn6bGNboIIyDXgut/wDBIv8AYP8AEGft37JGmx7uv2Fry2/LyZVxWF/w5f8A2PNOO7wZ4B8Z%2BGyPunQ/GWqR7fpvlevU9vnkd6NN%2BlSS/wDSoP8AM%2BK9vxFDehSl6VZL/wBKpv8AM%2Bl6K%2BaP%2BHT0Wl/N4I/a8/aN0Hb9yGx%2BIcrQj6o8JyPxoH/BPL9rXSPl8I/8FHvivCo%2B6NZ0a11A/iXVc0fX8zj8WEf/AG7Upv8APlD6/nEfjwTf%2BGrTf5qJ9Qw/8gW4/wCvqH/0GWqtfN0f7HP/AAU40vT5f7D/AOCm93NGJo8Weq/BXTZC/D/N5gfdx04H8VQ/8M/f8FdtP%2BSz/a48EaiB0e/%2BGbQk/URNiks0xC%2BLCVPl7N/lUD%2B1cYviwVVens3%2BVQ%2Bl6K%2BaP%2BFUf8FlLT/j3%2BMPwgu8f8/Xg/UI8/8AfFH/AAhX/Ba234h1v4AXA9bjR9cQn/vmn/a8lvhqv/gCf5VA/tmot8JW/wDAE/yqH0vVqH/kC3H/AF9Q/wDoMtfL3/CP/wDBbqL7lj%2BzdKP9u08Rqf0FTJp//Bbw6dLbr4a/ZtUNNGSzL4izkB8EDGccnP1FJ5wv%2Bget/wCC/wD7oH9tf9Qtf/wV/wDdD6Ror5oPhH/gtjc/669/Z6ts9fs%2Bl6%2B%2BP%2B%2BxR/wrv/gtCv74eOvgczf88W8OauE/Mc0/7YfTDVf/AABf/LA/tmfTCV//AAWv/lh9L0V80f2H/wAFtLD/AJg/7Ot%2Bg/6d/EETn9NtH2z/AILRf8e//Cl/gdv/AOfj%2B0tX8v8A7527qP7Zgt8PWX/cP/KbD%2B2kt8NXX/cJ/pNn1DD/AMgW4/6%2Bof8A0GWqtfN0egf8FttR06WN7f8AZ00yJpoyVjtNfmmyA%2BCMjaQMnP1FQ/8ACsv%2BCzcf%2Blp8TfgvJIP%2BXOTwtqgiP/Ax81JZu%2BmGq/8AgCX51A/tmb2wlf8A8FpfnUPpeivmjzf%2BC0ug8al8JvgXr6r/ANAi%2B1i1Zh/23GAf0o/4XD/wVksP9Hu/%2BCdPh6/f/n4sfibDFGf%2BAyR7qf8AbVBfHSqr1pSf/pLkH9uUV8dCtH1ozf8A6S5H0vVqH/kC3H/X1D/6DLXy9/wuj/gq%2B/3f%2BCbWip/vfFK2P8o6nj%2BM3/BWb%2Bz5YR/wTp8OBWmjY7vifBuyA/QeXyOevbj1pPO8L/z7qf8Agqp/kH9u4X/n1V/8E1P8j6Qor5o/4W9/wVmP/OO7w2Pr8S4f/jdH/C3v%2BCsw/wCcd/hs/T4lw/8Axun/AG3hf%2BfdX/wVP/IP7dwv/Pqt/wCCan%2BR9L0V80f8Ll/4Kwp97/gnBoT/AO78ULcfzjo/4XV/wVeb5F/4JraMp/vt8U7Uj8hHmj%2B3MJ/JU/8ABVT/ACD%2B3cL/AM%2Bqv/gmp/8AIn1DD/yBbj/r6h/9BlqrXzcnxY/4K4z6dLBB%2BwN4Otg88bf6T8RVcjAfssfI55P09ahPjv8A4LAH94P2Nvh0B/zzPjOct%2BezFJZ3h%2BlKr/4KmH9u4fpRrf8Agmf/AAD6XrqPht/y%2B/8AbP8A9mr5A/4Wb/wVzg/137CPgu4/64eP9mf%2B%2Bkr3T9i7xj%2B1l4s/4SVf2ov2c9P8AG3%2Bx/2G1h4nTURqG7z/ADs7VHl7NsWM/e8w/wB2rhmlDEy9nGE03/NTkl970Rvhc2oYmuqUadRN/wA1OcV821ZHudFFFbHrhRRRQAUUUUAFfkX/AMF8NVn%2BLn7YHw5/Zp0u/kjnj06F4lh6Pc6re29kkZ/2vKhmYDrhie9frpX4%2B%2BLrpv2kv%2BC4kmoAC403Tvie9pD3%2ByHw1pQ3/g91cfgwr5fixutgaeDX/L6pCPyum/0PoeC4RqceZXKSvGjUnipf4cFQrYvXy9pSoLzvbqj9LbCxtNMsYdNsIFigt4lihjXoiKMAD6ACpaKK%2B4SSVj5uUnKTbd2wooooEWtY/wCPtP8Ar1g/9FJVWrWsf8faf9esH/opKq0lsAUUUUwCrWsf8faf9esH/opKq1a1j/j7T/r1g/8ARSUuoFWiiimAUUUUAWtY/wCPtP8Ar1g/9FJVWrWsf8faf9esH/opKq0lsAUUUUwCrWsf8faf9esH/opKq1a1j/j7T/r1g/8ARSUuoFWiiimAUUUUAWtY/wCPtP8Ar1g/9FJVWsf44fFfwB8DvA%2Bo/Fb4pa//AGXoGjafbS6lf/ZZZ/JRliQHZCru3zMo%2BVT1r54/4fMf8E2f%2Bjj/APyz9Y/%2BQ64MTmmW4GShia0INq9pSSdu%2BrPp8k4J4y4lw0sRlGXV8TTi%2BVypUqlSKlZPlbjFpOzTtvZpn0/RXzB/w%2BY/4Js/9HH/APln6x/8h16r%2Bzl%2B17%2Bzv%2B1rYarqf7PvxC/4SCDRJootTf8Asm7tPJeQMUGLmKMtkI33c4xzipw%2BcZTi6qpUMRCcnslKLf3JnRmvh9x5kOBljcyyrE0KMbXnUo1IQV3ZXlKKSu9Frq9D0qrWof8AHpY/9ep/9GyV87/tP/tU/E74BfFiDTdB%2BHml674fg%2BH93rF3bya41reT3g1Ows4kT/R5ECr9p6lhu8xiceWu/A%2BNf/BQvXPh3qmqeAtZ%2BF8azab4e1aD%2B2PDet3VwkGr2ehXOsy2wuJ9KFmMLBNGpaSSbKxu9oFZlXvclc%2BRsfTtFeA%2BCP2xPHXi7x5aeEIvg1YQ2Gp%2BJdW8N6Lq1z4tYy3Op2NjJegywpZYht5I4pFMqu7o648plIY9L8dfEHxJ1b4o%2BB/gr4G%2BIl14PbxDp2salqOu6XY2l1Ooso7ZEt0F5DLFtaS8V2JTcVtyFKbiQ7qwWPWaK%2Bdb/wCNnxm%2BI37MHwW%2BL%2Bh3OvaJD4207S9S8ean4G8Nrqt/pkFzo8tyv2e2kt7ndG14baJm8mUrG5OFGZY/KPh9%2B2h%2B0N431fwl451LXtQstCabwlZeJLiHS9OXQrO41ABbiK/3hr5bqZpYTb/ZGa3j%2B1WolYDzCVzILH3XqH/HpY/9ep/9GyVVr4U8Lftf/tYXfhDw9omu6v4sl1bxto/hSbSpn0TRPtbi%2BudQe9vNGRFWBbKSO2SOBdUxcQtKHuEVcB9n4k/8FBIfDWg/D/wdof7Qml6brNt4u0dfH194zh06w1GezbxQmjXWnm23GETjy783E9vmOJbFnXy1niZUpqwWPtKu88Gf8i1bf8D/APQ2rg67zwZ/yLVt/wAD/wDQ2qK/wBHc1KKKK5SwooooAKKKKACiiigAooooAKKKKACiiigAooooAKKKKACiiigDyj4k/sieCPiV8RpfiHdeN/Euli9udJu9Y0PS57UWOp3mlzm4067mWa3kkEsEwiceW6JJ9niWVZVTbUmufswS%2BIPjrp3x4vvj946S60zw5c6HFodt/ZUVk9ncm1a4UulgLlXkls4Zd6TqyMCIyinaPU6KAPPPg3%2Bzvp3wj8Sap431H4m%2BKvGOvatpNhpU2t%2BLbi1eeOws2uHt7dfstvAhAe6uHaR1aWRpPndtqhel%2BIf/ACBYv%2Bvpf/QWrerB%2BIf/ACBYv%2Bvpf/QWq6fxoT2ONooortICiiigC1D/AMgW4/6%2Bof8A0GWqtWof%2BQLcf9fUP/oMtVaS6gFFFFMArz74yfsb/stftE6VdXvxm%2BBXh3XL1poo/wC1JrERXoTbJ8ouYtswHA4D9hXoNWof%2BQLcf9fUP/oMtY4ihQxNP2daClF9Gk19zTO/Lc1zTJsWsVl9edGqtpU5yhJf9vQlF/K9vJnyh/w7Nuvht%2B//AGTf2v8A4mfDnZ/x76PLqo1nSIsdMWl119OXPFKk3/BXH4UE28ln8J/ixYR/cuFln0PU5v8AeXm2XPt719SUV5v9iYSn/u0p0v8ABNpf%2BAy54/ckfZ/8RLz7GaZxRw%2BO88RQpyqf%2BDqaoVr%2BbqTfq9T5d/4b7/aE8CjHx3/4JufFDTAnE1x4JmtfEcS/7WYGT5e/sKuaL/wVx/Ybur0aN4x%2BI%2BqeENSP3tN8XeFr6zlT/ebymjH/AH1X0tVTWtA0LxJZHTfEWiWl/bt963vbZZUP/AWBFH1TOKX8PFKX%2BOmn%2BMHB/gL%2B3/D3G/75ks6T74bF1Ir/AMAxNOvH5c/zOM8Dfth/sn/ETSJIfBX7SfgbUZpLmEpa2/ii187G2T/lkXDjqOo713dtdW17At1Z3CSxOMpJE4ZWHqCOteYeMP2Bv2KfiFpNzceKv2WvA8s7XEQa6tfD0FtMQVkzmSFUfsO/avM7n/gkL%2BxZZ3D3fw/0DxT4Plc7mfwt421CD5vUB5XA/AYpKpn1PelTn6TnH8JRkvxD6n4WYv8Ah4zGYd9qlChWX/gVGtSl/wCSXPp6ivl7/h2v4i0D5vhx/wAFAfj3pWP9Xb6h40S/t0%2BkckQ4/Gj/AIZL/wCCg/h7/kTP%2BCnl5NEv3bXxF8LtOuy31l3hvyFP%2B0Myh8eDl/27OnL9Yh/qpwfX/wB24hor/r7h8ZS/KFdfjY%2BoatQ/8gW4/wCvqH/0GWvlX/hXX/BXHQP%2BQR%2B0b8IPEG3p/bvhG6tN31%2BzE4/Cp4/FH/BYrQdLmXUvhb8BdfiFxHvbRtb1S1Zjtkxj7QCBxn9KTzdx%2BPDVl/25f/0mbD/UCFX/AHfOcBP/ALmXTf3VcPD8Wj6Zor5f/wCGi/8Agp5of/IX/wCCdGha0B95tF%2BLdlBn3AnjJ/Cj/huD9rjSvl8Vf8Ew/HkLD7w0jxNYX4/AptzT/tzBL4o1I%2BtKov8A2xh/xDPiWf8AAq4Wp/gxuDf4OvB/gj6gor5f/wCHj/jbTv8AkY/%2BCc/7QUWPvf2Z4MjvPy2zDNB/4Kn/AA%2BteNe/ZQ%2BPmlHuuofDCVSPrtlaj%2B38oW9W3rGa/OmL/iFfH8v4eC5/8FXDT/8AScW3%2BB9VQ/8AIFuP%2BvqH/wBBlqrXzPH/AMFcf2ZLXS5oNY8EfE7T2a4jb/TPh3eKAArg52qfUVX/AOHw/wCwnb8614%2B8QaaB1N94I1NcfXbAaFxBkfXEwXq7fmkP/iFHiY/hyfES/wANPm/9InM%2BoKK%2BatP/AOCv/wDwTl1LH2f9pS1TPa48PanF/wCh2wrbsf8AgqD%2BwDqABg/aj8NLn/nu8sX/AKGgrSOeZLP4cTTf/b8f8zlreGfiPh/4uTYuPrhq3/ytnvVWof8AkC3H/X1D/wCgy14faf8ABRH9he9x5P7V/gZc/wDPbxBDH/6ERW7pn7cf7F2o6VNBaftbfDVpGuYisbeOLBWICyZwDKCeo/OtlmeWy2rwf/b8P/kjzavBfGVD%2BJlmJXrh6/8A8pPSaK4rTv2k/wBnTV8f2T8ffBV1np9n8VWj5/75kNbln8Rvh7qKeZp/jzRp1PRodUhYfo1dEcRh5/DOL9Gn%2BTZ5VbKc2w38bDVI/wCKnUj%2BcEbNFVINf0K5/wCPbWrST/cuVP8AI1aR0kG5HDD1BzWqaexwyhOHxJr1TX5otw/8gW4/6%2Bof/QZaq1ah/wCQLcf9fUP/AKDLVWhdSQrqPht/y%2B/9s/8A2auXrqPht/y%2B/wDbP/2aoq/w2NbnUUUUVxlhXNfGYeMz8H/FY%2BHJk/4SH/hGr7%2BwfK%2B/9t%2Bzv5G338zbiulooA%2BC/gunwY1z4d/FbwD%2Bzt8RLHwt4b139nTSLebVdAjeSS18S/ZdZ%2B33HkW/7%2BbU4bdrF7pVH2ri3DYcrXBWXhv4VeNHbxVr/ib9n3wd8ONF%2BI6z%2BFbS%2B0l9e8C3N%2BfDLQ3UdvK32KBmLPHJkeUonSdAJZo5S/6Y0UAcV%2Bzd4rvPHf7PPgXxrqHw/TwnPq3g/TbyXwvHCYk0lpLWNzaKhVCix52BSqkBQCqngfDnwC%2BAHhnwP/wWB%2BKZtdfnv4dA8N3ur6hMtiqiHVPEGrPqIUL5h%2B5aGOHdnLiLdtXOB%2BjFfD/7E8V14x/aQ/ab%2BOGowMs2qfGObw3G7jl4NGgW1Qj/AGfnYD6GvKx1GFfMcHFrVTcvRRg2/vbifdcIUqOGyfO81kvfpYX2MH2li69GjK3rTpVF/wAOz6a8nRf%2Bghdf%2BAa//HKPJ0X/AKCF1/4Br/8AHKq0V9JbzPgS15Oi/wDQQuv/AADX/wCOUeTov/QQuv8AwDX/AOOVVoot5gaeqxaQblfMvrkH7NDwLVTx5S4/j9KreTov/QQuv/ANf/jlGsf8faf9esH/AKKSqtJLQC15Oi/9BC6/8A1/%2BOUeTov/AEELr/wDX/45VWinbzAteTov/QQuv/ANf/jlWdVi0g3K%2BZfXIP2aHgWqnjylx/H6VmVa1j/j7T/r1g/9FJStqAeTov8A0ELr/wAA1/8AjlHk6L/0ELr/AMA1/wDjlVaKdvMC15Oi/wDQQuv/AADX/wCOUeTov/QQuv8AwDX/AOOVVoot5gaeqxaQblfMvrkH7NDwLVTx5S4/j9KreTov/QQuv/ANf/jlGsf8faf9esH/AKKSqtJLQC15Oi/9BC6/8A1/%2BOUeTov/AEELr/wDX/45VWinbzAteTov/QQuv/ANf/jlWdVi0g3K%2BZfXIP2aHgWqnjylx/H6VmVa1j/j7T/r1g/9FJStqAeTov8A0ELr/wAA1/8AjlHk6L/0ELr/AMA1/wDjlVaKdvMC15Oi/wDQQuv/AADX/wCOUeTov/QQuv8AwDX/AOOVVoot5gaeqxaQblfMvrkH7NDwLVTx5S4/j9KreTov/QQuv/ANf/jlc78cfiH/AMKo8Daj8Qv%2BEG8ReJf7M0%2B2k/sPwlpn2zUbvKxJtgh3L5jDduIyPlUntXzv/wAPOv8ArHr%2B1B/4ab/7prgxGY4LBSUK07Nq%2B0n/AOkwkvxPPxma5fgKihXnytq/wzen/bsJL8fkfVXk6L/0ELr/AMA1/wDjlHk6L/0ELr/wDX/45Xyr/wAPOv8ArHr%2B1B/4ab/7pr1b9nH9pL/houw1W/8A%2BFB/ErwJ/ZU0Ufk/Efwt/Zcl5vDHdAPMfzFXbhjxgsvrU4fNcvxVVU6VS8n05Zr86cV%2BJGGznLMZWVKjUvJ9OWa283TivxN/4nfs5fAj4x65ZeI/iHpOo3t3YWEtlA8F5c2ytbyTQTNFIkFyizL5ttC4Egba0YK4yc4fxD/YY/ZN%2BImpTeIPGHhDVrifVp7q9ulh1/UYYvPuLaaxuZI4YrxY4DNbSPFKI1USg5fc3I5n9pP9o74hfBjx7Z%2BBPD%2Bj6TcT%2BL9Ehg8CPeW8rf8AE7Op2tnIlxtkXzIRHqFvcbE2OI7S7beQAU8a8cftt/GTx1rWm%2BCzGmn6LrGteH9U8Ja7pNr/AGfPcaYnj7S9NlQldQnmnhnhunRmlgs9wEi%2BVIjkr3S5bnqan1HB%2BzR8AbT7O1jouo2z2mtXur2k9re3MUsN7d2stpcTo6XIZWaGaRRg4QtuQKwDC78UfgX8HfjJpdjpPj%2BHVp102Z5LC6sL%2B5sbqEvE0MgW4tbmOXa8bsjrv2uDhga%2BP9N/at%2BOnxL%2BHXha403xDo/h7TLLxz8OrHVreGW/bU9SfUdbtHm8q6ku2b7O0J8lopFlMq/aAXAG0/Qn7Tl/4tsvBXgrwnqXi24so/EXj/StJ8S6x4enn0yQW0ju2yKRJTLbedKkNvuSXfichWBYGmrNBqdl4q/Zy%2BBvjDw5aeE9Utdat7DTp4JtJi0fVrzT20xobZrVBava3Ub2q%2BQ7xlYSissjhg25s58X7Iv7MVt4g0vxFY%2BDbi1fR4bCOy0%2BznuIdP8A9BTZZtJZJci2neBQojkkjZ02JtI2LjyKx1z4l%2BI/2LtUttA8c6jNdad8T73RbPUp/E/2S/1TRrTxc9n9ji1CaRCLqayiNpFO0qvJK6N5qu/mjjbCPXvi38J9K8F6t4j%2BIOh63rPxe1Twb4Vvbf4n6nFd2em289zdXTTzWV55d1c29rZ3tuksjT7Zoo1Z5cFnWgH0bZfsW/su%2BHvDJ8OaV4Y1eK1vLCzghc69qEk1hBZ3MstpDZTPeGTT44ZGZo47Zo0QnKgZratPgJ8ELH4eaf8ACq20a7GhaZq9pqtpaM8rOb22v01GK4kmM5lmk%2B2RrO7SMxlfcZN%2B9gfnL9qF/EXg7XPih8QPgx438Z21x4J%2BHbtfJJ481K5tP7W1S4kdpUtru4e1tvsVpGJkCxrEv20HAEQFerfskatdLpHjH4e6tb6xBqPhDxidN1C31Xxrc%2BIUieTT7K9QW9/dxpcTRGK7jYrMN6SNKg/drHRFLYGey%2BTov/QQuv8AwDX/AOOV2vhIQL4ftxbyO6fPtZ0Ck/O3YE/zrgK7zwZ/yLVt/wAD/wDQ2qKy90cdzUooormKCiiigAooooAKKKKACiiigAooooAKKKKACiiigAooooAKKKKACiiigArB%2BIf/ACBYv%2Bvpf/QWreqh4i0T%2B3rJbP7V5W2UPu2bs4BGOo9aqDSmmxPY8%2BorqP8AhW3/AFGv/Jb/AOyo/wCFbf8AUa/8lv8A7Kur2tPuTZnL0V1H/Ctv%2Bo1/5Lf/AGVH/Ctv%2Bo1/5Lf/AGVHtafcLMwYf%2BQLcf8AX1D/AOgy1VrrU8AbLKSz/tb/AFkqPu8jptDDH3v9r9Ki/wCFbf8AUa/8lv8A7KkqsO4WZy9FdR/wrb/qNf8Akt/9lR/wrb/qNf8Akt/9lT9rT7hZnL1ah/5Atx/19Q/%2Bgy1vf8K2/wCo1/5Lf/ZVKngDZZSWf9rf6yVH3eR02hhj73%2B1%2BlJ1YdwszkqK6j/hW3/Ua/8AJb/7Kj/hW3/Ua/8AJb/7Kn7Wn3CzOXorqP8AhW3/AFGv/Jb/AOyo/wCFbf8AUa/8lv8A7Kj2tPuFmYMP/IFuP%2BvqH/0GWqtdangDZZSWf9rf6yVH3eR02hhj73%2B1%2BlRf8K2/6jX/AJLf/ZUlVh3CzOXorqP%2BFbf9Rr/yW/8AsqP%2BFbf9Rr/yW/8AsqftafcLM5erUP8AyBbj/r6h/wDQZa3v%2BFbf9Rr/AMlv/sqlTwBsspLP%2B1v9ZKj7vI6bQwx97/a/Sk6sO4WZyVFdR/wrb/qNf%2BS3/wBlR/wrb/qNf%2BS3/wBlT9rT7hZnL0V1H/Ctv%2Bo1/wCS3/2VH/Ctv%2Bo1/wCS3/2VHtafcLMwYf8AkC3H/X1D/wCgy1VrrU8AbLKSz/tb/WSo%2B7yOm0MMfe/2v0qL/hW3/Ua/8lv/ALKkqsO4WZxl/wCH9B1XP9p6JaXOevn2yvn8xWJe/Bf4O6mS2o/CbwzcE9TPoNu%2BfzSvTv8AhW3/AFGv/Jb/AOyo/wCFbf8AUa/8lv8A7Kol9Wn8ST9Un%2BaOqjjcfhv4NWcf8M5R/KSPHbv9l79me/z9u/Z28Cz56%2Bd4Rsm/nFVO5/Yj/Yy1PR7iS%2B/ZL%2BGkji5iAkPgawDAFZMgMIcjoPyr27/hW3/Ua/8AJb/7KpU8AbLKSz/tb/WSo%2B7yOm0MMfe/2v0rCeGy6e9KD/7cj/8AInpUuJuJ6H8PH14%2BlesvyrI%2BZ9R/4JxfsJapn7T%2Byn4LXPX7Po6Q/wDovFYl5/wSh/4J6X775/2YtGUn/njfXkY/JJhX1d/wrb/qNf8Akt/9lR/wrb/qNf8Akt/9lWEsrySfxYem/wDtyP8A8ierR8QvEHDL91m%2BKj6Ymv8A/LWfIU//AASA/wCCclx/rP2arUf7niLU1/lciqr/APBGz/gnMreZZ/AGa1f/AJ6W/jDV1P63Rr7H/wCFbf8AUa/8lv8A7Kj/AIVt/wBRr/yW/wDsqyeS8PP/AJhqf/gEf8jtj4qeKENs8xf/AIU1f1mz4/j/AOCPv7FsOlzXGkaV4w05kuI1X7F491FcAq5/ilPoKr/8OnvgJb/8gj4v/F3T8dPsXxHulx/30DX2angDZZSWf9rf6yVH3eR02hhj73%2B1%2BlRf8K2/6jX/AJLf/ZUlkmQrahFeia/Jov8A4ir4lv4s2ry/xSjL/wBLpzPjf/h1v4Qg/wCQT%2B2T%2B0NYen2P4pSLj84TXvH7E37Ms37Of/CTI/7Q3xM8eJq/2LYPiN4o/tM2Hlefn7OfLTZv8wb%2BufLTpivUP%2BFbf9Rr/wAlv/sq1PDfhv8A4R7zv9N87ztv/LPbjGfc%2BtXTyzKsPP2lGnaS21n%2BTm1%2BB5%2BacfcY53gZ4PH4t1KU7XThQTdmmvejh4TWqW01fZ3V09Siiiuk%2BRCiiigAooooAK8X8KfBvwj8FLzxBovhBrp01zxZqfiHUJbyRWd7vULl7ubBVVARWl2IMZCIoJY5Y%2B0Vg614J/tfU5dR/tPy/M2/J5OcYUDruHpVU40vaqclqr2fa9r/AH2N4YrFUsNUw8JtQqcrkukuRtxv/hcm15tnG0V1H/Ctv%2Bo1/wCS3/2VH/Ctv%2Bo1/wCS3/2VdXtafc5bM5eiuo/4Vt/1Gv8AyW/%2Byo/4Vt/1Gv8AyW/%2Byo9rT7hZmDrH/H2n/XrB/wCikqrXW3ngD7XKJf7W24iRMeRn7qBc/e9s1F/wrb/qNf8Akt/9lSVWFtwszl6K6j/hW3/Ua/8AJb/7Kj/hW3/Ua/8AJb/7Kn7Wn3CzOXq1rH/H2n/XrB/6KSt7/hW3/Ua/8lv/ALKpbzwB9rlEv9rbcRImPIz91Aufve2aXtYX3CzOSorqP%2BFbf9Rr/wAlv/sqP%2BFbf9Rr/wAlv/sqftafcLM5eiuo/wCFbf8AUa/8lv8A7Kj/AIVt/wBRr/yW/wDsqPa0%2B4WZg6x/x9p/16wf%2BikqrXW3ngD7XKJf7W24iRMeRn7qBc/e9s1F/wAK2/6jX/kt/wDZUlVhbcLM5eiuo/4Vt/1Gv/Jb/wCyo/4Vt/1Gv/Jb/wCyp%2B1p9wszl6tax/x9p/16wf8AopK3v%2BFbf9Rr/wAlv/sqlvPAH2uUS/2ttxEiY8jP3UC5%2B97Zpe1hfcLM5Kiuo/4Vt/1Gv/Jb/wCyo/4Vt/1Gv/Jb/wCyp%2B1p9wszl6K6j/hW3/Ua/wDJb/7Kj/hW3/Ua/wDJb/7Kj2tPuFmYOsf8faf9esH/AKKSqtdbeeAPtcol/tbbiJEx5GfuoFz972zUX/Ctv%2Bo1/wCS3/2VJVYW3CzOXorqP%2BFbf9Rr/wAlv/sqP%2BFbf9Rr/wAlv/sqftafcLM4bWfCHhPxHqWmax4h8Madf3miXjXejXV7ZRyyWFw0TxNLCzAmJzHJIhZcErIy5wxBxZ/2a/2c7O8sNftPgD4KivxcSaiL2PwrZrMLxrtZ2ud4j3eaZreCQyZ3F4I2zlFI9T/4Vt/1Gv8AyW/%2ByqW48AefFBF/a2PJiKZ8jr87Nn73H3sfhSdSncLM8ik/Z7%2BAUuqaZrkvwP8AB7XuixQR6PeN4atTLYJBN58Kwv5eYhHMBKgUgK/zDB5rX1T4dfD7W/Br/DnWvAujXnh6WEQyaDdaZFJZPGGDBDAylCoIBxjGQDXoP/Ctv%2Bo1/wCS3/2VH/Ctv%2Bo1/wCS3/2VP2tMLM81l%2BEHwln8NnwdP8LvDr6QdJGlnSn0SA2xsQci18rZt8kHny8bfarGkfDj4eeH7DRtL0HwFotla%2BHSx8P21ppcMcemFo3ib7OqqBBmOR0OzGVdh0JFehf8K2/6jX/kt/8AZUf8K2/6jX/kt/8AZUe1p9wszkL3wf4SjgnmTwvpyvrtvu1xxYxg6iRuhBnOP3x8pEj%2BfPyKq9ABWf4H%2BH3gL4Y%2BH4/Cfw28EaR4e0qKRni0zQ9NitLdGY5ZhHEqqCTyTjk16JceAPPigi/tbHkxFM%2BR1%2Bdmz97j72PwqL/hW3/Ua/8AJb/7KkqtPuFmcvXeeDP%2BRatv%2BB/%2BhtWX/wAK2/6jX/kt/wDZVvaLpv8AZGmRad53meXu%2BfbjOWJ6ZPrUVZxlGyGk0y1RRRXOUFFFFABRRRQAUUUUAFFFFABRRRQAUUUUAFFFFABRRRQAUUUUAFFFFAHnf7SHxQ8Y/Dfw/wCHtL%2BHaaYuv%2BLvF9joGlXetWslxaWbS75ZZ5YopInlCQQzFYxJHufYC6gk15zpv7T/AMZvF/g3wT4U8OJ4XsPG/iT4meIfCGpate6Rc3OmWv8AYx1QT3sdot1HK4nGnJshNwDH9q%2BaSTyiH9f%2BMXwi0T4zeFrfw5quuanpNzYata6po%2BtaNJEt3p15byCSKaLzo5IyeCrLJG6OjurKQxFcRB%2Bxl4U0/wAFaP4U0P4reMLC98P%2BJrnxFoviW3k09r%2B11W7F59vuv3lm0Mpujf3jSJJE8YM/7pItkYQA6r9mz4ral8bvgd4d%2BJuuaVBY6jqNmyaraWjs0MV5DI8E4jLcmPzY32k87cZ5ruK5/wCFfw08L/Bz4caL8LfBcU66XoWnx2lobqYyzSBRzJI55eRzl2Y8szE966CgArK8dS%2BN4fBuqSfDW00ufxALGT%2Bxotbnkjs2udp8vzmiVnEe7BbaMkDAxnI1a574tfDyP4tfDHXvhhN4v1rQI/EGlTWE2s%2BHLmOG/tElQozwSSRyLHJtJwxUlScjBAIAPBNQ/aq%2BPtt%2Bzl438e6KnhzXdW8NfFLS/C%2Bj%2BKdE8G6hc6Zq9jNfaVbX2oQ6bDdyXEv2Vru/gZI7ht8unOwIBKD2b9nz4i/8LR%2BGVt4on8dab4hulvLq1v73TPDF3oqxTwzPG8EljeTS3FrLGV2Okrbtyk7VBAGH4c/Zm1Pwx8Mz8LdP/aN8dx2NtBaxaFPYW2iafJoq20kTwrbLZabDEYx5QQxSxyRPGzI6MpxXS/Bv4P6H8F/DF14f0rXdT1e51LWLrVdZ1rWpImu9QvbiTfJNJ5McUS/wqFjjRFVFAUYoA62iiigDgf2pfiN44%2BEX7OnjP4nfDTR4L/X9D8P3F5pFndafNdxyzouVDQwOkkoz/AjKx6AivOpv2ovGMHwGn8ReHvHHh3xJ4um%2BIWl%2BEonl8B6noMOkXd9d2cAF7pt5dPdBooboXWwyRecjRBSiyCQ%2B3eOfCo8ceENR8Jf8JHqukHULVoU1XQ737PeWjH7ssMmCFdTgjIZTjDKykg%2BYR/sX%2BFZvDPiTQ9f%2BLXjLVb7xTr9jr%2Bp%2BIbyTTkvV1eyazNlfReTZxwxvAthaIsYj8hlhPmROZJGcA6H9m74o%2BLviX4W1yz%2BIMWm/2/4W8XahoGrXOjW0kFpdvbyAxzxRSSSPEHhkhYxtI%2Bxyy72ADH0OuV%2BDvwj0L4L%2BEZfC%2BjaxqOqTXmq3ep6trOsSRNd6je3MzTTTymKOOMEs2AsaIiKqoqqqgDqqACqHim28U3fh%2B7tvBWsafp%2BqvFixvdU017y3hfP3pIY5oWkGM8CRD71fqO8tzd2ktqtxJCZY2QTQkB0yMblJBGR1HBoA%2BZ7v9pP9prTP2SNX%2BN6XPhbWNSuPiVpuk%2BFNS0b4f6lNBLoM2uWOlz6i%2Bmw381xcNse%2Bu4hDOA8P2clQd4PtP7P/AMQ1%2BKPwtsvFknjnTfENy1zdW19qGl%2BG7rR0WeG4kieB7G7mlntZYinlyRyvvDoxIXO0Zelfs4WHhn4MaD8DfA/xY8X6Bpfhjw7pWk6He6Rd2iXdsLDyxFOXa2ZZXdY1SWORXgkXIMXzHO58GvhDoXwV8Iy%2BFtG1rUtUmvNWvNU1XWNZkia61C9upmmmnk8mOONSWbAWNERVVVVQABQB1dFFFAHln7RXxY%2BKvwu8Y/DW08FaToEuh%2BJfG8GjeJrnVGna6jjmRzGtrHGVQMSjs0rsQoQKI38wvHx/7KP7UfxU%2BMGueEJPiRY%2BHl034nfC5fHng6LRLCeCfS7PzbUGzu3lnlW5lEWo2Z86NYVLLMPLxtNd38f/ANnWT4%2BXXhu5b41%2BL/Cg8Ma1Hq1lF4Yi0plmvIwRHJL9usbknaGcBVKqdx3BsDGZ8I/2PfBvwW1KPUvCPxE8VS/2dpNvo3hmC/mspY/D%2BjRXS3B0u0AtR%2B4cJHCzTGWbyoowsqFFYAHLfs6/tR/FT4m/ELwtb%2BOLHw8vh74keGNe17wjDpVhPFd6XBp1/ZwRw3csk8iXTzQX0cpZI4BE8TpiQMrD6Ery34S/smeA/g/49HjrRfFPiDUBY2Oo2PhnSNVuLdrTw9aX95HeXdvaCOFJCkk0MH%2BveZkWBEQogKn1KgAryz9or4sfFX4XeMfhraeCtJ0CXQ/EvjeDRvE1zqjTtdRxzI5jW1jjKoGJR2aV2IUIFEb%2BYXj9Trzf4/8A7Osnx8uvDdy3xr8X%2BFB4Y1qPVrKLwxFpTLNeRgiOSX7dY3JO0M4CqVU7juDYGADA%2BC3xf%2BOWtftAa/8ABv4pN4Q1BNM8Ow6peSeD7S6VfD1xPcOINNuZ55XF3NJbgTB1jtyFTc0QWWI1jfsk/tK/EP4veNNV8L/FrxVotjqaTaw%2BmeEIvhxqukXP2Oz1V7RbqO%2BvLp4NRjEfkeYbeMBHuY8lNyq3T/Av9la6%2BAmm3mj6D%2B0V461a2v8AU31G8XW7TQ2ee7lu1uLieSWDTYpJXmw0TM7MRHIQmxljdNHwN%2BzXpXg/4pr8WdY%2BKXi/xPfWOn6hYeHrXxLf280Oi2t7cw3FzFA0cEc0oZra3UPcyTOiQqqsoL7gD0iiiigDyz9or4sfFX4XeMfhraeCtJ0CXQ/EvjeDRvE1zqjTtdRxzI5jW1jjKoGJR2aV2IUIFEb%2BYXj5L9iX9pX4h/HS1e3%2BMHinRbbxDJo6ag3g62%2BHGq6Fc2URmeMyLPf3UqahECFQywIEVyMkbgtdx8f/ANnWT4%2BXXhu5b41%2BL/Cg8Ma1Hq1lF4Yi0plmvIwRHJL9usbknaGcBVKqdx3BsDFTwH%2By1a%2BB/F6%2BPbr43%2BOvEGr2umJpWj33iO8sbiXTdN%2B1xXM1pGwtFMqzmCGOWa4MtwUjUrKrjfQBx37Ov7UfxU%2BJvxC8LW/jix8PL4e%2BJHhjXte8Iw6VYTxXelwadf2cEcN3LJPIl080F9HKWSOARPE6YkDKw%2BhK8t%2BEv7JngP4P%2BPR460XxT4g1AWNjqNj4Z0jVbi3a08PWl/eR3l3b2gjhSQpJNDB/r3mZFgREKICp9SoAK8s/aK%2BLHxV%2BF3jH4a2ngrSdAl0PxL43g0bxNc6o07XUccyOY1tY4yqBiUdmldiFCBRG/mF4/U683%2BP/AOzrJ8fLrw3ct8a/F/hQeGNaj1ayi8MRaUyzXkYIjkl%2B3WNyTtDOAqlVO47g2BgAyPgh44%2BP/iD44eNfAnxA8YeDtc8P%2BErSytZr/wAPeD7vS5l1eeMXLWrGbUbpXWK0ktJGIVcm8TB%2BVhXPfse/tK/EP4za/f6F8W/FWi2eseVqFxZeD4fhxqujXMdrb6g1sLhLy9upItRjC%2BSJHt4wqPOm4ruVT6j4L%2BDul/D%2Bz1uDwz4q1eKfxD4tfxBqd9IbeSaSZ5ImeAboSohaKFYPu%2BYsR%2BV1cK643w%2B/Zr0rwP8AE1fitq/xS8X%2BKdRs9JvtL8Px%2BKL%2B3mTRrG8uYLm4ghaKCOWUO9rajfcvPIFtkAcZbcAekUUUUAFFFFABRRRQAUUUUAeAftYftL/Fv4Ta74gsvhRYeHXh8C/C%2B98c%2BJo9esZ5pNTt4ZHEdhbNFPELaSRbe6zcOJlQ%2BV%2B6YFsVvjn%2B1f8AE7wP488QXHgKz8Pv4V8BaB4c1fxTFqunzyXuqQ6pfXELx2siTolq0FvbGUF45hK8gjxEFLnt/j3%2Byd4F/aD1I6h4j8V%2BIdIF54duvD3iK30G5t449d0e4dHmsLrzoZCI22sA8JimUSyhZFDmqnjr9jvwX8RfF0Pi7xJ8QvFJae00y18S2FvLZR23iODTr2W9sorxRa5VYpppf%2BPcwGRHMcpkTCgA9cooooAK8Y/bM%2BL3xx%2BB3gSb4kfC1vCDWem6dM40nXrO6ub/AMR6qzxJY6NZJDLEsMty7PGJ2MxV2j/cMu4j2evMvjL%2BzSnxf%2BJPhn4pQfGnxd4Z1Hwla3kWjw6FBpM9uklyEWS5MeoWNyBcCNDEsq7WWOWZBgSvuAOM%2BL/7S3xD%2BH37VcXww1DxTovhjwTH4e8P3jazq/w41XVFvby%2B1LULWW1bUba6itdNwttaKj3CsPMuwfmGFP0BXlnxF/ZZtvipNbQeNPjj46udKMFnDr3h9buxWx1xba6a5jM6C0zCSx2ObVrcyxqqSbwq49ToAKKKKAPn/wDan/aU%2BInwY%2BMWgeGbPxTovhjwfP4Uv9W8QeKda%2BHGq67DaSQXVpGqyy2N1BHYQ%2BXNLI89xmNRHklQDUf7QH7UnxT%2BHPxH8TQ%2BCrLw83hn4d6L4e1TxbDqdhPLe6nHqd/cwSR2ssc6JbNBBbGUM8cwmeQJiIKXPffHz9nHT/2gtPm0DXPit4x0TR9R0W60jxFonh/ULdLXWrC4wJYZ1nglMZKb0863MMwWRgJB8u3I8bfsceCPH/iqDxT4g8f%2BKP3tnpdp4k062lso7bxFb6deyXtjFdqtrlVilmlH%2BjmAyI5jlMiYUAHrtFFFABXkP7Wvjj4//D3w9p2qfAvxh4OttR1bU7XRtJ0XxP4Pu9Ra/wBRuZgiMJYNRtfKhij8yaX5JGEUErDONp9ermvG3wt0Dx74t8H%2BMdavb1J/BOuT6tpUFvIgiluJdPu7AmUMpLAQ3kxG0qQxBJIBBAPJPir%2B0t8QvAn7XUfwn1PxVovhrwRHoHhq6XVdV%2BHGq6kNRvtQ1PU7SazOp291FaacdtpZpGbhGzJeDh8qh%2BgK8t%2BIX7Llp8UdRs38ZfGzxzc6Ug086z4bF5ZLYay9ldfaoXnQWm%2BFjJtEn2V4BKqIsgcDFepUAFFFFAHzJrP7U37SEXxu1j4AxaZ4J03VdR%2BJdj4e8Hak9leX0FlYy6JqGsPPeIJ4GuZmg02QBI2hVHnVS0gjMkm5F%2B1L8Stf/Z78G%2BJNA0vQrPxr4s8eN4Nea7tZp9MtL%2B2vru1vboQrLHLJEFsLp44vNViWjVpBy1WNU/YS0zV/iZq/xbvP2kfiL/bWo61bavp80aaGq6Ne28ElrFNbAaZk4tJri1KzGVHiuJN6s%2B2Regk/ZE8Ex/CrS/hLpXjnxNYWmhXFlfaHqVtPaNeWWqQXUt0%2BprJJbsJLieSZ/OWVXhdSVESh33AGx%2BzT8U/Efxc%2BGUuu%2BM7Sxi1rSvE2taBq50yJ47ae403U7mxaeJHd2jSX7OJRGzuUEmwuxUse/rmPg/8ACnw98FvAdv4B8N319eRJeXl9eahqcqPc315d3Ut3dXMpRUTzJbieWRgiqgL4VVUBR09ABXz/AAfG79pnWPGHxV8HNdfDXw3H4J16wa013WBeT2unaHLavcSXV0PNg%2B0T7EUlA9tHF5rAySCHdL9AV89ePP8Agnxp/wAQ/E/iPxHrv7VHxNEXinW9P1PV9Ijt/DrWcr2JBtITHJpDGSGPan7uQuH2KX3nkgEHiX9p/wCOyfsY%2BDvjrovhSzsvEviLWtItbxW8G6jqkMVldX6QPfx6bbTJdsHt2FwkHmF0EiqxYqc%2BvfAnx/D8T/hXpnjOPxtpviF7gzxXOqaToNxpcTTwzyQyxGzuZZZraSJ42ikilcukkbhgpBUUtX%2BDPijW/ByeGLz9ozx2l5CLZ7fxDaNplveJNDPJKZSsVisEnmK6wvFJE8JjiTEavvd9L4OfCXw/8E/AsfgXw9qeoX6nUb3Ub/U9WlR7q/vby6lu7q4lMaIgaSeaR9qIiLuCoqqqqADqaKKKAPlL4nftbftReEfHHizwXb6B4YtRpPxJ0jSbG80zwbq/iOS00e80%2B5ufPntbOaGa4uC0MXEQRI/OKfvdgkf0LxX%2B0R4mPwO8B%2BI/hd4v8Na/rnj7xHYaJpniJ9BuYdMjllMj3Fw9i1z56%2BXFb3A%2BztOriVQjuvzYQ/sZ6pD8R/EfxR0r9rj4p6fqXiTULe8uI7F9Djht3gjMMKqn9l4ljWFnj8ufzVO4SEGVI5U0x%2ByB4Kg%2BFmn/AAo0zx94otLbR7%2B21TR9VhntGvbPV472a9l1RXe2ZXnuJp5POSRXgZSVWFAzhgDa/Zp%2BKfiP4ufDKXXfGdpYxa1pXibWtA1c6ZE8dtPcabqdzYtPEju7RpL9nEojZ3KCTYXYqWPf1zHwf%2BFPh74LeA7fwD4bvr68iS8vL681DU5Ue5vry7upbu6uZSionmS3E8sjBFVAXwqqoCjp6ACvGNW%2BJ37Q2p/tOeJfgToNz4M0XTY/A1rrXhTV73SrvUpvMN2IZ2u4luLZdpxIiRRuCu1ZGlbeYU9nryTxb%2BycnjD4xax8Yb34/eOraTWfCk/h2bQrJdISygsZFf5Y2Onm5V1kczK5mJ3gA5T5CAcfZ/tFftDw/sIa9%2B0q0XhrWvEEkFzqHgt9I8JXq2t9pZnCWV09kt5LPIZoMXOxJgdsqLwQc%2Bl/s4/E65%2BKXgi71PVPH%2BmeINR07WJrHU20/wAF3/h57GZUjf7PPYX881xBKEkST5yu5JY2C7WDNdvfgxZn4b2Pws8NePfEXh/TNN8ODSLF9BuoYJ4dggEFyshhLCWIQ4VR%2B5YSyCSKQbQq/Bv4L6T8G7PXHg8Waz4g1XxPrp1jxFr%2Bvtb/AGq/u/s1vaIzLbQwwoEt7W2iVY40G2IEgsWYgHZUUUUAFFFFABRRRQAUUUUAFFFFABRRRQAUUUUAFFFFABRRRQAUUUUAFFFFABRRRQAUUUUAFFFFABRRRQAUUUUAFFFFABRRRQAUUUUAFFFFABRRRQAUUUUAFFFFABRRRQAUUUUAFFFFABRRRQAUUUUAFFFFABRRRQAUUUUAFFFFABRRRQAUUUUAFFFFABRRRQAUUUUAFFFFABRRRQAUUUUAFFFFABRRRQAUUUUAFFFFABRRRQAUUUUAFFFFABRRRQAUUUUAFFFFABRRRQAUUUUAFFFFABRRRQAUUUUAFFFFABRRRQAUUUUAFFFFABRRRQB//9k%3D\">"
            ]
          },
          "metadata": {
            "tags": []
          }
        }
      ]
    },
    {
      "metadata": {
        "id": "6Z8I-RjR4t8i",
        "colab_type": "code",
        "colab": {
          "base_uri": "https://localhost:8080/",
          "height": 34
        },
        "outputId": "7d5fa09e-091c-44c7-e398-32bf13b97380"
      },
      "cell_type": "code",
      "source": [
        "# calculate test accuracy - close to valid accuracy\n",
        "test_loss = s.run(loss, {input_X: X_test_flat, input_y: y_test_oh}) \n",
        "test_accuracy = accuracy_score(y_test, s.run(classes, {input_X: X_test_flat}))\n",
        "print(\"Test Accuracy:\", test_accuracy)"
      ],
      "execution_count": 14,
      "outputs": [
        {
          "output_type": "stream",
          "text": [
            "Test Accuracy: 0.978\n"
          ],
          "name": "stdout"
        }
      ]
    },
    {
      "metadata": {
        "id": "ArYUodRP41VL",
        "colab_type": "code",
        "colab": {}
      },
      "cell_type": "code",
      "source": [
        ""
      ],
      "execution_count": 0,
      "outputs": []
    }
  ]
}