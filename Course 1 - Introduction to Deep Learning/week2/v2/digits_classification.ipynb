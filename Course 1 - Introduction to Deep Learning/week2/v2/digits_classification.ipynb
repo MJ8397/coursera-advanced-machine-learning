{
  "nbformat": 4,
  "nbformat_minor": 0,
  "metadata": {
    "colab": {
      "name": "digits_classification.ipynb",
      "version": "0.3.2",
      "provenance": [],
      "collapsed_sections": []
    },
    "kernelspec": {
      "display_name": "Python 3",
      "language": "python",
      "name": "python3"
    },
    "accelerator": "GPU"
  },
  "cells": [
    {
      "metadata": {
        "id": "gkSB4sj7Dzh6",
        "colab_type": "text",
        "slideshow": {
          "slide_type": "slide"
        }
      },
      "cell_type": "markdown",
      "source": [
        "# MNIST digits classification with TensorFlow"
      ]
    },
    {
      "metadata": {
        "id": "Wojcq4J1Dzh-",
        "colab_type": "text"
      },
      "cell_type": "markdown",
      "source": [
        "<img src=\"https://github.com/hse-aml/intro-to-dl/blob/master/week2/v2/images/mnist_sample.png?raw=1\" style=\"width:30%\">"
      ]
    },
    {
      "metadata": {
        "id": "RmQj1Q4mD09T",
        "colab_type": "code",
        "colab": {
          "base_uri": "https://localhost:8080/",
          "height": 306
        },
        "outputId": "8e43194a-00a9-4976-dd76-cf617923a18d"
      },
      "cell_type": "code",
      "source": [
        "! wget https://raw.githubusercontent.com/hse-aml/intro-to-dl/master/setup_google_colab.py -O setup_google_colab.py\n",
        "import setup_google_colab\n",
        "setup_google_colab.setup_week2_v2()  # change to the week you're working on\n",
        "# note on week 2: select setup_week2_v2() if you've started the course after August 13, 2018,\n",
        "# otherwise call setup_week2()."
      ],
      "execution_count": 1,
      "outputs": [
        {
          "output_type": "stream",
          "text": [
            "--2018-08-28 07:43:20--  https://raw.githubusercontent.com/hse-aml/intro-to-dl/master/setup_google_colab.py\r\n",
            "Resolving raw.githubusercontent.com (raw.githubusercontent.com)... 151.101.0.133, 151.101.64.133, 151.101.128.133, ...\r\n",
            "Connecting to raw.githubusercontent.com (raw.githubusercontent.com)|151.101.0.133|:443... connected.\n",
            "HTTP request sent, awaiting response... 200 OK\n",
            "Length: 2327 (2.3K) [text/plain]\n",
            "Saving to: ‘setup_google_colab.py’\n",
            "\n",
            "setup_google_colab. 100%[===================>]   2.27K  --.-KB/s    in 0s      \n",
            "\n",
            "2018-08-28 07:43:20 (33.6 MB/s) - ‘setup_google_colab.py’ saved [2327/2327]\n",
            "\n",
            "**************************************************\n",
            "inception_v3_weights_tf_dim_ordering_tf_kernels_notop.h5\n",
            "**************************************************\n",
            "cifar-10-batches-py.tar.gz\n",
            "**************************************************\n",
            "mnist.npz\n"
          ],
          "name": "stdout"
        }
      ]
    },
    {
      "metadata": {
        "id": "tO39u1END9QV",
        "colab_type": "code",
        "colab": {
          "base_uri": "https://localhost:8080/",
          "height": 306
        },
        "outputId": "9102e528-cf03-4301-b933-d7535791f333"
      },
      "cell_type": "code",
      "source": [
        "! nvidia-smi"
      ],
      "execution_count": 2,
      "outputs": [
        {
          "output_type": "stream",
          "text": [
            "Tue Aug 28 07:43:37 2018       \r\n",
            "+-----------------------------------------------------------------------------+\r\n",
            "| NVIDIA-SMI 384.111                Driver Version: 384.111                   |\r\n",
            "|-------------------------------+----------------------+----------------------+\r\n",
            "| GPU  Name        Persistence-M| Bus-Id        Disp.A | Volatile Uncorr. ECC |\r\n",
            "| Fan  Temp  Perf  Pwr:Usage/Cap|         Memory-Usage | GPU-Util  Compute M. |\r\n",
            "|===============================+======================+======================|\r\n",
            "|   0  Tesla K80           Off  | 00000000:00:04.0 Off |                    0 |\r\n",
            "| N/A   70C    P8    30W / 149W |      1MiB / 11439MiB |      0%      Default |\r\n",
            "+-------------------------------+----------------------+----------------------+\r\n",
            "                                                                               \r\n",
            "+-----------------------------------------------------------------------------+\r\n",
            "| Processes:                                                       GPU Memory |\r\n",
            "|  GPU       PID   Type   Process name                             Usage      |\r\n",
            "|=============================================================================|\r\n",
            "|  No running processes found                                                 |\r\n",
            "+-----------------------------------------------------------------------------+\r\n"
          ],
          "name": "stdout"
        }
      ]
    },
    {
      "metadata": {
        "id": "BHOWggsjDzh_",
        "colab_type": "code",
        "colab": {
          "base_uri": "https://localhost:8080/",
          "height": 51
        },
        "outputId": "880ab481-9314-4c04-9eab-a568b4ec4e38"
      },
      "cell_type": "code",
      "source": [
        "import numpy as np\n",
        "from sklearn.metrics import accuracy_score\n",
        "from matplotlib import pyplot as plt\n",
        "%matplotlib inline\n",
        "import tensorflow as tf\n",
        "print(\"We're using TF\", tf.__version__)\n",
        "\n",
        "import sys\n",
        "sys.path.append(\"../..\")\n",
        "import grading\n",
        "\n",
        "import matplotlib_utils\n",
        "from importlib import reload\n",
        "reload(matplotlib_utils)\n",
        "\n",
        "import grading_utils\n",
        "reload(grading_utils)\n",
        "\n",
        "import keras_utils\n",
        "from keras_utils import reset_tf_session"
      ],
      "execution_count": 3,
      "outputs": [
        {
          "output_type": "stream",
          "text": [
            "We're using TF 1.10.0\n"
          ],
          "name": "stdout"
        },
        {
          "output_type": "stream",
          "text": [
            "Using TensorFlow backend.\n"
          ],
          "name": "stderr"
        }
      ]
    },
    {
      "metadata": {
        "id": "y6Ow--tcDziD",
        "colab_type": "text"
      },
      "cell_type": "markdown",
      "source": [
        "# Fill in your Coursera token and email\n",
        "To successfully submit your answers to our grader, please fill in your Coursera submission token and email"
      ]
    },
    {
      "metadata": {
        "id": "yTDK_c_CDziE",
        "colab_type": "code",
        "colab": {}
      },
      "cell_type": "code",
      "source": [
        "grader = grading.Grader(assignment_key=\"XtD7ho3TEeiHQBLWejjYAA\", \n",
        "                        all_parts=[\"9XaAS\", \"vmogZ\", \"RMv95\", \"i8bgs\", \"rE763\"])"
      ],
      "execution_count": 0,
      "outputs": []
    },
    {
      "metadata": {
        "id": "346RjR7-DziG",
        "colab_type": "code",
        "colab": {}
      },
      "cell_type": "code",
      "source": [
        "# token expires every 30 min\n",
        "COURSERA_TOKEN = \"r4J7FOdJJ3pVEa4c\"\n",
        "COURSERA_EMAIL = \"xnone0104@gmail.com\""
      ],
      "execution_count": 0,
      "outputs": []
    },
    {
      "metadata": {
        "id": "xPGGp25UDziJ",
        "colab_type": "text"
      },
      "cell_type": "markdown",
      "source": [
        "# Look at the data\n",
        "\n",
        "In this task we have 50000 28x28 images of digits from 0 to 9.\n",
        "We will train a classifier on this data."
      ]
    },
    {
      "metadata": {
        "id": "XMunyiq9DziJ",
        "colab_type": "code",
        "colab": {}
      },
      "cell_type": "code",
      "source": [
        "import preprocessed_mnist\n",
        "X_train, y_train, X_val, y_val, X_test, y_test = preprocessed_mnist.load_dataset()"
      ],
      "execution_count": 0,
      "outputs": []
    },
    {
      "metadata": {
        "id": "uIJw-G9fDziO",
        "colab_type": "code",
        "colab": {
          "base_uri": "https://localhost:8080/",
          "height": 683
        },
        "outputId": "e66ec680-2bc7-4e01-a509-45908065910a"
      },
      "cell_type": "code",
      "source": [
        "# X contains rgb values divided by 255\n",
        "print(\"X_train [shape %s] sample patch:\\n\" % (str(X_train.shape)), X_train[1, 15:20, 5:10])\n",
        "print(\"A closeup of a sample patch:\")\n",
        "plt.imshow(X_train[1, 15:20, 5:10], cmap=\"Greys\")\n",
        "plt.show()\n",
        "print(\"And the whole sample:\")\n",
        "plt.imshow(X_train[1], cmap=\"Greys\")\n",
        "plt.show()\n",
        "print(\"y_train [shape %s] 10 samples:\\n\" % (str(y_train.shape)), y_train[:10])"
      ],
      "execution_count": 7,
      "outputs": [
        {
          "output_type": "stream",
          "text": [
            "X_train [shape (50000, 28, 28)] sample patch:\n",
            " [[0.         0.29803922 0.96470588 0.98823529 0.43921569]\n",
            " [0.         0.33333333 0.98823529 0.90196078 0.09803922]\n",
            " [0.         0.33333333 0.98823529 0.8745098  0.        ]\n",
            " [0.         0.33333333 0.98823529 0.56862745 0.        ]\n",
            " [0.         0.3372549  0.99215686 0.88235294 0.        ]]\n",
            "A closeup of a sample patch:\n"
          ],
          "name": "stdout"
        },
        {
          "output_type": "display_data",
          "data": {
            "image/png": "[encoded data removed]",
            "text/plain": [
              "<matplotlib.figure.Figure at 0x7f6bd4ddb080>"
            ]
          },
          "metadata": {
            "tags": []
          }
        },
        {
          "output_type": "stream",
          "text": [
            "And the whole sample:\n"
          ],
          "name": "stdout"
        },
        {
          "output_type": "display_data",
          "data": {
            "image/png": "[encoded data removed]",
            "text/plain": [
              "<matplotlib.figure.Figure at 0x7f6bd4d99710>"
            ]
          },
          "metadata": {
            "tags": []
          }
        },
        {
          "output_type": "stream",
          "text": [
            "y_train [shape (50000,)] 10 samples:\n",
            " [5 0 4 1 9 2 1 3 1 4]\n"
          ],
          "name": "stdout"
        }
      ]
    },
    {
      "metadata": {
        "id": "1bTlpL7RDziR",
        "colab_type": "text"
      },
      "cell_type": "markdown",
      "source": [
        "# Linear model\n",
        "\n",
        "Your task is to train a linear classifier $\\vec{x} \\rightarrow y$ with SGD using TensorFlow.\n",
        "\n",
        "You will need to calculate a logit (a linear transformation) $z_k$ for each class: \n",
        "$$z_k = \\vec{x} \\cdot \\vec{w_k} + b_k \\quad k = 0..9$$\n",
        "\n",
        "And transform logits $z_k$ to valid probabilities $p_k$ with softmax: \n",
        "$$p_k = \\frac{e^{z_k}}{\\sum_{i=0}^{9}{e^{z_i}}} \\quad k = 0..9$$\n",
        "\n",
        "We will use a cross-entropy loss to train our multi-class classifier:\n",
        "$$\\text{cross-entropy}(y, p) = -\\sum_{k=0}^{9}{\\log(p_k)[y = k]}$$ \n",
        "\n",
        "where \n",
        "$$\n",
        "[x]=\\begin{cases}\n",
        "       1, \\quad \\text{if $x$ is true} \\\\\n",
        "       0, \\quad \\text{otherwise}\n",
        "    \\end{cases}\n",
        "$$\n",
        "\n",
        "Cross-entropy minimization pushes $p_k$ close to 1 when $y = k$, which is what we want.\n",
        "\n",
        "Here's the plan:\n",
        "* Flatten the images (28x28 -> 784) with `X_train.reshape((X_train.shape[0], -1))` to simplify our linear model implementation\n",
        "* Use a matrix placeholder for flattened `X_train`\n",
        "* Convert `y_train` to one-hot encoded vectors that are needed for cross-entropy\n",
        "* Use a shared variable `W` for all weights (a column $\\vec{w_k}$ per class) and `b` for all biases.\n",
        "* Aim for ~0.93 validation accuracy"
      ]
    },
    {
      "metadata": {
        "id": "AmsJssmrDziS",
        "colab_type": "code",
        "colab": {
          "base_uri": "https://localhost:8080/",
          "height": 51
        },
        "outputId": "99390511-2411-42f6-ee23-c77f592ea540"
      },
      "cell_type": "code",
      "source": [
        "X_train_flat = X_train.reshape((X_train.shape[0], -1))\n",
        "print(X_train_flat.shape)\n",
        "\n",
        "X_val_flat = X_val.reshape((X_val.shape[0], -1))\n",
        "print(X_val_flat.shape)"
      ],
      "execution_count": 8,
      "outputs": [
        {
          "output_type": "stream",
          "text": [
            "(50000, 784)\n",
            "(10000, 784)\n"
          ],
          "name": "stdout"
        }
      ]
    },
    {
      "metadata": {
        "id": "_G4t9mroDziW",
        "colab_type": "code",
        "colab": {
          "base_uri": "https://localhost:8080/",
          "height": 85
        },
        "outputId": "910946ee-01e6-4ae2-bde3-069a2fd7bbfc"
      },
      "cell_type": "code",
      "source": [
        "import keras\n",
        "\n",
        "y_train_oh = keras.utils.to_categorical(y_train, 10)\n",
        "y_val_oh = keras.utils.to_categorical(y_val, 10)\n",
        "\n",
        "print(y_train_oh.shape)\n",
        "print(y_train_oh[:3], y_train[:3])"
      ],
      "execution_count": 9,
      "outputs": [
        {
          "output_type": "stream",
          "text": [
            "(50000, 10)\n",
            "[[0. 0. 0. 0. 0. 1. 0. 0. 0. 0.]\n",
            " [1. 0. 0. 0. 0. 0. 0. 0. 0. 0.]\n",
            " [0. 0. 0. 0. 1. 0. 0. 0. 0. 0.]] [5 0 4]\n"
          ],
          "name": "stdout"
        }
      ]
    },
    {
      "metadata": {
        "id": "OHcAjDhGDzia",
        "colab_type": "code",
        "colab": {}
      },
      "cell_type": "code",
      "source": [
        "# run this again if you remake your graph\n",
        "s = reset_tf_session()"
      ],
      "execution_count": 0,
      "outputs": []
    },
    {
      "metadata": {
        "id": "Vs2bLo1aE71J",
        "colab_type": "code",
        "colab": {
          "base_uri": "https://localhost:8080/",
          "height": 34
        },
        "outputId": "82a46215-b4be-4d43-b17a-cd83e78c060e"
      },
      "cell_type": "code",
      "source": [
        "# Get parameters for x and y placeholder\n",
        "(m, n_x) = X_train_flat.shape\n",
        "n_y = y_train_oh.shape[1]\n",
        "print(n_x, n_y, m)"
      ],
      "execution_count": 11,
      "outputs": [
        {
          "output_type": "stream",
          "text": [
            "784 10 50000\n"
          ],
          "name": "stdout"
        }
      ]
    },
    {
      "metadata": {
        "id": "sn0_EqFPDzik",
        "colab_type": "code",
        "colab": {}
      },
      "cell_type": "code",
      "source": [
        "# Model parameters: W and b\n",
        "W = tf.get_variable(\"W\", shape=(n_x,n_y), dtype=tf.float32) # tf.get_variable(...) with shape[0] = 784\n",
        "b = tf.get_variable(\"b\", shape=(n_y,), dtype=tf.float32) # YOUR CODE HERE ### tf.get_variable(...)"
      ],
      "execution_count": 0,
      "outputs": []
    },
    {
      "metadata": {
        "id": "tVQyp5B1JQcA",
        "colab_type": "code",
        "colab": {
          "base_uri": "https://localhost:8080/",
          "height": 34
        },
        "outputId": "a809b5cc-f16e-451a-ff4e-60709ce46479"
      },
      "cell_type": "code",
      "source": [
        "b.shape"
      ],
      "execution_count": 20,
      "outputs": [
        {
          "output_type": "execute_result",
          "data": {
            "text/plain": [
              "TensorShape([Dimension(10)])"
            ]
          },
          "metadata": {
            "tags": []
          },
          "execution_count": 20
        }
      ]
    },
    {
      "metadata": {
        "id": "WI5iO8GSDzin",
        "colab_type": "code",
        "colab": {}
      },
      "cell_type": "code",
      "source": [
        "# Placeholders for the input data\n",
        "input_X = tf.placeholder(tf.float32, shape=[None, n_x]) # tf.placeholder(...) for flat X with shape[0] = None for any batch size\n",
        "input_y = tf.placeholder(tf.float32, shape=[None, n_y]) # tf.placeholder(...) for one-hot encoded true labels"
      ],
      "execution_count": 0,
      "outputs": []
    },
    {
      "metadata": {
        "id": "p40JSBB6Dzio",
        "colab_type": "code",
        "colab": {
          "base_uri": "https://localhost:8080/",
          "height": 85
        },
        "outputId": "e42b2d11-723f-4b2f-ba71-3d42723daef3"
      },
      "cell_type": "code",
      "source": [
        "# Compute predictions\n",
        "logits = tf.add(tf.matmul(input_X, W), tf.transpose(b)) # logits for input_X, resulting shape should be [input_X.shape[0], 10]\n",
        "print(input_X.shape[0])\n",
        "print(logits.shape)\n",
        "\n",
        "probas = tf.nn.softmax(logits) # apply tf.nn.softmax to logits\n",
        "print(probas.shape)\n",
        "\n",
        "classes = tf.argmax(probas, 1) # apply tf.argmax to find a class index with highest probability\n",
        "print(classes.shape)\n",
        "\n",
        "# Loss should be a scalar number: average loss over all the objects with tf.reduce_mean().\n",
        "# Use tf.nn.softmax_cross_entropy_with_logits on top of one-hot encoded input_y and logits.\n",
        "# It is identical to calculating cross-entropy on top of probas, but is more numerically friendly (read the docs).\n",
        "loss = tf.reduce_mean(tf.nn.softmax_cross_entropy_with_logits(labels=input_y, logits=logits)) # cross-entropy loss\n",
        "\n",
        "# Use a default tf.train.AdamOptimizer to get an SGD step\n",
        "step = tf.train.AdamOptimizer().minimize(loss) # optimizer step that minimizes the loss"
      ],
      "execution_count": 22,
      "outputs": [
        {
          "output_type": "stream",
          "text": [
            "?\n",
            "(?, 10)\n",
            "(?, 10)\n",
            "(?,)\n"
          ],
          "name": "stdout"
        }
      ]
    },
    {
      "metadata": {
        "id": "VNyKVzvxDziq",
        "colab_type": "code",
        "colab": {
          "base_uri": "https://localhost:8080/",
          "height": 309
        },
        "outputId": "5cdce33b-f282-4d49-8540-44a3d4623580"
      },
      "cell_type": "code",
      "source": [
        "s.run(tf.global_variables_initializer())\n",
        "\n",
        "BATCH_SIZE = 512\n",
        "EPOCHS = 40\n",
        "\n",
        "# for logging the progress right here in Jupyter (for those who don't have TensorBoard)\n",
        "simpleTrainingCurves = matplotlib_utils.SimpleTrainingCurves(\"cross-entropy\", \"accuracy\")\n",
        "\n",
        "for epoch in range(EPOCHS):  # we finish an epoch when we've looked at all training samples\n",
        "    \n",
        "    batch_losses = []\n",
        "    for batch_start in range(0, X_train_flat.shape[0], BATCH_SIZE):  # data is already shuffled\n",
        "        _, batch_loss = s.run([step, loss], {input_X: X_train_flat[batch_start:batch_start+BATCH_SIZE], \n",
        "                                             input_y: y_train_oh[batch_start:batch_start+BATCH_SIZE]})\n",
        "        # collect batch losses, this is almost free as we need a forward pass for backprop anyway\n",
        "        batch_losses.append(batch_loss)\n",
        "\n",
        "    train_loss = np.mean(batch_losses)\n",
        "    val_loss = s.run(loss, {input_X: X_val_flat, input_y: y_val_oh})  # this part is usually small\n",
        "    train_accuracy = accuracy_score(y_train, s.run(classes, {input_X: X_train_flat}))  # this is slow and usually skipped\n",
        "    valid_accuracy = accuracy_score(y_val, s.run(classes, {input_X: X_val_flat}))  \n",
        "    simpleTrainingCurves.add(train_loss, val_loss, train_accuracy, valid_accuracy)"
      ],
      "execution_count": 23,
      "outputs": [
        {
          "output_type": "display_data",
          "data": {
            "text/html": [
              "<img src=\"data:image/jpeg;base64,/9j/4AAQSkZJRgABAQEASABIAAD/2wBDAAIBAQEBAQIBAQECAgICAgQDAgICAgUEBAMEBgUGBgYFBgYGBwkIBgcJBwYGCAsICQoKCgoKBggLDAsKDAkKCgr/2wBDAQICAgICAgUDAwUKBwYHCgoKCgoKCgoKCgoKCgoKCgoKCgoKCgoKCgoKCgoKCgoKCgoKCgoKCgoKCgoKCgoKCgr/wAARCAEgA2ADASIAAhEBAxEB/8QAHwAAAQUBAQEBAQEAAAAAAAAAAAECAwQFBgcICQoL/8QAtRAAAgEDAwIEAwUFBAQAAAF9AQIDAAQRBRIhMUEGE1FhByJxFDKBkaEII0KxwRVS0fAkM2JyggkKFhcYGRolJicoKSo0NTY3ODk6Q0RFRkdISUpTVFVWV1hZWmNkZWZnaGlqc3R1dnd4eXqDhIWGh4iJipKTlJWWl5iZmqKjpKWmp6ipqrKztLW2t7i5usLDxMXGx8jJytLT1NXW19jZ2uHi4%2BTl5ufo6erx8vP09fb3%2BPn6/8QAHwEAAwEBAQEBAQEBAQAAAAAAAAECAwQFBgcICQoL/8QAtREAAgECBAQDBAcFBAQAAQJ3AAECAxEEBSExBhJBUQdhcRMiMoEIFEKRobHBCSMzUvAVYnLRChYkNOEl8RcYGRomJygpKjU2Nzg5OkNERUZHSElKU1RVVldYWVpjZGVmZ2hpanN0dXZ3eHl6goOEhYaHiImKkpOUlZaXmJmaoqOkpaanqKmqsrO0tba3uLm6wsPExcbHyMnK0tPU1dbX2Nna4uPk5ebn6Onq8vP09fb3%2BPn6/9oADAMBAAIRAxEAPwD9/KKKKACiiigAooooAKKKKACiiigAooooAKKKKACiiigAooooAKKKKACiiigAooooAKKKKACiiigAooooAKKKKACiiigAooooAKKKKACiiigAooooAKKKKACiiigAooooAKKKKACiiigAooooAKKKKACiiigAooooAKKKKACiiigAooooAKKKKACiiigAooooAKKKKACiiigAooooAKKKKACiiigAooooAKKKKACiiigAooooAKKKKACiiigAooooAKKKKACiiigAooooAKKKKACiiigAooooAKKKKACiiigAooooAKKKKACiiigAooooAKKKKACiiigAooooAKKKKACiiigAooooAKKKKACiiigDxPxd/wAFFP2PvAmoXmn%2BK/ipc2gs9UbTReHwpqj2l5eLfw6fJb2lwlsYb2SO7nigkW3eQxOxD7drY2j%2B2f8As6R%2BObL4c3XjHUbfVLy6sLNlu/Cmpw29le3sUctpY3dw9sIbG8lSWIraXDxzkzRjy8uoPiVz%2Bxn%2B1bH4C8N/s66Zqfw9HgXwn8W9N8V22tXOo3r6rqtnb%2BLrXWxbyQC1EVrLHAlxFvEswuJFiJ%2Bzqzbeh8cfsffGzXfGPi3wPoup%2BFv%2BEA8c/F7QfHuq61dalcrrOnvp8mlTyWEVqtu0Mwll0mLbcNcRmJLhh5TmNSwB6Fa/t1fsv3cGr3w8f30Nno2n3N7LqV54U1OC0vYLedLeZ7G4ktli1HbNJHHi1aYlpEAB3rns/hT8ZfAXxp0m91fwJc6njTdQNlqVnrfh690q8tJxGkuyW1voYZ48xyxupZAGVwQSDmvmbTf2IPj5a6t4mtbTwl8ONN8MazoOp22reBV8Za1feHfFN5cXcEsdw2mTwCPQGCJcEvZyTnzLkMRL5Q3egfs4/sm%2BOvDGmXP/AAu3xl4hhgsfFa6n4L8M6H8ZPEOpQaLbC3tla2mvpmtZtTheeGSUQXUbxRLKY1BQnIB0kX7eP7Kk0fiC6HxNlW18N6Jqur32oy%2BHdQS0urLTSRfzWVw1uItSFuRiQWjTFSQCMkZ5vx3/AMFL/wBmXwh4Vl8TaPd%2BJtceDxF4b0yXTdP8Dav9qeLW78WdnfwxNaB7m1crO0c8IeOZoTFEzyvGjeKaH/wSx%2BI%2BjfBrXPgl5eiXX9m/DfxR4c8C%2BK9W%2BK/ia/LzajZT2VtI%2Bkz5sdLUQzFZjALjJGY0j4A7z4//ALEPxs8d%2BOH%2BIfw%2B1Pwo9zp/hz4cxaTp2r6nc20dzfeG/FE2szxSyRW0phhlidIklVJGDliYsAbgD1V/25/2ZFtteu4/G%2BpzJ4b8Sf8ACPakLbwfqsrPq/nPCdOt1S1JvLsOhJggEkgQrIV2MrGpqn/BQX9lDSbTRp5PH%2Bq3U%2Bv2Wq3WmaXpfgnWLy/ZNMuIrfUFks4LR7iGW3lmRZIpI1kT5iVwjleFtv2OvjToXha08QaFfeFZvFegftCaz8R9G0y61O5j0%2B%2Bgvl1C3NnPcrbNJDILbUZSJFhlCyxJ8rCvMNI%2BEf7S3wX/AG5vCGqeD9N8Dav478U%2BA/iX4l1jSNT128tdItftmt%2BFwlvBdpZyzN5Srb5kNuvnFZfli8wbQD6jsf2yP2adU8Gaz8QtK%2BKVvd6PoNxpMGoXtpY3MoLapDaTaeYVWMtcrcJfWvlvCHVmkKZ3I6r6bXwN8Nv2Q7XwR%2B1Z8Ff2dvBXxLsNdsPh58M9Ff432dmnD3ugLu8PPKqki2klutRnuUjf52i06PGVQGvvmgAooooAKKKKACiiigAooooAKKKKACiiigAooooAKKKKACiiigAooooAKKKKACiiigAooooAKKKKACiiigAooooAKKKKACiiigArzb4q/tdfs/fBPxlH4D%2BJPje4stR%2By2l1efZ9Bvru3023urh7a2nvbi3geGwilmjkRJLl41YxvgnY2PSa%2BQ/28f2Kv2o/2pNZ8Z6N4R%2BIWn/8I5rvhC0s/DFtqHxB1rSoNGvoXnkm8/TtPi8jU47ljApluZG8hVJWCXbscA9gh/br/ZUku9btpviqtrFoGn6hfXeoahot7bWVzb2EywXslndSwrDqAhldI3%2ByvKVd1U8sAdDwJ%2B2B%2Bz78R/EmneC/DXjC%2Bj1vVNTutPt9D1fwzqOnX0Vzb2kd5LHPb3dvHLbH7NLHMvnKgkSRShbIrwzQ/wBjX9rW8/ZXP7IXiDWvh5pWgaLpEn9ga1ZX99qF3qF9FqUN9YC5R7e3W2hjMRinKNO1xuDqIOYz1/jH4S/tp%2BNfiB4H%2BPWqaH8ME1/wZ4l1CS08HQeJtQWzGmXel/ZHLambAyTXAnHnAfY408s%2BVnK%2BawB2uh/t0/steJddsPDmh/EuW4utR0KfWotnh7UBFDpsM9zbzXk8pg8u1gSa0njaSZkUMEBP72Le3w9%2B3Z%2By74m8J6741sviFe21l4dsdPvdSj1fwrqdhctbX8jRWM0Ftc20c13Hcyq0UDQJIJpAUjLN8teO/s%2BfsI/tK/Bjw3q7xfFHwvY%2BKLj4J3fhXR/EWlxzSrY61Jq2rX0V6IZYgDAn263baWJ3RuuCAGbkrH/gnN%2B1HceNNR%2BImoa74div59G8Iz2dvrXxT1/xIw1jw7r39rQrLc6hbB/st3vlR/JSJbU7WjgmJY0AfUHw9/bC/Z2%2BJ%2Buy%2BF/Cnj%2BRdTttLvdQvdN1fRL3Tbizgs5Yorrz47uGJoHia4ty8UgWRVnicrskRj2nw98e%2BFvip4C0T4m%2BBr%2BS70XxFpNvqWkXU1nLbtNazxrLE5imVJIyUZTtdVYZwQDxXxx%2B3H8PfjP8Ybb4c/D3xh4x8IaH8UvFXjTUNFj8PeD724unh8D6lZNaa0vnSpDLMYoUS7N2YYIxPDbRBdxQyfbOnadYaRp8Gk6XZx29rawrDbW8KBUijUAKqgcAAAAD2oAmooooAKKKKACiiigAooooAKKKKACiiigAooooAKKKKACiiigAooooAKKKKACiiigAooooAKKKKACiiigAooooAKKKKACiiigAooooAKzPFWs3eh6el3aJGzNMEIkUkYwT2I9K068t%2BMnxZbQvjP4P%2BCTaUjR%2BJvDut6uL4ykNE%2BnzabEIguMEOuoOxOePJAwd3C54QlHn2bS%2Bb0R04XB4jGylGiruMZTf%2BGEeaT%2BS1tu%2Bh0H/AAsPWv8An1tf%2B%2BG/%2BKo/4WHrX/Pra/8AfDf/ABVYNFd3s4djjuze/wCFh61/z62v/fDf/FUf8LD1r/n1tf8Avhv/AIqsGij2cOwXZ0j%2BO9YXT4rsW9tueaRCNjYwoQj%2BL/aNQ/8ACw9a/wCfW1/74b/4qsub/kC2/wD19Tf%2BgxVVpKnDsF2b3/Cw9a/59bX/AL4b/wCKo/4WHrX/AD62v/fDf/FVg0U/Zw7Bdm9/wsPWv%2BfW1/74b/4qprrx3rEEFvKtvbEzQl2yjcHey/3v9kVzdWtQ/wCPSx/69T/6NkpOnC%2BwXZqf8LD1r/n1tf8Avhv/AIqj/hYetf8APra/98N/8VWDRT9nDsF2b3/Cw9a/59bX/vhv/iqP%2BFh61/z62v8A3w3/AMVWDRR7OHYLs6S%2B8d6xazrElvbEGGN%2BUbqyKx/i96h/4WHrX/Pra/8AfDf/ABVZesf8faf9esH/AKKSqtJU4W2C7N7/AIWHrX/Pra/98N/8VR/wsPWv%2BfW1/wC%2BG/8Aiq4bx98S/hz8KdCHij4o%2BP8ARPDWmGdYBqOv6rDZwGVgSqeZMyruIU4GcnB9K4v/AIbd/Yv/AOju/hf/AOF9p3/x6sKtfA0ZctScYvs5RT%2B5yT/A9XB5Fn%2BY0fbYTCVqsL25oUqs43W65oUpq66q911SPbf%2BFh61/wA%2Btr/3w3/xVTaj471iz1Ce0jt7YrFMyKSjZIBI/vV4Z/w27%2Bxf/wBHd/C//wAL7Tv/AI9Xe%2BGfid8Nfi3Dd%2BLfhT8QtD8T6UdQliGp%2BHtWhvbcyA5KeZCzLuAZSRnPI9aVOvga0%2BWnOMn2Uot/cpNhjMiz/LqHtsXhK1KF0uadKrCN3suadKCu%2Bivd9EzsP%2BFh61/z62v/AHw3/wAVR/wsPWv%2BfW1/74b/AOKrwjxh%2B2d8G/h98Vtc%2BFHjX%2B3rO60SHSB9rg8LahdRXtzqBuPItYPs8D%2BdKRBwqZLM5UAsjgWde/a5%2BDml6he6Dba9LHqVjfwW7Q6zompWUNyH1O302R7aZrRlu1S4uIoy0O9A8kYd41fzB0clPseVdnt3/Cw9a/59bX/vhv8A4qptO8d6xeahBaSW9sFlmVGIRsgEgf3q8U%2BH37WfwJ%2BKeovpXgLxNqWoTrbC5iVfC2pRi5h%2B1C1eWBpLdRcJHOwSVoiwhJzIUHNZnxy/auv/AIE%2BKr1dI%2BHMWu2Pg/wk3i/xzdS62bSSw0iOZ13W0Ygk%2B1TstvduImaFcW%2BPMBcCk4U7bBdnvH/Cw9a/59bX/vhv/iqP%2BFh61/z62v8A3w3/AMVXi/7S3xt8d/AnwVefEHwz8LLPX9I0XQdQ1jxFqGoeJk06K0t7VEfyY/3MzzXMoZ/LQqkX7p980ZKB/PZf28rz7X8T5IPBvhDyvhvpurXj6LcfENo9fvksrFLredO%2BwnyInZxGZDK2zk4Y/LTcKa6Bdn1V/wALD1r/AJ9bX/vhv/iqP%2BFh61/z62v/AHw3/wAVXyfr37empaB4E8K%2BMZrP4Ryp4p8Wy6KNRh%2BM5Oj6b5emXN8zXN9/Zn7ubNv5Xk%2BWeZFO8fdro/DP7WuseIv2hm%2BAkmk/D60mtrPTpp3n%2BJbfbb43Np9pkOn2n2DN7FGMgSGSLcBuKp0o5aXYNT6TsfHesXU7RPb2wAhkfhG6qjMP4vaof%2BFh61/z62v/AHw3/wAVXgPw/wD2q/FXxS%2BIHxA8HfCL4ZaTdx%2BDbS1l0/WfEfiqTT7PWbef%2B0ILidGis7hokimsJ0VirCYDeCqFWbjdJ/bx8aXXhS28Zar8CLG3stP8M6d4k8YyReLpH/s/R9Q1C7trK4tQ9kjXbtb2cl3JFKLZokZUy7nFLlp32DU%2BsP8AhYetf8%2Btr/3w3/xVH/Cw9a/59bX/AL4b/wCKr5Q0T9vm91TwT498fyeD/Bb23gm91O2m0nTviQbjVIBa6tJpwutQtvsKjT7UrFJcvNvl8uJSQsmDWba/8FGbnV9Q8LaRpHhn4cQHxIfEIg1/Wvi0bTQ7ttLutMtgNPvhp0n2/wA59SwP3cW1rWZRvwDRy0uwan2D/wALD1r/AJ9bX/vhv/iqmtvHesTwXErW9sDDCHXCNyd6r/e/2jXy7H%2B2/e3nx81v4EaJ8LLXVNT0qTU4YNE07xXF/brtaWa3KTz2EsUcdrZ3BZIobl7gqzzwbgoclJ7v9sb4jeGvB/jm%2B8TfCjwdpV54F1OCx8W6jq3xOFtoOnxS2trdxub%2BSxEjTM1xBD5AtuHkU78MpYcadtg1PpX/AIWHrX/Pra/98N/8VR/wsPWv%2BfW1/wC%2BG/8Aiq%2BY9E/bgv8AV72z129%2BDk%2Bk%2BFY9V0LRvE2o6xrHk6jo%2Bq6rYWl5DbtZCAq6RjULGKSQzKyvM2EYRkno/wBk79qI/tR6BdeLbLw/oVnpps7K8046R4yh1O4jjuVkdYL%2BBI0awu0jWNnhPmKPNAWVyrhXyU30C7Pef%2BFh61/z62v/AHw3/wAVWz4S8RXuvfaPtkUS%2BVs2%2BUpGc7uuSfSuIrqPht/y%2B/8AbP8A9mqakIKDaQ03c6iiiiuUoKKKKACiiigArmfEHjLVNJ1ebT7eC3ZI9u0ujZ5UHs3vXTVwfjP/AJGW5/4B/wCgLWtKKlLUT2LX/Cw9a/59bX/vhv8A4qj/AIWHrX/Pra/98N/8VWDRXR7OHYm7N7/hYetf8%2Btr/wB8N/8AFUf8LD1r/n1tf%2B%2BG/wDiqwaKPZw7BdnSaj471iz1Ce0jt7YrFMyKSjZIBI/vVD/wsPWv%2BfW1/wC%2BG/8Aiqy9c/5DV5/19Sf%2BhGqtJU4W2C7N7/hYetf8%2Btr/AN8N/wDFUf8ACw9a/wCfW1/74b/4qsGin7OHYLs6TTvHesXmoQWklvbBZZlRiEbIBIH96of%2BFh61/wA%2Btr/3w3/xVZeh/wDIas/%2BvqP/ANCFVaXs4X2C7N7/AIWHrX/Pra/98N/8VR/wsPWv%2BfW1/wC%2BG/8AiqwaKfs4dguze/4WHrX/AD62v/fDf/FVNY%2BO9Yup2ie3tgBDI/CN1VGYfxe1c3VrR/8Aj7f/AK9Z/wD0U9J04W2C7NT/AIWHrX/Pra/98N/8VR/wsPWv%2BfW1/wC%2BG/8AiqwaKfs4dguze/4WHrX/AD62v/fDf/FUf8LD1r/n1tf%2B%2BG/%2BKrBoo9nDsF2dJbeO9YnguJWt7YGGEOuEbk71X%2B9/tGof%2BFh61/z62v8A3w3/AMVWXp//AB6X3/XqP/RsdVaSpwvsF2b3/Cw9a/59bX/vhv8A4qj/AIWHrX/Pra/98N/8VWDRT9nDsF2b3/Cw9a/59bX/AL4b/wCKqZPHesNp8t2be23JNGgGxsYYOT/F/siubq1D/wAgW4/6%2Bof/AEGWk6cOwXZqf8LD1r/n1tf%2B%2BG/%2BKo/4WHrX/Pra/wDfDf8AxVcNr/xL%2BHPhRmTxR4/0TTSv3hqGqww4%2Bu9hXL3H7Xf7J9pcmzu/2n/h3FMOsUnjWwVh%2BBlzWM62CpO05xXrKK/OSOepjMLSdqlSK9ZRX5yR7D/wsPWv%2BfW1/wC%2BG/8AiqP%2BFh61/wA%2Btr/3w3/xVeQn9rH9lgR%2Bcf2lvh%2BE/vnxlY4/PzaoX37bP7G2mruvv2sfhtH/ALJ8cWBP5CXNQ8Vlsd6sP/Ao/wDyRm8xwEVd14L/ALfh/wDJHub%2BO9YXT4rsW9tueaRCNjYwoQj%2BL/aNQ/8ACw9a/wCfW1/74b/4qvnrXP8AgpZ%2BwToujwpeftXeDZGS4lZls9UFwQCseDiIN6H8q43Uv%2BCwn/BO6wm%2By237QH2%2Bc/dg03wxqc5b6Fbbb%2Btcs82yOn8eIpr/ALfj/wDJM5amf5JS%2BPFU1/2/D/5Jn1v/AMLD1r/n1tf%2B%2BG/%2BKo/4WHrX/Pra/wDfDf8AxVfGl9/wWM/ZMt1L6X4e%2BImpJ/C9j4EucN9PM2Vzus/8Fy/2W9Dybz4O/FvaP4z4RgQf%2BRLpa558Q8O0/ixEPvf6RZvh8zwmMdsM5VP8EKs//SKMz7t/4WHrX/Pra/8AfDf/ABVTXXjvWIILeVbe2JmhLtlG4O9l/vf7Ir863/4OEv2OVYqPhZ8TeDj5tJ04H8vt1Jq3/Bwv%2By1eWtvH4b%2BDfjyeSGAow1D%2BzbVSd7twftb8YYdq53xXwsv%2BYqH4/wDyJ60cHm03aOCxLflhMY//AHTP0P8A%2BFh61/z62v8A3w3/AMVR/wALD1r/AJ9bX/vhv/iq/M%2Bf/g4b%2BFNpKVuf2cNeKk/KYPEdnKx/Bc4/OnX/APwXm1jxDGsXwh/Yc8XazJIMCS61BkVT67YLaUsPxFZ/638LdK6b7KM2/uUTr/sLinRf2XjLvb/Y8Ur/APgVCC/8mR%2Bl3/Cw9a/59bX/AL4b/wCKrpvD%2Boz6tpEOoXCorybtwQEDhiO/0r8n7X/gq1/wUp1qbd4c/wCCbOr3cLnKPD4c1lgB2yxhUfjxX6LfsR/Ej4rfF39l/wAMfEP43fDGTwb4o1EXh1Pw3NFIjWey9njjysvzjfEkcnP9%2BurB55l2Z1HTw6ndK95U5xVvWSS67bkYnKc8y9KWOwdWjF7OpGMde2lWbv5OK9VserUUUV6JxhRRRQAUUUUAFFFFABRRRQAUUUUAFFFFABRRRQAUUUUAFFFFABRRXif7Oa%2BKNM/aT%2BNvhrXPiLr%2BvWtvrWk3enxa3qHmx6etxZGRoLaNQscES/KoVFBbZucvIzuwB7ZXzF%2B1hq/9m/t8/s/2e7H9oeFfHFvj1wmjy/8AtOtn9jvStfuviF4o8Y%2BEviL4y8Q/D1tLtNN0/WvGniGe/k8RazBPc/bdUtEkOy1tWDxRKLdIbeZo2aKJYkikl4X9um5ex/4KK/snzyTrFb3DeOLSaV84DPpdsyDgE8tHXn5lP2dCEv8Ap5S/GpFfqfbcA4dYrOq9J9cJjX92Eqy/9tPbqKtf2faf9By1/wC%2BJf8A4ij%2Bz7T/AKDlr/3xL/8AEV790fClWirX9n2n/Qctf%2B%2BJf/iKP7PtP%2Bg5a/8AfEv/AMRRdAE3/IFt/wDr6m/9BiqrWnLY2p0iBP7YtgBcykNtlwflj4%2B5n/8AXVb%2Bz7T/AKDlr/3xL/8AEUk0BVoq1/Z9p/0HLX/viX/4ij%2Bz7T/oOWv/AHxL/wDEU7oCrVrUP%2BPSx/69T/6Nko/s%2B0/6Dlr/AN8S/wDxFWb6xtWtrMHWLYYtiASsvzfvX5Hyfhz6Um1dAZlFWv7PtP8AoOWv/fEv/wARR/Z9p/0HLX/viX/4indAVaKtf2faf9By1/74l/8AiKP7PtP%2Bg5a/98S//EUXQBrH/H2n/XrB/wCikqrWnqtjatcqW1i2X/RoRhll/wCeS88J361W/s%2B0/wCg5a/98S//ABFJNWA5rx98NPhz8VtCHhf4o%2BANE8S6YJ1nGna/pUN5AJVBCv5cysu4Bjg4yMn1ri/%2BGIv2L/8Ao0T4X/8AhA6d/wDGa6P4%2B/Hv4Ifsv%2BBF%2BJfxz%2BJtroeiNfR2a3v9mX1zmdwxRNlvBI/IRucY45PSvFf%2BHxX/AATM/wCjrLX/AMIzXv8A5Arycbi8go1%2BXGTpKdl8fJe3T4k3bsaR42r8Pr6pDNJYdfFyLETpLXryxrQWtt%2BXW27sej/8MRfsX/8ARonwv/8ACB07/wCM13vhn4Y/DX4SQ3fhL4U/D3Q/DGlDUJZRpnh7SYbK3EhOC/lwqq7iFUE4zwPSvnv/AIfFf8EzP%2BjrLX/wjNe/%2BQK9w%2BCf7QnwN/as8K3PxW%2BA/wAS7bW9CfVZ7b7Y2l3tqRMu1mQpcQI/AdecY54JpYLF5BWxHLg50nOz%2BDkvbr8KTt3CXG1fiBfVJ5pLEL4uR4idVadeWVaa0vvy6X3VzgfHP7Kmp%2BMf2gE%2BMsPxGt7WwN9oN7caK%2BhNLM9xpjX2wrcfaFVUkS9IKmJirRhgxB2jzKP/AIJkX0fj2Hx0vxi0VbgXc51C8j8BBdQ1WB/EGna0hvLv7ZvuLhH05YBKw2COQ7YUIO73LxR%2B0l8OvCXjK/8Ah/qUeovq9l4j0rSYbGCzDPfC/haaO7gBYbreNIrwyFtrj7Bc7Ufam/xvV/8Agpf4D8R6ZZaj8MVihNnr09t4pttRNpqU1vZjw3reqwyw/wBnXzwmUy6UIzDJMjgB1dY96SD1nyEanf8Awt/ZU1b4T6n4R1nQ/iRbXFx4V8J6loWLrQWKXSXmp2d7JLhbgFGVLVolGWG6UOchDG9r45fsoXvx38VXjaV8Rk0Kx8YeE28IeObWTRvtT6hpEkzsVt5BNH9lnC3F2glZZVAuCfLJVTXOv%2B2jP4g%2BJ3gfwR8PPAOp3%2Bma54tvdG1XxDdWMUdteS23h%2B/1KS2sv9K3xzrcW8MJM6CI/vlV22%2BYvoHxU8e/EjS/iJ4C%2BFvwg1fw7p%2Bv%2BLJry6e/8TaXc3tvZW9nCjuhhgmgMkjSzQICJgqqXb5sAFNx5WGtzA%2BOfwH%2BLfxd1/w1f6f8VvDFrpfh3U7i/fw9rPgm5vrO/uA8ZsZZlj1KAu1rtkZQxaNpXSXYjwx7aPi79l74iePfGtt4g8TfGjS1sdJ1DUdU0CLTvAsEV5bX93pVxppaaaSaSK6gRLqZ1heDcxWESSSCM79XS/i941%2BJX7K/g/4/%2BDPFXgrwh/bvh%2Bz1vxLqHjFLq5s9Bs3smuJ22RGH7QySBY/mmhUKzSljsEb%2BcfC79rX4weK/iB4a0/4q6toHgPSdV8O%2BGrlodT%2BG%2Bt3H22/1F7hHthqCzJb6c7NHAkUVyjSb7hUId/lptxDU6vSv2ZvjPo2uap8R7H42%2BFl8XaxqNpJezn4bFtJa2t7KW0jjWzN/56S4lZjOt0CQFjKmMbaztM/Yf1bTfCfhP4Rf8Ldgm8EeGToEzWLeF0i1aafSfLaHytQgnj8iJ5IUZk8l3VWljSREcKnOeKv28PGNlrXxAudC03QU8PWSeDofhvqs2n3t1JqX9s6zqGlS6hLDB889ur2fnQQwhZJ4lUq5Nwgjkuv2vPiHb6t4c/tH4v8AgjT/AA7JoupXPiTxivwp8RXdpFcWuqfZDDPH50T6MVjBMwuyywyKylyq5K5oBqdNoH/BPfwT4VsfiP4e%2BFnxA1/Q7Lxx8K4/B2n219rmpaomiW8Nvfp5kQu71ww2XSrGg2eT5TbGHmuK1vjF%2BybP8TPF1/qWg%2BPoNE0TxL4f0rQ/Gei/2H57X2n6fdz3EMdtKJoxaMy3dzDIzRzAxuu1UZA1Z3wj/aB%2BMfjP4h%2BMvBVz4v8AB9prtvc%2BKbLwR4S1jwJremrqAsZ5oLec6tJJJb3SGMRSypbwlwsuQFxzj3/x7/aDPwi8c%2BNtF%2BJHw9urjwX4sl0PSdVtvAuoS2fjC5aGzSC3s4v7SQ28g1G4l09maaVGlhP3MMoV4XDUtfEP9ifxd8VdabVvGvxp09/7JjvB4Q/s/wAFR2z2zT6tZamPt5W42X6CTT4I2jRLYSo0pfc7B1XWv2OPibqvhHxJoEXxx0CO58dSax/wmkk3w8WW2kTUILa3f7DE155lm6xWq/6yW4jkd3kkjc7dvWaL48%2BO0X7RFt8EPGGq%2BB4ra7%2BGc2rW2q6dY38jPqkEtlDLI0bsuy2Ml1JtgDM%2B2JWM4L7V818TftR/HjwLcz6NrfjrwTqSar8Sk8HeGfEWj/DbWZUWa20y8v8AU5zp9ve3FxfKj2pskSJ43E8czMDGmad4Bqbdv%2BxL4z8O6o03gP462%2Bm22larrOt%2BD5brwp9qv7DV9Q0%2Bez866uGulW%2Bt4vtEki2/lxFikKtKREM7vw7/AGaPjv8ADv4ZQ%2BDPBnx38K2M2mGaSdv%2BFe3M1rrKXBAnfUI5tVea5uXmYT/aBOhLbw6yB%2BODH7bXj%2Bb4m%2BEvDOma/wCC9S03V4fCa3Fxo%2Bg6pcWmoHVZniuJ01MskGl%2BVtLQ2t5GZ7kqsUeXlXbV8F/t1/Ee0%2BATeLvHnjLwynjbXIfD9ta%2BEz8Lde059GfUdRit3uGSed5NXii/eALaBTJJEIgytKCqcoWHqdJ4J/YAtPAtjpHgDTvim914HtbzQNR1rQr/AEXfe6lqOkadaWFtL9rWZViiZdPsZHiELEvbna6K5Wuq/Zt/ZYvPgJrA1LUvHlrq8eneC9L8JeH4bHQPsH2fStPedoPtJ86QXNwfPIaRRFH8p2RJubPl3xE/b08U/Drwtb%2BLtT%2BInw9aw0zwpf6zfXUmgapbt4pms9Rnt7jS7CG4kjlsL6GGDdNDOtw0MkwUgpE8lQePP29Pij4ZvfGGjaPeeDrzXrSHxZHoXg2DQtQn1PSJtJuTHaS36pMDcRXturXUaxpAdrIEaYFpA%2BaCFZn1xXUfDb/l9/7Z/wDs1eS/s9%2BOR8SvCV9ear8V9E13UdN1iSy1H7B4K1PQHsZBHFILeeyv3lnik2SJIC5UPHLGyrtIZvX/AABbxQfa/Kvops%2BXnyg4x97ruUUqjTpsFudHRRRXIWFFFVdd1vSfDOiXniTXr%2BO1sdPtZLm9uZThYYo1LO59goJP0oAtUV434W/bd%2BGWs%2BAPFvxD8WeD/FHhO28G%2BDLfxdqdl4isYPtMuhzw3MsF7ElrPNkSCzuVETFZleIq8aErmW3/AGuRe6fcWmn/ALOfxGufE9lrS6bqHgmCz01r6zLWX21LiWf7d9hjgaEja5ufmkPlAGQFAAev1wfjP/kZbn/gH/oC1v8Awu%2BI/hX4xfDPw78XPAt3JcaJ4p0K01fR55YjG0lrcwpNEzKeVJR1JB5HSsDxn/yMtz/wD/0Ba2ofGTLYy6KKK6iQooooAta5/wAhq8/6%2BpP/AEI1Vq1rn/IavP8Ar6k/9CNVaS2QBRRRTAtaH/yGrP8A6%2Bo//QhVWp9Mubez1O3u7udIoop0aSWRgqooYEkk8AD1rwf4r/8ABST9ib4O3LaV4l%2BP2jX%2Bpb/LTSPDbNql00naPZaiTYx9HK1zYnGYTBx569SMF/eaX5vX5XObFY3B4Gnz4ipGC7yaX5vX5JnuNFfLB/bq/af%2BLg8j9ln9gDxhdW8vEXiL4lXcWgWijtKsTlpJ0/3SCRSJ%2By7/AMFAfjkwu/2jv21h4LsJOX8M/BfTjZsmfTUbgGcEdCNpFcH9sQraYSlOr5pcsf8AwKfKvuUjzf7bhX0wdGdXzUeSH/gdTkX3RkfU000NvE09xKscaKWd3bAUDqST0rzTxl%2B3V%2Bxx8IruVPiD%2B0v4NsZkt5le0TXIp7hSY2ABhhLSDnj7teQ6r/wSo/Y0s7M6/wDHvxf418YwQkNNe/EH4jXbpnOcuyPEv58VX0v4mf8ABFz9lKR5NO1L4Q2NxbW8q%2Bbo9hDq16reWwCl4EmmznHBPWubE5hmVGN6vsaK7zqOT%2B5KC/FnsZTkfiDxJU9nlWXub29yNau/uo0uVP1mjTm/4K7fsi6tK1r8KIPHPj%2BdW2iDwZ4Dvrhmb%2B6PNSIE/jimf8NwfteeOcf8KW/4Jm%2BOJon%2B5c%2BPfEFnoBQf3mil3sf90HNMt/8AgpbH41jSz/Zi/Y0%2BK/jmALi31NPDg0rS2XttuLgjH0KDipf%2BF3/8FUPG3/IpfsS%2BCPBqv/q5fGfxEW%2BwOxZLFQR9OtcP9oVq%2B2KlL/rzQbXylJSX4/M%2BqfhH4hx/5GmMoYPuqlXCUJL1jOtXqr0dJPukxP7W/wCCwPjr/jx8JfBDwLbP97%2B0r/UNTvI/93ycRE/Wgfss/wDBRjxUftfjX/gpQulHqth4V%2BGNikSH/rrK29h7EUv/AArH/grZ41H/ABUn7Tvwp8E7/vf8If4Mn1Ix/T7ewz%2BNJ/wwH%2B0L4uGPi/8A8FLfirfh/wDXL4PitdADeoHkq%2B0Uexr1v%2BXOIn/jqxpr7oyX5MX/ABDDhijrmfE1J91Tli67%2BXsaGHg//AyZP2Nf217SxvLyT/gqp4mt44rcNI83gHTNhHmIMHLcDJB/CuE8UeFvjl4HRk8Yf8FztB0mJP8AWLqXhDw/C49gzzgg/hXoGlf8EgP2LNVFxqPxQ0TxZ46vIIA8d54v8cX9w4fzEUsRFLGp4J6jHNdb4Y/4JyfsJ%2BEGR9I/ZV8GSFPunUtHS9/9KN%2BaSynMJv3aah64ivL/ANJsvxH/AKo%2BDmF%2BPMMwrP8A6dwVJP0dbFzf3wXofIviz42fCXQGaHx1/wAF1fFN8c4ZPCfhqNix9FNnDKKwh4x%2BBPik%2BdpP7VX7cnjxW6N4VFzHA/0RoE61%2BkfhT4WfDHwGqp4H%2BHOg6MFGFGk6PDbgfTy1Fb1P/VvE1P4lWK%2BVWX4zrr8hfUfBrD/BlOLxHnWx8op/9u0aen/gbPy%2BHgLwDr//ACCf2Yf259cdvuy%2BI9Vlslf33GXp74qQfsf%2BMfGlk8Gjf8Ewfihq0LSoGm8eftB/Y4EyG%2B/Erh2zjoCCMH1r9PatQ/8AIFuP%2BvqH/wBBlpPhHDS/iVL%2BlOC/NzD2/hjR/gcK4d/9fcRja33r2tJP0eh%2BZ3h7/glv8fZVWXw/%2Bxp%2BzT4Zg7QeJdb8QazdL/wLzmjauqt/%2BCVv7QuqW32LUbf9m3QYz1k0f4MxXsi/Q3YyfxNfftFdEOEMngrPmfzS/wDSaaOinxRlmGVsJkOWUl0tgKU399WdVv5o%2BAYf%2BCHl5qsnn%2BMP2j/DblvvR6J8DNDslX2BAb88VftP%2BCBH7OF1Is3if4x%2BMZXByW0ay0rT/wAtlo2K%2B76K0XCHDi%2BLDqXq5P8AVFLjnO6Tvh6WFpf9e8DgIflgpHyJo3/BD79jrQ9LgnfxT8RrxjPIjfaPGBQEKqEf6qJP7xrYg/4I4fsFuoTXfhzrmrL3XUfGupkH67J1r6tm/wCQLb/9fU3/AKDFVWumHDmQQVlhYf8AgN/zbOij4lcfYV3w2Y1aT/6dclL/ANM0aR86aZ/wSW/4J36SALX9mXS3x0%2B06pfT/wDoyds10Ol/8E4/2EtHINp%2Byn4KfH/P1oyT/wDozdXtVFdMMmyen8OGpr/tyP8A8iYYjxF8QcV/GzjFS9cRX/8AlqPNrD9jX9kLS1C6b%2Byv8OINvQxeCLAH8/Krol/Z4/Z/0a2sn0f4GeDrQm2JJtvDNpHz5sg/hjHpXT1a1D/j0sf%2BvU/%2BjZK6FgsHBrlpRXpGK/8AbTx63EXEWIv7XG1petas/wA6rMbSvCnhfQsf2H4bsLPHT7JZpH/6CBV%2BiiulRjFWSseTUqVKsuacm33bbf3tthXeeDP%2BRatv%2BB/%2BhtXB13ngz/kWrb/gf/obVlX%2BAmO5qUUUVylhRRRQAUUUUAFFFFABRRRQAUUUUAFFFFABRRRQAUUUUAFFFFABXC6D%2By/%2BzT4W8aXHxI8Mfs8eBdN8RXc7T3ev2HhKzhvZpS28u86RCRmLfMSTnPPWu6ooA474Yfs7fs/fBGaW5%2BC/wL8HeEJJ7ZbeeTwv4YtNPaSFTlY2MEa5UdlPAr5t/wCCmaf2X%2B0l%2By34u6eR8T7zT93p9qsSmPx2V9h18gf8Fdh/Ztl%2Bz34tXj7B%2B0p4bjlb%2B7FKl0jn9BXl5zpl0pdnB/dUpn6B4X%2B9xtQpf8/IYmH/AIHhMWv0R7fRRRX0h%2BdhRRRQBam/5Atv/wBfU3/oMVVatTf8gW3/AOvqb/0GKqtJAFFFFMAq1qH/AB6WP/Xqf/RslVatah/x6WP/AF6n/wBGyUnugKtFFFMAooooAtax/wAfaf8AXrB/6KSqtWtY/wCPtP8Ar1g/9FJVWktgCiiimAVa1z/kNXn/AF9Sf%2BhGqtWtc/5DV5/19Sf%2BhGl1A8q%2BJX7Kfwu%2BK/xVt/i34sk1Nr6DwzdaJJZW12sdtPFNHcRLM4C7/PiivL6OJ1dQq30%2BQxZSvByf8E3fhhf3Md34h%2BL3jzU5E0iHTm%2B1XWnIrRQ6XqulwkLFZIsZS11i5ACBVLJE7KzbzJ9D0UcqYXPGNG/Yk8E%2BHfGuk%2BMNA%2BKHjG0i0HXLvWdG0WO5sWs7XULnTJ9OnuQr2hkdmS4kl2u7IJTkKFZkbuvHvwPsvitqvhm9Xx/4h8O634fv2fS/E3h57VbyITRGCZCLiCWFldWyQYjhkRl2sikdbVrQ/wDkNWf/AF9R/wDoQpNLlY%2Bp454y/ZE8J%2BJ/hf4a%2BDei/ETxN4e8O%2BErnS5NE03SV0%2BaOOPT4DFbwSLeWk6zxhxFPiUM3nQRMGG3BseI/wBl%2BDxrf6dJ46%2BN/jjWtPtbnTbrUdCvbiwFlqt1Y3IuraeZI7NGiIlSJmS2aCOTyUDowL7vUaKdkI8VP/BP39l/TPEet%2BLvh/8ADnTvB%2Bo6zpOkWUV14R0WxsTpr6bfy39tc24W3IEpuHiaQSB45RaW6tGVQhl1X9iTwnq/gi7%2BHlz8Y/Hg0rXI9Sj8a2qajZ7PE6387TXX2pTalYS/mSR7rQW7LG%2BwEBU2%2B00UcqC55Xr37IWl%2BPdd1XUNc%2BOvxCAudL1yLQ4odVtAfDkmo28kdxPYym1MwkCPIkXnPMsCyFY1QBAs2gfsv6HpPgHQfhtq3xG8QatpXhrXtO1PRbe4tNLtEthYsj29qI7Gygj8hXjR9uzflRhwABXrGj/8fb/9es//AKKeqtJJXYzz2%2B%2BAEt9%2B0Ja/tCn4yeK47iz0mXTIPDUcWmf2aLSVoXkjObI3J3SwRybvP3BsgEIdlVpP2XvCUPgHSfBeg%2BM/EGl3eg%2BKb7xFo3iWzktXv7XULyW8e5lHnW8kD71v7uMh4mGyY/xgOPS6KdkI8S8P/sH/AAo8LT6bbaB4v8U2%2Bk2lzo15qegfbbd7bWb7S51uLS8umaAzecJo4pG8mSJJDEgZCuVOlafsWeE9St9S1DxT8XPHGuarBpVlbeHNc1e/s5bzQEtdRgvITbuLUCZ/OihLyXQuHlESrIzqXDet1a0//j0vv%2BvUf%2BjY6TirDuzxK4/Yu8H3Xhe38FT/ABW8btpM9zez%2BK9POpWvk%2BKXu703twb1Ps21d8rSKfsot/3cjRf6vao09S/Zb0nWPFmp%2BMNV%2BMPjua5uLPUINBU6zEv/AAjf22WOWeSxdYRLu3xJsE7zLEgMUarEzRn1CinZCucj8JPg/pnwmi1u5XxXrGv6r4k1ganr2u661v8AabycW0FqmVtoYYY1SC2hjCxxqPk3HLMzH1b4bf8AL7/2z/8AZq5euo%2BG3/L7/wBs/wD2aoq6U2NbnUUUUVxlhWL8SfBNh8TPh1r/AMONUuZIbXxBot1ptzNEPmjjnhaJmHuA5IraooA%2Bb/AH7NXx9nh8U3nxh0b4d311r/wn0/wKLFL68vdOmisotQIubiF7eFpEupdQZZLUOPKihAWaVpCV461/Yz/ab8O%2BDtfsPBtn4XtJPH3ie0bxzo7/ABW1qWU6Da6cLdLKHWbmwnu5JZ5gfMlMUbR2zeREysqTD7BooAyvAulz6J4K0jRbnwxpeivZ6bBAdH0S4MtnY7ECiCBzFEWiQDap8uP5QPlXoMDxbqVxb%2BILiGOO3IGzBe1jY/cXuVJNdpXB%2BM/%2BRluf%2BAf%2BgLW1FXkKWxV/ti7/AOeNr/4Axf8AxNH9sXf/ADxtf/AGL/4mqtFdNkQWv7Yu/wDnja/%2BAMX/AMTR/bF3/wA8bX/wBi/%2BJqrRRZAaesardR6vdRrFbELcuBus4ifvHqSuTVb%2B2Lv/AJ42v/gDF/8AE14L%2B0d/wUX/AGefg/4%2BvPhp4ZvNR%2BIHjmS8lS28EeAbQ6jemQMQRKY/kgwcbg7BgDnaa89/4V1/wUW/a9/ffFrx5B8B/BVx18M%2BC7pbzxFcxH%2BGa/I2WxI7xDPUMleTUzbDc7pYaLrTW6hqk/7037kfm2/7p49bO8Oqro4WLrVFo1CzSf8Aem/cj6OTl/dPZP2hP29f2cf2Y2XTfil8RdMXWpiq2fhjStOjvNTuWb7qrbRIXG48Bn2qT3rzA/tw/tv/ABhUxfs0f8E/dQ020lH7nxH8WprbSI4/RjZKGmkU9flbp9ad/wAIf/wTv/4Je%2BGx4w1Sz0vSNavd3l6nqDNqPiHWJWOGEZbdO5ZjyECxgnnaKyx8Zf8AgoX%2B1iRF8APhPb/BfwjOfl8Z/Ea1W41meM/x2%2BmDKxN0OJiVYchq8rE4vGSq%2Byq1bT/590Iqc1/inLSPraC7XPrcl8PeNuIsCsyxlengME217WbVODtuo1KkZVK0l1jhsPUael4snj/YN8dfHW/t/GP/AAUn/aauPFOmxTpLceBvDEn9h%2BGLRdwJEvl7JLkL2kkKMMkHNNsP2wv%2BCWf7Hsq%2BE/g4PBD6wcxQ6Z8N/CkOp39046o01tE%2B5%2B37yTPatLwv/wAErfhR448SWGtftZ/Fzx18Yb4XcbG38Va/LDpsbbh/qrO3ZFjX/ZLMPavcPhp8Evg78GdO/sn4S/C3w/4btyu100TSYbYyf7xRQXPuxJNVhstxsanPSowpS/nqN1qv36JenNZdj3MLw/4QcNz9pOpiMxr9ZQjHDwb/AOv1f2%2BJkv8ADSpLsl08LH7Z37efxqPl/s1/sIDw/p8v%2Bq8S/GKeHTVUdibCFTOQeuVY0snwA/4KV/FVCPjD%2B3RoPhG0k/1%2Bj/C/wFboeeyXtyBMmPXBr6bor0f7H9rria9Sfkpckf8AwGny/jJnpPj%2BGB93JsrwmGS2k6X1mr6upinUV/ONGKvskfM%2Bhf8ABJ/9laXVI/EnxluPGHxR1aM7l1L4ieLbm%2BIY9f3aGOMj2ZTXuXwp/Z5/Z9%2BFdyv/AArb4C%2BCNCeG2lZLjS/CVlDNkRsQTIsQdjx1JOa6arWj/wDH2/8A16z/APop66KOU5ZhfepUYp9%2BVN/%2BBO8v/Jjxs2454zz2n7PH5jWqQ25PaSjTS7KnB06aXkqaXkH9sXf/ADxtf/AGL/4mj%2B2Lv/nja/8AgDF/8TVWivQsj5Utf2xd/wDPG1/8AYv/AImj%2B2Lv/nja/wDgDF/8TVWiiyA07HVbpra8YxW3y2wIxZxD/lqg5%2BXnr3qt/bF3/wA8bX/wBi/%2BJo0//j0vv%2BvUf%2BjY6q0kldgWv7Yu/wDnja/%2BAMX/AMTR/bF3/wA8bX/wBi/%2BJqrRTsgLX9sXf/PG1/8AAGL/AOJqzFqt0dInk8q2yLmID/Q4scrJ2247f5zWZVqH/kC3H/X1D/6DLSaQB/bF3/zxtf8AwBi/%2BJo/ti7/AOeNr/4Axf8AxNVaKdkBa/ti7/542v8A4Axf/E0f2xd/88bX/wAAYv8A4mqtFFkBpy6rdDSIJPKtsm5lB/0OLHCx9tuO/wDnFVv7Yu/%2BeNr/AOAMX/xNE3/IFt/%2Bvqb/ANBiqrSSQFr%2B2Lv/AJ42v/gDF/8AE0f2xd/88bX/AMAYv/iaq0U7IC1/bF3/AM8bX/wBi/8Aias32q3S21mwitvmtiTmziP/AC1ccfLx07VmVa1D/j0sf%2BvU/wDo2Sk0roA/ti7/AOeNr/4Axf8AxNH9sXf/ADxtf/AGL/4mqtFOyAtf2xd/88bX/wAAYv8A4mu18JTPceH7eaQICd%2BQiBR99uwAArgK7zwZ/wAi1bf8D/8AQ2rGskolR3NSiiiuYoKKKKACiiigAooooAKKKKACiiigAooooAKKKKACiiigAooooAKKKy9E8b%2BC/E2s6t4c8N%2BL9L1DUNBuEt9csLHUI5ZtOleMSJHOisWhZkZXCuASrAjg5oA1K%2BQf%2BC1P%2Bg/su%2BFPFXT%2BwvjB4bv9393bcsmf/H6%2BnvA/xY%2BFnxNuNTtPht8SvD/iGXRbs2usRaHrMF21hOCQYphE7GJ8qw2tg/KeOK%2BZf%2BC5lvMf%2BCbfjLVrVczaZqujXkP1TUrfJ/ImvLzz/kT4h9oN/daX/tp9/wCFTX/ES8ng9p4inD/wY5U//ch7VRUdrcxXlrHdwNlJYw6H1BGRUlfSbn56007MKKKKBFqb/kC2/wD19Tf%2BgxVVq1N/yBbf/r6m/wDQYqq0kAUUUUwCrWof8elj/wBep/8ARslVatah/wAelj/16n/0bJSe6Aq0UUUwCiiigC1rH/H2n/XrB/6KSqtWtY/4%2B0/69YP/AEUlVaS2AKKKKYBVrXP%2BQ1ef9fUn/oRqrVrXP%2BQ1ef8AX1J/6EaXUCrRRRTAKtaH/wAhqz/6%2Bo//AEIVVq1of/Ias/8Ar6j/APQhSezAq0UUUwCiiigC1o//AB9v/wBes/8A6KeqtWtH/wCPt/8Ar1n/APRT1VpdQCiiimAVa0//AI9L7/r1H/o2OqtWtP8A%2BPS%2B/wCvUf8Ao2Ok9gKtFFFMArqPht/y%2B/8AbP8A9mrl66j4bf8AL7/2z/8AZqzq/wANjW51FFFFcZYUUUUAFFFFABXB%2BM/%2BRluf%2BAf%2BgLXeVwfjP/kZbn/gH/oC1tQ%2BMmWxl0UUV1EkV7e2em2c2o6jdxW9vbxNJPPNIFSNFGWZmPAAAJJPTFfHvin4qfFv/gpb4kvfhP8As069f%2BFPgvY3L2vjH4oQIY7rxEVOJLHS9w4jPKvP0PPb5Jdf9tPxl4n/AGofi7Yf8E5vg3rM1rFf2yaj8YvENk3OkaJkEWSt0E9zwu3sjDIKO2Po/TrD4bfAf4YRadZrp/hzwr4W0gKu9xFb2NpCnUseAqqMknk8k814NeUs1rzoqXLQp6TadnOW7gpaWjFfG07tvkTSUmeDKGI4gxssHRb9jFqMuW/NUm7fu4ta8qulPl96UpezTXvGb8Iv2aPgF%2Byxo1x4P%2BCPw20rw5YQsy3E9vCPPuAhIDzztmSUgD7zsce1eDfET9sj4rftLeM774Bf8E7rS1vpLKb7P4q%2BL2ow%2BZoug/3ktsgre3OOQBlBwfmUlkx9f8QfFf8A4Ks%2BKL7TvBl3q3gr9naO/kW81pVa21Tx6A53RQBgGt7I9GYjLjIOSWWP6p%2BHPw28B/CLwZYfDz4Z%2BFLLRNF02ERWWnWEISOMdz6sxOSWOWYkkkkk1lQ9pmNJUsH%2B6wy05orllPyp6Llj/fteX2Fb33%2B10so4f8MqMY5hQhXzFL3cNZOhhezxKjpVrLf6snyU3b6zKUr0V5P%2Bzx%2BwD8Gvgb4jb4qeJrrUfHvxDuSHv/H3jKb7Xel/%2BmAbK2yDJChPmCnaWYCvc6KK9vC4TDYKl7OhBRXl1fdvVtvq2233Pic7z/OuJMc8XmdeVWpZJOT0jFbRhFJRhBbRhCMIRW0e9rQ/%2BQ1Z/wDX1H/6EKq1a0P/AJDVn/19R/8AoQqrW/U8gKKKKYBVrR/%2BPt/%2BvWf/ANFPVWrWj/8AH2//AF6z/wDop6T2Aq0UUUwCiiigC1p//Hpff9eo/wDRsdVataf/AMel9/16j/0bHVWkt2AUUUUwCrUP/IFuP%2BvqH/0GWqtWof8AkC3H/X1D/wCgy0mBVooopgFFFFAFqb/kC2//AF9Tf%2BgxVVq1N/yBbf8A6%2Bpv/QYqq0kAUUUUwCrWof8AHpY/9ep/9GyVVq1qH/HpY/8AXqf/AEbJSe6Aq0UUUwCu88Gf8i1bf8D/APQ2rg67zwZ/yLVt/wAD/wDQ2rGv8A47mpRRRXKWFFFFABRRRQAUUUUAFFFFABRRRQAUUUUAFFFFABRRRQAUUUUAFfMnwK1jw7ov7S3xr8N%2BD/hx4u8OReJtQsX0bU3%2BF%2BsWOn3F4LZ0urkXL2aQMTcyM7S78SFmkBYEtX03RQB8p/sF%2BEvFln4m8Ky3Xww1/wALweDfgLoPhDxJHrehz2Kz6xbyuWghaVFF2lvtmP2iIvC32wFJGy%2BNX/gsHpMWtf8ABOX4nWckTOU0MTrtbGDFIsuTwcj5PavpevDf%2BClGkf25%2Bwr8U9NC7mfwJq7Rr6sthO6/qorjzGHtcurw7wn/AOkSPqeBsT9T43yuv/LicO//ACvR/wAyf4L65o2v/B3wnrrWV0xvfDVhOWF4vO%2B3Rs/6v3rpfO0X/oH3X/gYv/xuvKf2LNX/ALe/Y9%2BFWrlstP8ADrRWkOf4/sMIb9c16ZXp4OXtcHTn3jF/fGL/AFPJ4gw31LiDGYf%2BStWj/wCA1asf/bS152i/9A%2B6/wDAxf8A43R52i/9A%2B6/8DF/%2BN1VoroseQacsukf2RATY3O37TLgfalyDtjzzs%2BlVvO0X/oH3X/gYv8A8bom/wCQLb/9fU3/AKDFVWkkBa87Rf8AoH3X/gYv/wAbo87Rf%2Bgfdf8AgYv/AMbqrRTsBa87Rf8AoH3X/gYv/wAbqzfS6QLaz32NyQbY7QLpRgea/X5Oec1mVa1D/j0sf%2BvU/wDo2Sk1qgDztF/6B91/4GL/APG6PO0X/oH3X/gYv/xuqtFOwFrztF/6B91/4GL/APG6PO0X/oH3X/gYv/xuqtFFgNPVZdIFyvmWNyT9mh5F0o48pcfwelVvO0X/AKB91/4GL/8AG6NY/wCPtP8Ar1g/9FJVWkloBa87Rf8AoH3X/gYv/wAbo87Rf%2Bgfdf8AgYv/AMbqrRTsBa87Rf8AoH3X/gYv/wAbqzrEukDV7oS2NyW%2B0vuK3SgE7j22HFZlWtc/5DV5/wBfUn/oRpW1APO0X/oH3X/gYv8A8bo87Rf%2Bgfdf%2BBi//G6q0U7AWvO0X/oH3X/gYv8A8bqzo8ukHV7URWNyG%2B0ptLXSkA7h1GwZrMq1of8AyGrP/r6j/wDQhSa0YB52i/8AQPuv/Axf/jdHnaL/ANA%2B6/8AAxf/AI3VWinYC152i/8AQPuv/Axf/jdHnaL/ANA%2B6/8AAxf/AI3VWiiwGnpUukG5by7G5B%2BzTctdKePKbP8AB6VW87Rf%2Bgfdf%2BBi/wDxujR/%2BPt/%2BvWf/wBFPVWlbUC152i/9A%2B6/wDAxf8A43R52i/9A%2B6/8DF/%2BN1Vop2Atedov/QPuv8AwMX/AON1ZsZdINtebLG5AFsNwN0pyPNTp8nHOKzKtaf/AMel9/16j/0bHSa0APO0X/oH3X/gYv8A8bo87Rf%2Bgfdf%2BBi//G6q0U7AWvO0X/oH3X/gYv8A8bro/AD2T/a/sdvLH/q93mzB8/e6YUYrkq6j4bf8vv8A2z/9mrOqvcY1udRRRRXIWFYnxK8b2Pwz%2BHOv/EjU7WSe28P6Jd6lcQxHDSJBC0rKPchCBW3VXXNF0rxJot54d12xjurG/tZLa8tpRlZonUq6H2Kkg/WgD508P/tVftC%2BHfAfxCk%2BIHg3w/4j8VeGvg3YePvD%2BmeEdOuraO8a6i1HGlsjzXEksiTaeF89NplW4XbCrLhub%2BH37cHxY%2BL/AMQ4v2efhP8AEf4Z6/4kfU5ZV%2BIGm%2BHrybQp9NTTIrk%2BXapqBdpxczLbnbdsihHcjeDCvrXw2/Y68OfDW21SOz%2BMfjvUbjVvC9v4cm1K/wBTtUu4dKtYp47O2intraKSM25urmRJgfPaSYtJJIQu2if2H/DZI8SD44%2BPV8a/22%2BpSfEVZ9NGrSF7BbA25T7D9jEH2dEAjW3GHQSg%2BbmQgHdfs6/Fdvjv8AvBfxpl0cadJ4r8LWGqzaesvmC1kngSR4g2BuCsxXdgZxnvSeLdK1S58QXE1vptxIjbNrpCxB%2BRe4Fbfw58AeFvhR8PdC%2BF3gbTvsei%2BG9HttL0i1Mhcw21vEsUSFmJLEIijJOT1Nc54z/5GW5/4B/6AtbUb8wpbFX%2Bw9a/6A91/wCA7f4V4f8Atl/tUX37OlhpXw4%2BHfgyfxR8VPGkhtfAnguCMmS4k5BupwMGO2jwWZyQDtIyAGdO7%2BOfxX0P4FfBvxP8YvEZBs/DeiXF/JGWx5xjjLLED/edtqD3YV4n/wAE%2BP2fNYh8PL%2B2X8e7x9Z%2BKnxJ0yK%2Bv7%2B6i2ro2nyqJINOtUOfJjVCm4dS3Bztrix%2BIxNSvHBYZ2nJXcv5IXtdLrJvSK2veT0jZ%2BHmOJxNSvHA4R8s5LmlL%2BSF7XS6zb0gnoneTuo2fdfsX/si67%2BzB8M9Qv8Ax/ey63468V37618QvFMkDD7ZevliqsQMQRAlUHA%2B821dxA8X1OHxV/wVb%2BKcvhPwvFqEX7O3g3VguuapaI6/8J5qcLA/ZonXk2UTAFmH3zgjkq0e/wDt1/ELxf8AG3x3pH/BO74GazLa6z4wtftnxF1605Ph/wAOAgS5PQS3GfLVT2bBwJFYfRfw3%2BHXg74R%2BA9J%2BGfw%2B0SLTtF0SxjtNOs4RxHGoxyf4mJyWY8sxJOSSa4IYWnjJ/UKOmHpWU9/flvyN9Ur81R7yk%2BV/aP2HIcPhvDHhnD5jTjbMMRFvDJ6vD0dYvFNO7derLnWHctYJVMTrJ0Wumbwi%2BisdH8PeGWtbC0Pk2NrZ2eyGGFflREVRhVCgAAcAAYpP7D1r/oD3X/gO3%2BFGuf8hq8/6%2BpP/QjVWvpIpqKSPzmUpTk5Sd29W3u2Wv7D1r/oD3X/AIDt/hR/Yetf9Ae6/wDAdv8ACqtFPUk09H0fV4tXtZZdKuVVblCzNAwAG4cniq39h61/0B7r/wAB2/wo0P8A5DVn/wBfUf8A6EKq0tbgWv7D1r/oD3X/AIDt/hR/Yetf9Ae6/wDAdv8ACqtFPUC1/Yetf9Ae6/8AAdv8Ks6Vo%2Brx3LNJpVyoNtMMtAw5MTADp61mVa0f/j7f/r1n/wDRT0newB/Yetf9Ae6/8B2/wo/sPWv%2BgPdf%2BA7f4VVop6gWv7D1r/oD3X/gO3%2BFH9h61/0B7r/wHb/CqtFGoGnY6Pq6W14r6VcgtbAKDA3J81DgcegP5VW/sPWv%2BgPdf%2BA7f4Uaf/x6X3/XqP8A0bHVWkr3YFr%2Bw9a/6A91/wCA7f4Uf2HrX/QHuv8AwHb/AAqrRT1Atf2HrX/QHuv/AAHb/CrMWj6uNIniOlXO43MRC%2BQ2SAsmT09x%2BdZlWof%2BQLcf9fUP/oMtJ3AP7D1r/oD3X/gO3%2BFH9h61/wBAe6/8B2/wqrRT1Atf2HrX/QHuv/Adv8KP7D1r/oD3X/gO3%2BFVaKNQNOXR9XOkQRDSrncLmUlfIbIBWPB6ex/Kq39h61/0B7r/AMB2/wAKJv8AkC2//X1N/wCgxVVpK4Fr%2Bw9a/wCgPdf%2BA7f4Uf2HrX/QHuv/AAHb/CqtFPUC1/Yetf8AQHuv/Adv8Ks32j6u9tZqmlXJK2xDAQNwfNc4PHoR%2BdZlWtQ/49LH/r1P/o2Sk73QB/Yetf8AQHuv/Adv8KP7D1r/AKA91/4Dt/hVWinqBa/sPWv%2BgPdf%2BA7f4V2vhKCe28P28NxC8brv3I6kEfO3Y1wFd54M/wCRatv%2BB/8AobVjWvylR3NSiiiuYoKKKKACiiigAooooAKKKKACiiigAooooAKKKKACiiigAooooAKKKKACvNf2vdI/4SD9nLxfoO3d9t8O6hb7fXfZzL/WvSq5n4sWEWq%2BEZNLm%2B5csYnz6NG4P86Th7SLh3TX3pr9TqwOIeDx1LEL7E4S/wDAZRl/7afMP/BM3Vv7a/YI%2BFl5v3bPCkMGf%2BuTNFj/AMcr3Svmb/gj1qEt7/wTs%2BH0NzxNZ/2pazL/AHTHql2oH/fIFfTNRkk/aZLhpd6cP/SV/kfUeJeHWE8Rs5or7OLxC/8AK1R/%2B3BRRRXqHxJam/5Atv8A9fU3/oMVVatTf8gW3/6%2Bpv8A0GKqtJAFFFFMAq1qH/HpY/8AXqf/AEbJVWrWof8AHpY/9ep/9GyUnugKtFFFMAooooAtax/x9p/16wf%2BikqrVrWP%2BPtP%2BvWD/wBFJVWktgCiiimAVa1z/kNXn/X1J/6Eaq1a1z/kNXn/AF9Sf%2BhGl1Aq0UUUwCrWh/8AIas/%2BvqP/wBCFVataH/yGrP/AK%2Bo/wD0IUnswKtFFFMAooooAtaP/wAfb/8AXrP/AOinqrVrR/8Aj7f/AK9Z/wD0U9VaXUAooopgFWtP/wCPS%2B/69R/6NjqrVrT/APj0vv8Ar1H/AKNjpPYCrRRRTAK6j4bf8vv/AGz/APZq5euo%2BG3/AC%2B/9s//AGas6v8ADY1udRRRRXGWFFFFABRRRQAVwfjP/kZbn/gH/oC13lcH4z/5GW5/4B/6AtbUPjJlsfIX/BSeab4xa/8ACz9hvSpWY/EvxfHd%2BKUjbldB07F1chsfd3sIwpPBKEc17d%2B0d8bfCn7MPwE8SfGjxHHGtj4b0lpYLQEIJ5uEgt19C8jRxj03e1eH/svf8ZD/ALfHxc/aguP3%2BjeB44vh54NlPKb4WE%2BoyL2z57KoYdVcjNQ/tOf8ZZ/ts%2BB/2P7P9/4W8AiLxt8SwOY5ZVONOsH7HczeYyHhkYEfdr5/61UjRr4ylrUrTVOl6RvCL9Ob2lR%2BUfM9HwvyTB8ScSVsdj7/AFSnzVazWjWGwy1SfSVaf7uHedaLWx2P/BPv9n7xL8NPhxe/Gv4ySG7%2BJ3xPnTXPGt9NHte3LrmCwQH7kcEbBNnQNuA4CgfQFFFfQ4PCUsDhY0Ke0Vv1b3bfdtttvuzfiLPcbxLnVfMsVZTqO9lpGEUlGFOC%2BzCnBQpwitFGC6t3ta5/yGrz/r6k/wDQjVWrWuf8hq8/6%2BpP/QjVWuhbI8UKKKKYFrQ/%2BQ1Z/wDX1H/6EKq1a0P/AJDVn/19R/8AoQqrS6gFFFFMAq1o/wDx9v8A9es//op6q1a0f/j7f/r1n/8ART0nsBVooopgFFFFAFrT/wDj0vv%2BvUf%2BjY6q1a0//j0vv%2BvUf%2BjY6q0luwCiiimAVah/5Atx/wBfUP8A6DLVWrUP/IFuP%2BvqH/0GWkwKtFFFMAooooAtTf8AIFt/%2Bvqb/wBBiqrVqb/kC2//AF9Tf%2BgxVVpIAooopgFWtQ/49LH/AK9T/wCjZKq1a1D/AI9LH/r1P/o2Sk90BVooopgFd54M/wCRatv%2BB/8AobVwdd54M/5Fq2/4H/6G1Y1/gHHc1KKKK5SwooooAKKKKACiiigAooooAKKKKACiiigAooooAKKKKACiiigArhfh/wDtKfBj4o%2BMtQ8A%2BCfFstzqWnJdO6z6Rd20N0ltcfZrmS1nmiSK8SGciKR4HkWN2VWILLnuq%2BVP2f8A4LfHzwJ498CaX4g%2BFd3Z2Pw18IeJfDUXiE6lYTQ60%2Bo6jYy217HGtz5wgWDT986yokvmzosaSBWcAHuHwc/aW%2BDHx8uLi2%2BFvii5vnt9OttRUXmh3tiLqxuTILe8tzdQxi6tpDFJsnh3xNt4Y8Vu/EP/AJAsX/X0v/oLV86f8E8f2cPil8DtbnuvGfw81jw9Anw40HRNVGv%2BJoNU%2B26vaSXbTyab5VxN9h0wCYeVaqLaJN42WsGG3fR/juaODSI3ltY5gbkDbIWAHytz8pBq6fxoT2Pin/gkhix/Zc1TwqOP7C%2BI/iGw2/3dt674/wDH6%2BoK%2BZv%2BCXl5b6Xp3x18KSaVbt/Zf7RnieOFWaT5YmNu6AYYccnrz719R/2haf8AQDtf%2B%2B5f/i648gbWTUFbZNf%2BAynH9D77xV97xFzKp/PUU/8AwZSw9T/3IVaKtf2haf8AQDtf%2B%2B5f/i6P7QtP%2BgHa/wDfcv8A8XXsXfY/Pgm/5Atv/wBfU3/oMVVa05b61GkQP/Y9sQbmUBd0uB8sfP38/wD6qrf2haf9AO1/77l/%2BLpJvsBVoq1/aFp/0A7X/vuX/wCLo/tC0/6Adr/33L/8XTu%2BwFWrWof8elj/ANep/wDRslH9oWn/AEA7X/vuX/4urN9fWq21mTo9sc2xIBaX5f3r8D5/x59aTbutAMyirX9oWn/QDtf%2B%2B5f/AIuj%2B0LT/oB2v/fcv/xdO77AVaKtf2haf9AO1/77l/8Ai6P7QtP%2BgHa/99y//F0XfYA1j/j7T/r1g/8ARSVVrT1W%2BtVuVDaPbN/o0JyzS/8APJeOH7dKrf2haf8AQDtf%2B%2B5f/i6SbtsBVoq1/aFp/wBAO1/77l/%2BLo/tC0/6Adr/AN9y/wDxdO77AVata5/yGrz/AK%2BpP/QjR/aFp/0A7X/vuX/4urOsX1qmr3SNo9sxFy4LM0uT8x5OHxSu77AZlFWv7QtP%2BgHa/wDfcv8A8XR/aFp/0A7X/vuX/wCLp3fYCrVrQ/8AkNWf/X1H/wChCj%2B0LT/oB2v/AH3L/wDF1Z0e%2BtX1e1RdHtlJuUAZWlyPmHPL4pNuz0AzKKtf2haf9AO1/wC%2B5f8A4uj%2B0LT/AKAdr/33L/8AF07vsBVoq1/aFp/0A7X/AL7l/wDi6P7QtP8AoB2v/fcv/wAXRd9gDR/%2BPt/%2BvWf/ANFPVWtPSr61a5YLo9sv%2BjTHIaX/AJ5Nxy/fpVb%2B0LT/AKAdr/33L/8AF0ru%2BwFWirX9oWn/AEA7X/vuX/4uj%2B0LT/oB2v8A33L/APF07vsBVq1p/wDx6X3/AF6j/wBGx0f2haf9AO1/77l/%2BLqzY31q1teEaPbDFsCQGl%2Bb96nB%2Bf8AHj0pNu2wGZRVr%2B0LT/oB2v8A33L/APF0f2haf9AO1/77l/8Ai6d32Aq11Hw2/wCX3/tn/wCzVg/2haf9AO1/77l/%2BLro/AFxFP8Aa/KsYoceXnyi5z97ruY1nVb5GNbnR0UUVyFhRRXNfGbxD4l8I/B/xX4r8GWf2jWNM8NX13pVv5e/zbmO3d4l2/xZdVGO%2BaAOlor4ksviN4j%2BGPwX%2BL6eE/jt4s1DT7P9mTQ/F9p4ovtbl1m6sNYvbfWlkvYHupSEEi2lrMIFeOCMx7lEayE1w%2Bpa1%2B0s/jTUP2dLbWtSTxDZeJdRvf8AhDW%2BOuuJp9tZp4bsJ1ZfExjGoTMtxcCYWckKxkzyZxHCkzAH6J15X8dvFEXgfRvEvjScgJo%2BjzXrlumIrcyH/wBBre/Zo8WzePv2cfh/47uNfvdWk1rwTpV/JqmpWS21zeNNZxSGaWFSVikfduZASFJIBOK8Y/4KieJYfBP7Gvxe8Sf2rDHI3gm7tI0IfeHuIBbLg7cZzKMc1Fav9WwtWt/LGT%2B5N/oceYV/quAq1v5Iyl90ZP8ARHlf/BNRtK%2BCf/BM3wx8QvFTFVXQNS8T67eOfnnEk0900rsereVtGT2UVa/4Je%2BBtan%2BCWo/tQ/EFA/i/wCMusyeJdYlIJ8m1ZmWytUJ5MUcGGUdvNI6AVyX7XNtf/CH/gk14U%2BB/hbUoBr3izw/4a8D6VbqJA0lxdRwRTKflGSYknzj1719c%2BBPh/4e%2BHngfRvAGgaxapYaHpVvp9knlyjbDDEsaD7n91RXlZZRX1qhRe2How/8DqJK/qoRl/4E%2B595ktF8OeDdGnHSpjqsYPu6OEpwlJf4ZYqsm%2B7pK/wluirX9n2n/Qctf%2B%2BJf/iKP7PtP%2Bg5a/8AfEv/AMRX090fFhrn/IavP%2BvqT/0I1VrT1ixtX1e6dtYtlJuXJVllyPmPBwmKrf2faf8AQctf%2B%2BJf/iKSasgKtFWv7PtP%2Bg5a/wDfEv8A8RR/Z9p/0HLX/viX/wCIp3QBof8AyGrP/r6j/wDQhVWtPR7G1TV7V11i2Yi5QhVWXJ%2BYccpiq39n2n/Qctf%2B%2BJf/AIildXAq0Va/s%2B0/6Dlr/wB8S/8AxFH9n2n/AEHLX/viX/4indAVataP/wAfb/8AXrP/AOino/s%2B0/6Dlr/3xL/8RVnSrG1W5YrrFs3%2BjTDAWX/nk3PKdutJtWAzKKtf2faf9By1/wC%2BJf8A4ij%2Bz7T/AKDlr/3xL/8AEU7oCrRVr%2Bz7T/oOWv8A3xL/APEUf2faf9By1/74l/8AiKLoA0//AI9L7/r1H/o2OqtadjY2q214BrFsc2wBIWX5f3qcn5Pw49arf2faf9By1/74l/8AiKSauwKtFWv7PtP%2Bg5a/98S//EUf2faf9By1/wC%2BJf8A4indAVatQ/8AIFuP%2BvqH/wBBlo/s%2B0/6Dlr/AN8S/wDxFWYrG1GkTp/bFsQbmIltsuB8snH3M/8A6qTaAzKKtf2faf8AQctf%2B%2BJf/iKP7PtP%2Bg5a/wDfEv8A8RTugKtFWv7PtP8AoOWv/fEv/wARR/Z9p/0HLX/viX/4ii6AJv8AkC2//X1N/wCgxVVrTlsbU6RAn9sWwAuZSG2y4Pyx8fcz/wDrqt/Z9p/0HLX/AL4l/wDiKSaAq0Va/s%2B0/wCg5a/98S//ABFH9n2n/Qctf%2B%2BJf/iKd0BVq1qH/HpY/wDXqf8A0bJR/Z9p/wBBy1/74l/%2BIqzfWNq1tZg6xbDFsQCVl%2Bb96/I%2BT8OfSk2roDMoq1/Z9p/0HLX/AL4l/wDiKP7PtP8AoOWv/fEv/wARTugKtd54M/5Fq2/4H/6G1cb/AGfaf9By1/74l/8AiK7XwlGkXh%2B3jjnSQDfh0Bwfnb1AP6VjWacSo7mjRRRXMUFFFFABRRRQAUUUUAFFFFABRRRQAUUUUAFFFFABRRRQAUUUUAFFFFABWD8Q/wDkCxf9fS/%2BgtW9Xgn7SPxv1rwN%2B1h8IfgsNQRdJ8d6D4pea0MS5kvbFdNmgcMRuG2KS8G0HB8zJBKriJ16eHcZT2bivnJ2X4s58TiKeFpqc9m4x%2Bcnyr8Wjwr9gX/iV/tB/tL%2BFunk/FkX%2B3/r6tUfP47a%2BoK%2BX/2Tf%2BJT/wAFEP2o/Dh4SS58I38I/vebpcm8/wDfQAr6grLItMv5f5Z1V91Wf%2BZ%2BieJ3v8Vqt/z8w%2BCn/wCBYLDf/IhRRRXsH5%2BWpv8AkC2//X1N/wCgxVVq1N/yBbf/AK%2Bpv/QYqq0kAUUUUwCrWof8elj/ANep/wDRslVatah/x6WP/Xqf/RslJ7oCrRRRTAKKKKALWsf8faf9esH/AKKSqtWtY/4%2B0/69YP8A0UlVaS2AKKKKYBVrXP8AkNXn/X1J/wChGqtWtc/5DV5/19Sf%2BhGl1Aq0UUUwCrWh/wDIas/%2BvqP/ANCFVataH/yGrP8A6%2Bo//QhSezAq0UUUwCiiigC1o/8Ax9v/ANes/wD6KeqtWtH/AOPt/wDr1n/9FPVWl1AKKKKYBVrT/wDj0vv%2BvUf%2BjY6q1a0//j0vv%2BvUf%2BjY6T2Aq0UUUwCuo%2BG3/L7/ANs//Zq5euo%2BG3/L7/2z/wDZqzq/w2NbnUUUUVxlhRRRQByPhn4AfAjwXbT2fg74KeEdJhupZ5bqLTPDdrAszzoI5mYJGAxkQBXJ5ZQAcgVRf9ln9mKTwRF8M3/Zy8Bt4bg1A30Ph8%2BELI2Md0V2GdYPK8sSFfl3hd2OM4rvKKAGwQQWsCW1tCkccaBY40UBVUDAAA6ACviX/gtfNLqX7K%2Bp/De2kKzeNfF/h/Qotp5JlvIJCB9RCfwzX25XxD/wVG/4qj4%2Bfs9fCkfN/aPxqsNYliH8cenWrzMD6j94M152ca5VWh/MlH/wOUI/lJnh8Sa5HWh/OlD/AMDlCH5SZjftOQxfFX/goH8Bv2f7SMNp/hGDUPHet2yjIQQJ9m098dsXBcfjxX1PXy1%2Byb/xdz9vT4%2B/tASHzbPw/c2HgLQJevl/ZI/Nv48/9fDIcD1r6lroyf8Aeqvif%2BflSVv8MP3cf/SZP5n614g/7A8syVafVMLSUl/09xF8VV%2Ba9tSi/wDDbogooor2T89LWuf8hq8/6%2BpP/QjVWrWuf8hq8/6%2BpP8A0I1VpLZAFFFFMC1of/Ias/8Ar6j/APQhVWrWh/8AIas/%2BvqP/wBCFVaXUAooopgFWtH/AOPt/wDr1n/9FPVWrWj/APH2/wD16z/%2BinpPYCrRRRTAKKKKALWn/wDHpff9eo/9Gx1Vq1p//Hpff9eo/wDRsdVaS3YBRRRTAKtQ/wDIFuP%2BvqH/ANBlqrVqH/kC3H/X1D/6DLSYFWiiimAUUUUAWpv%2BQLb/APX1N/6DFVWrU3/IFt/%2Bvqb/ANBiqrSQBRRRTAKtah/x6WP/AF6n/wBGyVVq1qH/AB6WP/Xqf/RslJ7oCrRRRTAK7zwZ/wAi1bf8D/8AQ2rg67zwZ/yLVt/wP/0Nqxr/AADjualFFFcpYUUUUAFFFFABRRRQAUUUUAFFFFABRRRQAUUUUAFFFFABRRRQAUVm%2BM/FmjeAfB%2BreOvEczR6doumT39/Ii7isMMbSOQO5CqeK8V8M/tuXeneBPG/jL46fCkeF5fBfw0tPHs1hpOu/wBptcaPcxXrom5oINt2rWE6PCA6AtHtlcPwAe%2BV8df8FXIR4G8e/s6ftFp8v/CM/GODRb2cf8sbLVoHgncn%2B7%2B6QH6ivoD9mn426z8d/BV74p1rRvC1rJaao1mr%2BDvHUPiGxlxDE7D7TFFEUlR5GieJowVaPILqysfH/wDgs34KvPGn/BPHxzJpO5b/AEJbbXLGdB80L2Uy3DOP%2B2ccg%2BhNebnEZSyyrKO8VzL1g1Nf%2Bkv7zxuIYSlkteUV70Fzr1puM1/6Q/vPNPhBnR/%2BCrvxh03p/bHw58P3%2BP73lF4M/rivqCvj648c22gf8FA/gz%2B0fbsF0P45fCh9BeTOY4buMJqVs2exkWQRqO%2BDX2DXRkk4uFeC6VZv5T5akX81K5%2Bqceyji45RmNN3p18DhrPu6MalCa9YypxT8mn1CiiivaPgC1N/yBbf/r6m/wDQYqq1am/5Atv/ANfU3/oMVVaSAKKKKYBVrUP%2BPSx/69T/AOjZKq1a1D/j0sf%2BvU/%2BjZKT3QFWiiimAUUUUAWtY/4%2B0/69YP8A0UlVatax/wAfaf8AXrB/6KSqtJbAFFFFMAq1rn/IavP%2BvqT/ANCNVata5/yGrz/r6k/9CNLqBVooopgFWtD/AOQ1Z/8AX1H/AOhCqtWtD/5DVn/19R/%2BhCk9mBVooopgFFFFAFrR/wDj7f8A69Z//RT1Vq1o/wDx9v8A9es//op6q0uoBRRRTAKtaf8A8el9/wBeo/8ARsdVataf/wAel9/16j/0bHSewFWiiimAV1Hw2/5ff%2B2f/s1cvXUfDb/l9/7Z/wDs1Z1f4bGtzqKKKK4ywooooAKK5rwf8Z/g98Q9E1HxN4A%2BLHhrXNN0eV4tX1DR9dt7qCxdF3us0kblYiq/MQxBA5PFZf8Aw07%2BzX/wr9viz/w0N4G/4RVL4WT%2BJv8AhLbP%2Bz1uSAfINx5nliTBHybt3I4oA7mvhj9sTU7bVv8Agq18HLC8ObfwP4G8S%2BJbtOwWa1jtVY/Qqce9fclvcW93bpdWs6SxSoHjkjYMrqRkEEcEEd6/OP8Aax8SZ/b6/aI%2BJG/I%2BHn7LbadHzwk1yst6v0YhQK8jOaqp0Ka/vxfyhzVH/6QjixGClmuY5fl0d6%2BKw9P76i/4B2v/BInSLhP2HtA8e6uN2reNda1bxBrcx/5bXM99Mu/8Y44vyr6arx//gn74b/4RP8AYh%2BFOkGPYx8B6bcuuOjTwLMw%2BuZDXsFerk1J0cow8HuoQ%2B9xTf3tt/M%2B78Rcasx8QM2xMdpYmvbyjGrOEUvJRpxS7JJdAooor0j40ta5/wAhq8/6%2BpP/AEI1Vq1rn/IavP8Ar6k/9CNVaS2QBRRRTAtaH/yGrP8A6%2Bo//QhVWrWh/wDIas/%2BvqP/ANCFVaXUAooopgFWtH/4%2B3/69Z//AEU9VataP/x9v/16z/8Aop6T2Aq0UUUwCiiigC1p/wDx6X3/AF6j/wBGx1Vq1p//AB6X3/XqP/RsdVaS3YBRRRTAKtQ/8gW4/wCvqH/0GWqtWof%2BQLcf9fUP/oMtJgVaKKKYBRRRQBam/wCQLb/9fU3/AKDFVWrU3/IFt/8Ar6m/9BiqrSQBRRRTAKtah/x6WP8A16n/ANGyVVq1qH/HpY/9ep/9GyUnugKtFFFMArvPBn/ItW3/AAP/ANDauDrvPBn/ACLVt/wP/wBDasa/wDjualFFFcpYUUUUAFFFFABRRRQAUUUUAFFFFABRRRQAUUUUAFFFFABRRRQBm%2BMvCejePfCGq%2BBvEcDS6drWmz2F/ErbS8M0bRuAexKsea8K0b9hjxBq3hHxf4O%2BNHxktPE0HjP4Z2/gHVLiz8KmxlXRreC8jhZd11Moui9/cSSy7dkhEQWKIJ830PRQB5t8Avgb4m%2BFes%2BLPG3j3x1p2veIPF9/aT6jPonh1tKsoktbOK1hVLdri4bftjyzmU7sqAFVFUaf7RPhKH4g/B7Xfh5dzFLfxDpl1pl1gnDRT28sTA%2Bow3Su2rB%2BIf8AyBYv%2Bvpf/QWpqEaj5ZK6ej9Gmv1IqQjUpuEldNNP0as/wZ%2BW8er%2BNvHv/BGXwB8WtGmuD4t%2BA%2BuW2q2UDTNutpdGv5Ld0JH3QLTLkdMKK/Q3wT8Sv%2BE/8G6R488N%2BILqbTtb0yC/sJftDfPDNGsiN17qwr5T/Yc8K6MPFH7TX7I3ia2EmnW3xJvbxrI/w6brdqJEiA/u7VfH%2B8a3/wDglT4q1l/2Y5fgj4vuTJr3wo8U6j4Q1UsMFhazEwMAf4PJkjVT0Ow18/kbdCvRjL/l5T5H/joScH83D8j6rh6cs78F6MZO9XLK/I%2B/scRzU38o4nDJ%2BTq%2BZ9Qf25rX/QYuv/Ahv8aP7c1r/oMXX/gQ3%2BNVaK%2Busux8oacusauNIglGq3O43MoLee2SAseB19z%2BdVv7c1r/AKDF1/4EN/jRN/yBbf8A6%2Bpv/QYqq0kl2Atf25rX/QYuv/Ahv8aP7c1r/oMXX/gQ3%2BNVaKdl2Atf25rX/QYuv/Ahv8as32saultZsmq3ILWxLETtyfNcZPPoB%2BVZlWtQ/wCPSx/69T/6NkpNK60AP7c1r/oMXX/gQ3%2BNH9ua1/0GLr/wIb/GqtFOy7AWv7c1r/oMXX/gQ3%2BNH9ua1/0GLr/wIb/GqtFFl2A09V1jV47lVj1W5UG2hOBOw5MSknr61W/tzWv%2Bgxdf%2BBDf40ax/wAfaf8AXrB/6KSqtJJW2Atf25rX/QYuv/Ahv8aP7c1r/oMXX/gQ3%2BNVaKdl2Atf25rX/QYuv/Ahv8as6xrGrxavdRRarcqq3LhVWdgANx461mVa1z/kNXn/AF9Sf%2BhGlZX2AP7c1r/oMXX/AIEN/jR/bmtf9Bi6/wDAhv8AGqtFOy7AWv7c1r/oMXX/AIEN/jVnR9Y1eXV7WKXVblla5QMrTsQRuHB5rMq1of8AyGrP/r6j/wDQhSaVnoAf25rX/QYuv/Ahv8aP7c1r/oMXX/gQ3%2BNVaKdl2Atf25rX/QYuv/Ahv8aP7c1r/oMXX/gQ3%2BNVaKLLsBp6VrGryXLLJqtywFtMcNOx5ETEHr61W/tzWv8AoMXX/gQ3%2BNGj/wDH2/8A16z/APop6q0rK%2BwFr%2B3Na/6DF1/4EN/jR/bmtf8AQYuv/Ahv8aq0U7LsBa/tzWv%2Bgxdf%2BBDf41ZsdY1d7a8Z9VuSVtgVJnbg%2BagyOfQn86zKtaf/AMel9/16j/0bHSaVtgD%2B3Na/6DF1/wCBDf40f25rX/QYuv8AwIb/ABqrRTsuwFr%2B3Na/6DF1/wCBDf410fgC%2Bvb37X9svJZdvl7fNkLYzu6Zrkq6j4bf8vv/AGz/APZqzqpcjGtzqKKKK5CwrmvjN4d8R%2BMPg/4r8JeDrz7Pq%2BqeGr600q48zZ5VzLbukTbv4cOynPbFdLRQB8OJ4b8W%2BOvhT8VbLwb%2Bzz4ntodZ/Zk0fwbp/hbXfCd/p4vtWsrbWTcWQDLF8sUd7bxJMsiRzs5SGVvLLLzKfC/4sr8RG%2BMFx4r%2BLd14bg8bXszeOrz4T%2Bb4mvp5fDFpZRTvox0xVEMbRT2YmWwQFJ2B%2B81yf0JooA5D9n1vGz/AXwQ/xL8J2Og%2BIz4Q00%2BINC0yJY7bTr77LH59tEqkqsccm9FAJACgAmvzQ/ac8V203h/9vv4zyq7G81fRfCdvMsoCp9lt4bJ0xg5ybgZAI5r9Xq/JT9oPwnLa/snfGPw3MjFvib%2B2Xqdmu7kyp/byxBR6gGyPHsa%2Bb4j53QXL0jWfz9nyR/GofQcAYWON8W%2BG6c17kcVGpL0ppTf4RkfoJ8I9A0bwb8KfDHhBtMulOleHrKzKi7UY8qBEx/q/9muh87Rf%2Bgfdf%2BBi/wDxuqtFfYwpxpwUFskl9yS/Q8LE4ipi8TUrz%2BKcpSfrKTk/xky152i/9A%2B6/wDAxf8A43R52i/9A%2B6/8DF/%2BN1VoqrGBp6xLpA1e6EtjclvtL7it0oBO49thxVbztF/6B91/wCBi/8AxujXP%2BQ1ef8AX1J/6Eaq0ktEBa87Rf8AoH3X/gYv/wAbo87Rf%2Bgfdf8AgYv/AMbqrRTsBp6PLpB1e1EVjchvtKbS10pAO4dRsGaredov/QPuv/Axf/jdGh/8hqz/AOvqP/0IVVpW1Atedov/AED7r/wMX/43R52i/wDQPuv/AAMX/wCN1Vop2Atedov/AED7r/wMX/43VnSpdINy3l2NyD9mm5a6U8eU2f4PSsyrWj/8fb/9es//AKKek1oAedov/QPuv/Axf/jdHnaL/wBA%2B6/8DF/%2BN1Vop2Atedov/QPuv/Axf/jdHnaL/wBA%2B6/8DF/%2BN1VoosBp2MukG2vNljcgC2G4G6U5Hmp0%2BTjnFVvO0X/oH3X/AIGL/wDG6NP/AOPS%2B/69R/6NjqrSS1YFrztF/wCgfdf%2BBi//ABujztF/6B91/wCBi/8AxuqtFOwFrztF/wCgfdf%2BBi//ABurMUukf2RORY3O37TFkfalyTtkxzs%2BtZlWof8AkC3H/X1D/wCgy0mgDztF/wCgfdf%2BBi//ABujztF/6B91/wCBi/8AxuqtFOwFrztF/wCgfdf%2BBi//ABujztF/6B91/wCBi/8AxuqtFFgNOWXSP7IgJsbnb9plwPtS5B2x552fSq3naL/0D7r/AMDF/wDjdE3/ACBbf/r6m/8AQYqq0kgLXnaL/wBA%2B6/8DF/%2BN0edov8A0D7r/wADF/8AjdVaKdgLXnaL/wBA%2B6/8DF/%2BN1ZvpdIFtZ77G5INsdoF0owPNfr8nPOazKtah/x6WP8A16n/ANGyUmtUAedov/QPuv8AwMX/AON0edov/QPuv/Axf/jdVaKdgLXnaL/0D7r/AMDF/wDjddr4SMDeH7c28bonz7VdwxHzt3AH8q4Cu88Gf8i1bf8AA/8A0NqxrL3So7mpRRRXMUFFFFABRRRQAUUUUAFFFFABRRRQAUUUUAFFFFABRRRQAUUUUAFFFFABWD8Q/wDkCxf9fS/%2BgtW9WD8Q/wDkCxf9fS/%2BgtV0/jQnsfEGuah/wzb/AMFS4fE/iKLyPDfx18J2%2BlW2ohsImv6dkRQydgZLdgqHOWZtoHBqF9V/4Y6/4KM6pqHieD7N4G/aCiso7DVA2ILHxLaRmIQSdkNzGchs/O5A6KxHq/7b37OB/ag/Z71XwDo939j8SWMkereDNVV9j2Or2xL28iv/AAZOYy3ZZGI5xXAeBZ/Bn/BUn9g5vD3xGtTpuuyo%2BneIESLbceH/ABHZna0qrwY2WQLIFyCY5dpPzGvBxGGr0cXOhS%2BNSdelfZvarTfrf5Kaf2Wej4e53gOHOJMVlOa3%2Bo4%2BEozaV5RjOUJSnFdZ4evGniIx%2B1B1Ifauvpuivn/9gn9o3xd8TPCurfAn47slt8VfhpdDSvF9q7/NqEYA8jUo843xzptYsBjdk4AZc/QFfRYPF0sdho1qez6PdNaNNdGmmmu69DbiHIcdwznNbLcXbnpvSUXeM4tKUKkH9qFSEozhJbxkuqklam/5Atv/ANfU3/oMVVatTf8AIFt/%2Bvqb/wBBiqrXQjxQooopgFWtQ/49LH/r1P8A6NkqrVrUP%2BPSx/69T/6NkpPdAVaKKKYBRRRQBa1j/j7T/r1g/wDRSVVq1rH/AB9p/wBesH/opKq0lsAUUUUwCrWuf8hq8/6%2BpP8A0I1Vq1rn/IavP%2BvqT/0I0uoFWiiimAVa0P8A5DVn/wBfUf8A6EKq1a0P/kNWf/X1H/6EKT2YFWiiimAUUUUAWtH/AOPt/wDr1n/9FPVWrWj/APH2/wD16z/%2BinqrS6gFFFFMAq1p/wDx6X3/AF6j/wBGx1Vq1p//AB6X3/XqP/RsdJ7AVaKKKYBXUfDb/l9/7Z/%2BzVy9dR8Nv%2BX3/tn/AOzVnV/hsa3OoooorjLCiiigAooooAK%2BH/8AgqTa22qfFn4A/Dezt0jTUfj5pOpzQxIAJFtYZZpSQOuWk3E9ycmvuCviL9t7/ipP%2BCnH7N/g5fmisX8TaxeL6eXpkSwn/vsmvNzb3sC4fzSpx%2B%2BpT/yPv/DL93xdHE/8%2BKGLq%2Bns8HiWvxmvnY%2BjaKKK%2BiPzwKKKKALWuf8AIavP%2BvqT/wBCNVata5/yGrz/AK%2BpP/QjVWktkAUUUUwLWh/8hqz/AOvqP/0IVVq1of8AyGrP/r6j/wDQhVWl1AKKKKYBVrR/%2BPt/%2BvWf/wBFPVWrWj/8fb/9es//AKKek9gKtFFFMAooooAtaf8A8el9/wBeo/8ARsdVataf/wAel9/16j/0bHVWkt2AUUUUwCrUP/IFuP8Ar6h/9BlqrVqH/kC3H/X1D/6DLSYFWiiimAUUUUAWpv8AkC2//X1N/wCgxVVq1N/yBbf/AK%2Bpv/QYqq0kAUUUUwCrWof8elj/ANep/wDRslVatah/x6WP/Xqf/RslJ7oCrRRRTAK7zwZ/yLVt/wAD/wDQ2rg67zwZ/wAi1bf8D/8AQ2rGv8A47mpRRRXKWFFFFABRRRQAUUUUAFFFFABRRRQAUUUUAFFFFABRRRQAUUUUAc98XfGtz8NfhP4n%2BItlpwvJtA8O3upRWhz%2B/aCB5QnHPJXHHrXgvwn/AGjvFfwcj8YXX7SPxjuPE%2Bi%2BHfg74e8eXuuXGl2dvJaPeNqaXVtElpFErQE2EbQK4eXLyK0snykfTFzbW95byWl3AksUqFJYpFDK6kYIIPBBHGK4P4Sfsw/Bf4G3RvPhj4f1GwkMEVuWuPE2oXf%2BjQoY4LbFxO4%2BzwqziGD/AFUPmOY1QuxIB5t/wTx/aT8SftGaL8Rrrxn8WfC3ifUNE8f%2BVa2/hTUbS6ttIsbjTLC6islmtiRcLFLNcw/aGyZWhkPAGxfbvHdtJdaRHHE0YIuQf3kqoPut3YgU7wv4C8J%2BC9S13V/DWk/ZrjxLrH9qa3J58j/abv7NBbeZh2IT9zbQLtXC/JnGSxMPxD/5AsX/AF9L/wCgtV0/jQnscv8A2Pd/89rX/wADov8A4qvj/wCOPhn4jf8ABPX48%2BIf2w/AXh0a98KvG80E3xY8OaVIkl3ol2gKf2zbxqx3oQczKBnqxOMMn1tTLi3gu4HtbqBJYpUKSRyKGV1IwQQeCCO1TjsE8ZTjyy5Zxd4yS2drbdU1pJdU%2Bjs15uY4FY6lHllyVIPmhJa8srW26pp2lF6OLto7NfPvx3/Za8PftY6R4e/a5/ZM%2BKmmaB8QrLT1uPB/jvTL%2BJrfVLYjP2K9QH97A3KkMpaM5BU4ZDb/AGV/219N%2BLHiO4%2BAHx60m08A/F/RG8jWPCGp30cceoEDi50%2BV223MLgFgEZmAz95QHbgdZ/Zt/aP/Yg8U6r8Rv2FbKy8T%2BA9UvWvte%2BCupz%2BR9mlPMsuk3ByIWbr5LDbxgB/kVb8Xjr9g3/gp94c/wCFd/ELSRp3jPSpGRvDmvr/AGX4m0C6XljCSRJ8rAMTGXQ4G8Z%2BUeBGrXo4u8LUsRL4oSuqdW32oS6S8/itpUhKykfbZBx9lOZ5fS4c4ypzj7PShWhZ1aOrbjSc2o4jDtvmeHnONSm23RcG5Rn9eS6VdHSII/Ntsi5lJ/0yLHKx992O3%2Bc1W/se7/57Wv8A4HRf/FV8kw2H/BR/9jbSIrDSobX9oH4e2tzJ9kW6vBZeLLGILHlWdgYr0KMYPMrkH7gwB2Hwg/4KV/sm/FbVP%2BEQ1Xx3J4I8UxuI7zwl8QLU6TfW8v8AzzImxG7egR2PtXrUc4wzmqWIvRqP7M9L/wCGV%2BSXylf%2B6j1sf4d55HDyxuUuOPwsdXUw16jiv%2BntG3t6L7qpScU7pVJbv6G/se7/AOe1r/4HRf8AxVH9j3f/AD2tf/A6L/4qqcUsU8SzwSq6OoZHRshgehB7inV6%2Bvc%2BDejsy1/Y93/z2tf/AAOi/wDiqs32lXTW1moltvltiDm8iH/LVzx83PXtWZVrUP8Aj0sf%2BvU/%2BjZKTvdCD%2Bx7v/nta/8AgdF/8VR/Y93/AM9rX/wOi/8Aiqq0U9QLX9j3f/Pa1/8AA6L/AOKo/se7/wCe1r/4HRf/ABVVaKNQNPVdKupLlWWW2/49oR815EOkSju1Vv7Hu/8Anta/%2BB0X/wAVRrH/AB9p/wBesH/opKq0lewFr%2Bx7v/nta/8AgdF/8VR/Y93/AM9rX/wOi/8Aiqq0U9QLX9j3f/Pa1/8AA6L/AOKqzrGlXUmr3Uiy2wDXLkbryIH7x6gtkVmVa1z/AJDV5/19Sf8AoRpa3AP7Hu/%2Be1r/AOB0X/xVH9j3f/Pa1/8AA6L/AOKqrRT1Atf2Pd/89rX/AMDov/iqs6PpV1Hq9rI0tsQtyhO28iJ%2B8OwbJrMq1of/ACGrP/r6j/8AQhSd7MA/se7/AOe1r/4HRf8AxVH9j3f/AD2tf/A6L/4qqtFPUC1/Y93/AM9rX/wOi/8AiqP7Hu/%2Be1r/AOB0X/xVVaKNQNPStKuo7lmaW2/49phxeRHrEw7NVb%2Bx7v8A57Wv/gdF/wDFUaP/AMfb/wDXrP8A%2BinqrS1uBa/se7/57Wv/AIHRf/FUf2Pd/wDPa1/8Dov/AIqqtFPUC1/Y93/z2tf/AAOi/wDiqs2OlXS214pltvmtgBi8iP8Ay1Q8/Nx071mVa0//AI9L7/r1H/o2Ok72AP7Hu/8Anta/%2BB0X/wAVR/Y93/z2tf8AwOi/%2BKqrRT1Atf2Pd/8APa1/8Dov/iq6PwBZy2n2vzXiO7y8eVOj/wB7rtJxXJV1Hw2/5ff%2B2f8A7NWdW/Ixrc6iiiiuQsKZc3NtZW0l5eXCQwwoXlllcKqKBksSeAAOc0%2Bue%2BLngq4%2BJXwo8T/Dm01EWcuv%2BHr3TYrsgnyGngeIPxzwWz%2BFAHMeDv2uf2e/HXgnX/iLofj5odG8L6Omr65eaxo95p32fTXikmjvgl1DG8lrJHFKyToGjk8p9jMVOGS/tf8A7Pll8KvFXxo1zxrdaRoHggkeK317w7f6fd6a3lRzKslncwJc7nSaIxqIiZfMQRhiwFeFL8GP2mvHvgT4jre/A7/hG9X8SfALTfAek6fq%2BpaXd2suoWUOqvLNJ5c0yG0lfUUihLxs3yStNDGpAbk/E37C/wC0X47%2BE/xA0/wCt34U0y%2Bvr7UdB8D/ABRm/wCEn1bWbw%2BH7ewhkutRTWDgpMkxtxPc3KxN5UhWMQxIgB9y6ZqVlrGm2%2Br6bN5lvdQJNbybSNyMAynBAIyCODzXxV8Wf%2BKn/wCC0%2Bg6V95PDHwKutT9ke51BLbH1Kj8q%2BvfhVpHijw/8MvD2heNrq1n1iy0W1g1OWxtTBC06RKrlIzLKUXIOB5j/wC8etfI/gq4h8Qf8Fg/jZrkljFP/wAIx8OfDej5kZ/k%2B0qbvHysOuP0rzcw96rhqferD/yVTl%2BiPv8AgP8Ac0M5xX/PvAYhfOrLD0V/6XJfM%2Bh6K8E%2BIv8AwVm/4J/fCfx1q3w0%2BIHxctbDW9DvpLPVLL/hGtal8idDhk3xwsjYPdSR71i/8Pp/%2BCZ3/Rc7X/wkte/%2BR6655/klObjLE001o1zx0a%2BZz0PC7xLxVCFajkuLlCaUoyWHqtOLSaaahZpppprRpp9T6VorwT4df8FZv%2BCf3xY8daT8NPh/8XLW/wBb1y%2Bjs9Lsv%2BEa1qLz53OFTfJCqLk92IHvXoH7W3xb8VfBz9mrxp8T/hz4U0e51zRdCmudNj1K6njhEgwN7Fd5O0EsF24YqFJUEsOzC4/B46DnhqkZpaNxknZ79GfP55w1xFwzXhQzjB1cNOa5oxq05U3JXtdKaTavpdaX0PRdc/5DV5/19Sf%2BhGqteB%2BNP28PHWg/2/Pc/s7eH5L6y8f3nhnTbCHxXql3Nqc9rBNNdzpFZaZPP5abI1UrC2dztJ5KopfnfB//AAUR8RfEHVLdfhT8BrbWX8SW0GoaRa%2BIvFpsILO3bw3pusbS0FpK65F6Y8N5x8wZ3LGwWLdTVjxbH09RXnd1%2B0dc3X7K2qftN6P8OdPW1/4V%2BfE%2BgWL308ks8Z00XixzKNojbeTHhWcEANuBbavPfs5%2BPfilZeP/ABL8JfHnjNfG1xY%2BAfDniWx1fU7KC0dbjUX1SGW1As0iTyA%2Bmq8ZZWkAnYM77VNVzeQWPb9D/wCQ1Z/9fUf/AKEKq18nfBb9ob4z6jFqnhL4yfGXXvBdzpvgzQfEvi7xT4m8D21lP4cumup49TsbBJIFgmg/cokE8kd2v39slySNmV4q/aO/a3%2BG/g/S/iD8RbTxRaWlh4etdQ0m2tvBkcq%2BInbWrtJINadYGGmz/wBlDTX2xtaj7Rc3CqHMawiefXYLH2NRXw7qH7YP7SljcaxeDxJqKwa9Fqi%2BFpLjStNNtqckfirTdMtk8P7F80SG3vGh/wCJt8j3NxaSLvgWeQfSn7HfxL8aeOfhtqyfE2C5udY0XxfqWmTRa/FBHqdtFHKDDFeiwZbRp/KdH3W2YijxkEtuJpSv0Cx6dVrR/wDj7f8A69Z//RT0f2haf9AO1/77l/8Ai6s6VfWrXLBdHtl/0aY5DS/88m45fv0obdthGZRVr%2B0LT/oB2v8A33L/APF0f2haf9AO1/77l/8Ai6d32Aq0Va/tC0/6Adr/AN9y/wDxdH9oWn/QDtf%2B%2B5f/AIui77AGn/8AHpff9eo/9Gx1VrTsb61a2vCNHthi2BIDS/N%2B9Tg/P%2BPHpVb%2B0LT/AKAdr/33L/8AF0k3d6AVaKtf2haf9AO1/wC%2B5f8A4uj%2B0LT/AKAdr/33L/8AF07vsBVq1D/yBbj/AK%2Bof/QZaP7QtP8AoB2v/fcv/wAXVmK%2BtTpE7/2PbAC5iBXdLg/LJz9/P/66Tb7AZlFWv7QtP%2BgHa/8Afcv/AMXR/aFp/wBAO1/77l/%2BLp3fYCrRVr%2B0LT/oB2v/AH3L/wDF0f2haf8AQDtf%2B%2B5f/i6LvsATf8gW3/6%2Bpv8A0GKqtact9ajSIH/se2INzKAu6XA%2BWPn7%2Bf8A9VVv7QtP%2BgHa/wDfcv8A8XSTfYCrRVr%2B0LT/AKAdr/33L/8AF0f2haf9AO1/77l/%2BLp3fYCrVrUP%2BPSx/wCvU/8Ao2Sj%2B0LT/oB2v/fcv/xdWb6%2BtVtrMnR7Y5tiQC0vy/vX4Hz/AI8%2BtJt3WgGZRVr%2B0LT/AKAdr/33L/8AF0f2haf9AO1/77l/%2BLp3fYCrXeeDP%2BRatv8Agf8A6G1cb/aFp/0A7X/vuX/4uu18JSJL4ft5I4EjB34RCcD529ST%2BtY1r8pUdzRooormKCiiigAooooAKKKKACiiigAooooAKKKKACiiigAooooAKKKKACiiigArB%2BIf/IFi/wCvpf8A0Fq3qwfiH/yBYv8Ar6X/ANBarp/GhPY42iiiu0gK8t/aF/Yv/Zq/ahhWX4w/C6xvdSiUC08QWmbXUbYrypS5iKyYU8hSSuRypr1Kisa%2BHw%2BKpOnWgpRfRpNfj/XmYYjDYbF0nSrwU4vo0mvuf/D%2BZ8tr%2BzN/wUM/Z30mIfs1/tb6f488PQ3En2Pwh8YtPaWeFQseVXUrfEshIwFDBVXaPU1x3xY/aAvfEmkf8I1/wUK/4JXeI7y3gUo2u%2BGdNtvE1nCv/PZZYtstqp68HcM4619vzf8AIFt/%2Bvqb/wBBiqrXkTyVKm4UK0oxf2ZWqw/8BqXaXpI5MHhMxybExxGUY2rh5x1i4yclH/DeSnH/ALdqL9D83vAUn/BPb7SR%2Bx1/wUr8XfBi7WQhfDOta1Mml20meVez1VVViD/01I6iva/C/iX/AIKheHrAal4D%2BJHwU%2BOGjIOLyCaTStQuB2IMDNarn6mvo/x/8Evg18V4Wg%2BJ/wAJvDXiJWXBGuaHb3XHsZUOK8W8Tf8ABJT9gnxBfnWtM%2BCZ8PahyY7/AML67e2Dx/7qxSiMf9815n9iZlhv93cV/wBe51KX/kj9tT%2BSSXofc/8AETfESrpm9LB5mu%2BIopVX/wBxoqNW/m6s31uzMH7fv7QXgT938ef%2BCb3xQ0zy%2BJ7nwRJbeIoV/wBvMDJhe/sPWtK0/wCCvf7C93LZaJ4w%2BImseEdRW3Kvp/i3wnf2kinzHOC3lMgxkfxVnf8ADtLWfDHzfCT9vT46eH1X/VWV34wXULSL0CwzRjj6tTfEX7In/BRCz0q30%2Bw/4KI6V4nsHtyYtK8afCTT5UA8xxtaWNiz5OTkjvR7TijDv4XL1VKf4wnSf/kof648IYr/AJGHC9Wk%2BrwmOuvlTxMKi%2BXP8z1nwf8Atnfsj%2BPgg8IftM%2BBb2R/u26eKbVZvxjZw4/EV6Jpuq6ZrNqt/pGpQXUD/cmtplkRvoVJBr4P8X/sDftg6sXfXf2f/wBkXxYG/wBZc3Hg6%2B0y9l/7aWyqAfqa881H/gnX8ZNFum1Ky/4Jo%2BEVvP4rvwD8c7/TGP8AurcyMq/980/7czyl/EwjfpGov0qIX9peE%2BI3lmeGf9/CUMQl/wBvUMRB28%2BW/kfp1RX5e/8ACiv2zPB3zaV8CP2ovC%2BzpB4Z/aK0/VLcf9szB8w9s0v/AAn3/BQ7wcP%2BJd4h/ausdnT7T8KNK8R4/OaPd/Wj/WuVP%2BLhJr0v%2BtOIew8Na38LiFQ/6/4DMKX3uNOuvuP1L1j/AI%2B0/wCvWD/0UlVa/MO8/bk/4KJ%2BGJQdU8cfEiYpFGP%2BKy/Zh%2BwHAQAbhaTvgYxyOo5qNf8Agrb%2B2j4bONb1P4YyRL98638OfFNpL/5CjZRQuNMqiv3kKkf%2B3V/8kgeT8K1P4PEmXP8Ax1q9H/09gofjY/UCivzDg/4Lv/E7S5fI1nw98LtQkH3o7K61yzJ/G4s8D8TWzpn/AAX61ouI9Q/Zh8PXK957P4s20I/74ntlP61ceN%2BG5b1Wv%2B3X%2Blyo8M0Kyvh83y2p/hzLBr8KlSk/wP0jq1rn/IavP%2BvqT/0I1%2Bedj/wXv8DAA65%2BzxLB/e%2Bx/ETSZ8fm6ZrWvf8Ag4L/AGXf7Qnu9c%2BEPjaFZJmfFhPpd0Rkk/w3gzW64v4abu8TFeqkv/bTWHBWdVnahUw1T/BjcBL8sbE%2B7KK%2BKNJ/4L0fsY6qAT4M%2BI9uD3l8NwNj/v3ctW/Yf8Fsf2HbsA3WpeL7Md/tHhC4OP8AvjdXRDifh2fw4qH3/wCaQ5cB8Wp2WG5v8NXDT/8ASMXM%2BuKtaH/yGrP/AK%2Bo/wD0IV8o2/8AwWb/AOCd74/tD4031j6/a/B%2BqDH/AHzbNW34c/4K%2Bf8ABOS41W1uF/aasERbhGZp9D1GPADDJ%2Be3Fa/2/kUlpiqf/gcf8wXAHHD1jlld%2BlNy/GLkj6JorwWz/wCCoP7AN/jyP2o/DS5/57PLH/6GgrVs/wDgof8AsMX2PJ/av8Crn/nt4hhj/wDQyK3jm%2BUy2xFP/wADh/8AJES4E44grvKsT/4T1n%2BVJnstFeXWf7cH7GF/gWv7Wvw1Ynop8cWCn8jLmtO1/at/ZcvsfYv2k/AM2enleMbFv5S1tHH4CW1aD/7fj/8AJHDU4W4oo/xMvrx9aFdfnRR6Ro//AB9v/wBes/8A6Keqtc54f%2BP3wIvLpjafGvwjLm1nx5fiS1bP7pvSSp7b4nfDa9/48/iFoc2enlatC38mrWNehJ6TT%2Ba/zOGplWaUv4mHqR9ac1%2BcEblFU7bxDoF7/wAeeuWcuenlXKN/I1cBDDcpBB6EVqmnscU6c6btJNeqa/NIKtaf/wAel9/16j/0bHVWrWn/APHpff8AXqP/AEbHQ9iSrRRRTAK6j4bf8vv/AGz/APZq5euo%2BG3/AC%2B/9s//AGas6v8ADY1udRRRRXGWFFFFABRRRQAV8P8A7Jcv/CTftu/tU/EXO77R4%2B0rRvM9f7P08Q7fw319wV8U/wDBP/Q5rDVfj7r10S0mrftKeLpEkbqYorlIFX6Dymrz68XPNcIuidSX3U7L/wBKPvOG6kMPwZn9S/vSp4WmvSeL5pfhRR9DUV88/EX/AIKD/wDCu/HereBv%2BGIP2htd/sm%2Bktv7Y8OfDT7VYXmw482CXz18yM9Q2Bkdqxf%2BHnX/AFj1/ag/8NN/9011zzzKoTcZVNVp8NT/AOVv8z8nnxBk9ObhKrqtH7tTp6Un%2BbPqCsj4geA/CnxR8Eat8OfHWlm%2B0bXLCWy1O0FxJEZYZFKsokjZXQ4PDIwZTggggGvEPh1/wUH/AOFieO9J8Df8MQftDaF/a19Hbf2x4j%2BGn2Wws95x5s8vnt5cY6lsHA7V6p%2B0J478V/C34L%2BIfib4M0q3vrvw7Y/2nPY3ELyfaLSBlluo41RlPnNbpMI%2BSBIUJVgCp68NjcLjYOVGXMlo9JL/ANKjH8mduDx2Ex8HLDy5knZ6SWv/AG9GP5P1KXib9kj4C3s50m58Kagy2XiO81SK4HifURcvdXCGK4aWcXHmzJKnyyRyM0cn8Sseao/Dr9jr9nT4UPZSeBPAEtm2nQGGyaXXL64MMRsYLDYPOmf5Ra20ESr0VYxtwck%2BIfHb/goh8V/DUXiH4i/DjQNC1bQdNvNZ1aOJNM8wzaDaagmnxXD3Muo26R/abiG9aKSGO5Zo3gxbtgtJkeBP2ovjLo3xAvfhvoerWdzqGtePdY0vTdb8UTX19Dp6P408QWyB7cXUaPHHbWSQxIpjbJiTzNiqg2TjZHZZn1n4M%2BF3gjwB4Oh%2BH3hnSZE0S302DT4NMvL6e6hitYbdLaOFVnd9qeVGoIH3juZtzMzHH%2BGv7Ofwk%2BENs1t8P9F1GzDzW7vLN4jv7mV0giaKC3aSed3NtGjsEtifJTcSqA81yH7C/ib4h%2BNfgkfFHjrxnbaxJJ4w8VwPNGs0hLw%2BJdUiTyppJm/0ZYUijii2/IkagMRhRwH7KXjPxjqPxR8CatqXj3XdTuvHngvxZqnjPS9S1ue5trK%2BstY0%2BGFYIJHaOyEBubm18uFYw4UbwzR7hV1oB6vov7D37Nf9nx%2BDIvB%2BrRWNxqulXG638Z6tHcQfYJjJYww3C3Qmggt5HZ4reN1hjZiyoDzVq6/ZT%2BCeo32janrOja1qNxoRi%2ByTar4x1S6a4EV0buEXfnXLfblinJkiW580RN/qwteBaJ4w8a%2BHP2gx4Z%2BKHxS8SaVo/ibU/GMXiHxnZfEOKTT49Oh1SJLFrCETSf2ZNZpLBYzP5MDJNI2WmciVOf8ADGseOdT%2BJGtfAP4q/FbxR4c0zw%2B3jC/u10n4jalcf2ZdWuneG57KCPWJHju76JbfVLy8aO4CgSF4zG0Vuhabq%2BwH0k/7Gn7OMs2pSzeAZ5P7TSZTHJr9%2B0dj515HeyGxQz7dOLXUMNwWtREfNhifO6NSOx%2BHHwy8F/Cfw8/hnwNps1vbS3kt3cy3moT3lxc3ErbpJpri4d5ZnY/xO7HAAzgAD45/Z5%2BL3x38cfGfwN8S/HPiTVY7HWvGFjo2sA%2BJ7pNt3J4LS9l0o6J/x6pALndc/bgftO8bPK8k%2BdX3LVRs9gYVa0f/AI%2B3/wCvWf8A9FPVWrWj/wDH2/8A16z/APop6b2EVaKKKYBRRRQBa0//AI9L7/r1H/o2OqtWtP8A%2BPS%2B/wCvUf8Ao2OqtJbsAooopgFWof8AkC3H/X1D/wCgy1Vq1D/yBbj/AK%2Bof/QZaTAq0UUUwCiiigC1N/yBbf8A6%2Bpv/QYqq1am/wCQLb/9fU3/AKDFVWkgCiiimAVa1D/j0sf%2BvU/%2BjZKq1a1D/j0sf%2BvU/wDo2Sk90BVooopgFd54M/5Fq2/4H/6G1cHXeeDP%2BRatv%2BB/%2BhtWNf4Bx3NSiiiuUsKKKKACiiigAooooAKKKKACiiigAooooAKKKKACiiigAooooAKKKKACsH4h/wDIFi/6%2Bl/9Bat6qHiLRP7esls/tXlbZQ%2B7ZuzgEY6j1qoNKabE9jz6iuo/4Vt/1Gv/ACW/%2Byo/4Vt/1Gv/ACW/%2Byrq9rT7k2Zy9FdR/wAK2/6jX/kt/wDZUf8ACtv%2Bo1/5Lf8A2VHtafcLMwZv%2BQLb/wDX1N/6DFVWutfwBvso7P8Atb/Vyu%2B7yOu4KMfe/wBn9ai/4Vt/1Gv/ACW/%2BypKrDuFmcvRXUf8K2/6jX/kt/8AZUf8K2/6jX/kt/8AZU/a0%2B4WZy9WtQ/49LH/AK9T/wCjZK3v%2BFbf9Rr/AMlv/sqluPAHnxQRf2tjyYimfI6/OzZ%2B9x97H4UnVhfcLM5Kiuo/4Vt/1Gv/ACW/%2Byo/4Vt/1Gv/ACW/%2Byp%2B1p9wszl6K6j/AIVt/wBRr/yW/wDsqP8AhW3/AFGv/Jb/AOyo9rT7hZmDrH/H2n/XrB/6KSqtdbeeAPtcol/tbbiJEx5GfuoFz972zUX/AArb/qNf%2BS3/ANlSVWFtwszk7m0tLyPyru2jlX%2B7IgYfrWRffDT4cann%2B0vh/olxnr5%2BlQvn81r0P/hW3/Ua/wDJb/7Kj/hW3/Ua/wDJb/7KlKVCfxJP5f8AAIlShP4op%2BqT/NHkl7%2Bzl%2Bz1qWf7R%2BBHgy4z187wvaPn846p%2BJf2NP2QLzV7uO7/AGVPhtKouZAFk8DaewA3H1hr2f8A4Vt/1Gv/ACW/%2ByqW%2B8Afbb2a8/tbb5srPt8jOMnOPvVzyw%2BXzfvU4v8A7dj/APImEsBgp/FRg/WMX/7afO93%2BwN%2BxFef679kn4dDP/PLwhaR/wDoMYrOuf8Agm9%2Bwfd5839lLwWM/wDPLSFT/wBBxX0p/wAK2/6jX/kt/wDZUf8ACtv%2Bo1/5Lf8A2VZvAZRLehD/AMAj/wDImMsnyqW%2BHp/%2BAQ/%2BRPlu5/4Jc/8ABP66/wBb%2By34bGf%2BeazJ/wCgyCoLH/gkj/wTq1HVLa3uv2YdJKSXCK6x6nfJkFhn7s4r6r/4Vt/1Gv8AyW/%2ByqWx8AfYr2G8/tbd5Uqvt8jGcHOPvVjLKsjktcPT/wDAI/8AyJk8gySW%2BFp/%2BAQ/%2BRPjqf8A4I8/8E4Lj/Wfs1W4z/zz8S6ov/oN0KqTf8EYP%2BCbsn%2Br/Z7ki/65%2BL9W/rdGvsv/AIVt/wBRr/yW/wDsqP8AhW3/AFGv/Jb/AOyqHkvDz3w1P/wCP%2BRn/q3kF7/VKX/gEf8AI%2BKZ/wDgif8A8E6JvufBe/j/ANzxZqJ/nOaqzf8ABD7/AIJ5S/c%2BGesR/wC54pvP6ua%2B4P8AhW3/AFGv/Jb/AOyo/wCFbf8AUa/8lv8A7KoeQ8OPfC0//AEbRyTKqfwUYr0uvykj4ctP%2BCFP/BPi9uGjbwZ4iQCCVhs8Tz9VjZh1z3AqhL/wQj/YGk%2B5ovitP93xK39UNfe9n4A%2BySmX%2B1t2YnTHkY%2B8hXP3vfNRf8K2/wCo1/5Lf/ZVH%2BrvDTeuFp/%2BAnRHL8PD4U16TqL8qqPgWT/ggv8AsHP92Lxkn%2B74jX%2BsRqI/8EEv2H0ObXWfHsB9YfEcQ/nbmvv/AP4Vt/1Gv/Jb/wCyo/4Vt/1Gv/Jb/wCyqf8AVvhj/oFh/wCA/wDBNVQcdp1F/wBxq/8A80HwEn/BCP8AZGgObP4m/FKD08nxTbjH/krV7T/%2BCG/7NyQXMlp%2B0B8Z7fyoAyiDxlbqM%2BYg5/0T3/QV93/8K2/6jX/kt/8AZVLb%2BAPIini/tbPnRBM%2BR0%2BdWz97n7uPxo/1c4aW2Gj/AOTf/JCeG5t51P8AwdX/APmg%2BDoP%2BCL/AMGbT/jz/ar%2BPEOP%2BeXjyBf/AG0q7D/wSG8DWgxZftrftEw/7nxGiH8rUV9v/wDCtv8AqNf%2BS3/2VH/Ctv8AqNf%2BS3/2VaLIOH47UUvnP/5Yc88swtT4ud/9xa3/AMvPiiP/AIJTWNt/x5/t9ftIxY6bfiWB/K3FfQX7Dn7L1z%2BzZ/wlCz/tFfEvx8us/Ytg%2BInic6l9g8n7Rn7P8i%2BXv835%2Bu7y0/u16r/wrb/qNf8Akt/9lWp4b8N/8I953%2Bm%2Bd523/lntxjPufWtaeV5VhpqpRhaS21n%2BTm1%2BAUMqwWHrKrCL5l3nUf4SqSX4M1KKKK6j0gooooAKKKKACvGvC/wh8LfBi613QfCct1JHrHinU9fvZLyRWc3WoXUl5MBtVQEV5iqDGQiqCWOWPstYOteCf7X1OXUf7T8vzNvyeTnGFA67h6VVONNVVOS1V7Pte1/vsbRxWJp4aeHhJqE3FyXR8jbjf/C5NrzbONorqP8AhW3/AFGv/Jb/AOyo/wCFbf8AUa/8lv8A7Kur2tPuc1mcvTJ4ILqB7a5hSSORCskcigqykYIIPUEdq6v/AIVt/wBRr/yW/wDsqP8AhW3/AFGv/Jb/AOyo9rT7hZnlviv9m/8AZ31U2vhvVPgL4LudO0CzuNK0KwuPC1o8OnWDr5T2sCGPbDC0YCGNAFKgAjHFRT/s%2B/AW50W58NXPwR8ISadeR7LvT38NWpgnX7S93tdDHtYfaZJJ8Ef612f7xJr1y%2B8Afbb2a8/tbb5srPt8jOMnOPvVF/wrb/qNf%2BS3/wBlSVSnYLM898J/Dj4eeAYVt/AvgPRdFjSN40TSdLhtgqPNJO6gRqMBppZZSO7yOx5Yk1LL4NfB/TdT1jWtO%2BFPhq3vPEMqS%2BILuHQrdJdTdX3q1wwTMxDEsC5JBOetem/8K2/6jX/kt/8AZUf8K2/6jX/kt/8AZU/a0%2B4WZ53oPwX%2BDsfi/Utdj%2BE3hlb7xSUt/E94NBtxLq8Jwpjun2ZuEKkjbIWGOKyJP2cv2epfB1r8O5fgR4Mbw/Y3xvbLQm8L2hs7e5OczJD5exJDub5wAfmPPNewWPgD7Few3n9rbvKlV9vkYzg5x96ov%2BFbf9Rr/wAlv/sqXtKdwszzhfhT8Lk8fH4rJ8NtAHik2/kHxINHg/tAxbdvl/aNvmbdvG3djHFb9dR/wrb/AKjX/kt/9lR/wrb/AKjX/kt/9lT9rT7hZnL1a0f/AI%2B3/wCvWf8A9FPW9/wrb/qNf%2BS3/wBlUtn4A%2BySmX%2B1t2YnTHkY%2B8hXP3vfNJ1YW3CzOSorqP8AhW3/AFGv/Jb/AOyo/wCFbf8AUa/8lv8A7Kn7Wn3CzOXorqP%2BFbf9Rr/yW/8AsqP%2BFbf9Rr/yW/8AsqPa0%2B4WZg6f/wAel9/16j/0bHVWutt/AHkRTxf2tnzogmfI6fOrZ%2B9z93H41F/wrb/qNf8Akt/9lSVWF9wszl6K6j/hW3/Ua/8AJb/7Kj/hW3/Ua/8AJb/7Kn7Wn3CzOXq1D/yBbj/r6h/9Blre/wCFbf8AUa/8lv8A7KpU8AbLKSz/ALW/1kqPu8jptDDH3v8Aa/Sk6sO4WZyVFdR/wrb/AKjX/kt/9lR/wrb/AKjX/kt/9lT9rT7hZnL0V1H/AArb/qNf%2BS3/ANlR/wAK2/6jX/kt/wDZUe1p9wszBm/5Atv/ANfU3/oMVVa61/AG%2Byjs/wC1v9XK77vI67gox97/AGf1qL/hW3/Ua/8AJb/7KkqsO4WZy9FdR/wrb/qNf%2BS3/wBlR/wrb/qNf%2BS3/wBlT9rT7hZnL1a1D/j0sf8Ar1P/AKNkre/4Vt/1Gv8AyW/%2ByqW48AefFBF/a2PJiKZ8jr87Nn73H3sfhSdWF9wszkqK6j/hW3/Ua/8AJb/7Kj/hW3/Ua/8AJb/7Kn7Wn3CzOXrvPBn/ACLVt/wP/wBDasv/AIVt/wBRr/yW/wDsq3tF03%2ByNMi07zvM8vd8%2B3GcsT0yfWs6s4yjZDSaZaooornKCiiigAooooAKKKKACiiigAooooAKKKKACiiigAooooAKKKKACiiigAr57%2BLH7UfxU8HfFnXY/Ddj4ePg/wAF%2BJ/Ceg%2BI7S%2BsJ31G/n1q7t4Gmt51nWO3S3S8tpNrQymYrKmY/lavoSvLfHf7JngPx/8AFMfE7UvFPiC1iuL7R77W/DVlcW66drF3pVx9o0%2B4uA8LTB4ZRG37qWNZPIiWQSKgFAHqVFFFABRRRQB8/wDw5/aV%2BIeu/tVeIvhH8QPFWi6JpVt4sudJ8J6NP8ONVin1tItMgvN0WsyXX2KSYFrhzAkRk8q2c4AVnH0BXm91%2BzXpWqfGDT/ix4h%2BKXi/VLfRtcl1nQvCeoX9vJpmm6hJZSWTTxfuBc48me4CwvO0KNOzLGCEK%2BkUAFFFFAHE/tIeMviN8PPgR4r8d/CfT9Fudf0bRZ72xj8QySizXylLu8gh%2BeTagZhGCnmMAnmRhjIvivhz9sn4ya5rkHi6TS/DEfhLTPGnhXwh4i04adcHULjUNZ03TLoXdvcfaPLihjk1myTyXikZljmPmr8or3r4x/DVvjD8NNX%2BGbeOdZ8Ow61ZPaXep6AlobpYJFKyIv2uCeIblJUkxkgHKlTgjzLwJ%2BwZ4F8E6zpOp3Xxc8ba3b6dqNhqd7pWqzactrq%2BpWNuttZX1yttZRMZYYIrWNRE0cbfYrdpEd0LsAe50UUUAFeWftifFj4q/BL4MyfEb4T6ToF1c2WsWKaofELTmOKyluEikMUcJUyykuqqGdFXcXJfYIpPU64H9o74CwftH/DmT4Zaj8T/ABJ4Xsbi6hmvJ/DCWBmuBFIsiRsb21uFVQ6I3yKrEqBuwSCAee/Az9pX4h%2BN/j/4g%2BG3xM8U6LpEUHiTW9P8NeG3%2BHGq2dxqNtZzbUmi1ae6Npdv5WJXihi3BW3YVVJr6Aryvwj%2ByzbaF8QtI%2BIni/44%2BO/GM3h%2B4u7vQ7DxReWL29le3MLQz3SfZ7SGQsySTqsbOYYlndIo40CKnqlABRRRQB4x%2B2Z8Xvjj8DvAk3xI%2BFreEGs9N06ZxpOvWd1c3/iPVWeJLHRrJIZYlhluXZ4xOxmKu0f7hl3EYf7KP7UfxU%2BMGueEJPiRY%2BHl034nfC5fHng6LRLCeCfS7PzbUGzu3lnlW5lEWo2Z86NYVLLMPLxtNdt8Zf2aU%2BL/AMSfDPxSg%2BNPi7wzqPhK1vItHh0KDSZ7dJLkIslyY9QsbkC4EaGJZV2sscsyDAlfdF8DP2TPAfwE1xNa8PeKvEGqpp%2BgLoPhix1u4t3h8PaQsvmiwtBDBG3lZES7pmlk228K78IBQB6lRRRQAV85ft0ftFftK/s36U3jL4V6b4M1aCf7LZ%2BHfB11pt7d6z4gu3aRrySMwzxLBFaWy/amUJMZUgmUtASjV9G15J8Rf2S4PiB8ZLv40wfHzx5oN9eeG49Bex0KTS1igsRI8kqW8s1jJdWjzM4MkkE0cjGGEhgYYyoAv7JHxq8QfGPwpfTeNfHuk6prtgbU6lpdh8P9T8Nz6Z50CyKsttqVxNNIrfMUnXbG4U7d20mvWq4P4PfAaw%2BE2ta54u1D4ieI/F3iDxDHZw6n4g8UPafaHt7VZFt7dVs7e3hVEM078R7maZyzNkY7ygAooooA%2BUv2t/2xP2if2bfjD4c8DWOn%2BELy18eeKbHQPC9td%2BHNTRLA300dnbXk%2BpNMlteSrdvuk0u3RbgW%2B6YSBI2c%2Bz/s5/E/xr8QLLxZ4Y%2BJI0uTxB4I8Yz6Dql9olnJbWl7i2tryGeOGWWZ4c295CGQyyYdXwxGK5P4r/sF/Dz4zeI/7Y8afFTx09ja%2BJv%2BEm0DQYtVtvsuh68ITFFqdqz2zTrJEWeRIpJZLZZHLeT0x6L8HPg/ovwa8PX2kad4g1TWb3V9YuNV1zXdbeE3epXk20NLJ5EUUS4RI41WONFVIkULxQB1tFFFABXxv8cP2zv2t/hR%2B0Bp3wQjtPCsv9q3TT3l7Y/CvxBqJ0Wy8weV5EcdzHJr5MckQlns1jjtZdscq7p4wPsivDZP2GdKTxdY%2BOdM/aS%2BKFnqWgx30HhGeLV7CT%2BwrW8uI57q1jE1k4u4pDDAu2%2B%2B1FFhj8soyhqAPTPg143tPiR8LtF8b2XjLTfECahZCRtY0jTJbK3uHBKvtt5pJZLchgytFI7OjKytgggdNXNfCH4V%2BG/gr8PLD4b%2BFbi8ntbFp5ZLzUZhJcXdxPM9xcXErKqqZJZpZJG2qq7nO1VGAOloAKKKKACiiigAooooAKKKKAMT4leN7H4Z/DnX/iRqdrJPbeH9Eu9SuIYjhpEghaVlHuQhArzH9mb42fGLxl421D4a/G%2BPw3JqieBdA8V2V14X0%2B4toYodSe%2BieydZ55jI8Elkf34KCVZl/dRlTn1/XNF0rxJot54d12xjurG/tZLa8tpRlZonUq6H2Kkg/WuB%2BAv7M3hj4CXV7qtj438SeJNRvNG03Rk1PxPc28s9vpdgJ/sdkhgghBSM3Nw29w8ztMxkkc4wAekUUUUAFcD%2B1L8RvHHwi/Z08Z/E74aaPBf6/ofh%2B4vNIs7rT5ruOWdFyoaGB0klGf4EZWPQEV31ZXjnwqPHHhDUfCX/AAkeq6QdQtWhTVdDvfs95aMfuywyYIV1OCMhlOMMrKSCAcl%2Bzd8ULv4peDdQvdX%2BIOma/qWl61JYan/Z/gi/8OyWEoiikFvPYahPNcRS7JUlBcqHjmjZV2kM3oVcZ8G/grpXwdh166TxfrXiLV/FGtDVfEPiDxA1t9qvbhbaC0jytrDDBGqQW0EarHEgwm45dmZuzoAKKKKAPn39r39q74nfsv8AjKLXB4U0K/8ABVt8OPE3iC%2BVppjqd1d6VYveeTGRiKCLYqruIlZzKeIhHmXrfgJ8Tfi3qnxF8XfBT44z%2BHLzX/DOm6Rqi6p4V0yeztJrXUFuVWMwzzzuJI5rK5BfzMOhjO1DkVX%2BPn7H/h39ovxtpvijxx8WPFlvpdhpV7pk/hLT49L/ALOv7S9i8m9hmM1lJckTw/u2KTIVXmMo3zV0PwV%2BAWk/Bm51jWpfHviLxXreu/ZU1LxD4qntnu5ILaLyre3/ANGghjEcYaRh8m5nmkZmZmJoA7yiiigAr5n/AGk/2pP2k/hL8RvG3hPwl4W8MTWOmeDtJ1bwq66Pf6reOZ9Vhsrma5gt5ImkVFklZbeH5sQhzKfMMcf0xXjvjv8AZDufHHxivvjRF%2B038SdEvrvRo9Mi0/QZtIgt7S3jmE8axs2ntOcTgSESSusnMcgeFmiIB0/7O3xKl%2BKXw8OvXvj3TfEF7balcWeoz6b4SvdCNrPG2DbzWF9NLcW8qgrlZGBIZWCgMM93XIfBv4N6N8GdG1SysvEura5qGu63Nq%2Bva9rrwG71G8kSOLzHFvFFCm2KGGJVjjRQkS8ZyT19ABRRRQB8ofET9qz9q3wd%2B1T4T/Zbs5fhzcah4/vr%2BO2vrPRb%2B6i8Fxwx3N5ZrqB%2B1xG/lvbGxvmjVBabJbV/9YmGPun7NXxV1n4zfBzTvHHibTrW11Zb3UNM1iKw3fZze2F9PY3DxByWETS20jIGJIVlBJIyfPtN/YF0bS7661W2/aQ%2BIv2yTxhc%2BKrG%2BaLQvtFhrE/mI92kv9l75iLWaayWO4M0a2snlBPkiKes/CX4X%2BGvgz8O9M%2BGnhJ7qSy0yJgLm%2BmElxdSu7SzXErgANLLK7yOQACzsQAOKAOjooooAjumuUtZHsoUkmEZMMcshRWbHALAEqCe%2BDj0PSvi3xR%2B25%2B1t4K%2BOL/B/wAV6z4EXStK0cXXivx34Z%2BFGv69YaRqPkmWbRmhtL4SGS3j8mZ7tiimO6j3QwlWz9oajaS3%2Bnz2MGoTWjzQtGl1bbfMhJBAdd6su4dRuUjI5BHFeEeDf2Dp/APgCy%2BG3hb9sD4tWmm2FlPaRCGXQUaWOfJuXm2aUBcTyufNa5lD3Ak3ssqGWbzAD3Dw3q1pr/h2w13T9YtNRgvbKKeDULD/AFF0joGEsfzN8jAhl%2BZuCOT1q7WZ4J8HeHfh34M0j4f%2BENPFppOhaZb6fpdorlhDbQxrHGmWJJwiqMk54rToAKyvG58bDwjqI%2BG66UdeNqw0k620gtFnIwrTCIb2QHkquC2MblzuGrWJ8SPAmn/E3wNqfgPU9X1PT4tStjF/aGjXpt7u1fIZJYZBna6sFYZBUkYYMCQQD488Nf8ABRL9ojW7n4qzxWPhCXTvgfp9nrPiua98Hanpd9r%2BnXDzny4rC5vPP0W4jjsb3AuhOZgbWVY1jmBr7er57/4dzfDK58S%2BIPGGt/Fzx3qOp%2BN7i1b4kXNzd6cg8XwWwhW2tbxIrJEjhijh8pRarbsySyh2cyMT9CUAFFFFAHLfGbVPiLovw%2BvdX%2BGFxpcGo2u2aa61bRrzUkgtUO%2Bdo7KyKz3k3lqwjgjdGdyoBz8rfMX7Kn7eXxn%2BM3xFTTPi1r/hfwxoz%2BIV0jSEX4Y6yBrsmJVH/Exe9NtplzI8ZH2C4V54ZA9u%2B6VGr6g%2BK3w0i%2BKfhqHQl8aa74durTUYL7T9a8OXUcV1azxNuUgTRyQyqRuVo5Y5EZWIK5wR5p4P/YR8F%2BEbywjf4zeP9V0i18V/8JTe%2BHNX1OzlstR103Ul42oSbbVZYmN2/wBoMFvJDbeYikQj5gwB7jRRRQAUUUUAFFFFABRRRQAUUUUAFFFFABRRRQAUUUUAFFFFABRRRQAUUUUAFFFFABRRRQAUUUUAFFFFABRRRQAUUUUAFFFFABRRRQAUUUUAFFFFABRRRQAUUUUAFFFFABRRRQAUUUUAFFFFABRRRQAUUUUAFFFFABRRRQAUUUUAFFFFABRRRQAUUUUAFFFFABRRRQAUUUUAFFFFABRRRQAUUUUAFFFFABRRRQAUUUUAFFFFABRRRQAUUUUAFFFFABRRRQAUUUUAFFFFABRRRQAUUUUAFFFFABRRRQAUUUUAFFFFABRRRQAUUUUAFFFFABRRRQB//9k%3D\">"
            ]
          },
          "metadata": {
            "tags": []
          }
        }
      ]
    },
    {
      "metadata": {
        "id": "UytoRUtJID4Q",
        "colab_type": "code",
        "colab": {}
      },
      "cell_type": "code",
      "source": [
        "def get_tensors_shapes_string(tensors):\n",
        "    res = []\n",
        "    for t in tensors:\n",
        "        res.extend([str(v) for v in get_tensor_shape(t)])\n",
        "    return \" \".join(res)\n",
        "  \n",
        "def get_tensor_shape(t):\n",
        "    return [d.value for d in t.shape]"
      ],
      "execution_count": 0,
      "outputs": []
    },
    {
      "metadata": {
        "id": "sxl56qc-IFDH",
        "colab_type": "code",
        "colab": {
          "base_uri": "https://localhost:8080/",
          "height": 34
        },
        "outputId": "adffe147-0db8-4ad5-b16b-dbdf73e40c14"
      },
      "cell_type": "code",
      "source": [
        "get_tensors_shapes_string([W, b, input_X, input_y, logits, probas, classes])"
      ],
      "execution_count": 25,
      "outputs": [
        {
          "output_type": "execute_result",
          "data": {
            "text/plain": [
              "'784 10 10 None 784 None 10 None 10 None 10 None'"
            ]
          },
          "metadata": {
            "tags": []
          },
          "execution_count": 25
        }
      ]
    },
    {
      "metadata": {
        "id": "LEXKqv-6Dzit",
        "colab_type": "text"
      },
      "cell_type": "markdown",
      "source": [
        "# Submit a linear model"
      ]
    },
    {
      "metadata": {
        "id": "dp8aoYruDzit",
        "colab_type": "code",
        "colab": {}
      },
      "cell_type": "code",
      "source": [
        "## GRADED PART, DO NOT CHANGE!\n",
        "# Testing shapes \n",
        "grader.set_answer(\"9XaAS\", grading_utils.get_tensors_shapes_string([W, b, input_X, input_y, logits, probas, classes]))\n",
        "# Validation loss\n",
        "grader.set_answer(\"vmogZ\", s.run(loss, {input_X: X_val_flat, input_y: y_val_oh}))\n",
        "# Validation accuracy\n",
        "grader.set_answer(\"RMv95\", accuracy_score(y_val, s.run(classes, {input_X: X_val_flat})))"
      ],
      "execution_count": 0,
      "outputs": []
    },
    {
      "metadata": {
        "id": "x9ZwrwzLDziv",
        "colab_type": "code",
        "colab": {
          "base_uri": "https://localhost:8080/",
          "height": 34
        },
        "outputId": "88c85361-b265-457c-851d-333f3fb447e2"
      },
      "cell_type": "code",
      "source": [
        "# you can make submission with answers so far to check yourself at this stage\n",
        "grader.submit(COURSERA_EMAIL, COURSERA_TOKEN)"
      ],
      "execution_count": 27,
      "outputs": [
        {
          "output_type": "stream",
          "text": [
            "Submitted to Coursera platform. See results on assignment page!\n"
          ],
          "name": "stdout"
        }
      ]
    },
    {
      "metadata": {
        "id": "PTF-9cMBDziy",
        "colab_type": "text"
      },
      "cell_type": "markdown",
      "source": [
        "# Adding more layers"
      ]
    },
    {
      "metadata": {
        "id": "D8Rhg5MCDziy",
        "colab_type": "text"
      },
      "cell_type": "markdown",
      "source": [
        "Let's add a couple of hidden layers and see how that improves our validation accuracy.\n",
        "\n",
        "Previously we've coded a dense layer with matrix multiplication by hand. \n",
        "But this is not convinient, you have to create a lot of variables and your code becomes a mess. \n",
        "In TensorFlow there's an easier way to make a dense layer:\n",
        "```python\n",
        "hidden1 = tf.layers.dense(inputs, 256, activation=tf.nn.sigmoid)\n",
        "```\n",
        "\n",
        "That will create all the necessary variables automatically.\n",
        "Here you can also choose an activation function (rememeber that we need it for a hidden layer!).\n",
        "\n",
        "Now add 2 hidden layers to the code above and restart training.\n",
        "You're aiming for ~0.97 validation accuracy here."
      ]
    },
    {
      "metadata": {
        "id": "dbfftSepDzi2",
        "colab_type": "code",
        "colab": {}
      },
      "cell_type": "code",
      "source": [
        "# you can write the code here to get a new `step` operation and then run cells with training loop above\n",
        "# name your variables in the same way (e.g. logits, probas, classes, etc) for safety\n",
        "### YOUR CODE HERE ###\n",
        "hidden_units = 256\n",
        "\n",
        "W1 = tf.get_variable(\"W1\", [n_x, hidden_units], initializer = tf.contrib.layers.xavier_initializer(seed=1))\n",
        "b1 = tf.get_variable(\"b1\", [hidden_units, 1], initializer = tf.zeros_initializer())\n",
        "W2 = tf.get_variable(\"W2\", [hidden_units, n_y], initializer = tf.contrib.layers.xavier_initializer(seed=1))\n",
        "b2 = tf.get_variable(\"b2\", [n_y,1], initializer = tf.zeros_initializer())"
      ],
      "execution_count": 0,
      "outputs": []
    },
    {
      "metadata": {
        "id": "UWR2LIbmQZmJ",
        "colab_type": "code",
        "colab": {
          "base_uri": "https://localhost:8080/",
          "height": 102
        },
        "outputId": "c0e0eca1-7d94-43ef-f678-f5c62aa95904"
      },
      "cell_type": "code",
      "source": [
        "# add hidden layers\n",
        "Z1 = tf.add(tf.matmul(input_X, W1), tf.transpose(b1))\n",
        "print(Z1.shape)\n",
        "A1 = tf.nn.relu(Z1)\n",
        "print(A1.shape)\n",
        "Z2 = tf.add(tf.matmul(A1, W2), tf.transpose(b2))\n",
        "print(Z2.shape)\n",
        "\n",
        "beta = 0.001\n",
        "regularizers = tf.nn.l2_loss(W1) + tf.nn.l2_loss(W2)\n",
        "\n",
        "probas = tf.nn.softmax(Z2) # apply tf.nn.softmax to logits\n",
        "print(probas.shape)\n",
        "classes = tf.argmax(probas, 1) # apply tf.argmax to find a class index with highest probability'\n",
        "print(classes.shape)\n",
        "\n",
        "# Loss should be a scalar number: average loss over all the objects with tf.reduce_mean().\n",
        "# Use tf.nn.softmax_cross_entropy_with_logits on top of one-hot encoded input_y and logits.\n",
        "# It is identical to calculating cross-entropy on top of probas, but is more numerically friendly (read the docs).\n",
        "loss = tf.reduce_mean(tf.nn.softmax_cross_entropy_with_logits(labels=input_y, logits=Z2) + beta * regularizers)\n",
        "\n",
        "# Use a default tf.train.AdamOptimizer to get an SGD step\n",
        "step = tf.train.AdamOptimizer(1e-3).minimize(loss)"
      ],
      "execution_count": 36,
      "outputs": [
        {
          "output_type": "stream",
          "text": [
            "(?, 256)\n",
            "(?, 256)\n",
            "(?, 10)\n",
            "(?, 10)\n",
            "(?,)\n"
          ],
          "name": "stdout"
        }
      ]
    },
    {
      "metadata": {
        "id": "okmV9C_0QbPM",
        "colab_type": "code",
        "colab": {
          "base_uri": "https://localhost:8080/",
          "height": 309
        },
        "outputId": "35c3e81c-4617-41a8-a297-f0ef54673d96"
      },
      "cell_type": "code",
      "source": [
        "s.run(tf.global_variables_initializer())\n",
        "\n",
        "BATCH_SIZE = 512\n",
        "EPOCHS = 40\n",
        "\n",
        "# for logging the progress right here in Jupyter (for those who don't have TensorBoard)\n",
        "simpleTrainingCurves = matplotlib_utils.SimpleTrainingCurves(\"cross-entropy\", \"accuracy\")\n",
        "\n",
        "for epoch in range(EPOCHS):  # we finish an epoch when we've looked at all training samples\n",
        "    \n",
        "    batch_losses = []\n",
        "    for batch_start in range(0, X_train_flat.shape[0], BATCH_SIZE):  # data is already shuffled\n",
        "        _, batch_loss = s.run([step, loss], {input_X: X_train_flat[batch_start:batch_start+BATCH_SIZE], \n",
        "                                             input_y: y_train_oh[batch_start:batch_start+BATCH_SIZE]})\n",
        "        # collect batch losses, this is almost free as we need a forward pass for backprop anyway\n",
        "        batch_losses.append(batch_loss)\n",
        "\n",
        "    train_loss = np.mean(batch_losses)\n",
        "    val_loss = s.run(loss, {input_X: X_val_flat, input_y: y_val_oh})  # this part is usually small\n",
        "    train_accuracy = accuracy_score(y_train, s.run(classes, {input_X: X_train_flat}))  # this is slow and usually skipped\n",
        "    valid_accuracy = accuracy_score(y_val, s.run(classes, {input_X: X_val_flat}))  \n",
        "    simpleTrainingCurves.add(train_loss, val_loss, train_accuracy, valid_accuracy)"
      ],
      "execution_count": 37,
      "outputs": [
        {
          "output_type": "display_data",
          "data": {
            "text/html": [
              "<img src=\"data:image/jpeg;base64,/9j/4AAQSkZJRgABAQEASABIAAD/2wBDAAIBAQEBAQIBAQECAgICAgQDAgICAgUEBAMEBgUGBgYFBgYGBwkIBgcJBwYGCAsICQoKCgoKBggLDAsKDAkKCgr/2wBDAQICAgICAgUDAwUKBwYHCgoKCgoKCgoKCgoKCgoKCgoKCgoKCgoKCgoKCgoKCgoKCgoKCgoKCgoKCgoKCgoKCgr/wAARCAEgA2ADASIAAhEBAxEB/8QAHwAAAQUBAQEBAQEAAAAAAAAAAAECAwQFBgcICQoL/8QAtRAAAgEDAwIEAwUFBAQAAAF9AQIDAAQRBRIhMUEGE1FhByJxFDKBkaEII0KxwRVS0fAkM2JyggkKFhcYGRolJicoKSo0NTY3ODk6Q0RFRkdISUpTVFVWV1hZWmNkZWZnaGlqc3R1dnd4eXqDhIWGh4iJipKTlJWWl5iZmqKjpKWmp6ipqrKztLW2t7i5usLDxMXGx8jJytLT1NXW19jZ2uHi4%2BTl5ufo6erx8vP09fb3%2BPn6/8QAHwEAAwEBAQEBAQEBAQAAAAAAAAECAwQFBgcICQoL/8QAtREAAgECBAQDBAcFBAQAAQJ3AAECAxEEBSExBhJBUQdhcRMiMoEIFEKRobHBCSMzUvAVYnLRChYkNOEl8RcYGRomJygpKjU2Nzg5OkNERUZHSElKU1RVVldYWVpjZGVmZ2hpanN0dXZ3eHl6goOEhYaHiImKkpOUlZaXmJmaoqOkpaanqKmqsrO0tba3uLm6wsPExcbHyMnK0tPU1dbX2Nna4uPk5ebn6Onq8vP09fb3%2BPn6/9oADAMBAAIRAxEAPwD9/KKKKACiiigAooooAKKKKACiiigAooooAKKKKACiiigAooooAKKKKACiiigAooooAKKKKACiiigAooooAKKKKACiiigAooooAKKKKACiiigAooooAKKKKACiiigAooooAKKKKACiiigAooooAKKKKACiiigAooooAKKKKACiiigAooooAKKKKACiiigAooooAKKKKACiiigAooooAKKKKACiiigAooooAKKKKACiiigAooooAKKKKACiiigAooooAKKKKACiiigAooooAKKKKACiiigAooooAKKKKACiiigAooooAKKKKACiiigAooooAKKKKACiiigAooooAKKKKACiiigAooooAKKKKACiiigDxPxd/wAFFP2PvAmoXmn%2BK/ipc2gs9UbTReHwpqj2l5eLfw6fJb2lwlsYb2SO7nigkW3eQxOxD7drY2j%2B2f8As6R%2BObL4c3XjHUbfVLy6sLNlu/Cmpw29le3sUctpY3dw9sIbG8lSWIraXDxzkzRjy8uoPiVz%2Bxn%2B1bH4C8N/s66Zqfw9HgXwn8W9N8V22tXOo3r6rqtnb%2BLrXWxbyQC1EVrLHAlxFvEswuJFiJ%2Bzqzbeh8cfsffGzXfGPi3wPoup%2BFv%2BEA8c/F7QfHuq61dalcrrOnvp8mlTyWEVqtu0Mwll0mLbcNcRmJLhh5TmNSwB6Fa/t1fsv3cGr3w8f30Nno2n3N7LqV54U1OC0vYLedLeZ7G4ktli1HbNJHHi1aYlpEAB3rns/hT8ZfAXxp0m91fwJc6njTdQNlqVnrfh690q8tJxGkuyW1voYZ48xyxupZAGVwQSDmvmbTf2IPj5a6t4mtbTwl8ONN8MazoOp22reBV8Za1feHfFN5cXcEsdw2mTwCPQGCJcEvZyTnzLkMRL5Q3egfs4/sm%2BOvDGmXP/AAu3xl4hhgsfFa6n4L8M6H8ZPEOpQaLbC3tla2mvpmtZtTheeGSUQXUbxRLKY1BQnIB0kX7eP7Kk0fiC6HxNlW18N6Jqur32oy%2BHdQS0urLTSRfzWVw1uItSFuRiQWjTFSQCMkZ5vx3/AMFL/wBmXwh4Vl8TaPd%2BJtceDxF4b0yXTdP8Dav9qeLW78WdnfwxNaB7m1crO0c8IeOZoTFEzyvGjeKaH/wSx%2BI%2BjfBrXPgl5eiXX9m/DfxR4c8C%2BK9W%2BK/ia/LzajZT2VtI%2Bkz5sdLUQzFZjALjJGY0j4A7z4//ALEPxs8d%2BOH%2BIfw%2B1Pwo9zp/hz4cxaTp2r6nc20dzfeG/FE2szxSyRW0phhlidIklVJGDliYsAbgD1V/25/2ZFtteu4/G%2BpzJ4b8Sf8ACPakLbwfqsrPq/nPCdOt1S1JvLsOhJggEkgQrIV2MrGpqn/BQX9lDSbTRp5PH%2Bq3U%2Bv2Wq3WmaXpfgnWLy/ZNMuIrfUFks4LR7iGW3lmRZIpI1kT5iVwjleFtv2OvjToXha08QaFfeFZvFegftCaz8R9G0y61O5j0%2B%2Bgvl1C3NnPcrbNJDILbUZSJFhlCyxJ8rCvMNI%2BEf7S3wX/AG5vCGqeD9N8Dav478U%2BA/iX4l1jSNT128tdItftmt%2BFwlvBdpZyzN5Srb5kNuvnFZfli8wbQD6jsf2yP2adU8Gaz8QtK%2BKVvd6PoNxpMGoXtpY3MoLapDaTaeYVWMtcrcJfWvlvCHVmkKZ3I6r6bXwN8Nv2Q7XwR%2B1Z8Ff2dvBXxLsNdsPh58M9Ff432dmnD3ugLu8PPKqki2klutRnuUjf52i06PGVQGvvmgAooooAKKKKACiiigAooooAKKKKACiiigAooooAKKKKACiiigAooooAKKKKACiiigAooooAKKKKACiiigAooooAKKKKACiiigArzb4q/tdfs/fBPxlH4D%2BJPje4stR%2By2l1efZ9Bvru3023urh7a2nvbi3geGwilmjkRJLl41YxvgnY2PSa%2BQ/28f2Kv2o/2pNZ8Z6N4R%2BIWn/8I5rvhC0s/DFtqHxB1rSoNGvoXnkm8/TtPi8jU47ljApluZG8hVJWCXbscA9gh/br/ZUku9btpviqtrFoGn6hfXeoahot7bWVzb2EywXslndSwrDqAhldI3%2ByvKVd1U8sAdDwJ%2B2B%2Bz78R/EmneC/DXjC%2Bj1vVNTutPt9D1fwzqOnX0Vzb2kd5LHPb3dvHLbH7NLHMvnKgkSRShbIrwzQ/wBjX9rW8/ZXP7IXiDWvh5pWgaLpEn9ga1ZX99qF3qF9FqUN9YC5R7e3W2hjMRinKNO1xuDqIOYz1/jH4S/tp%2BNfiB4H%2BPWqaH8ME1/wZ4l1CS08HQeJtQWzGmXel/ZHLambAyTXAnHnAfY408s%2BVnK%2BawB2uh/t0/steJddsPDmh/EuW4utR0KfWotnh7UBFDpsM9zbzXk8pg8u1gSa0njaSZkUMEBP72Le3w9%2B3Z%2By74m8J6741sviFe21l4dsdPvdSj1fwrqdhctbX8jRWM0Ftc20c13Hcyq0UDQJIJpAUjLN8teO/s%2BfsI/tK/Bjw3q7xfFHwvY%2BKLj4J3fhXR/EWlxzSrY61Jq2rX0V6IZYgDAn263baWJ3RuuCAGbkrH/gnN%2B1HceNNR%2BImoa74div59G8Iz2dvrXxT1/xIw1jw7r39rQrLc6hbB/st3vlR/JSJbU7WjgmJY0AfUHw9/bC/Z2%2BJ%2Buy%2BF/Cnj%2BRdTttLvdQvdN1fRL3Tbizgs5Yorrz47uGJoHia4ty8UgWRVnicrskRj2nw98e%2BFvip4C0T4m%2BBr%2BS70XxFpNvqWkXU1nLbtNazxrLE5imVJIyUZTtdVYZwQDxXxx%2B3H8PfjP8Ybb4c/D3xh4x8IaH8UvFXjTUNFj8PeD724unh8D6lZNaa0vnSpDLMYoUS7N2YYIxPDbRBdxQyfbOnadYaRp8Gk6XZx29rawrDbW8KBUijUAKqgcAAAAD2oAmooooAKKKKACiiigAooooAKKKKACiiigAooooAKKKKACiiigAooooAKKKKACiiigAooooAKKKKACiiigAooooAKKKKACiiigAoor5h/Zh%2BOXxm8afEbwPd%2BN/iLcappvxT8FeJteTQn0yziTw29hqWnxW0Ns8UKyuggvzHKbh5mMsSMpQMyUAfT1ZnirWbvQ9PS7tEjZmmCESKSMYJ7EeleU/szyfE/UPir8Q21z49eJPF/hbw/f22gaTH4i07SY3bUoovPvrhH0%2Bxtt0YNxBbBX3bZLW4PRlxt/Fz4ozaX8a/B/wOXTICnibw5resC/luhGYn0%2BbTYhEA2AwddRdic5Hkjg5OE6lOnJOezaXzei/E6cLg8RjZSjRV3GMpv8AwwjzSfyWtt30Nz/hYetf8%2Btr/wB8N/8AFUf8LD1r/n1tf%2B%2BG/wDiqy/7Hu/%2Be1r/AOB0X/xVH9j3f/Pa1/8AA6L/AOKrt5KXY47s1P8AhYetf8%2Btr/3w3/xVH/Cw9a/59bX/AL4b/wCKrL/se7/57Wv/AIHRf/FUf2Pd/wDPa1/8Dov/AIqjkpdguzafx3rC6fFdi3ttzzSIRsbGFCEfxf7RqH/hYetf8%2Btr/wB8N/8AFVUl0q6OkQR%2BbbZFzKT/AKZFjlY%2B%2B7Hb/Oarf2Pd/wDPa1/8Dov/AIqkoU%2BwXZqf8LD1r/n1tf8Avhv/AIqj/hYetf8APra/98N/8VWX/Y93/wA9rX/wOi/%2BKo/se7/57Wv/AIHRf/FU%2BSl2C7NT/hYetf8APra/98N/8VU11471iCC3lW3tiZoS7ZRuDvZf73%2ByKxf7Hu/%2Be1r/AOB0X/xVWb7SrprazUS23y2xBzeRD/lq54%2Bbnr2pOFO%2BwXZb/wCFh61/z62v/fDf/FUf8LD1r/n1tf8Avhv/AIqsv%2Bx7v/nta/8AgdF/8VR/Y93/AM9rX/wOi/8AiqfJS7Bdmp/wsPWv%2BfW1/wC%2BG/8AiqP%2BFh61/wA%2Btr/3w3/xVZf9j3f/AD2tf/A6L/4qj%2Bx7v/nta/8AgdF/8VRyUuwXZtX3jvWLWdYkt7YgwxvyjdWRWP8AF71D/wALD1r/AJ9bX/vhv/iqqarpV1Jcqyy23/HtCPmvIh0iUd2qt/Y93/z2tf8AwOi/%2BKpKFO2wXZqf8LD1r/n1tf8Avhv/AIqj/hYetf8APra/98N/8VXIePvGfgP4U6EPFHxR%2BIvhrw1phnWAajr/AIjtLOAysCVTzJpFXcQpwM5OD6Vxf/DYv7HX/R4Pwl/8OZpP/wAk1hVxGAoy5alSMX2cop/c5J/gerg8hz/MaPtsJhK1WF7c0KVWcbrdc0KU1ddVe66pHsf/AAsPWv8An1tf%2B%2BG/%2BKqbUfHesWeoT2kdvbFYpmRSUbJAJH96vFv%2BGxf2Ov8Ao8H4S/8AhzNJ/wDkmu88LeOvh/8AF%2B2uvGPwn%2BI/hrxNpL38sa6noHiK0vIN4OSm%2BKRlDAMpK5yMj1pU8TgK0%2BWnUjJ9lKLf3KTY8ZkOf5dQ9ti8JWpQulzTpVYRu9lzTpQV30V7vomdP/wsPWv%2BfW1/74b/AOKo/wCFh61/z62v/fDf/FV4b40/bC%2BEHw5%2BLOvfCTxu2s2l3oUOkA3dt4dvbyK9udRNx5Frbm2hkE0pEHCoWLM5UDcjgWtd/ar%2BEemalf8Ah628ReXqWn6hb2zw6zpl/YwXIfVLfTXe2na2ZbxUuLmKMvB5kavJH5jxo/mDp5aR5Op7R/wsPWv%2BfW1/74b/AOKqbTvHesXmoQWklvbBZZlRiEbIBIH96vGfh5%2B1N8D/AIralLpPgDxTe6hOlstzGo8PX8QuoftQtHlt2kgVblI52CStEXEJOZSg5rP%2BOv7TmsfAXxVfjSvh7Z67Y%2BDPB7eMfHV0/iVLWSw0iOZ1zbRrFL9ruGW3u3EJaIEQY3guopONKwanuH/Cw9a/59bX/vhv/iqP%2BFh61/z62v8A3w3/AMVXlPx3%2BK3ib4NXfhBdO%2BH0et2fiXxdYaLqGpL4gtreLS1urmK3SUrl3mcvMCEVQpVJC0iEKH4GL9sbWpvF3xN0O28G%2BEbxPhvHqryaDpnxFSfxNqq2Vok%2B6DSvso%2BWVnWJW88jcR1J20ctLsGp9Kf8LD1r/n1tf%2B%2BG/wDiqP8AhYetf8%2Btr/3w3/xVfH7f8FILVfBp8U/2P8N/sg8TNpH/AAl//C3Yv%2BESJGljUMDWPsXM5B8nyfIx5ild%2BRiun8J/tsaj4o8Q6f5/wjXStFutY0XQ7xtX8TQwava6vqejW%2BqW9t9gaPa0YW6hgeUzqVmEo2bYmei1EPePp%2Bx8d6xdTtE9vbACGR%2BEbqqMw/i9qh/4WHrX/Pra/wDfDf8AxVfMkP7a/wARNH8C/FbxNL8B9H1XWfhd4aGoalpXhj4j2t9arI9vevPY3N4YUW3vLVLUvcQxpOUWeAr5hkArrvjH8cviH8KYNK8VQ/CSwv8AwvcNo8ep6xL4wghuBPqN8lnHbWdqscjXcyNIjusjQKRIgjaRi6orUr7D1Pbf%2BFh61/z62v8A3w3/AMVR/wALD1r/AJ9bX/vhv/iq%2BerH9pb4p6h8U/EvwasPglol/wCItH0OTUrTStI%2BI9pcTW4%2B1Qw20Wq/u1j0x54pxcxqr3DNDDcFQzRqr8vrH7e2p6Pd23g258BeELfxSNV1uzvrTVfijbWOlyHTJrWGSOyv7i3UXVxLLeRRRQvHCDJFcq7p5JJdqPYWp9W/8LD1r/n1tf8Avhv/AIqprbx3rE8FxK1vbAwwh1wjcneq/wB7/aNfLfj39u2x%2BGWoeIdZ8ZeArSLwvo%2Bq67pFnfWvieKXVLzUdJ0mfVLiM2HlgRxNBa3Ajk85ixEWUUTKab41/bm8VfCFb/wl8Vvhx4M8NeIIdTtbO/utc%2BKC2/h6ytrizlvYLiXVGssxs7Wk9usZgAMqYDkMpZNUrD1PqD/hYetf8%2Btr/wB8N/8AFUf8LD1r/n1tf%2B%2BG/wDiq8K%2BG/7R/if4g/E3wJ4Iuvg1d6Fp/jr4XT%2BLrXUtY1u3Se2lhbS/MsHtVywdBqaB3dkw8TKqOMsq%2BA/jn8YPiT4P8U3/AIa%2BAFtF4i8O%2BOf%2BEeTw/qXje0iQR%2BVaz/a7m4RHEIWK5BeOFbghkKoZM7g%2BWl2Fqe6f8LD1r/n1tf8Avhv/AIqtnwl4ivde%2B0fbIol8rZt8pSM53dck%2BleQfAD4iXPxy%2BFdj8SP7HtNNe5u760ntI9YiuIvNtLya0keGYhPPgd4GeKXYvmROj7V3YHqvgCzltPtfmvEd3l48qdH/vddpOKmpGmoXQ1e50dFFFcxQUUUUAFFFFABXM%2BIPGWqaTq82n28FuyR7dpdGzyoPZveumrg/Gf/ACMtz/wD/wBAWtaUVKWonsWv%2BFh61/z62v8A3w3/AMVR/wALD1r/AJ9bX/vhv/iqwaK6PZw7E3Zvf8LD1r/n1tf%2B%2BG/%2BKo/4WHrX/Pra/wDfDf8AxVYNFHs4dguzpNR8d6xZ6hPaR29sVimZFJRskAkf3qh/4WHrX/Pra/8AfDf/ABVZeuf8hq8/6%2BpP/QjVWkqcLbBdm9/wsPWv%2BfW1/wC%2BG/8AiqP%2BFh61/wA%2Btr/3w3/xVYNFP2cOwXZ0mneO9YvNQgtJLe2CyzKjEI2QCQP71Q/8LD1r/n1tf%2B%2BG/wDiqy9D/wCQ1Z/9fUf/AKEKq0vZwvsF2b3/AAsPWv8An1tf%2B%2BG/%2BKo/4WHrX/Pra/8AfDf/ABVYNFP2cOwXZvf8LD1r/n1tf%2B%2BG/wDiqmsfHesXU7RPb2wAhkfhG6qjMP4vaubq1o//AB9v/wBes/8A6Kek6cLbBdmp/wALD1r/AJ9bX/vhv/iqP%2BFh61/z62v/AHw3/wAVWDRT9nDsF2b3/Cw9a/59bX/vhv8A4qj/AIWHrX/Pra/98N/8VWDRR7OHYLs6S28d6xPBcStb2wMMIdcI3J3qv97/AGjUP/Cw9a/59bX/AL4b/wCKrL0//j0vv%2BvUf%2BjY6q0lThfYLs3v%2BFh61/z62v8A3w3/AMVR/wALD1r/AJ9bX/vhv/iqwaKfs4dguze/4WHrX/Pra/8AfDf/ABVTJ471htPluzb225Jo0A2NjDByf4v9kVzdZmqfFD4Z%2BG7G407xF8RNCsLj7TEfIvdXhifhZM/KzA1E1RgrysvXT82bUKGJxM%2BWjCUn2inJ/ck3%2BB2P/Cw9a/59bX/vhv8A4qj/AIWHrX/Pra/98N/8VXl2tftHfs9eG7JtS8Q/HjwZYW6/envPFFpEg/FpAK871j/gpz%2BwLod8dPvf2pfC7yL1azuHuE/77iRlP51zVcbldD%2BLVhH1lFf%2B3HuYDhDi/NL/AFPLsRVt/JQrS/FUrfifSv8AwsPWv%2BfW1/74b/4qj/hYetf8%2Btr/AN8N/wDFV8u3f/BVf/gnvZQ%2BfN%2B09ojL6Q2t1I35LETWLN/wWK/4J9PIYNE%2BMt/q0qnBi0zwdqkhz9TbAH865pZzkEN8TT/8Dj%2BjZ7FHww8S66vDJcW1/wBg9VL73CK/E%2Bwn8d6wunxXYt7bc80iEbGxhQhH8X%2B0ah/4WHrX/Pra/wDfDf8AxVfJMn/BWr9nq%2B0yGDwz8Kfi1rRW4kYNpfw4u2DAqgGC%2B30/lVf/AIeZz6n8nhD9gf8AaJ1Fj92WT4dC3hP/AAN5uPyqFneRvaqn6Kb/ACgzb/iFfiJH%2BJl84f450Kf/AKcxMPyPr7/hYetf8%2Btr/wB8N/8AFUf8LD1r/n1tf%2B%2BG/wDiq%2BQf%2BG%2Bv2gh/pD/8E0viz9nP3GBtTIR7x78ij/h4h8Vf9WP%2BCb/xx3jqP7Bg2/8AfXm80f21lHd/%2BC6n/wArD/iF/Gr2o036YrBv/wB2z6%2B/4WHrX/Pra/8AfDf/ABVTXXjvWIILeVbe2JmhLtlG4O9l/vf7Ir47P7d37TmsHyvBv/BMv4lzydhrep2enLn/AHnLCrF3%2B1T/AMFLJba1lH/BKxBF5B8lW%2BN2kh2XzHOSPL4OcjHtR/bGWt%2B7Gb9KVV/%2B2IP%2BIZ8VR/iyw1N9p43BRf3PEyPrb/hYetf8%2Btr/AN8N/wDFUf8ACw9a/wCfW1/74b/4qvkE/tKf8FNtX/daZ/wTU0vSW6edq3xi0%2Bdc/SGMHFH/AAtf/grEn71/2Tvhi4PIiTx3IGX2JK4Jo/tbBv4aVV/9wqn6pfkH/EOM5jpUxuCi%2Bzx2Ff8A6RKa/E%2Bvv%2BFh61/z62v/AHw3/wAVXTeH9Rn1bSIdQuFRXk3bggIHDEd/pXw3/wALr/4KqR8P%2BxJ4Fk90%2BJKDP5pX1r%2BzPrnxS8SfBHRNa%2BNXgWy8NeJphc/2nomnaoL2G2xcyrHtmAAfdGEc8cFiO1aU8dQxMuWFOcXv70JRX3vS/keRnXCeOyLCrEVsRh6ib5bUcTRrSvZu7jTfMo6fE1ZOy3aO7ooorc%2BZCiiigAooooAKKKKACiiigAooooAKKKKACiiigAooooAKKKKACvPfB/7LHwP8A%2BNrj4heEPC99Y6pPcTyiSPxHfmG38%2B4NzcRQQNOYraGac%2BbLDEiRyuqM6sUUj0KigDG8EeAPCPw40y70fwZpP2O3vtZvtVu0NxJKZLu8uZLq4kzIzEbppXbaDtUEKoVQFHzz%2B1lrH9m/t9fs%2B2W/H9oeF/HFvj1wmjy4/8AIX6V9P18e/t63U%2Bl/wDBQr9k/U84gkuPG1lMf9qXS7YoP%2B%2Bo/wBK8/Mp%2BzoQl/08pfjUiv1PtuAMOsXndek%2BuFxv3rCVpL/0k9yooor6A%2BFCiiigC1N/yBbf/r6m/wDQYqq1am/5Atv/ANfU3/oMVVaSAKKKKYBVrUP%2BPSx/69T/AOjZKq1a1D/j0sf%2BvU/%2BjZKT3QFWiiimAUUUUAWtY/4%2B0/69YP8A0UlVatax/wAfaf8AXrB/6KSqtJbAYnj74afDn4raEPC/xR8AaJ4l0wTrONO1/SobyASqCFfy5lZdwDHBxkZPrXF/8MRfsX/9GifC/wD8IHTv/jNbPx9/aL%2BDf7L/AIEX4l/HPxj/AGHojX0dmt7/AGfcXOZ3DFE2W8cj8hG5xjjk9K8V/wCHzX/BNf8A6OQ/8s/Wf/kOvJxuKyCjX5cZOkp2Xx8l7dPiTduxpHjevw%2BvqkM0lh18XIsROktevLGrBa235dbbux6j/wAMRfsX/wDRonwv/wDCB07/AOM13vhn4Y/DX4SQ3fhL4U/D3Q/DGlDUJZRpnh7SYbK3EhOC/lwqq7iFUE4zwPSvnH/h81/wTX/6OQ/8s/Wf/kOvcfgv%2B0l8Fv2qfDF38U/gL4z/ALe0FtWntRf/ANnXNr%2B9TazLsuI434Dqc7cc9etLBYrIa2I5cHOk52fwcl7dfhSdu4S43r8QL6pPNJYhfFyPETqrTryyqzWl9%2BXS%2B6ucV45/ZU1Pxj%2B0Anxlh%2BI1va2BvtBvbjRX0JpZnuNMa%2B2Fbj7QqqkiXpBUxMVaMMGIO0eZR/8ABMi%2Bj8ew%2BOl%2BMWircC7nOoXkfgILqGqwP4g07WkN5d/bN9xcI%2BnLAJWGwRyHbChB3e1eJ/2nvAXhPxlffD/U9G1ltYs/EOlaVDYwW0TPe/b4WmjuoR5g3QJHDeGRjtcfYLjaj7U3%2BPaz/wAFN/BHiLTrK/8Ahhp/lfZNdnt/FMGoPY6lLb2f/COa3qsMsP8AZ%2BoPCZTLpWwwyTI4AkVljLpIPVfJ1I1PRPhb%2Bypq3wn1PwjrOh/Ei2uLjwr4T1LQsXWgsUukvNTs72SXC3AKMqWrRKMsN0oc5CGN7Xxy/ZQvfjv4qvG0r4jJoVj4w8Jt4Q8c2smjfan1DSJJnYrbyCaP7LOFuLtBKyyqBcE%2BWSqmuYf9tq98QfErwP4L%2BHnwy1i%2B03XPFt7ouq69dWdvHb3kttoF9qMlvZf6ZvjnWe3hiJnURECZVdtvmL33xQ%2BJPxQ074jeAvhX8In0TTde8WXF5cvqHijTZb23sre0hR3UwW9xCZJGlmgTIlCqpdvmwAR8vKw1uZ/7QHwX%2BMPxg0nQ9K8LfFfwzoa6N4ttdbL3/gm4vvO%2ByXUVxawgJqMG3HllZG58zcCoixg8t8ZP2MPE/wAfZrzRPiT8Y7P/AIR%2BT%2B15tPttF8IR2moW9zqGjXOlSGS689kmiSK8ndUMIcssPmSyCM73fEL9qD4nt%2BwFD%2B1z8K/C2gxavL4Di8S3Ona/NNJbWifY/tMsQEO1p2DDyl%2BaMfNvLfLsaj8Xv2tPiJ4B/aftPhDpVjpJ0o6l4dtHin0G8nNyupXUkMskmpxyi00x4lTdFb3KGS6ZVSIlpU2j5eoakh/Y0%2BJX/CdN8av%2BF1%2BHv%2BE2e/Z3mPgGQ6KbY6cths%2Bwf2h5nnbFB8/7QeCY9uz5aj0j9gHS9L1nwPBN480%2B50bwHoulWOk3Eng62HiDOn2X2eBf7VDA/Z/NCXZhMLHzl4kEZ8qodL/az%2BMnj/UfixJ8NPCvhr%2BzPDvgvSNe%2BHV9q73CjUra5uNWt5r248snfC39mNNbxx7DLE0ZaVPOzFreOPjD%2B0NcfCr4cePfht4l8GWuqeOYNHtYdA1bwjd3huL67jE9w8c0eow%2BVDDbLcTlSkjbLZ/mYkCj3Q1GXf7Hvxn8V%2BF/H1jr/wC0Rol14j8cfDmPwdc6/J4BkWJNNht9QVppbdNQUzXrm%2BlJlEiRLtULABuDXdS/Zy%2BPGs/EHwd471z42eDr5PCGkrBa6TefDu7a1S%2BMkiy6hCo1ceXO1s0cCNJ5xixMyECd0EVt%2B1D47%2BF/7QWt%2BCfjXd6Enh%2B08Ga3riHTPD1/bT20cEtvFaQQ3NxJ5eszTR3PzpaRL9nmEcTbjNEX82vv25/j7pfgKx1nxzp3gbwXqUuo%2BL0vJ9btrm6skn0q5ijs9EVo7iPdfXCSyYlVmDGymMdu%2B5VVe6mGp6B4p/ZP%2BOfiTUL/AMQD9qWO31m38Lap4f8ACeux%2BDyt5YWmoXtpcTPdSR3ifa5kjs44oZIhbCMs0hV2xij4k/Yb8Ra/4DsPClj498G6Pc2ng7WPB7yaT8PJRZ/2FqQtjNHHbzajI63Qe2Di4eWRGMj%2BZDITuqj4k/bj8a6/4u0OD4M%2BC7C70K98GX9/qF5qMUsszasNIGpW1hCsTqG8uMxGc4OftMaIQyybbHhD9pT4oeIfgDrvxK1L40eELHWfC2lw6t4msb34O6xaS2Fq1o8xiFldapHNM0jKRFOr%2BXJ5bqqseVfuhqTfEX/gnx4Z%2BLPjDUtR8d%2BKtMl0m40e9sdPksPCMFvrkX2nR5NJ/wBI1RXLXccUFxdNGjRKweVSzv5aitGL9jf4nX/jCT45X/xz0S5%2BINrdRzDUrnwK7aS1otk1itv9hF%2BJA4%2B0Ty%2BcLjO6Z12%2BW2ynP49/a50TXfhh4d8U%2BJ/h8useKvIk8V%2BH7XwdeE2NvbwLNqc8d0dTIVEZo7eNjC%2BJbmDduUkjnNK/bd%2BK3i7xt4k8IeCPDmgWlhrl94ZtPhpq%2Bp2k8/nWmoXGoedqN1Gk0fmxNFpUs1vHG0ZZJYS7guQifKGp03gP9k34h/DPxx8MtT8J/GPRm8O/DTwBL4StdK1LwfNLe31rN/ZvnStdJfxxxyE6ZFs225VBIwKvhcZk/wCyV%2B0Te%2BCPHfhC5/aV8MwN488WQ6zqNzpnw8vLbZF5dvDc2Xy6wZPKmitkjLJJHIgkkw2SpStN8fv2lNf8GeHtV8I%2BI/A1trl/8QLzwVcaLeeD7y5W/vrLU7yC6vIZV1KL7PCLKynvPJZZWQRMnmOSKy/ht%2B3l4mu/iH4gsfiXY6eNF03TNfuYrXS/Dl5b3CTWOsQada2lpdTTNBrslyZwC1mqiCbyoZAHnRafuhqfQ/w08Naz4N8CaZ4T1240OSfTrYW8f/CN6E2mWMcKErFHDatPOYVSMImPMYfKSNoIUei/Db/l9/7Z/wDs1eHfsm/FL4j/ABi%2BC0fjT4t6FpWmeIo/E/iDStS0/RHd7aA2GtXtgiq7sTIdlsm5%2BA7bmCoCEX3H4bf8vv8A2z/9mpVP4YLc6iiiiuMsKKK5r4zDxmfg/wCKx8OTJ/wkP/CNX39g%2BV9/7b9nfyNvv5m3FAHS0V8F/BdPgxrnw7%2BK3gH9nb4iWPhbw3rv7OmkW82q6BG8klr4l%2By6z9vuPIt/382pw27WL3SqPtXFuGw5WvLtS/4RjxRdG1hufgj4R%2BGEvjiV9Ev54P7d%2BHVtfJ4aVZ40RvsMdzNJI8bxyIYliniu1xNKJBIAfqLXB%2BM/%2BRluf%2BAf%2BgLUH7Is%2Bo3X7KHwwudX0zWbK7k%2BHmitdWfiK6afUIJDYwlo7qRlQyTg5DsVUlwxKjOBf8Wx6W3iC4NxeXCP8m5UtlYD5F7lx/KtqPxClsYdFWvJ0X/oIXX/AIBr/wDHKPJ0X/oIXX/gGv8A8crpuQVaKteTov8A0ELr/wAA1/8AjlHk6L/0ELr/AMA1/wDjlFwDXP8AkNXn/X1J/wChGqtaesRaQdXujLfXIb7S%2B4LaqQDuPfeM1W8nRf8AoIXX/gGv/wAcpJ6ICrRVrydF/wCghdf%2BAa//AByjydF/6CF1/wCAa/8AxyncA0P/AJDVn/19R/8AoQqrWno8WkDV7UxX1yW%2B0ptDWqgE7h1O84qt5Oi/9BC6/wDANf8A45SvqBVoqp4u8a/C74f6U%2Bu%2BPPiDaaJZRqWe81eSC2iUAZJLSTADH1r518Sf8FOvhT4q1mfwZ%2Bx58L/Gnxo1u3k8ueTw1pItdJtm9JtQnby0HTDKrqc9a48VmWBwTSrTSb2W8n6RV5P5L5n0mR8H8TcSRlPLsLKdOPxVHaFKHnOtUdOlD/t6pfsnsfStWtH/AOPt/wDr1n/9FPXynH4j/wCCt3xTcHTfh18KPhXYycv/AG3qtxreoRD/AGfs%2BIGPrnFaGn/sV/tj%2BPZW/wCFuf8ABT7xdDG8MhksfAfgex0fy12MWVbhZGc8Z5K55/GuSWa1qi/cYWpLzajBf%2BTyv/5L8j3v9Rsuwf8AyMs7wdJ9YwnVxMl8sPScL/8AcW394%2BjL/ULDS7R9Q1O9htoIlzLPPKERB6kngV5N8Rf2/wD9ir4VLIPGv7Tfg%2BKWLPm2tjq6Xs6exitvMcH221xdh/wSL/Yz1G7j1T4wa18QviTextuF5488V3V0xb1IimiU/QgivWvh3%2ByF%2ByH8JTHL8OPgX4Y0iaLGy7tPCdqLjjpmYsZD%2BLUe1z6t8NOnTX96Upv7oqK/EPqvhbgP4mKxeLa6U6VHDQf/AG9WqVqlv%2B4afkeLJ/wVS%2BG/i5t3wG/Zv%2BMXxFtjyNU8NeBJVsyvr5lw0Z57fLTj%2B3/8etQHl%2BHv%2BCanxellb/VjUorW0Qn3ZnO2vqrydF/6CF1/4Br/APHKPJ0X/oIXX/gGv/xyj6nm0tZYtr/DSgl8ruT%2B8T4k4Do%2B7QyBSS2dXGYmUn/i9nClD5RSR8t2n7RX/BT/AMX293F4M/4J7%2BH/AA3HJAAL7xf8T7acKvmJ8zQ2qBxzgYznmoF%2BH/8AwVy8ZH7Zr/7QXwi8GE8rZ%2BGfCl1qIA9Ga8IOfpxX1pYxaQLa82X1yQbYbibVRgeanT5%2BecVW8nRf%2Bghdf%2BAa/wDxyksqlN/vsTVl/wBvKC/8kjH8w/19oYb/AHDJsDR83RnXl9%2BJr1F/5J9x8qn9mn/gpjqn7nU/%2BClWm2EbffOmfCDT2fHoDJJx9aD%2BwD8fPEXHxF/4KWfFy5Df6z/hGntdHz9PKRttfVXk6L/0ELr/AMA1/wDjlHk6L/0ELr/wDX/45T/sTAP4%2BeXrUqv/ANvQf8RN4pp/7vHDUvOng8HB/f8AV5s%2BVD/wSY/Z71rj4nfFT4seNlP%2BsXxV8RbqUSf73leXXS%2BH/wDglD/wTz0Hw9NDZfsv6JLsuIlWS%2Bu7q5fBWTPzzTM3Yd%2B1fQ3k6L/0ELr/AMA1/wDjlWYotI/sicC%2Budv2mLJ%2ByrkHbJjjf9aayPJYO6w0G%2B7jzP75cz/EyreKHiPXhyPN8RGP8sKrpx/8BpKjH/yU%2BftH/wCCbn7B%2BhXq39l%2Byr4OeRei3mlC4T8UlLKfyr0TRvgX8EvDlkNM8PfB3wrYWy/dt7Lw9bRIP%2BAqgFdp5Oi/9BC6/wDANf8A45R5Oi/9BC6/8A1/%2BOV2UsBgKH8KjGPpCK/KJ4WP4q4pzS313H16tv561WX4SqtfgczafDD4a2E32ix%2BHmhwyDpJDpMKt%2BYWtqGCC2jENvCkaL91EUAD8BVzydF/6CF1/wCAa/8AxyjydF/6CF1/4Br/APHK6YxhD4Vb0Vjxq2IxOIf72cpesm/zbCb/AJAtv/19Tf8AoMVVa05YtI/siAG%2Budv2mXB%2ByrknbHnjf9KreTov/QQuv/ANf/jlNMxKtFWvJ0X/AKCF1/4Br/8AHKPJ0X/oIXX/AIBr/wDHKdwKtWtQ/wCPSx/69T/6Nko8nRf%2Bghdf%2BAa//HKs30WkG2s999cgC2O0i1U5Hmv1%2BfjnNJvVAZlFWvJ0X/oIXX/gGv8A8co8nRf%2Bghdf%2BAa//HKdwKtd54M/5Fq2/wCB/wDobVxvk6L/ANBC6/8AANf/AI5Xa%2BEhAvh%2B3FvI7p8%2B1nQKT87dgT/Osaz90qO5o0UUVzFBRRRQAUUUUAFFFFABRRRQAUUUUAFFFFABRRRQAUUUUAFFFFABRTLm5trK2kvLy4SGGFC8ssrhVRQMliTwABzmuC%2BHP7UvwJ%2BKvhzV/FvhHxwy6doOmxalqtzrOlXemCGwljeWK%2BAvIoi9rIkUrJcKDE4ifa52NgA9Ar48/wCCnif2X8fP2X/GGMeR8WpNO3%2Bn2uzdMfjsr6Y%2BEfxr%2BHfxy0K58Q/DrUb%2BaCzult7uLVdBvNNuIpGhjmXdBeRRShWiljdX27WVwVJFfNn/AAWAA07wt8B/FwGP7I/aT8MSyt6RMLlHH45WvLzrTLpS7OD%2B6pTZ%2BgeF3vccYal/z8jiKf8A4HhMXH87L5nt1FFFfSH52FFFFAFqb/kC2/8A19Tf%2BgxVVq1N/wAgW3/6%2Bpv/AEGKqtJAFFFFMAq1qH/HpY/9ep/9GyVVq1qH/HpY/wDXqf8A0bJSe6Aq0UUUwCiiigC1rH/H2n/XrB/6KSqtWtY/4%2B0/69YP/RSVVpLYAooopgFWtc/5DV5/19Sf%2BhGqtWtc/wCQ1ef9fUn/AKEaXUDyr4lfsp/C74r/ABVt/i34sk1Nr6DwzdaJJZW12sdtPFNHcRLM4C7/AD4ory%2BjidXUKt9PkMWUrwcn/BN34YX9zHd%2BIfi9481ORNIh05vtV1pyK0UOl6rpcJCxWSLGUtdYuQAgVSyROys28yfQ9FHKmFzxjRv2JPBPh3xrpPjDQPih4xtItB1y71nRtFjubFrO11C50yfTp7kK9oZHZkuJJdruyCU5ChWZG7rx78D7L4rar4ZvV8f%2BIfDut%2BH79n0vxN4ee1W8iE0RgmQi4glhZXVskGI4ZEZdrIpHW1a0P/kNWf8A19R/%2BhCk0uVj6nkPjn9k/wAM%2BL/2e5f2YdF%2BI/ifw14Sfw/BoUVroX2BpYNNjtDam2SS6tJjtdNrM7Zk3INrqMg1dV/Y68J%2BIvEq%2BIvFXxO8WamlzfaRf%2BI9Mum09bXX73TJkmsrm6WKzRldHigJW3aGNxBGHRhuDevUU7IR4yn7CPwC8Pat4r1/4QeH4Ph5f%2BLvCtn4fv7vwRoOl2pt7OCe5lbyVks5EV5vtRSVmVtywQbQjRhq6HwV%2BzdoPhHTfAFhqHj7xFrrfDhJk0G51drNXlD2r2i%2BcLa2iRjHA7ojKqHDHcWJJPotFFkB5bo/7GHwp1fxjNq/xK1HVfG%2Bkx2erDSvCXjRbTUNM00Xkq3c3lo9uJJf3sMZj%2B0STeSqhY9gAFYtl%2Bwf8JPC/gnUPh98KfEev%2BBdK1jV9UvdZtfBhsrKO%2Bjvz%2B/tZE%2BzMgjVQqRSKqzwqoEcy5bPu2j/APH2/wD16z/%2BinqrSsrjueR6z%2Bwz%2By9qXjnRviRpPwl0bQ9b0RboW2qeH9JtrO6kae2Nv5j3CRed5iKd0ciuro4DZ4p0H7IXhW60rWbbxp8TPFviXUdfn0P%2B09d1m4shdS2ulXn2u1ssW9rFD5Bkaff%2B78xxcy5fJUr61RTshXOa1b4U%2BGNc%2BJtr8UtXa4uLy08NXuhRWMxRrU2t1NbzT5QrksxtYQfm2lVwVPBHn9r/AME9/wBmXTtb8Q%2BNPhz4JtfBOr31jpH2PUPBukWFk%2BlzafevPFPbqLYpvczlZVkWSORERSmAc%2By1a0//AI9L7/r1H/o2OlJKwHmHgz9mbwL4Im8J3VjrOsXU3hK81e%2BgmvbiJjf3%2BpySSXl5cBY1BmeSadh5YjRfPcBQuFGDon7DfwTtNU3eMYrvxfolra39ronhHxda2V5pekwXl7DezxwxfZ1aUefbW7Kbh5mjEShCozn2OinZAcV8Bv2f/hd%2BzZ4Lu/APwk8NW2l6be%2BIdS1maC2s4IB9ovbuS4ddsMaLsjEiwxgglYYYkJbZmvXfht/y%2B/8AbP8A9mrl66j4bf8AL7/2z/8AZqirpTY1udRRRRXGWFFFFABRRRQAVwfjP/kZbn/gH/oC13lcH4z/AORluf8AgH/oC1tQ%2BMmWxl0UUV1EhRRRQBa1z/kNXn/X1J/6Eaq1a1z/AJDV5/19Sf8AoRqrSWyAKg1TVdM0PTp9Y1rUYLO0tojJc3V1MsccSAZLMzEBQB1J4rw/9on9vz4XfBjxSvwf%2BH%2Biah8RfiVdZWy8B%2BEV864jb%2B9dSgFLSMZBYvlgDu2kZNcJpH7Fvx3/AGstUt/HX/BRHx4h0eOZZ9N%2BDfhC8eLSbUg5X7dOrb72QdwDtDA7WKsVryq2aqVV0MHD2tRaOztCP%2BOeqT/ux5p%2BSPvcu4HlSwMMz4hr/UsLNc0OaPNXrL/pxQvGUovb2tR0qC356lrG/r//AAU18Ea342Hw6/Y1%2BF%2BufGvxXb3KK8fhcCHSLWTd8v2jUpB5ManjDLvU9NwrHT9m39vb9pVxe/tQftMp8OtBlO4%2BCPhATDcleyz6nLmTdjhlQMjZOMV9QfDDwN4L%2BHFvpfhD4f8AhLTdE0q0uI1ttO0myS3giG4fdRAAPyq3Wf8AZmIxTvjqzkv5IXhD52fPL/t6SXkdL41ynI1ycM5fCjJf8v8AEKOJxD8488fq9Hy9lQnJf8/G9T5w8J/8Enf2GvD2pLr/AIg%2BE0/izVMgyan4y1y71GSXH95JZPKP/fFfQXh3w14c8H6NB4c8JaBZaXp1qmy1sNOtUghhX0VEAVR7AVdorvwuX4HA3%2Br0owvvZJN%2Br3fzbPmM74r4n4lcf7WxtXEKOyqVJSjH/DFvkj/27COmm2gVa0f/AI%2B3/wCvWf8A9FPWZqus6RoNk2pa5qttZW6ffuLudY0X6sxAFcnc/tXfsueEriR/FP7SPgLTgttMG%2B3eMLKLkxMAPmlHOeMVrWr0KK/eTUfVpfm0fNVcRh6H8Saj6tL82jtaK8B8Tf8ABUr/AIJ%2BeE5DHqn7Ufh2Ug4J0wT3o/O3jcVz0v8AwWQ/4J5O5g0b42XupzdFt9O8Haq7MfQZtgCfxrgnnmS03aWJpp/44/5s86fEGQ03aWLpp/44/o2fT9FfLj/8FSPDPiNfs3wc/ZG%2BNvjC4l4tpLHwG9vaMexeeZx5a/7RU02P4hf8FZvi032zwb8CPhh8LtPPKx%2BOfEE%2BrXzr2IFiBGh7lWGR0qP7cwM9KHNVf9yEpfi1GP8A5MZ/6wZfU0w6nVf9yEpfi1CP/kx9X6f/AMel9/16j/0bHVWvmWz%2BDP8AwVi1u3upL/8AbQ%2BHmhgQAyR6P8OvtII8xOAbhgeuD%2BFQf8Muf8FK77/j/wD%2BCosFqp6x2PwW0s/%2BPNJkULM8S2%2BXCVX/AOC1%2BdQf9rYt/Dgqr/8ABa/OqfUNFfL3/DF37bd6f%2BJ1/wAFR/FUmev2HwDptt/6CTij/h398eNR%2BTxH/wAFLPi/Kh%2B%2BNMmtbNvwKocU/wC0Mxe2Dl850l/7cw/tLM38OBn850l/7cz6hq1D/wAgW4/6%2Bof/AEGWvlQf8EuPDN98/ir9tH9obWXP3jffE99v0ASEYHtViP8A4JIfs33WlzT618R/irqRWeNSL34jXjBgVfOdpHoKTxecvbCpetWP6QYfXM8e2DS9a0f0gz6Zor5e/wCHP/7FZ/eNoni4zf8APyfHeo7/AM/Ox%2BlH/Dpj9nmy%2Bbwx8Ufixojj7smlfEa7Rl%2Bm/dT%2Bs52t8NF%2BlX/OmH1rP1vhYP0rf500fUNFfL3/AA6/sW/0aX9vH9pJ7LtYt8Ujs%2BmfIzj2zR/w6d%2BBjfvpvjb8Ypbk/evZPiTc%2Ba31OMfpR9bzh7YRL1qw/SDD67nj2waXrWh%2BkGfVc3/IFt/%2Bvqb/ANBiqrXzLL/wS60rR9MhvvAn7b37QmiTmeRQsPxIaaDhY8bo5Iju6%2BvYVAP2Fv2qov8ARLb/AIKdfEQWi/6tJdDsXmA95SMt%2BVJY7NI/FhH8qlN/nyh/aGbx%2BPBP/t2rTf58p9Q0V8vH/gnx8bL3/kNf8FKfjM%2Bev2G%2Btrb/ANBjOKRv%2BCfPxz8Pn7b8Ov8AgpZ8Y7W8PJfxLdW2sQZ/64yIgA9s0/r%2BZ7/U5W/6%2BU7/AHf8EX9o5tv9Rlb/AK%2BUr/d/wUfUVWtQ/wCPSx/69T/6Nkr5SH7J3/BRHXf%2BJZ4v/wCCnc8dhH8u/Qfhbp1rdXA/vNKHPln/AHQRU97%2BwT%2B1D4Tt7TVvhf8A8FOfiZDqMtuZJf8AhLtPtNatC3mOMJBKEEanHQE8kmk8xx7aawc7ecqafyXM7/eg/tPMXrHA1Lec6SfyXO7/AHo%2BnKK%2BXB8Bv%2BCqGsD%2BztT/AG9fB%2Bjwp8q6hpHwvguLiUf3mSdwit7LxQf2Yf8AgpN4UP23wf8A8FILPXHPzSaf4q%2BF9ksLt3xJA%2B9F/wBkdKf9p4rdYOrb/uH%2BXtLsP7Wxb1WCq2/7h3%2B72l2fUdd54M/5Fq2/4H/6G1fDrfs8/wDBTP4pt9h%2BLf7bPhzwbpq/LJbfDDwlm4ul/vG5uzvgY9fkyK%2Buf2Y/hgPgz8DtD%2BG3/CfeI/FB04XJfXvFup/bNQu2kuZZWaWbA3YMhVRj5UVV7VUMXiMS7SoShHvJxTb7cqcn8216HZgsbicVValh504W3m4pt9uVSk/m2vTU72iiitT0wooooAKKKKACiiigAooooAKKKKACiiigAooooAKKKKACiiigDnvi54KuPiV8KPE/w5tNRFnLr/h6902K7IJ8hp4HiD8c8Fs/hXy7P%2Bzz%2B0J8Zvhz8TvC/ir4TXXgu98afs9WPw708XWsafPDHqFrb6sZLp2t55T9keTUo44fkMpEcxkiiDKD9h0UAeO/skeGfi74fPi%2B58f6H4r0XQ77WbeXwp4f8ceKo9Z1OyUWcK3TNcx3NyBC9wHaOLzm2fMQsassa%2BSf8FsWGn/seaX4saMH%2Bwfid4d1DJz8u28CZ4/38fjX17XyX/wXD0yTU/8Agmj8QPIyJbWXTLqJh1UxahbuT%2BQNeXnabybEW6Qk/uV/0PvvCucY%2BJeTqW0sTSi/ScnTf4VGe3f2haf9AO1/77l/%2BLo/tC0/6Adr/wB9y/8AxdZeh6nHrWi2esQ42XdrHMuOmGUMP51ar6JcrV0fn84ypzcZbptP5afoWv7QtP8AoB2v/fcv/wAXR/aFp/0A7X/vuX/4uqtFOyJNOW%2BtRpED/wBj2xBuZQF3S4Hyx8/fz/8Aqqt/aFp/0A7X/vuX/wCLom/5Atv/ANfU3/oMVVaSSAtf2haf9AO1/wC%2B5f8A4uj%2B0LT/AKAdr/33L/8AF1Vop2QFr%2B0LT/oB2v8A33L/APF1Zvr61W2sydHtjm2JALS/L%2B9fgfP%2BPPrWZVrUP%2BPSx/69T/6NkpNK6AP7QtP%2BgHa/99y//F0f2haf9AO1/wC%2B5f8A4uqtFOyAtf2haf8AQDtf%2B%2B5f/i6P7QtP%2BgHa/wDfcv8A8XVWiiyA09VvrVblQ2j2zf6NCcs0v/PJeOH7dKrf2haf9AO1/wC%2B5f8A4ujWP%2BPtP%2BvWD/0UlVaSSsBa/tC0/wCgHa/99y//ABdH9oWn/QDtf%2B%2B5f/i6q0U7IC1/aFp/0A7X/vuX/wCLqzrF9apq90jaPbMRcuCzNLk/MeTh8VmVa1z/AJDV5/19Sf8AoRpWVwD%2B0LT/AKAdr/33L/8AF0f2haf9AO1/77l/%2BLqrRTsgLX9oWn/QDtf%2B%2B5f/AIurOj31q%2Br2qLo9spNygDK0uR8w55fFZlWtD/5DVn/19R/%2BhCk0rMA/tC0/6Adr/wB9y/8AxdH9oWn/AEA7X/vuX/4uqtFOyAtf2haf9AO1/wC%2B5f8A4uj%2B0LT/AKAdr/33L/8AF1VoosgNPSr61a5YLo9sv%2BjTHIaX/nk3HL9%2BlVv7QtP%2BgHa/99y//F0aP/x9v/16z/8Aop6q0rK4Fr%2B0LT/oB2v/AH3L/wDF0f2haf8AQDtf%2B%2B5f/i6q0U7IC1/aFp/0A7X/AL7l/wDi6s2N9atbXhGj2wxbAkBpfm/epwfn/Hj0rMq1p/8Ax6X3/XqP/RsdJpWAP7QtP%2BgHa/8Afcv/AMXR/aFp/wBAO1/77l/%2BLqrRTsgLX9oWn/QDtf8AvuX/AOLro/AFxFP9r8qxihx5efKLnP3uu5jXJV1Hw2/5ff8Atn/7NWdVLkY1udRRRRXIWFMubm2sraS8vLhIYYULyyyuFVFAyWJPAAHOafXPfFzwVcfEr4UeJ/hzaaiLOXX/AA9e6bFdkE%2BQ08DxB%2BOeC2fwoA5rwT%2B1p%2Bz98QPBuvfEHQPHph0fwzo6avrd5rOkXemi3014pJo78LdxRNJavHFKyXCBonET7WbY2KyftgfBGXwpP4ztn8Xz2lpfNZ6jb23w012W80%2BVYI7jF1aJZG4tVMMscivLGisrqVJBryDwb8F/i94%2B03xwnxe/ZuvLG08SfAvS/Acnh2bxRYxpfXFlFqr3DG5tZpWgtpm1FIYJQhmTZLI8Ufyg0vDf7Ov7Q%2BufDT4jDxPpXiua6%2BJ3i7w3pmp2PjTWtIk1RfDcTWdtqss7aay2aM9o18ixwEsUWJzmV3UAH1N4F8a%2BHPiT4I0b4i%2BD7yW40jX9Kt9S0u4ns5bd5baeJZYmaKZVkiJRlJR1V1JwwBBFcx4z/wCRluf%2BAf8AoC13ccaRIsUSBVUAKqjAA9BXGeLby3i8QXEcmlW8hGzLu0mT8i%2BjgfpW1H4hS2MOirX9oWn/AEA7X/vuX/4uj%2B0LT/oB2v8A33L/APF103fYgq0Va/tC0/6Adr/33L/8XUOoa/o2lWE%2BqapYWFtbW0LS3NxcTyJHFGoJZ2YyYVQASSeABQ3ZXY4xcpJLVsh8eeINC8JprHifxPrFtp%2BnaeZ7i%2Bvr2dY4reJCWZ3diAqgAkk9K%2BQNU%2BNH7QP/AAUW1WfwT%2BylqOpeAvhHFO0GufFma3aLUNcVTteDSY2wyKeQbg4I5%2B6V2OzxRrupf8FV/iddywiTR/2avCWsSSXt6ZZbd/iFdwSEkFiwKafGy5JG3cR/ex5G54k/bk8Q/FjVpP2d/wDgmX8H9E8QS6Sq2Oo/EC7SWHwv4bRVChY2RsXcirjbHECuMEeYoYD5PFZlDHJXk40HpFRv7Ss1uoW95U%2Bjkrc2r5oQ1l%2BjY/F5L4SUabxtONfOZ6xpSiqkcLdJxUqWqrYuzUnCd6OFTj7VTrXhT9d%2BBX7Nf7PH7HngW4034Z%2BGbDQ7XZ5uta9qE4a6vGHJlurqQ7n5JPJCrk7Qo4rj/iP/AMFPP2Ffhld/2Xqf7Q2j6rfl9ken%2BFlk1aWR/wC4PsiyKG9mIrmdC/4JnaN8RNTh8Wftw/HHxR8ZNQjcSpo2o3b6boVvJ1zFY2jqMjpkthgBle1fQPw3%2BDnwM%2BDtqLP4UfArwl4bj27W/sTSBbFh/tGMgsfckk130I5t7JU8NRp0Ka2T96S/7dhywXzlJ92z8qzHN%2BMOI8dUxuLklUqO8p1pSrVZPu%2BVqK7Jc7SVkkkkjwXTP%2BCt37O39pW9xonwt%2BLOrFJ0ZY9N%2BHF27SYIOFDbck9qor%2B01/wUN%2BOLBf2eP2LrPwTpkvMPiP4zasbdyp9dPtczocerEc19d6PfWr6vaouj2yk3KAMrS5HzDnl8VW/tC0/6Adr/AN9y/wDxda/Uczqu1bFNL%2B5CMH/4E3Nr5JPzON5dmtbStjGl2pwjB/8AgTc2vkk/M%2BU/%2BFLf8FW/FnPiD9tXwB4S3feHhb4crf7Pp9tYZ/Gg/sQftha6pj8df8FQfHFwj8SjQPCdhpbEd9rRlih9x0r6s/tC0/6Adr/33L/8XR/aFp/0A7X/AL7l/wDi6f8AYuEl8cqkvWrU/JSivwD%2BwMDL%2BJOpL1q1PyUor8D5Z0j/AIJKfslXN%2BmufGI%2BMfibqidNT%2BIPjG7vJMnqdsbRoc%2B6mvQfBv8AwTu/YW0G7P2L9kzwHLst5mX7f4cgusERMQf3ytyCAa9l/tC0/wCgHa/99y//ABdWdKvrVrlguj2y/wCjTHIaX/nk3HL9%2BlaQyfKaK93Dwv3cYt/fJSb%2BbZrSyLJaLvDDQv3cU383JSb%2BbZxHhn4OfCLwUgj8G/Cvw3pCqMBdM0O3twB/wBBXRRxRwoI4o1VR0VRgCrn9oWn/AEA7X/vuX/4uj%2B0LT/oB2v8A33L/APF16EIQpq0IpLysvySPShTp0laCSXkkvySKtFWv7QtP%2BgHa/wDfcv8A8XR/aFp/0A7X/vuX/wCLq7vsWGn/APHpff8AXqP/AEbHVWtOxvrVra8I0e2GLYEgNL8371OD8/48elVv7QtP%2BgHa/wDfcv8A8XSTd3oBVoq1/aFp/wBAO1/77l/%2BLo/tC0/6Adr/AN9y/wDxdO77AVatQ/8AIFuP%2BvqH/wBBlo/tC0/6Adr/AN9y/wDxdWYr61OkTv8A2PbAC5iBXdLg/LJz9/P/AOuk2%2BwGZRVr%2B0LT/oB2v/fcv/xdH9oWn/QDtf8AvuX/AOLp3fYCrRVr%2B0LT/oB2v/fcv/xdH9oWn/QDtf8AvuX/AOLou%2BwBN/yBbf8A6%2Bpv/QYqq1py31qNIgf%2Bx7Yg3MoC7pcD5Y%2Bfv5//AFVW/tC0/wCgHa/99y//ABdJN9gKtFWv7QtP%2BgHa/wDfcv8A8XR/aFp/0A7X/vuX/wCLp3fYCrVrUP8Aj0sf%2BvU/%2BjZKP7QtP%2BgHa/8Afcv/AMXVm%2BvrVbazJ0e2ObYkAtL8v71%2BB8/48%2BtJt3WgGZRVr%2B0LT/oB2v8A33L/APF0f2haf9AO1/77l/8Ai6d32Aq13ngz/kWrb/gf/obVxv8AaFp/0A7X/vuX/wCLrtfCUiS%2BH7eSOBIwd%2BEQnA%2BdvUk/rWNa/KVHc0aKKK5igooooAKKKKACiiigAooooAKKKKACiiigAooooAKKKKACiiigAooooAK%2Bc/8AgrRo/wDbn/BPT4oWWzds8MXFxj/rkhlz/wCOV9GV45/wUC0f/hIP2M/iVoezcbvwPrEKj3bT7gD9cVy4%2Bn7XAVod4TX/AJJI%2Bj4NxX1LjDLcR/JiMO/ur0f0uYP7O2sf8JD%2Bz94F1/du%2B3eDdMuN3rvtIm/rXY15J%2BwPrH9ufsSfCa/L7iPh7pMLNnqY7WOM/qlet16GAqe1wNKfeEX98Ys5OKML9S4nx%2BH/AJK9eP8A4DWqr8kgooorqPDLU3/IFt/%2Bvqb/ANBiqrVqb/kC2/8A19Tf%2BgxVVpIAooopgFWtQ/49LH/r1P8A6NkqrVrUP%2BPSx/69T/6NkpPdAVaKKKYBRRRQBa1j/j7T/r1g/wDRSVVq1rH/AB9p/wBesH/opKq0lsAUUUUwCrWuf8hq8/6%2BpP8A0I1Vq1rn/IavP%2BvqT/0I0uoFWiiimAVa0P8A5DVn/wBfUf8A6EKq1a0P/kNWf/X1H/6EKT2YFWiiimAUUUUAWtH/AOPt/wDr1n/9FPVWrWj/APH2/wD16z/%2BinqrS6gFFFFMAq1p/wDx6X3/AF6j/wBGx1Vq1p//AB6X3/XqP/RsdJ7AVaKKKYBXUfDb/l9/7Z/%2BzVy9dR8Nv%2BX3/tn/AOzVnV/hsa3OoooorjLCiiigAooooAK4Pxn/AMjLc/8AAP8A0Ba7yuD8Z/8AIy3P/AP/AEBa2ofGTLYy6KKK6iQr4g/4KBftH%2BGfjB4s1b9lyL4hjw58NvCUcV58d/GsEpBSEnMOhWxXJe5uCuGRcnGVwdsiH17/AIKWftgW/wCxx%2BzHqnjLSb2NfFOtE6X4RgIDN9rkU5n285WFN0h4wWCKfvivAP8AgnT/AME2/Emq%2BH9A%2BM37XmnSPFaXLav4Z8A35Lg302Gk1fVA2fPvJOCqPnylCqeRtX5PPMXicbjFlOEjdtc1R62jF7KTWqUuqXvOK5Vbmco/XZNm%2BH4OwP8AbFKMauZTvHB05axpNaTxtZa%2B7Rb5cPC16uJ95Lkw8pHWeFPg78W/2/dMsNN8UeFdQ%2BEH7OOnIkfhr4cWR%2By6t4ms0/1RvWQ5tbUqFxCpyw5yfklr698CeAPBPwv8J2XgX4deFbDRdH06IR2Wm6bbLFFEvsqjqTySeSSSSSa6HXP%2BQ1ef9fUn/oRqrXtZfltHBLnb5qjSTk7XstkktIxXSMbJeb1PgsLgfY154mvN1a9RtzqT1lJttvvZXbfKtLu7cpNyZRRRXpHeWtD/AOQ1Z/8AX1H/AOhCqtWtD/5DVn/19R/%2BhCqtLqAUUUUwCrWj/wDH2/8A16z/APop6q1a0f8A4%2B3/AOvWf/0U9J7AVaKKKYBRRRQBa0//AI9L7/r1H/o2OqtWtP8A%2BPS%2B/wCvUf8Ao2OqtJbsAooopgFWof8AkC3H/X1D/wCgy1Vq1D/yBbj/AK%2Bof/QZaTAq0UUUwCiiigC1N/yBbf8A6%2Bpv/QYqq1am/wCQLb/9fU3/AKDFVWkgCiiimAVa1D/j0sf%2BvU/%2BjZKq1a1D/j0sf%2BvU/wDo2Sk90BVooopgFd54M/5Fq2/4H/6G1cHXeeDP%2BRatv%2BB/%2BhtWNf4Bx3NSiiiuUsKKKKACiiigAooooAKKKKACiiigAooooAKKKKACiiigAooooA574u%2BNbn4a/CfxP8RbLTheTaB4dvdSitDn9%2B0EDyhOOeSuOPWvnHQviX%2B1dbfD74ofD3w78T7zxn42i/Z%2B0zxh4J1N9F0%2BOa312/g1eJLaKKKBIXg%2B0WEDwrMsjfPIskkgAx9WXNtb3lvJaXcCSxSoUlikUMrqRggg8EEcYrzLwl%2Bxr%2Bzr4I8P6n4U0DwTef2drOk/2VqdnfeJdRu0uNPELwR2RE9w%2BLaKOSRYoBiOHzHMSoXYkAr/ALK/j7UvElr4k8FeL/Evjy78S%2BHdThXV7H4h2WjQ3tok9uksBjOjxpbSQOu5lbLSBhIrlSu0dF%2B0R4fk8VfCDXPDsfl5vdMuoCJJVQHfbyrjLEevSrfwq%2BCfw7%2BC9pqNv4D06/Eur3a3Wq6jrOvXmqXt5KsSRIZbq9mlnkCxxoiqzkKBhQOaufEVQ2hxqwyDcgEH/damoqfuvrp96aNaFaWHrwrR3i1JesWmvxR8o/8ABKCa58R/8E8vhfqST25C6JNbjfdxqf3N3PFjBYEfcr6H/se7/wCe1r/4HRf/ABVfKv8AwR4ZrP8AYQ8PeFnbLaFr2t2BBPI26ncvj/x%2BvqCsMilKeSYZv/n3D8IpfofZeKNGOH8Ss5hHb61Xa9JVZSX4TRa/se7/AOe1r/4HRf8AxVH9j3f/AD2tf/A6L/4qqtFerqfCGnLpV0dIgj822yLmUn/TIscrH33Y7f5zVb%2Bx7v8A57Wv/gdF/wDFUTf8gW3/AOvqb/0GKqtJXAtf2Pd/89rX/wADov8A4qj%2Bx7v/AJ7Wv/gdF/8AFVVop6gWv7Hu/wDnta/%2BB0X/AMVVm%2B0q6a2s1Ett8tsQc3kQ/wCWrnj5uevasyrWof8AHpY/9ep/9GyUne6AP7Hu/wDnta/%2BB0X/AMVR/Y93/wA9rX/wOi/%2BKqrRT1Atf2Pd/wDPa1/8Dov/AIqj%2Bx7v/nta/wDgdF/8VVWijUDT1XSrqS5Vlltv%2BPaEfNeRDpEo7tVb%2Bx7v/nta/wDgdF/8VRrH/H2n/XrB/wCikqrSV7AWv7Hu/wDnta/%2BB0X/AMVR/Y93/wA9rX/wOi/%2BKqrRT1Atf2Pd/wDPa1/8Dov/AIqrOsaVdSavdSLLbANcuRuvIgfvHqC2RWZVrXP%2BQ1ef9fUn/oRpa3AP7Hu/%2Be1r/wCB0X/xVH9j3f8Az2tf/A6L/wCKqrRT1Atf2Pd/89rX/wADov8A4qrOj6VdR6vayNLbELcoTtvIifvDsGyazKtaH/yGrP8A6%2Bo//QhSd7MA/se7/wCe1r/4HRf/ABVH9j3f/Pa1/wDA6L/4qqtFPUC1/Y93/wA9rX/wOi/%2BKo/se7/57Wv/AIHRf/FVVoo1A09K0q6juWZpbb/j2mHF5EesTDs1Vv7Hu/8Anta/%2BB0X/wAVRo//AB9v/wBes/8A6KeqtLW4Fr%2Bx7v8A57Wv/gdF/wDFUf2Pd/8APa1/8Dov/iqq0U9QLX9j3f8Az2tf/A6L/wCKqzY6VdLbXimW2%2Ba2AGLyI/8ALVDz83HTvWZVrT/%2BPS%2B/69R/6NjpO9gD%2Bx7v/nta/wDgdF/8VR/Y93/z2tf/AAOi/wDiqq0U9QLX9j3f/Pa1/wDA6L/4quj8AWctp9r814ju8vHlTo/97rtJxXJV1Hw2/wCX3/tn/wCzVnVvyMa3OoooorkLCsT4leN7H4Z/DnX/AIkanayT23h/RLvUriGI4aRIIWlZR7kIQK26q65ouleJNFvPDuu2Md1Y39rJbXltKMrNE6lXQ%2BxUkH60AfOnh/8Aaq/aF8O%2BA/iFJ8QPBvh/xH4q8NfBuw8feH9M8I6ddW0d411FqONLZHmuJJZEm08L56bTKtwu2FWXDcDP/wAFJfFk1%2Bnws8LfEXwP4j1yXxMLeLx54V8Darq2kzacNIN%2B8kOmWV3Lc3EyzKbdljuGVFDzMQY3hHunw2/Y68OfDW21SOz%2BMfjvUbjVvC9v4cm1K/1O1S7h0q1injs7aKe2topIzbm6uZEmB89pJi0kkhC7a0X7FXh%2BGE66nxt8c/8ACZtr51ZviK0mmHVjJ9hFh5Ow2P2MQfZgE8sW2Nw83/W/vKAPTPhl4sj8e/Dbw946i1TSr5da0O0v1vdCuWnsbgTQpJ5lvIyq0kLbsoxAJUgkDOKx/Fulapc%2BILia3024kRtm10hYg/IvcCtf4YfDnwt8H/ht4f8AhP4GtJINF8M6La6VpMMsxkdLa3iWKMM7cu21BljyTknrWB4z/wCRluf%2BAf8AoC1tRvzClsVf7D1r/oD3X/gO3%2BFUPFN3F4J8Maj4z8VrJYaXpFjNe6lfXELLHb28SF5JGOOFVVJPsKlr4a/4LeftD614f%2BEug/sifDOR5vFXxS1GK2ltrd/3gsBKibOOQZpzHGOzKsormzfMY5Vl1TFS15Vou8npFfNtL7zJwxVacKGEhz1qko06cb25qk5KMI36Jyd5N6RjGcnZRbTf2VPBet/8FRf2lp/27/ib4OvR8NfAt4%2BmfCHw3eWzMl1cIwabUZh90sGCHABG8Ku4/Zsv94/2HrX/AEB7r/wHb/CuE/Z8%2BD2h/s/fBDwt8F/Dqp9m8N6JBZeai48%2BVVHmzEeryF3Pu5rsajKMBUwWEvVd6s/eqS7ye/yj8MVsktN3epYPC4LEVIUZuprZ1HvPl93mt9mLs3CCsoQcY2vzuWnrGj6vLq91LFpVyytcuVZYGII3HnpVb%2Bw9a/6A91/4Dt/hRrn/ACGrz/r6k/8AQjVWvUV7IC1/Yetf9Ae6/wDAdv8ACj%2Bw9a/6A91/4Dt/hVWinqBp6Po%2Brxavayy6Vcqq3KFmaBgANw5PFVv7D1r/AKA91/4Dt/hRof8AyGrP/r6j/wDQhVWlrcC1/Yetf9Ae6/8AAdv8KP7D1r/oD3X/AIDt/hVWinqBa/sPWv8AoD3X/gO3%2BFWdK0fV47lmk0q5UG2mGWgYcmJgB09azKtaP/x9v/16z/8Aop6TvYA/sPWv%2BgPdf%2BA7f4Uf2HrX/QHuv/Adv8Kq0U9QLX9h61/0B7r/AMB2/wAKP7D1r/oD3X/gO3%2BFVaKNQNOx0fV0trxX0q5Ba2AUGBuT5qHA49Afyqt/Yetf9Ae6/wDAdv8ACjT/APj0vv8Ar1H/AKNjqrSV7sC1/Yetf9Ae6/8AAdv8KP7D1r/oD3X/AIDt/hVWinqBa/sPWv8AoD3X/gO3%2BFWYtH1caRPEdKudxuYiF8hskBZMnp7j86zKtQ/8gW4/6%2Bof/QZaTuAf2HrX/QHuv/Adv8KP7D1r/oD3X/gO3%2BFVaKeoFr%2Bw9a/6A91/4Dt/hR/Yetf9Ae6/8B2/wqrRRqBpy6Pq50iCIaVc7hcykr5DZAKx4PT2P5VW/sPWv%2BgPdf8AgO3%2BFE3/ACBbf/r6m/8AQYqq0lcC1/Yetf8AQHuv/Adv8KP7D1r/AKA91/4Dt/hVWinqBa/sPWv%2BgPdf%2BA7f4VZvtH1d7azVNKuSVtiGAgbg%2Ba5wePQj86zKtah/x6WP/Xqf/RslJ3ugD%2Bw9a/6A91/4Dt/hR/Yetf8AQHuv/Adv8Kq0U9QLX9h61/0B7r/wHb/Cu18JQT23h%2B3huIXjdd%2B5HUgj527GuArvPBn/ACLVt/wP/wBDasa1%2BUqO5qUUUVzFBRRRQAUUUUAFFFFABRRRQAUUUUAFFFFABRRRQAUUUUAFFFFABRRRQAVg/EP/AJAsX/X0v/oLVvVg/EP/AJAsX/X0v/oLVdP40J7Hxb/wSo/0H4TfEfwp0/sH44eJtP2/3ds6Pj/yJX1BXy//AME5v%2BJV8Q/2jvCfTyfj3qt/t9PtUUL5/HbX1BXJkGmUUo9uZfdOov0R994qe9x/jav/AD89lU/8GYbCz/OUgooor2D8%2BLU3/IFt/wDr6m/9BiqrVqb/AJAtv/19Tf8AoMVVaSAKKKKYBVrUP%2BPSx/69T/6NkqrVrUP%2BPSx/69T/AOjZKT3QFWiiimAUUUUAWtY/4%2B0/69YP/RSVVq1rH/H2n/XrB/6KSqtJbAFFFFMAq1rn/IavP%2BvqT/0I1Vq1rn/IavP%2BvqT/ANCNLqBVooopgFWtD/5DVn/19R/%2BhCqtWtD/AOQ1Z/8AX1H/AOhCk9mBVooopgFFFFAFrR/%2BPt/%2BvWf/ANFPVWrWj/8AH2//AF6z/wDop6q0uoBRRRTAKtaf/wAel9/16j/0bHVWrWn/APHpff8AXqP/AEbHSewFWiiimAV1Hw2/5ff%2B2f8A7NXL11Hw2/5ff%2B2f/s1Z1f4bGtzqKKKK4ywooooAKKKKACuD8Z/8jLc/8A/9AWu8rg/Gf/Iy3P8AwD/0Ba2ofGTLYx7u7trC1lvr2dIoYY2kmlkbCooGSSewAGa/Lv8AZLl1H/goP/wVduf2mtet5JfDnhW2k1bQ7edQVt7OF3tdLjII3RyvJ514V6EgEda%2B0P8Agpp8Wpvg3%2Bw98QPEWnTFdQ1LRzoulqhw7T3rLagp/tKsrP8A8Ary7/giT8Fk8CfsqzfF7UIW%2B3%2BPtS863klUCRdLs1%2ByWUbY7hY5Hz3Eor5nOE8y4iwmX/Yp/vp/9uu0E/mfQcKqnhq2Pzip/wAwlBQpf9hOMc6MJetLCwxdRdpVIvdI%2ByaKKK%2BwPnS1rn/IavP%2BvqT/ANCNVata5/yGrz/r6k/9CNVaS2QBRRRTAtaH/wAhqz/6%2Bo//AEIVVq1of/Ias/8Ar6j/APQhVWl1AKKKKYBVrR/%2BPt/%2BvWf/ANFPVWrWj/8AH2//AF6z/wDop6T2Aq0UUUwCiiigC1p//Hpff9eo/wDRsdVataf/AMel9/16j/0bHVWkt2AUUUUwCrUP/IFuP%2BvqH/0GWqtWof8AkC3H/X1D/wCgy0mBVooopgFFFFAFqb/kC2//AF9Tf%2BgxVVq1N/yBbf8A6%2Bpv/QYqq0kAUUUUwCrWof8AHpY/9ep/9GyVVq1qH/HpY/8AXqf/AEbJSe6Aq0UUUwCu88Gf8i1bf8D/APQ2rg67zwZ/yLVt/wAD/wDQ2rGv8A47mpRRRXKWFFFFABRRRQAUUUUAFFFFABRRRQAUUUUAFFFFABRRRQAUUUUAFc/8P/ix8LPizZXeo/Cv4leH/E1vYXZtb6fw/rMF6lvOACYpGhZgjgEHacHBHFRfGbw74j8YfB/xX4S8HXn2fV9U8NX1ppVx5mzyrmW3dIm3fw4dlOe2K%2BafgbH8Wr7U/E%2Bt/BD4Y6l4P1Wf4F%2BGPC3hiLxx4Vv9Nsode08as8iTZtm/c2y3lsomVWinJZImkEZIAPqrw94w8JeLn1CLwp4p07U20nUZNP1VdPvo5jZXaKrPby7CfLlUOhKNhgGUkciqXxD/AOQLF/19L/6C1eHf8E6vhX8Tfg5afFPwb4/%2BGVn4dtj8RY7nSprbX7nUjqm7RNLSe7NxcWVqbgySxs73AUmSdrgMAY9z6f7TP7Ql98MP2qvg38GNSBOg/ESw8Swz4VVK6jZx2M9qfMKnbmNrxNn8Rcd1FRPEU8Nyzns3FfOT5V%2BLRz4rE0sJSU6jsm4x%2BcpKK/Fo8L/Yw/4lX7bn7UfhPp5Pinw/qGz/AK%2BtNZ8/jtr6gr5m%2BAMml6N/wVO/aB057O4Ca14U8KX6ILlQT5NtJASTs56%2Bgr6j87Rf%2Bgfdf%2BBi/wDxusskdsHKPapVX/lST/U/RfEv3%2BIaFb/n5hMDP5vB0Yv8YMq0Va87Rf8AoH3X/gYv/wAbo87Rf%2Bgfdf8AgYv/AMbr17%2BR%2BfBN/wAgW3/6%2Bpv/AEGKqtacsukf2RATY3O37TLgfalyDtjzzs%2BlVvO0X/oH3X/gYv8A8bpJgVaKtedov/QPuv8AwMX/AON0edov/QPuv/Axf/jdO/kBVq1qH/HpY/8AXqf/AEbJR52i/wDQPuv/AAMX/wCN1ZvpdIFtZ77G5INsdoF0owPNfr8nPOaTeqAzKKtedov/AED7r/wMX/43R52i/wDQPuv/AAMX/wCN07%2BQFWirXnaL/wBA%2B6/8DF/%2BN0edov8A0D7r/wADF/8AjdF/IA1j/j7T/r1g/wDRSVVrT1WXSBcr5ljck/ZoeRdKOPKXH8HpVbztF/6B91/4GL/8bpJ6AVaKtedov/QPuv8AwMX/AON0edov/QPuv/Axf/jdO/kBVq1rn/IavP8Ar6k/9CNHnaL/ANA%2B6/8AAxf/AI3VnWJdIGr3Qlsbkt9pfcVulAJ3HtsOKV9QMyirXnaL/wBA%2B6/8DF/%2BN0edov8A0D7r/wADF/8AjdO/kBVq1of/ACGrP/r6j/8AQhR52i/9A%2B6/8DF/%2BN1Z0eXSDq9qIrG5DfaU2lrpSAdw6jYM0m9GBmUVa87Rf%2Bgfdf8AgYv/AMbo87Rf%2Bgfdf%2BBi/wDxunfyAq0Va87Rf%2Bgfdf8AgYv/AMbo87Rf%2Bgfdf%2BBi/wDxui/kAaP/AMfb/wDXrP8A%2BinqrWnpUukG5by7G5B%2BzTctdKePKbP8HpVbztF/6B91/wCBi/8AxulfUCrRVrztF/6B91/4GL/8bo87Rf8AoH3X/gYv/wAbp38gKtWtP/49L7/r1H/o2OjztF/6B91/4GL/APG6s2MukG2vNljcgC2G4G6U5Hmp0%2BTjnFJvQDMoq152i/8AQPuv/Axf/jdHnaL/ANA%2B6/8AAxf/AI3Tv5AVa6j4bf8AL7/2z/8AZqwfO0X/AKB91/4GL/8AG66PwA9k/wBr%2Bx28sf8Aq93mzB8/e6YUYrOq/cY1udHRRRXIWFc18ZvEPiXwj8H/ABX4r8GWf2jWNM8NX13pVv5e/wA25jt3eJdv8WXVRjvmulooA%2BN/AGtfETTPAPxQ8F/Cf9oHUbh5v2btB8UaL4v8Z%2BLZbyHTNdvoNaVr83V00gtoXFpazlFxBCIy6xhXIPI6ZH8fPiF8Qbr4YeEk8T6bo3hXxyk3/CIeNP2g7/T9UuUl8MmWa0fVdOuLuedY55Le7EIlmCrcKzGNSEj%2ByvC3wD%2BBfgaGa38FfBbwlo8dxNPNcJpfhy1txLJMgjmdhHGNzSIoVieWUAHIFUZf2Xf2Z5/AMHwon/Z28Cv4Wtb03lr4afwjZHT4bkhgZlt/K8tZCGYFwufmPPJoAs/s8/EPQPi38BPBPxT8KWOo22meI/Cen6lp1tq921xdRQT20ciLNK7u0sgVgGkLtvOW3NnJZ4ts7eXxBcSSarbxk7Mo6yZHyL6IR%2BtdhaWlrYWsVjY20cMEMaxwwxIFSNAMBVA4AAGABXD%2BM/8AkZbn/gH/AKAtbUfiFLY/N/8A4OAviO8HhHwF8CtFv2u5L28u9fv47DeHiMCC1s8ggEhri6OAM8x89BX3T8A/hLpnwb%2BB/hD4T22s2YHhzw1Zac5VJfmeGBEdvucksCSe5Nfm5%2B0Gx/ar/wCCxWieDl3z6dovi7TNDttpzHNaaTC2q6nEw6DE7xL6nH4V%2Bo1fM5DfG55j8d05o04%2BkE7/AIn0Kj9T4Awn82NxOJxD/wCvdDkwND5N08VJer9S1/Z9p/0HLX/viX/4ij%2Bz7T/oOWv/AHxL/wDEVVor6%2Bz7nzZp6xY2r6vdO2sWyk3Lkqyy5HzHg4TFVv7PtP8AoOWv/fEv/wARRrn/ACGrz/r6k/8AQjVWkk7LUC1/Z9p/0HLX/viX/wCIo/s%2B0/6Dlr/3xL/8RVWinZ9wNPR7G1TV7V11i2Yi5QhVWXJ%2BYccpiq39n2n/AEHLX/viX/4ijQ/%2BQ1Z/9fUf/oQqrSs77gWv7PtP%2Bg5a/wDfEv8A8RR/Z9p/0HLX/viX/wCIqrRTs%2B4Fr%2Bz7T/oOWv8A3xL/APEVZ0qxtVuWK6xbN/o0wwFl/wCeTc8p261mVa0f/j7f/r1n/wDRT0mnbcA/s%2B0/6Dlr/wB8S/8AxFH9n2n/AEHLX/viX/4iqtFOz7gWv7PtP%2Bg5a/8AfEv/AMRR/Z9p/wBBy1/74l/%2BIqrRRZ9wNOxsbVba8A1i2ObYAkLL8v71OT8n4cetVv7PtP8AoOWv/fEv/wARRp//AB6X3/XqP/RsdVaSTu9QLX9n2n/Qctf%2B%2BJf/AIij%2Bz7T/oOWv/fEv/xFVaKdn3Atf2faf9By1/74l/8AiKsxWNqNInT%2B2LYg3MRLbZcD5ZOPuZ//AFVmVah/5Atx/wBfUP8A6DLSafcA/s%2B0/wCg5a/98S//ABFH9n2n/Qctf%2B%2BJf/iKq0U7PuBa/s%2B0/wCg5a/98S//ABFH9n2n/Qctf%2B%2BJf/iKq0UWfcDTlsbU6RAn9sWwAuZSG2y4Pyx8fcz/APrqt/Z9p/0HLX/viX/4iib/AJAtv/19Tf8AoMVVaST7gWv7PtP%2Bg5a/98S//EUf2faf9By1/wC%2BJf8A4iqtFOz7gWv7PtP%2Bg5a/98S//EVZvrG1a2swdYthi2IBKy/N%2B9fkfJ%2BHPpWZVrUP%2BPSx/wCvU/8Ao2Sk07rUA/s%2B0/6Dlr/3xL/8RR/Z9p/0HLX/AL4l/wDiKq0U7PuBa/s%2B0/6Dlr/3xL/8RXa%2BEo0i8P28cc6SAb8OgOD87eoB/SuArvPBn/ItW3/A/wD0NqxrX5So7mpRRRXMUFFFFABRRRQAUUUUAFFFFABRRRQAUUUUAFFFFABRRRQAUUUUAFFFFABXyF/wWd0XUND/AGbPDn7SfhyzaXVvhF8Q9K8TQiIfPLarL5NzD/uMkgZh6R19e1wH7T3w70j4u/BLXvhXr4H2LxHptzptySudqT28kZYe43ZHuK5MdhZY3B1KMdHJOz7SWsX8pKJ5%2BbYSWOyytQi7SlF2faS1i/lKMWfIGm%2BINM8Kf8FYNO8StcK%2BkfFr4Lonhq%2BQ/JdXdlcee6DPU/ZmEmfQivq6vzb/AOEo8Wal/wAE2vhj%2B0atnJJ42/Zl8cJZa9axHMptbK4Fld2pJ7NatbO/ThDX6M6DrmleJ9DsvEmhXqXNjqFpHc2dxGcrLFIodHHsVIP41z5BilWdWO3Py1V6VEuZf9u1Izj9x%2Bh5/iocR8GZDxHSXx0Pq1Rfy1cK3yp9uahWg/WEuztbooor6M%2BILU3/ACBbf/r6m/8AQYqq1am/5Atv/wBfU3/oMVVaSAKKKKYBVrUP%2BPSx/wCvU/8Ao2SqtWtQ/wCPSx/69T/6NkpPdAVaKKKYBRRRQBa1j/j7T/r1g/8ARSVVq1rH/H2n/XrB/wCikqrSWwBRRRTAKta5/wAhq8/6%2BpP/AEI1Vq1rn/IavP8Ar6k/9CNLqBVooopgFWtD/wCQ1Z/9fUf/AKEKq1a0P/kNWf8A19R/%2BhCk9mBVooopgFFFFAFrR/8Aj7f/AK9Z/wD0U9VataP/AMfb/wDXrP8A%2BinqrS6gFFFFMAq1p/8Ax6X3/XqP/RsdVataf/x6X3/XqP8A0bHSewFWiiimAV1Hw2/5ff8Atn/7NXL11Hw2/wCX3/tn/wCzVnV/hsa3OoooorjLCiiigAorm/Bfxj%2BEPxJ0fUPEPw7%2BKnhvX7DSZnh1W%2B0XXLe6hs5EXc6SvE7LGyryQxBA5NM0H42/BjxT8Prz4teGPi54Y1Lwrp8M0t/4msNftptPto4V3zPJcI5jRUUFmJYBQMnFAHT1538SdTtNF1DUtYv32wWlv50zeiLEGJ/IV39jfWWqWUOp6ZeRXFtcRLLb3EEgdJUYZVlYcMCCCCOCDXz9%2B3/4t/4QT9m34reLUk2SWPgPUnt2z/y1%2BwuIx/32VFEqqoUZ1X9mLf3Jv9DnxdZYbCzrP7MZP7k3%2Bh%2Be3/BG3Sbv4x/tUax8cdcQyXWmeFr7V9aB5Ca1repSyCQH/asYIxX6f18N/wDBBX4eXWifsra18UtXt1F34p8SeRBKo4ks7C3jtYue%2BJFuK%2B5K8fg2hKjw/SnL4ql5v/t56fgr/M%2Bt4qSwlTA5VHbB4TCUP%2B31QhVrP1dfE1W%2Bt076oKKKK%2BoPli1rn/IavP8Ar6k/9CNVata5/wAhq8/6%2BpP/AEI1VpLZAFFFFMC1of8AyGrP/r6j/wDQhVWrWh/8hqz/AOvqP/0IVVpdQCiiimAVa0f/AI%2B3/wCvWf8A9FPVWrWj/wDH2/8A16z/APop6T2Aq0UUUwCiiigC1p//AB6X3/XqP/RsdVataf8A8el9/wBeo/8ARsdVaS3YBRRRTAKtQ/8AIFuP%2BvqH/wBBlqrVqH/kC3H/AF9Q/wDoMtJgVaKKKYBRRRQBam/5Atv/ANfU3/oMVVatTf8AIFt/%2Bvqb/wBBiqrSQBRRRTAKtah/x6WP/Xqf/RslVatah/x6WP8A16n/ANGyUnugKtFFFMArvPBn/ItW3/A//Q2rg67zwZ/yLVt/wP8A9Dasa/wDjualFFFcpYUUUUAFFFFABRRRQAUUUUAFFFFABRRRQAUUUUAFFFFABRRRQAUVifErxvY/DP4c6/8AEjU7WSe28P6Jd6lcQxHDSJBC0rKPchCBXkPwS%2BN/7Rni%2B98RfDjxtZ%2BC7rxfH8NtG8WeG5dNtbux05ZNR%2B3xLY3O%2BW4kYQzWI3XCbfMSYEQoUIIB7zWD8Q/%2BQLF/19L/AOgtXn37Jfxu8f8Axf8A%2BE40b4hz6bc3XhHxYNKt9QsfDF5oUl3GbK2uC8mm3001xbYkmkRGd8ToiyoNjqzei%2BO7W6vNIjitLaSVhcglY0LHG1ueKun8aE9j4H%2BFvg/w54W/bW/aA/Y38bRhPDvxc0OPxbolq/yi4F1C1pqgXPDOZcNgcgIT2zXY/wDBLTxvr2ofs0P8E/HNzv8AEvwm8Q3vg7WQ2QWFpJi3cA87DA0aqeh8s4qx/wAFIvgj8R38C6H%2B1n8HvDd0/jr4N6g2uafGlu4Oo6ZtxqFixAyVeAFsDJ%2BQqOXrzjwF8UtB%2BFf7Yfhz9pjwv5jfCv8Aan0fT4IdRKFU0/xLbxFYIpP4VaZN0RA5MwfP3Ca%2BYjNZVm0Yy0jGUlf/AKdVpXX/AILre6%2ByqReiZ9N4eKWY5JnPB0tammOwq6ydJz9tCP8AedCdZcq1fso2TdkfaFFWv7D1r/oD3X/gO3%2BFH9h61/0B7r/wHb/Cvs7rufLBN/yBbf8A6%2Bpv/QYqq1py6Pq50iCIaVc7hcykr5DZAKx4PT2P5VW/sPWv%2BgPdf%2BA7f4Uk13Aq0Va/sPWv%2BgPdf%2BA7f4Uf2HrX/QHuv/Adv8Kd13Aq1a1D/j0sf%2BvU/wDo2Sj%2Bw9a/6A91/wCA7f4VZvtH1d7azVNKuSVtiGAgbg%2Ba5wePQj86TautQMyirX9h61/0B7r/AMB2/wAKP7D1r/oD3X/gO3%2BFO67gVaKtf2HrX/QHuv8AwHb/AAo/sPWv%2BgPdf%2BA7f4UXXcA1j/j7T/r1g/8ARSVVrT1XR9XkuVaPSrlgLaEZEDHkRKCOnrVb%2Bw9a/wCgPdf%2BA7f4Uk1bcCrRVr%2Bw9a/6A91/4Dt/hR/Yetf9Ae6/8B2/wp3XcCrVrXP%2BQ1ef9fUn/oRo/sPWv%2BgPdf8AgO3%2BFWdY0fV5dXupYtKuWVrlyrLAxBG489KV1fcDMoq1/Yetf9Ae6/8AAdv8KP7D1r/oD3X/AIDt/hTuu4FWrWh/8hqz/wCvqP8A9CFH9h61/wBAe6/8B2/wqzo%2Bj6vFq9rLLpVyqrcoWZoGAA3Dk8Um1Z6gZlFWv7D1r/oD3X/gO3%2BFH9h61/0B7r/wHb/CnddwKtFWv7D1r/oD3X/gO3%2BFH9h61/0B7r/wHb/Ci67gGj/8fb/9es//AKKeqtaelaPq8dyzSaVcqDbTDLQMOTEwA6etVv7D1r/oD3X/AIDt/hSur7gVaKtf2HrX/QHuv/Adv8KP7D1r/oD3X/gO3%2BFO67gVataf/wAel9/16j/0bHR/Yetf9Ae6/wDAdv8ACrNjo%2BrpbXivpVyC1sAoMDcnzUOBx6A/lSbVtwMyirX9h61/0B7r/wAB2/wo/sPWv%2BgPdf8AgO3%2BFO67gVa6j4bf8vv/AGz/APZqwf7D1r/oD3X/AIDt/hXR%2BALG9svtf2yzli3eXt82MrnG7pms6rXIxrc6OiiiuQsK5r4zeHfEfjD4P%2BK/CXg68%2Bz6vqnhq%2BtNKuPM2eVcy27pE27%2BHDspz2xXS0UAfF3gvwPH8VvCXxG8Nah8HfH/AIe8O%2BIv2bdF8ES6VF4OuLK9kv7S31n7XbWyXUaQl4Yr63iildhbzu%2BxJHWNscb42%2BDn7YXxx%2BGnxS1/TfD2n%2BIfDniO/S61PRvEHh/VPBtxrzWOhxRQG302W2vLnYbpYt0cxRp309VVvs8gU/oHRQByPwBtvFFn8DPB1l420OLTNXg8MWMeo6fDcPKtvKsCBk3SRxMSCMHcikHIxxXy/wD8FtPFtn4U/YM%2BJRhjlW81GHTtPhfzwFbzry2Rxt25/wBWX79q%2Bzq/N3/g4z8VNo/7K1h4aglxJrXjuxjdM4zFFZ3EzH8GSP8AOvJz%2Bt9XyHFVP%2Bncvx0/U48fg6mZYZ4Gm/eruFJetapTor8at/keu/8ABLHwxpXgv/gnz8LdHn064DzeHftzFLlVB%2B1Ty3OcFD187PWvf/O0X/oH3X/gYv8A8brg/wBnTwp/wgn7PngXwR5Wz%2Bx/B2mWRTHQxWkaf%2By12VexltD6tl1Gl/LCK%2B6Mf%2BCfT8V4ynmHFOPxVP4Z160o/wCF1anL/wCSqJa87Rf%2Bgfdf%2BBi//G6PO0X/AKB91/4GL/8AG6q0V22PANPWJdIGr3Qlsbkt9pfcVulAJ3HtsOKredov/QPuv/Axf/jdGuf8hq8/6%2BpP/QjVWklogLXnaL/0D7r/AMDF/wDjdHnaL/0D7r/wMX/43VWinYDT0eXSDq9qIrG5DfaU2lrpSAdw6jYM1W87Rf8AoH3X/gYv/wAbo0P/AJDVn/19R/8AoQqrStqBa87Rf%2Bgfdf8AgYv/AMbo87Rf%2Bgfdf%2BBi/wDxuqtFOwFrztF/6B91/wCBi/8AxurOlS6QblvLsbkH7NNy10p48ps/welZlWtH/wCPt/8Ar1n/APRT0mtADztF/wCgfdf%2BBi//ABujztF/6B91/wCBi/8AxuqtFOwFrztF/wCgfdf%2BBi//ABujztF/6B91/wCBi/8AxuqtFFgNOxl0g215ssbkAWw3A3SnI81Onycc4qt52i/9A%2B6/8DF/%2BN0af/x6X3/XqP8A0bHVWklqwLXnaL/0D7r/AMDF/wDjdHnaL/0D7r/wMX/43VWinYC152i/9A%2B6/wDAxf8A43VmKXSP7InIsbnb9piyPtS5J2yY52fWsyrUP/IFuP8Ar6h/9BlpNAHnaL/0D7r/AMDF/wDjdHnaL/0D7r/wMX/43VWinYC152i/9A%2B6/wDAxf8A43R52i/9A%2B6/8DF/%2BN1VoosBpyy6R/ZEBNjc7ftMuB9qXIO2PPOz6VW87Rf%2Bgfdf%2BBi//G6Jv%2BQLb/8AX1N/6DFVWkkBa87Rf%2Bgfdf8AgYv/AMbo87Rf%2Bgfdf%2BBi/wDxuqtFOwFrztF/6B91/wCBi/8AxurN9LpAtrPfY3JBtjtAulGB5r9fk55zWZVrUP8Aj0sf%2BvU/%2BjZKTWqAPO0X/oH3X/gYv/xujztF/wCgfdf%2BBi//ABuqtFOwFrztF/6B91/4GL/8brtfCRgbw/bm3jdE%2BfaruGI%2Bdu4A/lXAV3ngz/kWrb/gf/obVjWXulR3NSiiiuYoKKKKACiiigAooooAKKKKACiiigAooooAKKKKACiiigAooooAq65ouleJNFvPDuu2Md1Y39rJbXltKMrNE6lXQ%2BxUkH615D4N/Yl8HeEdE1rRJ/i7471X%2B3vClv4Zu76/1S1ju49Jtop47O2intraKSM25urmRJg3ntJMzSyS4Xb7RRQBw/wb%2BBmn/CG817X7nx5r/irXfE15BPrPiDxIbQXM4hgSCGIJZ29vAiIi8BYwSzuzFi2a2viH/wAgWL/r6X/0Fq3qwfiH/wAgWL/r6X/0Fqun8aE9jjHRJEMciBlYYZWGQR6V%2BfXiL4IeFvht4k8cf8EzPipcvo/gj4k38mv/AAA8SygiDSdVLea%2BnpIP9W8VxtZEBBdHYZ3TAH9Bq8//AGmv2bvh3%2B1V8Jb74TfEa2dYZyJ9M1O1O250u8TPlXUDdVkQn6EFlOQxFcmcZc8dQUoJOcb2T2lGStKDfRSWz%2BzJRl0Zy%2B3zXLMyw2cZTU9ni8LNVKUu7TTcX5Ssu6Ts2mnJPjv2Bf2ivEPx5%2BDEmifFCA2nxC8DahJ4e8f6fIQHS/g%2BXz8d0mUCQMPlLFwuQte41%2BXD/Fv47fsh/tHzeLvHSF/ilodpFZ%2BOdHGY7T4r%2BHIRth1WyZvlOpQRj5o/vMEOBkTRn9I/hD8WvAPx1%2BG%2Bk/Fj4Ya/FqWia1aCeyuo%2BDjoyOOqOrAqynlWUg9K5OH81jjKTwtVv2tPR3%2BJpaJtfzLRTXSSurxnFv7riXD5XnOFhxTkcOXB4mTU6a3wmJtzVcLUjq4pS5p4dv3alCUXFt05JddN/wAgW3/6%2Bpv/AEGKqtWpv%2BQLb/8AX1N/6DFVWvokfGBRRRTAKtah/wAelj/16n/0bJVWrWof8elj/wBep/8ARslJ7oCrRRRTAKKKKALWsf8AH2n/AF6wf%2BikqrVrWP8Aj7T/AK9YP/RSVVpLYAooopgFWtc/5DV5/wBfUn/oRqrVrXP%2BQ1ef9fUn/oRpdQKtFFFMAq1of/Ias/8Ar6j/APQhVWrWh/8AIas/%2BvqP/wBCFJ7MCrRRRTAKKKKALWj/APH2/wD16z/%2BinqrVrR/%2BPt/%2BvWf/wBFPVWl1AKKKKYBVrT/APj0vv8Ar1H/AKNjqrVrT/8Aj0vv%2BvUf%2BjY6T2Aq0UUUwCuo%2BG3/AC%2B/9s//AGauXrqPht/y%2B/8AbP8A9mrOr/DY1udRRRRXGWFFFVdd1vSfDOiXniTXr%2BO1sdPtZLm9uZThYYo1LO59goJP0oAtUV434W/bd%2BGWs%2BAPFvxD8WeD/FHhO28G%2BDLfxdqdl4isYPtMuhzw3MsF7ElrPNkSCzuVETFZleIq8aErl6/tfpJpF%2Bbb9nT4iS6/pGp/ZNa8Ipb6X9s05DZi8W5mnN%2BLJYGiZdrfaSWcmMLvR1UA9hr8qv8Ag4feXxp8T/gt8E7Rix1zxFcvPGp5%2BY2NtH%2BfnyD8K/Tv4cePvDnxW%2BHmg/FHwfNNJpHiTRbXVdLkuIGika2uIVmiLI3KMUdcqeQeDX5gf8FPBJ8Rv%2BC2HwI%2BG8WZINHTSNQuEzwG%2B2zXDKR/uWiE%2B1fOcV%2B/kzo/8/J04f8AgVSN/wAEz1eHVfi3KvLE0Z/Ki6mJf/qMj9CERI0EcahVUYVQOAKWiivszxgooooAta5/yGrz/r6k/wDQjVWrWuf8hq8/6%2BpP/QjVWktkAUUUUwLWh/8AIas/%2BvqP/wBCFVataH/yGrP/AK%2Bo/wD0IVVpdQCiiimAVa0f/j7f/r1n/wDRT1Vq1o//AB9v/wBes/8A6Kek9gKtFFFMAooooAtaf/x6X3/XqP8A0bHVWrWn/wDHpff9eo/9Gx1VpLdgFFFFMAq1D/yBbj/r6h/9BlqrVqH/AJAtx/19Q/8AoMtJgVaKKKYBRRRQBam/5Atv/wBfU3/oMVVatTf8gW3/AOvqb/0GKqtJAFFFFMAq1qH/AB6WP/Xqf/RslVatah/x6WP/AF6n/wBGyUnugKtFFFMArvPBn/ItW3/A/wD0Nq4Ou88Gf8i1bf8AA/8A0Nqxr/AOO5qUUUVylhRRRQAUUUUAFFFFABRRRQAUUUUAFFFFABRRRQAUUUUAFFFFABRRXOeCfjD8I/iXpN/r3w4%2BKfhzxBY6VO8Gp3uia5b3cVnKq7mSV4nYRsFIJDEEDmgDo6wfiH/yBYv%2Bvpf/AEFqPh38Uvhj8XtBbxT8J/iNoPijTEuGt31Hw7q8N7AsqgFozJCzKGAZSVzkBh60fEP/AJAsX/X0v/oLVdP40J7HG0UUV2kHn/7R37MXwd/ap8BN4A%2BL/hoXcUb%2BbpmpWzeVeaZcfwz20wG6JwQPUNjDBhxXwN4Y8Mfts/8ABGz4harro8P3nxN%2BB%2BqX5utauNLiHn2QIAa6aIHNtOFA3tzBKAAzK2Cn6c0jKrKVZQQRggjrXiZlkdDH144mlJ0q8dpx39JLaUejT6bNGmFxOOy2pVqYKpyOrFQqRcVKnVineMatNtKXI/epzThVpSvKlVjeUZ8v8Df2gvhD%2B0t8JNN%2BJ3wX8a2mtaVc3Uqu0D4ltZdkRMM0Z%2BaKQZGVYA4IIyCCepr5E/aV/wCCUel3usS/tA/sNfEa9%2BEfxDmmlM8ejXLwaTqhUI22WGP/AFO4nkqrRnktExJavDNA/wCCqX7eH7KHi2H4Sftwfs/afql2shit9X%2B1JpEt%2BgHM0VwQbK5HshjJJx1zXFPiCplUlTzWk4LZVIJypv8A9ug32kn5Nm%2BCyfiPMKM62FwjrqKbksPerOKWrcqFliOVLecKdeKXxOO5%2Bl1FfMfgj/grd%2ByBrdxbaP8AE3V/EHw41a5jDx6Z4%2B8PT2W4HHzCZQ8JTkEMXGQQa9/8C/FH4Z/FDThq/wANfiHofiG1ZQwudE1aG6THruiZhXt4XMsvxv8AAqxk%2Byav81pJfNHjYbM8vxknGhVjKS3V/eT7OLtJNdU4prrY3atah/x6WP8A16n/ANGyVVq1qH/HpY/9ep/9GyV2PdHcVaKKKYBRRRQBa1j/AI%2B0/wCvWD/0UlVatax/x9p/16wf%2BikqrSWwBRRRTAKta5/yGrz/AK%2BpP/QjVWrWuf8AIavP%2BvqT/wBCNLqBVooopgFWtD/5DVn/ANfUf/oQqrVrQ/8AkNWf/X1H/wChCk9mBVooopgFFFFAFrR/%2BPt/%2BvWf/wBFPVWrWj/8fb/9es//AKKeqtLqAUUUUwCrWn/8el9/16j/ANGx1Vq1p/8Ax6X3/XqP/RsdJ7AVaKKKYBXUfDb/AJff%2B2f/ALNXL11Hw2/5ff8Atn/7NWdX%2BGxrc6iiiiuMsKxfiT4JsPiZ8Otf%2BHGqXMkNr4g0W6025miHzRxzwtEzD3AckVtUUAfN/gD9mr4%2Bzw%2BKbz4w6N8O7661/wCE%2Bn%2BBRYpfXl7p00VlFqBFzcQvbwtIl1LqDLJahx5UUICzStISvNeGv2LfjD4c8KeKlv8A4Z/DTxND471aAeKvh3408YarrGnz6fbWMcNrnVr6zmuZ547iMzfvLbaEaOJSpgWRvrWigDlPgT4F8S/DD4JeD/hr408YS%2BIdY8P%2BF7DTdV16csX1G5gt0ikuDvJbLspb5iW%2Bbkk5J/NHxNc3HxG/4OQLu5iCTWng3RVVd8auuU0JQcggj5Zb09e4r9Wa/J39hOO%2B8e/8Fpf2jviDqUTFNHu9a06At/Cy6pDbI3/fFmw%2BlfN58va4zAUP5q0X/wCARlL/ACPX4cTWfqr/AM%2BsPjavzWFdKPz5sUmj9HP7Yu/%2BeNr/AOAMX/xNH9sXf/PG1/8AAGL/AOJr5w%2BIv/BVb9gn4T%2BOtW%2BGnxA%2BPH2DW9DvpLPVLL/hF9Ul8idDhk3x2rI2D3Uke9Yv/D5j/gmz/wBHH/8Aln6x/wDIde7PPMipzcZYmmmtGueOjXzPoKHhd4mYqhCtRyXFyhNKUZLD1WnFpNNNQs00001o00%2Bp9U/2xd/88bX/AMAYv/iaP7Yu/wDnja/%2BAMX/AMTXzh8Ov%2BCq37BPxY8daT8NPh/8ePt%2Bt65fR2el2X/CL6pF587nCpvktVRcnuxA969B/a1%2BJnjX4N/s1%2BNPih8OtPsLrW9E0KW506LU52jgEgwN7FUcnaCWC7cMVCkqCWHZhcbgcdBzw1SM0tG4tOz3toz5/POGuI%2BGa8KGcYOrhpzXNGNWnKm5K9rpTSbV9LrS%2Bh6vrGq3Uer3UaxWxC3LgbrOIn7x6krk1W/ti7/542v/AIAxf/E184eOP24viHocniG5n%2BB2kNfWfxAvPDWmadb%2BKdQu5dRntYZpruZIrLSZ7jyk2RqpWFs7naTyVQF%2Bc8If8FA/FnxC1K2T4U/B86xJ4jtYNQ0i28Q%2BK47CG0t28N6brG0tDYyuuRemPB84%2BYM7lRtse6cbI8WzPrL%2B2Lv/AJ42v/gDF/8AE0f2xd/88bX/AMAYv/ia8nuvj9qd1%2Bytqn7Tej%2BFYVtf%2BFfnxPoFjJdtJLPGdNF4scyhFEbbyY8KzggBtwLbVwf2efGPxat/iD4l%2BE/jj4jy%2BMrix8AeHPEtjq2oWFpasLjUX1SGW2AtIY08gPpquhZWkAmYM77VNV7oHv8Ao%2Bq3Umr2sbRWwDXKA7bOIH7w7hciq39sXf8Azxtf/AGL/wCJr4Z8N/tVftS2Oo6L8MdV1/xzN4s1iLwtPqdnJ4N03TtXtdSubi8TUtN0kXlvHZSxoLbfFPc%2BbD5UFwRcyttKavw//aA/aInutH%2BJvxc8Y%2BPrTwNZaVY2urah4d0XQPIttVj8QatYXsOrCeFp/Mjjh0%2BG4%2BwDy0cTvHtQhxN432CzPtH%2B2Lv/AJ42v/gDF/8AE0f2xd/88bX/AMAYv/ia%2BHvEf7U/7RWheCNA8bWnxNubuf4maBf3%2Bm6Imj2HmaLPH4i0ewt7LTj5IDzywao1urXrSx/axA7mOIyCvoH9kDx9498e/DrV/wDhZeoajLq%2BjeL9R0yaDXbezj1O1iikBhivPsIFo0/lOj7rfMRSSMgk7jTXK3sGp7B/bF3/AM8bX/wBi/8Aias6Vqt1JcsrRW3/AB7THiziHSJj2WsyrWj/APH2/wD16z/%2BinptKwg/ti7/AOeNr/4Axf8AxNH9sXf/ADxtf/AGL/4mqtFOyAtf2xd/88bX/wAAYv8A4mj%2B2Lv/AJ42v/gDF/8AE1VoosgNOx1W6a2vGMVt8tsCMWcQ/wCWqDn5eeveq39sXf8Azxtf/AGL/wCJo0//AI9L7/r1H/o2OqtJJXYFr%2B2Lv/nja/8AgDF/8TR/bF3/AM8bX/wBi/8Aiaq0U7IC1/bF3/zxtf8AwBi/%2BJqzFqt0dInk8q2yLmID/Q4scrJ2247f5zWZVqH/AJAtx/19Q/8AoMtJpAH9sXf/ADxtf/AGL/4mj%2B2Lv/nja/8AgDF/8TVWinZAWv7Yu/8Anja/%2BAMX/wATR/bF3/zxtf8AwBi/%2BJqrRRZAacuq3Q0iCTyrbJuZQf8AQ4scLH2247/5xVb%2B2Lv/AJ42v/gDF/8AE0Tf8gW3/wCvqb/0GKqtJJAWv7Yu/wDnja/%2BAMX/AMTR/bF3/wA8bX/wBi/%2BJqrRTsgLX9sXf/PG1/8AAGL/AOJqzfardLbWbCK2%2Ba2JObOI/wDLVxx8vHTtWZVrUP8Aj0sf%2BvU/%2BjZKTSugD%2B2Lv/nja/8AgDF/8TR/bF3/AM8bX/wBi/8Aiaq0U7IC1/bF3/zxtf8AwBi/%2BJrtfCUz3Hh%2B3mkCAnfkIgUffbsAAK4Cu88Gf8i1bf8AA/8A0NqxrJKJUdzUooormKCiiigAooooAKKKKACiiigAooooAKKKKACiiigAooooAKKKKAOa%2BM3h3xH4w%2BD/AIr8JeDrz7Pq%2BqeGr600q48zZ5VzLbukTbv4cOynPbFfM3wXvtJtX8Y%2BM/FP7OHjNfCKfs/%2BHvDmoeDb34c3pm1a60yLWJb7TY7R4MXAWC7gt0IzFctKY4mk2HH19RQB4d%2BxMLnxBp3i34teKtL1fT/FPjLWbe/8QaTfeENT0i20pY7SK2trG2/tC2ge6EUMKiS5C/vJWcgRp5cSer%2BO2tV0iM3cMjr9pGBHIFOdrdyDW1WD8Q/%2BQLF/19L/AOgtV0/jQnscv52i/wDQPuv/AAMX/wCN0edov/QPuv8AwMX/AON1VorssQWvO0X/AKB91/4GL/8AG6PO0X/oH3X/AIGL/wDG6q0UWA05ZdI/siAmxudv2mXA%2B1LkHbHnnZ9K57x34D%2BFXxR8M3Hgz4j/AA/t9d0m7XFxp2rCKeF/QlXiIyOx6jtWxN/yBbf/AK%2Bpv/QYqq1DpwnFxkrp9HqjWjXr4atGtRk4zi01KLaaa2aaaaa6NNNdz5O8cf8ABLjTPCdlcx/sefG/XvBFlPK0sngXxQkXiLwzMSclRZ3aExbskFwzEA8AYrwjxd%2ByJeeArs6j%2B0L/AMEsLTXJLdiR45/Zt8XzafKmP4o9LyrFiOeAFz0HNfpRRXz%2BJ4Wyysv3a5PKylH/AMAmpJf9uuHyPssVxpHiCKhxTl2GzNfz16fLiF6Yqj7Os351Pbd7s/Nbwj8Rv2YrLUR4c%2BGn/BUr46/CjWI8f8Uz8YH%2B0pZdgpW7t0hVR6eafrXuvhfw/wD8FIdW0e01T4Pf8FCfhH8TbJbfMNzqXhCKJCvmPgM%2BnSOOeTketfTvjL4feAviLph0T4g%2BCNI12zIObTWdNiuojnr8sisP0rxTx9/wSe/YM8Uz2mu6f8DYfDmpNAzpqPhLVbrTXibzHGVSCRYxwB/B2ri/sPMcN/CkpL%2B7UrUn93NVh%2BC%2BSOD%2BwfBzH60vr%2BXS7QqxxVNeilKhVS9VJ27swovGv/BXfwvxr/wR%2BCvikL1PhzxNf2Jf6falIBqdf2tf2%2BdAG3xf/wAEs9QukX7134f%2BMOlz7vpEYN35mqo/4JyeP/CAz8F/%2BCg3xo0NV/1NprmuRazaw%2BirFMi4X2JNL/wo/wD4KoeDxjwx%2B294J8Wqn%2BrTxb8OUsiw7Bms2JP160%2BTN6W/1hek6FVfjGEvwF/xDrIa%2BuXcWQ8lXp1qT%2Bbnhq0f/Jy1/wAPD/ibpfHin/gmR8c4SPv/ANkw2t9j6bMZo/4emeBbPjxF%2Bwp%2B0rpRH3mvfh1hR%2BKsciq3/CX/APBX7wvxrHwf%2BCHilU7%2BH9f1GyZx/wBvQIB/Sj/hqz/gopoPy%2BKv%2BCYkl1Gv3rrQfivps276RMgb9aPrmNh8VetH/Fhk/wAYth/xCni6f%2B6Z1gq3piMF%2BVSWHf4Ghf8A/BXT9llJ1bXPhR8XtNIhjU/bvAd0mMIo5Ajb069%2BtQf8Pjf%2BCftt/wAhvxN4t031%2B3eEtRXH122hpupf8FCvjZptwreMf%2BCanxotitvEGGj6fb6hwI1GRskXOcZ/GoP%2BHpXg2y48Ufse/tBaLj7x1P4XyKB%2BKStQs1qxWuNiv8VCov8AL8w/4hH4tv8AgqnV/wADws//AE3j7/cjU07/AILEf8EytTIWD9oQxnuLnSdRhx/33ZCtaD/gqp/wTguOY/2ktJGf%2BelxMv8A6FbiuK1D/gqv%2BxbeAjxv4X8ZWIx839t/Di8OPriNqzo/%2BCl//BJPU5fs%2BpeNNAgl/ii1D4dXyEfUtZ4/Wms6ktPr%2BH%2BalH85kvwj8cIq8crqTXeOFrS/9N1ai/E9Tg/4Kb/8E7bj/V/tM%2BHBn/nprQX/ANChFa9x/wAFE/8Agn/qep3EsH7U/gpt87kO/jC2iDZY8jeOBXkcH7af/BIPW/veNfhm2f8An78KhP8A0Zbir%2Bp/HD/gjZ4j1S5f%2B3PgVNG87lPtWk6coKljj/WRjtWsc1xEn7uLwz/7ekv/AG88%2Br4d%2BMWH/iZXUXrhcYvygz1Jf29f2DG6ftUeAPx%2BIGnj%2BtWIP24f2F7niD9qf4eMfQfEjTc/lurye11r/gjbqOBDc/s2EnoJE0FSfwYCrS%2BE/wDgkHq3MGgfs4zE94bfQST%2BKit447MZbVsO/wDt%2Bf8A8kedU4V8TqP8TL2vXD41fnRPWIv2xv2L5v8AU/tKeA3/AN34hacf/Zq0tC/as/ZLn1W1a1/aA8GEi4Qh/wDhOrBgPmHJwen4145H8D/%2BCUOpf8e3w9%2BBMuf%2BeFtpP/stXdG/ZH/4Jd6zqtrGvwb%2BEUyPcIGEMFlggsM/dNafWc3a0lQfpOf/AATinlPHdH%2BJhIr1hiV%2BdI9WT9pT9l6T/V/Gnwq308aWRqxD8fP2dbgZt/ir4eceqeLbQ/yFeQR/sJf8E3L7/j3%2BAHw5kz/zygh/o1SL/wAE1/8AgntqXMH7Mvg%2BT/rhCR/6C9aqpnj2jRf/AG/U/wDkWcc6fFVL46NJerrL84HrUv7QP7OMHE/xZ8Op/v8Ai%2BzFIv7QX7N7/c%2BLXhw/TxfZ15dF/wAEzP2B4RhP2V/CZ/3rJm/m1Df8Ezf2B36/sreE/wALIj/2aq5s/wD5KX/gVT/5Ey9pxH/z7o/%2BBVP/AJA9e0n47/s%2BPct5PxT8P5NvNyfFdoc/u24%2Bp6f49KYnxn%2BBMgzH8Q9GYeo8T2p/pXlGn/8ABL3/AIJ/XNy6TfsreFyPs8zYEEg5EbEHh/UCqL/8Etf%2BCfkhy37Lnh38DOP5SUubPr/BS/8AA6n/AMgHtOI/%2BfdH/wADqf8AyB7L/wALm%2BBW7b/wsLRsnt/wk9r/AIVZh%2BJ/wguF3QeL9PceqeIbc/yWvEf%2BHWv/AAT8xt/4Zc8O/nP/APHKrzf8Eof%2BCeczbn/Zh0Uf7l7dr/Kanz59/wA%2B6X/gdT/5APa8R/8APqj/AOB1P/lZ7v8A8LL%2BEZbYPFdhuPQf2/b5/wDQa0tL8Y/D%2B5tLx7XV4HX7MN23V4myPNTpheOcV86f8Onv%2BCeRXb/wzFo%2BP%2Bv68z/6OpIf%2BCQX/BOO8gu5Z/2ZLDdHbhk2a5qK4PmIP4bgdiaTqZ9b%2BFT/APBk/wD5WHtuI/8AnzS/8GT/APlZ9DHxT4EHJvk/8G0X/wARSf8ACWeAc4/tGPPp/a8X/wARXzf/AMOgv%2BCco/5tos//AAf6l/8AJNL/AMOhP%2BCc2Mf8M0WX/g%2B1L/5Jp%2B0z7/nzT/8ABk//AJWHtuIv%2BfFL/wAGz/8AlR9Jp4j8Eyf6u5DfTVIz/wCyV1Xw6u9KuxeNpgbA8veWuFk/vY6KMd6%2BP3/4I%2Bf8E4pOG/Zptf8AgPiLUx/K5r3H9ir9jj9m79ks%2BJj%2Bz58Nk8Pf8JB9i/tfZqt3c/aPI8/yv%2BPiWTbt86T7uM7uc4GKhPNnK1anBR6tTk39zgk/vRvhaudSrpV6VOMOrjUk38k6cU9fNHutFFFbHrhRRWJ8SvG9j8M/hzr/AMSNTtZJ7bw/ol3qVxDEcNIkELSso9yEIFAG3RXzV4f/AGqv2hfDvgP4hSfEDwb4f8R%2BKvDXwbsPH3h/TPCOnXVtHeNdRajjS2R5riSWRJtPC%2Bem0yrcLthVlw2Z4R/bE%2BJfjzwV4xu/C/xy%2BD81t4C1GCfxF8Tl0a9fRG0qXTTcq8Fml8WkmW4DQPi82qELYMmYFAPqivzr/wCCffwsuPBX7d37W2u3t/DeGf4joLWeBSFRbie9v3i5/iX7VGjdtyHHGK%2B7fgp4v8W/EH4NeEvHvj/wbJ4c13W/DNhf614emJL6ZdzW6STWrZAOY3ZkOQD8vNfKX/BPvwrr114p/aF8bXWnTzS6t%2B0f4nhimjhYg29rLHbxjPsUcV5eKpRq5vg2/supL7qdv/bj7ThzD4WHDGd46a/eQpUaUPL2%2BKgp/wDkmHSfk/M%2BhKK8D%2BIv7dmtfDvx3q3gb/hgj9pDXf7JvpLb%2B2PDnwta6sLzYcebBL56%2BZGeobAyO1Yv/Dx7Wv8ApG7%2B1V/4Z5v/AJIrunnuUwm4yq6rT4Z//K3%2BZ%2BXzz/J6c3CVXVaP3anT0pP82fS1ZHxA8B%2BFPij4I1b4c%2BOtLN9o2uWEtlqdoLiSIywyKVZRJGyuhweGRgynBBBANeNfDr9uzWviJ470nwN/wwR%2B0hoX9rX0dt/bHiP4Wta2FnvOPNnl89vLjHUtg4HavU/2hvEPxE%2BFfwV8RfE/wf4UN7deHLD%2B1LiyubKV/tFnbsst3GgQqfNa3SYRnJAkKEqwBU9eFx2ExsHKjLmS0ejX/pUY/kztweOwuPg54eXMk7PSS1/7ejH8n6mT4m/ZI%2BAt7OdJufCmoMtl4jvNUiuB4n1EXL3VwhiuGlnFx5sySp8skcjNHJ/ErHmqPw6/Y6/Z0%2BFD2UngTwBLZtp0Bhsml1y%2BuDDEbGCw2Dzpn%2BUWttBEq9FWMbcHJPivx1/4KA/GXw5beIPiX8N/Cej6t4f0261jWI1TRzJ53h%2B01FNOhuXupdRt44xc3EN60UkMdyzI8GLdsFpMnwH%2B0f8AHbRviFefDTQ54rnUda8faxpWma14o%2B330Onq/jXxBaqr24uo0dI7eySCJEMbBjGnmbFVBspQsjtsz6t8GfC7wR4A8HQ/D7wzpMiaJb6bBp8GmXl9PdQxWsNultHCqzu%2B1PKjUED7x3M25mZjj/DX9nP4SfCG2a2%2BH%2Bi6jZh5rd3lm8R39zK6QRNFBbtJPO7m2jR2CWxPkpuJVAea5n9hS/8Aiz46%2BCB8V%2BNtfGtNL4x8WW7Tw288uXh8TapEvlTSSv8A6MkSRxRRbcokajcQAo8//ZQ174i6r8UvAeqX/ivxJql3498FeLNV8Z6VqGq3N1b2d7Y6xp8ESwQSM0dkIDc3Nr5cKoG2jeGaPcK5o6Csz1bwp%2Bxf%2BzlpUCeGdO8FX8ME9/p7xXKeKdSF5Yi0Z/skdpdfaPPsooRNMI4rd444xNKFUCRgYR%2Bxz%2Bzsj6WYvA1ykelRwIltH4iv1gvfJupLyI3sQn2agy3Mss%2B66WVvMldiSXYnyb4X23xYuv2rbL4d%2BO7/AMW3en%2BKdW8Z/wBva1YfEWb7BLp1pqcRszYxWl0JdMlskeGynZUtmErurGdm8xfNvjd46%2BLXw/8A2ANV8T/D/V/izZQfEHwx4g8dWPi62TX9cl8PaZHYrLpdil8RcSWLzILN5HlkSJB/aDho2ZDU80Uwsz6kf9jz9nWSTWJJfAMj/wBt%2BZ9oV9cvStoZLxb5zZKZsaeWu0juCbUREzRRyfeRSOt%2BHHwy8F/Cfw8/hnwNps1vbS3kt3cy3moT3lxc3ErbpJpri4d5ZnY/xO7HAAzgAD538AfET4kax%2B1vceJ/F2k%2BLo9I1L4mv4U8N248TXlqtsn/AAjCalFb3OhSwhAjqJbk3DFbxJXjUqIFNfWP9h61/wBAe6/8B2/wq1KLDUq1a0f/AI%2B3/wCvWf8A9FPR/Yetf9Ae6/8AAdv8Ks6Vo%2Brx3LNJpVyoNtMMtAw5MTADp60Nq24jMoq1/Yetf9Ae6/8AAdv8KP7D1r/oD3X/AIDt/hTuu4FWirX9h61/0B7r/wAB2/wo/sPWv%2BgPdf8AgO3%2BFF13ANP/AOPS%2B/69R/6NjqrWnY6Pq6W14r6VcgtbAKDA3J81DgcegP5VW/sPWv8AoD3X/gO3%2BFJNXeoFWirX9h61/wBAe6/8B2/wo/sPWv8AoD3X/gO3%2BFO67gVatQ/8gW4/6%2Bof/QZaP7D1r/oD3X/gO3%2BFWYtH1caRPEdKudxuYiF8hskBZMnp7j86Ta7gZlFWv7D1r/oD3X/gO3%2BFH9h61/0B7r/wHb/CnddwKtFWv7D1r/oD3X/gO3%2BFH9h61/0B7r/wHb/Ci67gE3/IFt/%2Bvqb/ANBiqrWnLo%2BrnSIIhpVzuFzKSvkNkArHg9PY/lVb%2Bw9a/wCgPdf%2BA7f4Uk13Aq0Va/sPWv8AoD3X/gO3%2BFH9h61/0B7r/wAB2/wp3XcCrVrUP%2BPSx/69T/6Nko/sPWv%2BgPdf%2BA7f4VZvtH1d7azVNKuSVtiGAgbg%2Ba5wePQj86TautQMyirX9h61/wBAe6/8B2/wo/sPWv8AoD3X/gO3%2BFO67gVa7zwZ/wAi1bf8D/8AQ2rjf7D1r/oD3X/gO3%2BFdr4SgntvD9vDcQvG679yOpBHzt2NY1mnEqO5o0UUVzFBRRRQAUUUUAFFFFABRRRQAUUUUAFFFFABRRRQAUUUUAFFFFABRRRQAVg/EP8A5AsX/X0v/oLVvVQ8RaJ/b1ktn9q8rbKH3bN2cAjHUetVBpTTYnsefUV1H/Ctv%2Bo1/wCS3/2VH/Ctv%2Bo1/wCS3/2VdXtafcmzOXorqP8AhW3/AFGv/Jb/AOyo/wCFbf8AUa/8lv8A7Kj2tPuFmYM3/IFt/wDr6m/9BiqrXWv4A32Udn/a3%2Brld93kddwUY%2B9/s/rUX/Ctv%2Bo1/wCS3/2VJVYdwszl6K6j/hW3/Ua/8lv/ALKj/hW3/Ua/8lv/ALKn7Wn3CzOXq1qH/HpY/wDXqf8A0bJW9/wrb/qNf%2BS3/wBlUtx4A8%2BKCL%2B1seTEUz5HX52bP3uPvY/Ck6sL7hZnJUV1H/Ctv%2Bo1/wCS3/2VH/Ctv%2Bo1/wCS3/2VP2tPuFmcvRXUf8K2/wCo1/5Lf/ZUf8K2/wCo1/5Lf/ZUe1p9wszB1j/j7T/r1g/9FJVWutvPAH2uUS/2ttxEiY8jP3UC5%2B97ZqL/AIVt/wBRr/yW/wDsqSqwtuFmcvUV3Y2OoReTf2cU6f3Joww/I11v/Ctv%2Bo1/5Lf/AGVH/Ctv%2Bo1/5Lf/AGVN1abGuaLutGecX3wp%2BF2p5/tL4baBcZ6%2Bfo8D5/Nao%2BJ/2Zf2btQ1m8S//Z98ETj7TIMTeE7Nv4j6x16r/wAK2/6jX/kt/wDZVLfeAPtt7Nef2tt82Vn2%2BRnGTnH3qwlTwc370Iv1in/7aejRzfOcP/CxNWPpUqL8qiPBrz9iz9jm/wA/bf2T/hrKT/E/gbTyfz8nNZlz/wAE/wD9h%2B7z5v7Jnw/Gf%2BeXhW2T/wBBQV9D/wDCtv8AqNf%2BS3/2VH/Ctv8AqNf%2BS3/2VYywWVS3ow/8Aj/8gehT4v4wo/BmWIXpiK//AMuPmi5/4Js/sHXefN/ZV8HjP/PLTAn/AKCRUFl/wSv/AOCfGparbQXf7Lfh7ZJcIrrG86ZBYAj5ZBX09/wrb/qNf%2BS3/wBlUtj4A%2BxXsN5/a27ypVfb5GM4OcferKWWZLJa4en/AOAR/wDkTup%2BIPiBS%2BDN8Uv%2B5iv/APLWfIs//BJP/gnbc/6z9mbTR/1z1a/T/wBBnFUrj/gjn/wTfuf9Z%2BzbEP8Arn4p1ZP/AEG6FfYX/Ctv%2Bo1/5Lf/AGVH/Ctv%2Bo1/5Lf/AGVZvJuH5b4an/4BH/I64eKPibT%2BHO8Wv%2B5mt/8AJnxv/wAObf8Agnan/Hr8DbuD08rxlqwx%2Bd0aP%2BHPX7C0f/Hn4F8Q23p5HjjUxj85zX2R/wAK2/6jX/kt/wDZUf8ACtv%2Bo1/5Lf8A2VT/AGJw9/0DU/8AwBGv/EV/FHrneKfrXm/zbPj/AE7/AIJA/scyXDJDF43gAt5WHk%2BPtQHIjYj/AJanuKr/APDo/wDZWX/UeIPiJF6eX8Qb7j/x%2Bvs2z8AfZJTL/a27MTpjyMfeQrn73vmov%2BFbf9Rr/wAlv/sqP7EyC/8Au8Pu/wCCH/EVvEzrm9d%2Bs0/zgz44/wCHTX7O6f8AHr8TPirB6eV8RbsfzJpP%2BHUnwYT/AI9vj18Z4f8Arl8SrgfzWvsj/hW3/Ua/8lv/ALKj/hW3/Ua/8lv/ALKj%2Bxch/wCfEf8Ayb/5IP8AiKniR1zOq/X2b/Ogz43/AOHVnwxX/UftO/HWL/rn8TZv6x1Ys/8Aglh4Ma3unt/2yP2h4PLgDAQ/FKQA/vEGDmE5HOfqBX2B/wAK2/6jX/kt/wDZVLb%2BAPIini/tbPnRBM%2BR0%2BdWz97n7uPxoeS5HbSkvvn/APJh/wART8ROuYzfrCg/zwrPjP8A4de6Gv8Aqf24/wBpCP8A3Pio3/xik/4dh26/6n9v39puP/c%2BK5/%2BR6%2ByP%2BFbf9Rr/wAlv/sqP%2BFbf9Rr/wAlv/sqP7FyT/n1/wCTVP8A5YH/ABFLxB645/8AgrCv88Gz43/4dm3yf6n/AIKG/tMD03/E8N/7b17x%2BxN%2BzTffs7/8JMLz9oj4kePhrH2LZ/wsHxGNQ%2BweV5%2BfIxGmzf5g39c%2BWnTFeof8K2/6jX/kt/8AZVqeG/Df/CPed/pvnedt/wCWe3GM%2B59aunlmV4eftKMLSW3vTf4ObX4HBmnHvF%2BdYGeDx2JU6U7XXssPG9mmvehhqc1qltNdndXT1KKKK6T5EKq65ouleJNFvPDuu2Md1Y39rJbXltKMrNE6lXQ%2BxUkH61aooA8g%2BG37HXhz4a22qR2fxj8d6jcat4Xt/Dk2pX%2Bp2qXcOlWsU8dnbRT21tFJGbc3VzIkwPntJMWkkkIXbja5%2BwZoHiGztZtU/aD%2BIMusx%2BMYPE2oeIpl0WW41S9t7RbW0FxDLprWhit0VHiRIECzIs5zKPMr3iigCn4f0y90bQ7PSdR8Q3mrXFtbJFNqmoJCs92ygAyyCCOOIMx5IREXJ4UDivJfC3wf8K/Be617QvCUt1JHrPirU/EF7JeSKztd6hdSXkwG1VARXmKIMZCKoJY5Y%2BzVg614J/tfU5dR/tPy/M2/J5OcYUDruHpVU40/aqclqr2fa9r/AH2N44rE08NUw8JtQm4uS6S5G3G/%2BFybXm2cbRXUf8K2/wCo1/5Lf/ZUf8K2/wCo1/5Lf/ZV1e1p9zlszl6ZPBBdQPbXMKSRyIVkjkUFWUjBBB6gjtXV/wDCtv8AqNf%2BS3/2VH/Ctv8AqNf%2BS3/2VHtafcLM8t8V/s3/ALO%2Bqm18N6p8BfBdzp2gWdxpWhWFx4WtHh06wdfKe1gQx7YYWjAQxoApUAEY4qKf9n34C3Oi3Phq5%2BCPhCTTryPZd6e/hq1ME6/aXu9roY9rD7TJJPgj/Wuz/eJNeuX3gD7bezXn9rbfNlZ9vkZxk5x96ov%2BFbf9Rr/yW/8AsqSqU7BZnnvhP4cfDzwDCtv4F8B6LosaRvGiaTpcNsFR5pJ3UCNRgNNLLKR3eR2PLEmpZfBr4P6bqesa1p3wp8NW954hlSXxBdw6FbpLqbq%2B9WuGCZmIYlgXJIJz1r03/hW3/Ua/8lv/ALKj/hW3/Ua/8lv/ALKn7Wn3CzOC8H/Cn4XaF4/u/GeifDbQLPWPEE8Sa9q1ro8EdzqSggAXEqqHmGOMOTSy%2BCPBdx4Mb4cT%2BEdLfw6%2BlnTX0F9PjNk1kY/KNsYNuww%2BX8nl427flxjivQbHwB9ivYbz%2B1t3lSq%2B3yMZwc4%2B9UX/AArb/qNf%2BS3/ANlS9pTvuFmedt8Mfhq/j1fio3w80M%2BKFtPsq%2BJDpMP28Qc/uhcbfM2cn5d2OelbldR/wrb/AKjX/kt/9lR/wrb/AKjX/kt/9lT9rT7hZnL1a0f/AI%2B3/wCvWf8A9FPW9/wrb/qNf%2BS3/wBlUtn4A%2BySmX%2B1t2YnTHkY%2B8hXP3vfNJ1YW3CzOSorqP8AhW3/AFGv/Jb/AOyo/wCFbf8AUa/8lv8A7Kn7Wn3CzOXorqP%2BFbf9Rr/yW/8AsqP%2BFbf9Rr/yW/8AsqPa0%2B4WZg6f/wAel9/16j/0bHVWutt/AHkRTxf2tnzogmfI6fOrZ%2B9z93H41F/wrb/qNf8Akt/9lSVWF9wszl6K6j/hW3/Ua/8AJb/7Kj/hW3/Ua/8AJb/7Kn7Wn3CzOXq1D/yBbj/r6h/9Blre/wCFbf8AUa/8lv8A7KpU8AbLKSz/ALW/1kqPu8jptDDH3v8Aa/Sk6sO4WZyVFdR/wrb/AKjX/kt/9lR/wrb/AKjX/kt/9lT9rT7hZnL0V1H/AArb/qNf%2BS3/ANlR/wAK2/6jX/kt/wDZUe1p9wszBm/5Atv/ANfU3/oMVVa61/AG%2Byjs/wC1v9XK77vI67gox97/AGf1qL/hW3/Ua/8AJb/7KkqsO4WZy9FdR/wrb/qNf%2BS3/wBlR/wrb/qNf%2BS3/wBlT9rT7hZnL1a1D/j0sf8Ar1P/AKNkre/4Vt/1Gv8AyW/%2ByqW48AefFBF/a2PJiKZ8jr87Nn73H3sfhSdWF9wszkqK6j/hW3/Ua/8AJb/7Kj/hW3/Ua/8AJb/7Kn7Wn3CzOXrvPBn/ACLVt/wP/wBDasv/AIVt/wBRr/yW/wDsq3tF03%2ByNMi07zvM8vd8%2B3GcsT0yfWs6s4yjZDSaZaooornKCiiigAooooAKKKKACiiigAooooAKKKKACiiigAooooAKKKKACiiigAr57%2BLH7UfxU8HfFnXY/Ddj4ePg/wAF%2BJ/Ceg%2BI7S%2BsJ31G/n1q7t4Gmt51nWO3S3S8tpNrQymYrKmY/lavoSvLfHf7JngPx/8AFMfE7UvFPiC1iuL7R77W/DVlcW66drF3pVx9o0%2B4uA8LTB4ZRG37qWNZPIiWQSKgFAHqVFFFABRRRQB8/wDw5/aV%2BIeu/tVeIvhH8QPFWi6JpVt4sudJ8J6NP8ONVin1tItMgvN0WsyXX2KSYFrhzAkRk8q2c4AVnH0BXm91%2BzXpWqfGDT/ix4h%2BKXi/VLfRtcl1nQvCeoX9vJpmm6hJZSWTTxfuBc48me4CwvO0KNOzLGCEK%2BkUAFFFFAHE/tIeMviN8PPgR4r8d/CfT9Fudf0bRZ72xj8QySizXylLu8gh%2BeTagZhGCnmMAnmRhjIvivhz9sn4ya5rkHi6TS/DEfhLTPGnhXwh4i04adcHULjUNZ03TLoXdvcfaPLihjk1myTyXikZljmPmr8or3r4x/DVvjD8NNX%2BGbeOdZ8Ow61ZPaXep6AlobpYJFKyIv2uCeIblJUkxkgHKlTgjzLwJ%2BwZ4F8E6zpOp3Xxc8ba3b6dqNhqd7pWqzactrq%2BpWNuttZX1yttZRMZYYIrWNRE0cbfYrdpEd0LsAe50UUUAFeWftifFj4q/BL4MyfEb4T6ToF1c2WsWKaofELTmOKyluEikMUcJUyykuqqGdFXcXJfYIpPU64H9o74CwftH/DmT4Zaj8T/ABJ4Xsbi6hmvJ/DCWBmuBFIsiRsb21uFVQ6I3yKrEqBuwSCAee/Az9pX4h%2BN/j/4g%2BG3xM8U6LpEUHiTW9P8NeG3%2BHGq2dxqNtZzbUmi1ae6Npdv5WJXihi3BW3YVVJr6Aryvwj%2ByzbaF8QtI%2BIni/44%2BO/GM3h%2B4u7vQ7DxReWL29le3MLQz3SfZ7SGQsySTqsbOYYlndIo40CKnqlABRRRQB4x%2B2Z8Xvjj8DvAk3xI%2BFreEGs9N06ZxpOvWd1c3/iPVWeJLHRrJIZYlhluXZ4xOxmKu0f7hl3EYf7KP7UfxU%2BMGueEJPiRY%2BHl034nfC5fHng6LRLCeCfS7PzbUGzu3lnlW5lEWo2Z86NYVLLMPLxtNdt8Zf2aU%2BL/AMSfDPxSg%2BNPi7wzqPhK1vItHh0KDSZ7dJLkIslyY9QsbkC4EaGJZV2sscsyDAlfdF8DP2TPAfwE1xNa8PeKvEGqpp%2BgLoPhix1u4t3h8PaQsvmiwtBDBG3lZES7pmlk228K78IBQB6lRRRQAV85ft0ftFftK/s36U3jL4V6b4M1aCf7LZ%2BHfB11pt7d6z4gu3aRrySMwzxLBFaWy/amUJMZUgmUtASjV9G15J8Rf2S4PiB8ZLv40wfHzx5oN9eeG49Bex0KTS1igsRI8kqW8s1jJdWjzM4MkkE0cjGGEhgYYyoAv7JHxq8QfGPwpfTeNfHuk6prtgbU6lpdh8P9T8Nz6Z50CyKsttqVxNNIrfMUnXbG4U7d20mvWq4P4PfAaw%2BE2ta54u1D4ieI/F3iDxDHZw6n4g8UPafaHt7VZFt7dVs7e3hVEM078R7maZyzNkY7ygAooooA%2BUv2t/2xP2if2bfjD4c8DWOn%2BELy18eeKbHQPC9td%2BHNTRLA300dnbXk%2BpNMlteSrdvuk0u3RbgW%2B6YSBI2c%2Bz/s5/E/xr8QLLxZ4Y%2BJI0uTxB4I8Yz6Dql9olnJbWl7i2tryGeOGWWZ4c295CGQyyYdXwxGK5P4r/sF/Dz4zeI/7Y8afFTx09ja%2BJv%2BEm0DQYtVtvsuh68ITFFqdqz2zTrJEWeRIpJZLZZHLeT0x6L8HPg/ovwa8PX2kad4g1TWb3V9YuNV1zXdbeE3epXk20NLJ5EUUS4RI41WONFVIkULxQB1tFFFABXxv8cP2zv2t/hR%2B0Bp3wQjtPCsv9q3TT3l7Y/CvxBqJ0Wy8weV5EcdzHJr5MckQlns1jjtZdscq7p4wPsivDZP2GdKTxdY%2BOdM/aS%2BKFnqWgx30HhGeLV7CT%2BwrW8uI57q1jE1k4u4pDDAu2%2B%2B1FFhj8soyhqAPTPg143tPiR8LtF8b2XjLTfECahZCRtY0jTJbK3uHBKvtt5pJZLchgytFI7OjKytgggdNXNfCH4V%2BG/gr8PLD4b%2BFbi8ntbFp5ZLzUZhJcXdxPM9xcXErKqqZJZpZJG2qq7nO1VGAOloAKKKKACiiigAooooAKKKKAMT4leN7H4Z/DnX/iRqdrJPbeH9Eu9SuIYjhpEghaVlHuQhArzH9mb42fGLxl421D4a/G%2BPw3JqieBdA8V2V14X0%2B4toYodSe%2BieydZ55jI8Elkf34KCVZl/dRlTn1/XNF0rxJot54d12xjurG/tZLa8tpRlZonUq6H2Kkg/WuB%2BAv7M3hj4CXV7qtj438SeJNRvNG03Rk1PxPc28s9vpdgJ/sdkhgghBSM3Nw29w8ztMxkkc4wAekUUUUAFcD%2B1L8RvHHwi/Z08Z/E74aaPBf6/ofh%2B4vNIs7rT5ruOWdFyoaGB0klGf4EZWPQEV31ZXjnwqPHHhDUfCX/AAkeq6QdQtWhTVdDvfs95aMfuywyYIV1OCMhlOMMrKSCAcl%2Bzd8ULv4peDdQvdX%2BIOma/qWl61JYan/Z/gi/8OyWEoiikFvPYahPNcRS7JUlBcqHjmjZV2kM3oVcZ8G/grpXwdh166TxfrXiLV/FGtDVfEPiDxA1t9qvbhbaC0jytrDDBGqQW0EarHEgwm45dmZuzoAKKKKAPn39r39q74nfsv8AjKLXB4U0K/8ABVt8OPE3iC%2BVppjqd1d6VYveeTGRiKCLYqruIlZzKeIhHmXrfgJ8Tfi3qnxF8XfBT44z%2BHLzX/DOm6Rqi6p4V0yeztJrXUFuVWMwzzzuJI5rK5BfzMOhjO1DkVX%2BPn7H/h39ovxtpvijxx8WPFlvpdhpV7pk/hLT49L/ALOv7S9i8m9hmM1lJckTw/u2KTIVXmMo3zV0PwV%2BAWk/Bm51jWpfHviLxXreu/ZU1LxD4qntnu5ILaLyre3/ANGghjEcYaRh8m5nmkZmZmJoA7yiiigAr5n/AGk/2pP2k/hL8RvG3hPwl4W8MTWOmeDtJ1bwq66Pf6reOZ9Vhsrma5gt5ImkVFklZbeH5sQhzKfMMcf0xXjvjv8AZDufHHxivvjRF%2B038SdEvrvRo9Mi0/QZtIgt7S3jmE8axs2ntOcTgSESSusnMcgeFmiIB0/7O3xKl%2BKXw8OvXvj3TfEF7balcWeoz6b4SvdCNrPG2DbzWF9NLcW8qgrlZGBIZWCgMM93XIfBv4N6N8GdG1SysvEura5qGu63Nq%2Bva9rrwG71G8kSOLzHFvFFCm2KGGJVjjRQkS8ZyT19ABRRRQB8ofET9qz9q3wd%2B1T4T/Zbs5fhzcah4/vr%2BO2vrPRb%2B6i8Fxwx3N5ZrqB%2B1xG/lvbGxvmjVBabJbV/9YmGPun7NXxV1n4zfBzTvHHibTrW11Zb3UNM1iKw3fZze2F9PY3DxByWETS20jIGJIVlBJIyfPtN/YF0bS7661W2/aQ%2BIv2yTxhc%2BKrG%2BaLQvtFhrE/mI92kv9l75iLWaayWO4M0a2snlBPkiKes/CX4X%2BGvgz8O9M%2BGnhJ7qSy0yJgLm%2BmElxdSu7SzXErgANLLK7yOQACzsQAOKAOjooooAjumuUtZHsoUkmEZMMcshRWbHALAEqCe%2BDj0PSvi3xR%2B25%2B1t4K%2BOL/B/wAV6z4EXStK0cXXivx34Z%2BFGv69YaRqPkmWbRmhtL4SGS3j8mZ7tiimO6j3QwlWz9oajaS3%2Bnz2MGoTWjzQtGl1bbfMhJBAdd6su4dRuUjI5BHFeEeDf2Dp/APgCy%2BG3hb9sD4tWmm2FlPaRCGXQUaWOfJuXm2aUBcTyufNa5lD3Ak3ssqGWbzAD3Dw3q1pr/h2w13T9YtNRgvbKKeDULD/AFF0joGEsfzN8jAhl%2BZuCOT1q7WZ4J8HeHfh34M0j4f%2BENPFppOhaZb6fpdorlhDbQxrHGmWJJwiqMk54rToAKyvG58bDwjqI%2BG66UdeNqw0k620gtFnIwrTCIb2QHkquC2MblzuGrWJ8SPAmn/E3wNqfgPU9X1PT4tStjF/aGjXpt7u1fIZJYZBna6sFYZBUkYYMCQQD488Nf8ABRL9ojW7n4qzxWPhCXTvgfp9nrPiua98Hanpd9r%2BnXDzny4rC5vPP0W4jjsb3AuhOZgbWVY1jmBr7er57/4dzfDK58S%2BIPGGt/Fzx3qOp%2BN7i1b4kXNzd6cg8XwWwhW2tbxIrJEjhijh8pRarbsySyh2cyMT9CUAFFFFAHLfGbVPiLovw%2BvdX%2BGFxpcGo2u2aa61bRrzUkgtUO%2Bdo7KyKz3k3lqwjgjdGdyoBz8rfMX7Kn7eXxn%2BM3xFTTPi1r/hfwxoz%2BIV0jSEX4Y6yBrsmJVH/Exe9NtplzI8ZH2C4V54ZA9u%2B6VGr6g%2BK3w0i%2BKfhqHQl8aa74durTUYL7T9a8OXUcV1azxNuUgTRyQyqRuVo5Y5EZWIK5wR5p4P/YR8F%2BEbywjf4zeP9V0i18V/8JTe%2BHNX1OzlstR103Ul42oSbbVZYmN2/wBoMFvJDbeYikQj5gwB7jRRRQAUUUUAFFFFABRRRQAUUUUAFFFFABRRRQAUUUUAFFFFABRRRQAUUUUAFFFFABRRRQAUUUUAFFFFABRRRQAUUUUAFFFFABRRRQAUUUUAFFFFABRRRQAUUUUAFFFFABRRRQAUUUUAFFFFABRRRQAUUUUAFFFFABRRRQAUUUUAFFFFABRRRQAUUUUAFFFFABRRRQAUUUUAFFFFABRRRQAUUUUAFFFFABRRRQAUUUUAFFFFABRRRQAUUUUAFFFFABRRRQAUUUUAFFFFABRRRQAUUUUAFFFFABRRRQAUUUUAFFFFABRRRQAUUUUAFFFFABRRRQB//9k%3D\">"
            ]
          },
          "metadata": {
            "tags": []
          }
        }
      ]
    },
    {
      "metadata": {
        "id": "RdxW_YVqDzi4",
        "colab_type": "text"
      },
      "cell_type": "markdown",
      "source": [
        "# Submit a 2-layer MLP\n",
        "Run these cells after training a 2-layer MLP"
      ]
    },
    {
      "metadata": {
        "id": "sCFHgR-bDzi4",
        "colab_type": "code",
        "colab": {}
      },
      "cell_type": "code",
      "source": [
        "## GRADED PART, DO NOT CHANGE!\n",
        "# Validation loss for MLP\n",
        "grader.set_answer(\"i8bgs\", s.run(loss, {input_X: X_val_flat, input_y: y_val_oh}))\n",
        "# Validation accuracy for MLP\n",
        "grader.set_answer(\"rE763\", accuracy_score(y_val, s.run(classes, {input_X: X_val_flat})))"
      ],
      "execution_count": 0,
      "outputs": []
    },
    {
      "metadata": {
        "id": "jE9im4k5Dzi8",
        "colab_type": "code",
        "colab": {
          "base_uri": "https://localhost:8080/",
          "height": 34
        },
        "outputId": "6d892978-7f92-4420-9d13-e52360ccc07d"
      },
      "cell_type": "code",
      "source": [
        "# you can make submission with answers so far to check yourself at this stage\n",
        "grader.submit(COURSERA_EMAIL, COURSERA_TOKEN)"
      ],
      "execution_count": 18,
      "outputs": [
        {
          "output_type": "stream",
          "text": [
            "Submitted to Coursera platform. See results on assignment page!\n"
          ],
          "name": "stdout"
        }
      ]
    },
    {
      "metadata": {
        "id": "wG0CmWqEDzi_",
        "colab_type": "code",
        "colab": {}
      },
      "cell_type": "code",
      "source": [
        ""
      ],
      "execution_count": 0,
      "outputs": []
    }
  ]
}